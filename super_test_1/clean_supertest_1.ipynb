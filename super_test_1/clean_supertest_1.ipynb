{
 "cells": [
  {
   "cell_type": "code",
   "execution_count": 1,
   "metadata": {
    "collapsed": true
   },
   "outputs": [],
   "source": [
    "import pandas as pd"
   ]
  },
  {
   "cell_type": "code",
   "execution_count": 7,
   "metadata": {
    "collapsed": false
   },
   "outputs": [
    {
     "data": {
      "text/plain": [
       "['Participant No.',\n",
       " 'CustomID',\n",
       " 'IP Address',\n",
       " 'Date Started',\n",
       " 'Date Completed',\n",
       " 'User Agent',\n",
       " 'Total Time Spent',\n",
       " 'Avg Time Taken',\n",
       " 'Avg Page Views',\n",
       " '1. Task. How to use the task panel',\n",
       " 'Page Views',\n",
       " 'Time Spent',\n",
       " '2. Task. Estimate your super',\n",
       " 'Page Views.1',\n",
       " 'Time Spent.1',\n",
       " '8. Task. Report unpaid super',\n",
       " 'Page Views.2',\n",
       " 'Time Spent.2',\n",
       " 'What was your total estimated super guarantee for the period of the 4th January to 24th of June 2016?',\n",
       " 'I found the language used in the tool easy to understand.',\n",
       " 'Overall, I found this tool easy to use.',\n",
       " 'I found the results easy to understand.',\n",
       " 'I am confident I got to the correct answer.',\n",
       " 'I found it easy to use the calendars to select a date range.',\n",
       " 'It was clear that I needed to click \"show quarters\" to progress to the next step.',\n",
       " 'I found it easy to calculate my ordinary time earnings for each quarter.',\n",
       " 'Please tell us about any issues you encountered when using this tool.',\n",
       " 'I found it easy to locate the help features.',\n",
       " 'The information provided in help easy to understand.',\n",
       " 'The information provided in the help features made it easy to complete this task.',\n",
       " 'What steps do you expect the ATO to take now that you have submitted an enquiry? Please select all that apply.',\n",
       " 'Other, please specify',\n",
       " 'I found the language used in the tool easy to understand..1',\n",
       " 'Overall, I found this tool easy to use..1',\n",
       " 'If I were filling this out for my circumstances, it would be easy to provide the information required.',\n",
       " 'I would expect to receive confirmation from the ATO that my request had been received',\n",
       " 'Please tell us about any issues you encountered when completing this task (e.g. language issues).',\n",
       " 'Which of the following best describes your role? Please select all that apply.',\n",
       " 'Other, please specify.1',\n",
       " 'Are you an ATO employee?']"
      ]
     },
     "execution_count": 7,
     "metadata": {},
     "output_type": "execute_result"
    }
   ],
   "source": [
    "original_df = pd.read_csv('new_file.csv') # create variable to store original data\n",
    "list(original_df.columns.values) # FYI: list the data frame col names\n"
   ]
  },
  {
   "cell_type": "code",
   "execution_count": 3,
   "metadata": {
    "collapsed": true
   },
   "outputs": [],
   "source": [
    "clean_df = original_df.drop(original_df.index[0:10]) # remove the first 9 participants who were testers\n",
    "clean_df = clean_df[clean_df['Other, please specify'].str.contains('tester')!=True] # remove fields identified as tester\n",
    "\n"
   ]
  },
  {
   "cell_type": "code",
   "execution_count": 5,
   "metadata": {
    "collapsed": false
   },
   "outputs": [],
   "source": [
    "all_df = clean_df[clean_df['2. Task. Estimate your super'].notnull() & clean_df['8. Task. Report unpaid super'].notnull() ] # remove impartial completes\n",
    "len(all_df) # sanity check\n",
    "all_df.to_csv('clean_supertest_1_all_data.csv',',') # export to csv"
   ]
  },
  {
   "cell_type": "code",
   "execution_count": null,
   "metadata": {
    "collapsed": false
   },
   "outputs": [],
   "source": [
    "# now get Task 2 sub sample: \n",
    "'''\n",
    "task2_df = clean_df[clean_df['2. Task. Estimate your super'].notnull() ] \n",
    "len(task2_df)\n",
    "task2_df.to_csv('Documents/clean_supertest_1_Task2_data.csv',',') # export to csv\n",
    "'''\n"
   ]
  },
  {
   "cell_type": "code",
   "execution_count": null,
   "metadata": {
    "collapsed": true
   },
   "outputs": [],
   "source": [
    "'''\n",
    "task3_df = clean_df[clean_df['8. Task. Report unpaid super'].notnull() ] \n",
    "len(task3_df)\n",
    "task3_df.to_csv('Documents/clean_supertest_1_Task3_data.csv',',') # export to csv\n",
    "'''"
   ]
  },
  {
   "cell_type": "code",
   "execution_count": null,
   "metadata": {
    "collapsed": true
   },
   "outputs": [],
   "source": []
  }
 ],
 "metadata": {
  "anaconda-cloud": {},
  "kernelspec": {
   "display_name": "Python [conda root]",
   "language": "python",
   "name": "conda-root-py"
  },
  "language_info": {
   "codemirror_mode": {
    "name": "ipython",
    "version": 3
   },
   "file_extension": ".py",
   "mimetype": "text/x-python",
   "name": "python",
   "nbconvert_exporter": "python",
   "pygments_lexer": "ipython3",
   "version": "3.5.2"
  }
 },
 "nbformat": 4,
 "nbformat_minor": 1
}
