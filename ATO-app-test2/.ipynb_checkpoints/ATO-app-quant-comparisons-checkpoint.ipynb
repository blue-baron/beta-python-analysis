{
 "cells": [
  {
   "cell_type": "markdown",
   "metadata": {},
   "source": [
    "# ATO App - Test 2: Question comparisons"
   ]
  },
  {
   "cell_type": "markdown",
   "metadata": {},
   "source": [
    "## Import packages"
   ]
  },
  {
   "cell_type": "code",
   "execution_count": 18,
   "metadata": {
    "collapsed": true
   },
   "outputs": [],
   "source": [
    "import pandas as pd\n",
    "from IPython.display import display, HTML\n",
    "\n",
    "import numpy as np\n",
    "import math\n",
    "import matplotlib.pyplot as plt\n",
    "from matplotlib.ticker import FuncFormatter\n",
    "%matplotlib inline"
   ]
  },
  {
   "cell_type": "markdown",
   "metadata": {},
   "source": [
    "## Import Beta Loop11 script "
   ]
  },
  {
   "cell_type": "code",
   "execution_count": 19,
   "metadata": {
    "collapsed": false
   },
   "outputs": [],
   "source": [
    "import loop11_functions as beta"
   ]
  },
  {
   "cell_type": "code",
   "execution_count": 20,
   "metadata": {
    "collapsed": false
   },
   "outputs": [],
   "source": [
    "%run loop11_functions.py"
   ]
  },
  {
   "cell_type": "markdown",
   "metadata": {},
   "source": [
    "## Import data"
   ]
  },
  {
   "cell_type": "code",
   "execution_count": 21,
   "metadata": {
    "collapsed": true
   },
   "outputs": [],
   "source": [
    "clean_df = pd.read_csv('ATOapp_2_clean.csv', encoding='latin-1')"
   ]
  },
  {
   "cell_type": "code",
   "execution_count": 22,
   "metadata": {
    "collapsed": false
   },
   "outputs": [
    {
     "data": {
      "text/plain": [
       "152"
      ]
     },
     "execution_count": 22,
     "metadata": {},
     "output_type": "execute_result"
    }
   ],
   "source": [
    "# Define sample size for future use in the script as a variable called N\n",
    "N = len(clean_df)\n",
    "N"
   ]
  },
  {
   "cell_type": "code",
   "execution_count": 23,
   "metadata": {
    "collapsed": true
   },
   "outputs": [],
   "source": [
    "# Delare variable to store folder file location\n",
    "folder = \"Graphs/standard_graphs/\""
   ]
  },
  {
   "cell_type": "code",
   "execution_count": 24,
   "metadata": {
    "collapsed": false,
    "scrolled": false
   },
   "outputs": [
    {
     "data": {
      "text/plain": [
       "['Unnamed: 0',\n",
       " 'Participant No.',\n",
       " 'CustomID',\n",
       " 'IP Address',\n",
       " 'Date Started',\n",
       " 'Date Completed',\n",
       " 'User Agent',\n",
       " 'Total Time Spent',\n",
       " 'Avg Time Taken',\n",
       " 'Avg Page Views',\n",
       " '1. Task. How to use the task panel',\n",
       " 'Page Views',\n",
       " 'Time Spent',\n",
       " 'Task 1 - Onboarding',\n",
       " 'Task 1 - Page Views',\n",
       " 'Task 1 - Time Spent',\n",
       " 'Task 2 - Personalisation',\n",
       " 'Task 2 - Page Views',\n",
       " 'Task 2 - Time Spent',\n",
       " 'Task 3 - Help',\n",
       " 'Task 3 - Page Views',\n",
       " 'Task 3 - Time Spent',\n",
       " 'Task 4 - Settings',\n",
       " 'Task 4 - Page Views',\n",
       " 'Task 4 - Time Spent',\n",
       " 'Q.1 As an employee I can use this feature to record: (select all that apply)',\n",
       " 'Q.2 As a sole trader I can use this feature to record: (select all that apply)',\n",
       " 'Q.3 Where would you expect to be able to upload your information when uploading your records to your tax return? (select all that apply)',\n",
       " 'Q.3 Other, please specify',\n",
       " 'Q4 I am confident I selected the right settings to set up the app.',\n",
       " 'Q.5 This feature (myDeductions) can be used by: (select all that apply)',\n",
       " 'Q.6 All small business owners can use this app to upload their records to their tax return.',\n",
       " 'Q.7 Let us know if you encountered any issues selecting your personalisation options.',\n",
       " 'Q.8. It was clear where I had to go to find the information I needed.',\n",
       " 'Q.9. I found it easy to locate the settings feature.',\n",
       " 'Q.10 I expected to find the \"Personalisation\" function in the settings.',\n",
       " 'Q.11 Let us know if you encountered any issues using this screen.',\n",
       " 'Q.12 I found the language used in the tool easy to understand.',\n",
       " 'Q.13 Tell us about any language used in the tool that was unclear or confusing:',\n",
       " 'Q.14 On this screen, what do you understand the term Cash flow position to mean? (select all that apply)',\n",
       " 'Q.14. Other, please specify',\n",
       " 'Q.15 As a business I would find the Cash flow position feature useful.',\n",
       " 'Q.16 If you are a sole trader, do you use your own name as your business name?',\n",
       " 'Q.17 How can we improve the features you just tested?',\n",
       " 'Q.18 Are you an ATO employee?',\n",
       " 'Q.19 Which of the following best describes your role? (select all that apply)',\n",
       " 'Q.19 Other, please specify',\n",
       " 'Q.20 Which age group do you belong to?']"
      ]
     },
     "execution_count": 24,
     "metadata": {},
     "output_type": "execute_result"
    }
   ],
   "source": [
    "list(clean_df.columns.values) # For reference later when picking out data in specific column"
   ]
  },
  {
   "cell_type": "code",
   "execution_count": null,
   "metadata": {
    "collapsed": true
   },
   "outputs": [],
   "source": []
  },
  {
   "cell_type": "markdown",
   "metadata": {},
   "source": [
    "## Task 2 Completion rates vs confidence levels"
   ]
  },
  {
   "cell_type": "code",
   "execution_count": 25,
   "metadata": {
    "collapsed": false
   },
   "outputs": [
    {
     "data": {
      "text/html": [
       "<div>\n",
       "<table border=\"1\" class=\"dataframe\">\n",
       "  <thead>\n",
       "    <tr style=\"text-align: right;\">\n",
       "      <th></th>\n",
       "      <th></th>\n",
       "      <th>(N)</th>\n",
       "      <th>(%)</th>\n",
       "    </tr>\n",
       "    <tr>\n",
       "      <th>Task 2 - Personalisation : Result</th>\n",
       "      <th>Q4 I am confident I selected the right settings to set up the app.</th>\n",
       "      <th></th>\n",
       "      <th></th>\n",
       "    </tr>\n",
       "  </thead>\n",
       "  <tbody>\n",
       "    <tr>\n",
       "      <th rowspan=\"3\" valign=\"top\">success</th>\n",
       "      <th>Neither agree nor disagree</th>\n",
       "      <td>20</td>\n",
       "      <td>0.240964</td>\n",
       "    </tr>\n",
       "    <tr>\n",
       "      <th>Disagree</th>\n",
       "      <td>7</td>\n",
       "      <td>0.084337</td>\n",
       "    </tr>\n",
       "    <tr>\n",
       "      <th>Agree</th>\n",
       "      <td>56</td>\n",
       "      <td>0.674699</td>\n",
       "    </tr>\n",
       "    <tr>\n",
       "      <th rowspan=\"3\" valign=\"top\">fail</th>\n",
       "      <th>Neither agree nor disagree</th>\n",
       "      <td>11</td>\n",
       "      <td>0.161765</td>\n",
       "    </tr>\n",
       "    <tr>\n",
       "      <th>Disagree</th>\n",
       "      <td>5</td>\n",
       "      <td>0.073529</td>\n",
       "    </tr>\n",
       "    <tr>\n",
       "      <th>Agree</th>\n",
       "      <td>52</td>\n",
       "      <td>0.764706</td>\n",
       "    </tr>\n",
       "    <tr>\n",
       "      <th>abandon</th>\n",
       "      <th>Agree</th>\n",
       "      <td>1</td>\n",
       "      <td>1.000000</td>\n",
       "    </tr>\n",
       "  </tbody>\n",
       "</table>\n",
       "</div>"
      ],
      "text/plain": [
       "                                                                                      (N)  \\\n",
       "Task 2 - Personalisation : Result Q4 I am confident I selected the right settings...        \n",
       "success                           Neither agree nor disagree                           20   \n",
       "                                  Disagree                                              7   \n",
       "                                  Agree                                                56   \n",
       "fail                              Neither agree nor disagree                           11   \n",
       "                                  Disagree                                              5   \n",
       "                                  Agree                                                52   \n",
       "abandon                           Agree                                                 1   \n",
       "\n",
       "                                                                                           (%)  \n",
       "Task 2 - Personalisation : Result Q4 I am confident I selected the right settings...            \n",
       "success                           Neither agree nor disagree                          0.240964  \n",
       "                                  Disagree                                            0.084337  \n",
       "                                  Agree                                               0.674699  \n",
       "fail                              Neither agree nor disagree                          0.161765  \n",
       "                                  Disagree                                            0.073529  \n",
       "                                  Agree                                               0.764706  \n",
       "abandon                           Agree                                               1.000000  "
      ]
     },
     "metadata": {},
     "output_type": "display_data"
    }
   ],
   "source": [
    "beta.compare_task_VS_likert(clean_df, 'Task 2 - Personalisation', 'Q4 I am confident I selected the right settings to set up the app.', beta.grapher_horizontal, folder)"
   ]
  },
  {
   "cell_type": "markdown",
   "metadata": {
    "collapsed": true
   },
   "source": [
    "## Cash flow position - participants who right and selected multiple options"
   ]
  },
  {
   "cell_type": "code",
   "execution_count": 29,
   "metadata": {
    "collapsed": false
   },
   "outputs": [
    {
     "name": "stdout",
     "output_type": "stream",
     "text": [
      "SAMPLE SIZE: 101\n",
      "NO. ANSWERS: 128\n"
     ]
    },
    {
     "data": {
      "text/html": [
       "<div>\n",
       "<table border=\"1\" class=\"dataframe\">\n",
       "  <thead>\n",
       "    <tr style=\"text-align: right;\">\n",
       "      <th></th>\n",
       "      <th>Q.14 On this screen, what do you understand the term Cash flow position to mean? (select all that apply) (N)</th>\n",
       "      <th>Q.14 On this screen, what do you understand the term Cash flow position to mean? (select all that apply) (%)</th>\n",
       "    </tr>\n",
       "  </thead>\n",
       "  <tbody>\n",
       "    <tr>\n",
       "      <th>The balance of my recorded income less any expenses</th>\n",
       "      <td>101</td>\n",
       "      <td>1.000000</td>\n",
       "    </tr>\n",
       "    <tr>\n",
       "      <th>Balance of your business bank account</th>\n",
       "      <td>15</td>\n",
       "      <td>0.148515</td>\n",
       "    </tr>\n",
       "    <tr>\n",
       "      <th>My taxable business income</th>\n",
       "      <td>9</td>\n",
       "      <td>0.089109</td>\n",
       "    </tr>\n",
       "    <tr>\n",
       "      <th>How much I can expect to earn after tax</th>\n",
       "      <td>3</td>\n",
       "      <td>0.029703</td>\n",
       "    </tr>\n",
       "  </tbody>\n",
       "</table>\n",
       "</div>"
      ],
      "text/plain": [
       "                                                    Q.14 On this screen, what do you understand the term Cash flow position to mean? (select all that apply) (N)  \\\n",
       "The balance of my recorded income less any expe...                                                101                                                              \n",
       "Balance of your business bank account                                                              15                                                              \n",
       "My taxable business income                                                                          9                                                              \n",
       "How much I can expect to earn after tax                                                             3                                                              \n",
       "\n",
       "                                                    Q.14 On this screen, what do you understand the term Cash flow position to mean? (select all that apply) (%)  \n",
       "The balance of my recorded income less any expe...                                           1.000000                                                             \n",
       "Balance of your business bank account                                                        0.148515                                                             \n",
       "My taxable business income                                                                   0.089109                                                             \n",
       "How much I can expect to earn after tax                                                      0.029703                                                             "
      ]
     },
     "metadata": {},
     "output_type": "display_data"
    },
    {
     "data": {
      "image/png": "[encoded data removed]",
      "text/plain": [
       "<matplotlib.figure.Figure at 0x113c69a90>"
      ]
     },
     "metadata": {},
     "output_type": "display_data"
    }
   ],
   "source": [
    "# Pull correct answers to Q.14 into separate DataFrames\n",
    "q14 = 'Q.14 On this screen, what do you understand the term Cash flow position to mean? (select all that apply)'\n",
    "cash_flow_correct_df = clean_df[clean_df[q14].str.contains('(?i)The balance of my recorded income less any expenses') == True]\n",
    "\n",
    "beta.multiple_answer(cash_flow_correct_df, [q14], beta.grapher_horizontal, folder)"
   ]
  },
  {
   "cell_type": "code",
   "execution_count": null,
   "metadata": {
    "collapsed": true
   },
   "outputs": [],
   "source": []
  }
 ],
 "metadata": {
  "anaconda-cloud": {},
  "kernelspec": {
   "display_name": "Python [conda root]",
   "language": "python",
   "name": "conda-root-py"
  },
  "language_info": {
   "codemirror_mode": {
    "name": "ipython",
    "version": 3
   },
   "file_extension": ".py",
   "mimetype": "text/x-python",
   "name": "python",
   "nbconvert_exporter": "python",
   "pygments_lexer": "ipython3",
   "version": "3.5.2"
  }
 },
 "nbformat": 4,
 "nbformat_minor": 1
}
