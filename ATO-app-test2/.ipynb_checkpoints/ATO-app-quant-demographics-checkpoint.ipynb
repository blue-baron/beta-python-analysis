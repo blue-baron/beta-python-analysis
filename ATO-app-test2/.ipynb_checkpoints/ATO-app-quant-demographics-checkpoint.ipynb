{
 "cells": [
  {
   "cell_type": "markdown",
   "metadata": {},
   "source": [
    "# ATO App - Test 2: Demographic breakdown"
   ]
  },
  {
   "cell_type": "markdown",
   "metadata": {},
   "source": [
    "## Import packages"
   ]
  },
  {
   "cell_type": "code",
   "execution_count": 34,
   "metadata": {
    "collapsed": true
   },
   "outputs": [],
   "source": [
    "import pandas as pd\n",
    "from IPython.display import display, HTML\n",
    "\n",
    "import numpy as np\n",
    "import math\n",
    "\n",
    "%matplotlib inline\n",
    "import matplotlib.pyplot as plt\n",
    "from matplotlib.ticker import FuncFormatter"
   ]
  },
  {
   "cell_type": "markdown",
   "metadata": {},
   "source": [
    "## Import Beta Loop11 script "
   ]
  },
  {
   "cell_type": "code",
   "execution_count": 35,
   "metadata": {
    "collapsed": false
   },
   "outputs": [],
   "source": [
    "import loop11_functions as beta"
   ]
  },
  {
   "cell_type": "code",
   "execution_count": 36,
   "metadata": {
    "collapsed": false
   },
   "outputs": [],
   "source": [
    "%run loop11_functions.py"
   ]
  },
  {
   "cell_type": "markdown",
   "metadata": {},
   "source": [
    "## Import data"
   ]
  },
  {
   "cell_type": "code",
   "execution_count": 37,
   "metadata": {
    "collapsed": true
   },
   "outputs": [],
   "source": [
    "clean_df = pd.read_csv('ATOapp_2_clean.csv', encoding='latin-1')"
   ]
  },
  {
   "cell_type": "code",
   "execution_count": 38,
   "metadata": {
    "collapsed": false
   },
   "outputs": [
    {
     "data": {
      "text/plain": [
       "152"
      ]
     },
     "execution_count": 38,
     "metadata": {},
     "output_type": "execute_result"
    }
   ],
   "source": [
    "# Define sample size for future use in the script as a variable called N\n",
    "N = len(clean_df)\n",
    "N"
   ]
  },
  {
   "cell_type": "code",
   "execution_count": 39,
   "metadata": {
    "collapsed": true
   },
   "outputs": [],
   "source": [
    "# Delare variable to store folder file location\n",
    "folder = \"Graphs/demographic_graphs/\""
   ]
  },
  {
   "cell_type": "code",
   "execution_count": 40,
   "metadata": {
    "collapsed": true
   },
   "outputs": [],
   "source": [
    "# Define demographic groups\n",
    "demo_groups = ['Small Business', 'Sole Trader', 'Tax Professional' ]\n",
    "demo_q = 'Q.19 Which of the following best describes your role? (select all that apply)'"
   ]
  },
  {
   "cell_type": "code",
   "execution_count": 41,
   "metadata": {
    "collapsed": false
   },
   "outputs": [
    {
     "data": {
      "text/plain": [
       "['Unnamed: 0',\n",
       " 'Participant No.',\n",
       " 'CustomID',\n",
       " 'IP Address',\n",
       " 'Date Started',\n",
       " 'Date Completed',\n",
       " 'User Agent',\n",
       " 'Total Time Spent',\n",
       " 'Avg Time Taken',\n",
       " 'Avg Page Views',\n",
       " '1. Task. How to use the task panel',\n",
       " 'Page Views',\n",
       " 'Time Spent',\n",
       " 'Task 1 - Onboarding',\n",
       " 'Task 1 - Page Views',\n",
       " 'Task 1 - Time Spent',\n",
       " 'Task 2 - Personalisation',\n",
       " 'Task 2 - Page Views',\n",
       " 'Task 2 - Time Spent',\n",
       " 'Task 3 - Help',\n",
       " 'Task 3 - Page Views',\n",
       " 'Task 3 - Time Spent',\n",
       " 'Task 4 - Settings',\n",
       " 'Task 4 - Page Views',\n",
       " 'Task 4 - Time Spent',\n",
       " 'Q.1 As an employee I can use this feature to record: (select all that apply)',\n",
       " 'Q.2 As a sole trader I can use this feature to record: (select all that apply)',\n",
       " 'Q.3 Where would you expect to be able to upload your information when uploading your records to your tax return? (select all that apply)',\n",
       " 'Q.3 Other, please specify',\n",
       " 'Q4 I am confident I selected the right settings to set up the app.',\n",
       " 'Q.5 This feature (myDeductions) can be used by: (select all that apply)',\n",
       " 'Q.6 All small business owners can use this app to upload their records to their tax return.',\n",
       " 'Q.7 Let us know if you encountered any issues selecting your personalisation options.',\n",
       " 'Q.8. It was clear where I had to go to find the information I needed.',\n",
       " 'Q.9. I found it easy to locate the settings feature.',\n",
       " 'Q.10 I expected to find the \"Personalisation\" function in the settings.',\n",
       " 'Q.11 Let us know if you encountered any issues using this screen.',\n",
       " 'Q.12 I found the language used in the tool easy to understand.',\n",
       " 'Q.13 Tell us about any language used in the tool that was unclear or confusing:',\n",
       " 'Q.14 On this screen, what do you understand the term Cash flow position to mean? (select all that apply)',\n",
       " 'Q.14. Other, please specify',\n",
       " 'Q.15 As a business I would find the Cash flow position feature useful.',\n",
       " 'Q.16 If you are a sole trader, do you use your own name as your business name?',\n",
       " 'Q.17 How can we improve the features you just tested?',\n",
       " 'Q.18 Are you an ATO employee?',\n",
       " 'Q.19 Which of the following best describes your role? (select all that apply)',\n",
       " 'Q.19 Other, please specify',\n",
       " 'Q.20 Which age group do you belong to?']"
      ]
     },
     "execution_count": 41,
     "metadata": {},
     "output_type": "execute_result"
    }
   ],
   "source": [
    "list(clean_df.columns.values) # For reference later when picking out data in specific column"
   ]
  },
  {
   "cell_type": "markdown",
   "metadata": {},
   "source": [
    "## Tasks and Questions"
   ]
  },
  {
   "cell_type": "markdown",
   "metadata": {},
   "source": [
    "### Task 1 - Onboarding"
   ]
  },
  {
   "cell_type": "code",
   "execution_count": 42,
   "metadata": {
    "collapsed": false
   },
   "outputs": [
    {
     "data": {
      "text/html": [
       "<div>\n",
       "<table border=\"1\" class=\"dataframe\">\n",
       "  <thead>\n",
       "    <tr style=\"text-align: right;\">\n",
       "      <th></th>\n",
       "      <th>Small Business (N)</th>\n",
       "      <th>Small Business (%)</th>\n",
       "      <th>Sole Trader (N)</th>\n",
       "      <th>Sole Trader (%)</th>\n",
       "      <th>Tax Professional (N)</th>\n",
       "      <th>Tax Professional (%)</th>\n",
       "    </tr>\n",
       "    <tr>\n",
       "      <th>Task 1 - Onboarding</th>\n",
       "      <th></th>\n",
       "      <th></th>\n",
       "      <th></th>\n",
       "      <th></th>\n",
       "      <th></th>\n",
       "      <th></th>\n",
       "    </tr>\n",
       "  </thead>\n",
       "  <tbody>\n",
       "    <tr>\n",
       "      <th>success</th>\n",
       "      <td>47</td>\n",
       "      <td>0.783333</td>\n",
       "      <td>48</td>\n",
       "      <td>0.90566</td>\n",
       "      <td>24</td>\n",
       "      <td>0.727273</td>\n",
       "    </tr>\n",
       "    <tr>\n",
       "      <th>fail</th>\n",
       "      <td>13</td>\n",
       "      <td>0.216667</td>\n",
       "      <td>5</td>\n",
       "      <td>0.09434</td>\n",
       "      <td>9</td>\n",
       "      <td>0.272727</td>\n",
       "    </tr>\n",
       "  </tbody>\n",
       "</table>\n",
       "</div>"
      ],
      "text/plain": [
       "                     Small Business (N)  Small Business (%)  Sole Trader (N)  \\\n",
       "Task 1 - Onboarding                                                            \n",
       "success                              47            0.783333               48   \n",
       "fail                                 13            0.216667                5   \n",
       "\n",
       "                     Sole Trader (%)  Tax Professional (N)  \\\n",
       "Task 1 - Onboarding                                          \n",
       "success                      0.90566                    24   \n",
       "fail                         0.09434                     9   \n",
       "\n",
       "                     Tax Professional (%)  \n",
       "Task 1 - Onboarding                        \n",
       "success                          0.727273  \n",
       "fail                             0.272727  "
      ]
     },
     "metadata": {},
     "output_type": "display_data"
    },
    {
     "name": "stdout",
     "output_type": "stream",
     "text": [
      "CONFIDENCE INTERVAL:  Small Business 0.103809941756\n",
      "CONFIDENCE INTERVAL:  Sole Trader 0.0850078809991\n",
      "CONFIDENCE INTERVAL:  Tax Professional 0.147467400971\n"
     ]
    },
    {
     "data": {
      "image/png": "[encoded data removed]",
      "text/plain": [
       "<matplotlib.figure.Figure at 0x1134a1080>"
      ]
     },
     "metadata": {},
     "output_type": "display_data"
    }
   ],
   "source": [
    "beta.compare_task_VS_multiple_adjusted_N(clean_df, demo_q, demo_groups, 'Task 1 - Onboarding', folder)                          "
   ]
  },
  {
   "cell_type": "code",
   "execution_count": null,
   "metadata": {
    "collapsed": true
   },
   "outputs": [],
   "source": []
  },
  {
   "cell_type": "markdown",
   "metadata": {},
   "source": [
    "### Pull out Small Business and Sole Traders for questions 1 - 3"
   ]
  },
  {
   "cell_type": "code",
   "execution_count": 43,
   "metadata": {
    "collapsed": false
   },
   "outputs": [
    {
     "data": {
      "text/plain": [
       "(60, 53)"
      ]
     },
     "execution_count": 43,
     "metadata": {},
     "output_type": "execute_result"
    }
   ],
   "source": [
    "# Pull small business and sole traders into separate DataFrames\n",
    "small_business_df = clean_df[clean_df[demo_q].str.contains('(?i)Small Business') == True]\n",
    "small_business_N = len(small_business_df)\n",
    "\n",
    "sole_traders_df = clean_df[clean_df[demo_q].str.contains('(?i)Sole Trader') == True]\n",
    "sole_traders_N = len(sole_traders_df)\n",
    "\n",
    "small_business_N, sole_traders_N"
   ]
  },
  {
   "cell_type": "markdown",
   "metadata": {},
   "source": [
    "### SOLE TRADERS: As an employee I can use this feature to record: (select all that apply)"
   ]
  },
  {
   "cell_type": "code",
   "execution_count": 44,
   "metadata": {
    "collapsed": false,
    "scrolled": true
   },
   "outputs": [
    {
     "name": "stdout",
     "output_type": "stream",
     "text": [
      "SAMPLE SIZE: 53\n",
      "NO. ANSWERS: 100\n"
     ]
    },
    {
     "data": {
      "text/html": [
       "<div>\n",
       "<table border=\"1\" class=\"dataframe\">\n",
       "  <thead>\n",
       "    <tr style=\"text-align: right;\">\n",
       "      <th></th>\n",
       "      <th>Q.1 As an employee I can use this feature to record: (select all that apply) (N)</th>\n",
       "      <th>Q.1 As an employee I can use this feature to record: (select all that apply) (%)</th>\n",
       "    </tr>\n",
       "  </thead>\n",
       "  <tbody>\n",
       "    <tr>\n",
       "      <th>Expenses</th>\n",
       "      <td>40</td>\n",
       "      <td>0.754717</td>\n",
       "    </tr>\n",
       "    <tr>\n",
       "      <th>Trips</th>\n",
       "      <td>36</td>\n",
       "      <td>0.679245</td>\n",
       "    </tr>\n",
       "    <tr>\n",
       "      <th>Income</th>\n",
       "      <td>12</td>\n",
       "      <td>0.226415</td>\n",
       "    </tr>\n",
       "    <tr>\n",
       "      <th>I canât use this feature as an employee</th>\n",
       "      <td>12</td>\n",
       "      <td>0.226415</td>\n",
       "    </tr>\n",
       "  </tbody>\n",
       "</table>\n",
       "</div>"
      ],
      "text/plain": [
       "                                           Q.1 As an employee I can use this feature to record: (select all that apply) (N)  \\\n",
       "Expenses                                                                                  40                                  \n",
       "Trips                                                                                     36                                  \n",
       "Income                                                                                    12                                  \n",
       "I canât use this feature as an employee                                                 12                                  \n",
       "\n",
       "                                           Q.1 As an employee I can use this feature to record: (select all that apply) (%)  \n",
       "Expenses                                                                            0.754717                                 \n",
       "Trips                                                                               0.679245                                 \n",
       "Income                                                                              0.226415                                 \n",
       "I canât use this feature as an employee                                           0.226415                                 "
      ]
     },
     "metadata": {},
     "output_type": "display_data"
    },
    {
     "data": {
      "image/png": "[encoded data removed]",
      "text/plain": [
       "<matplotlib.figure.Figure at 0x1169edb38>"
      ]
     },
     "metadata": {},
     "output_type": "display_data"
    }
   ],
   "source": [
    "beta.multiple_answer(sole_traders_df, ['Q.1 As an employee I can use this feature to record: (select all that apply)'], grapher_horizontal, folder)"
   ]
  },
  {
   "cell_type": "code",
   "execution_count": 45,
   "metadata": {
    "collapsed": true
   },
   "outputs": [],
   "source": [
    "### SMALL BUSINESS: As an employee I can use this feature to record: (select all that apply)"
   ]
  },
  {
   "cell_type": "code",
   "execution_count": 46,
   "metadata": {
    "collapsed": false
   },
   "outputs": [
    {
     "name": "stdout",
     "output_type": "stream",
     "text": [
      "SAMPLE SIZE: 60\n",
      "NO. ANSWERS: 118\n"
     ]
    },
    {
     "data": {
      "text/html": [
       "<div>\n",
       "<table border=\"1\" class=\"dataframe\">\n",
       "  <thead>\n",
       "    <tr style=\"text-align: right;\">\n",
       "      <th></th>\n",
       "      <th>Q.1 As an employee I can use this feature to record: (select all that apply) (N)</th>\n",
       "      <th>Q.1 As an employee I can use this feature to record: (select all that apply) (%)</th>\n",
       "    </tr>\n",
       "  </thead>\n",
       "  <tbody>\n",
       "    <tr>\n",
       "      <th>Expenses</th>\n",
       "      <td>51</td>\n",
       "      <td>0.850000</td>\n",
       "    </tr>\n",
       "    <tr>\n",
       "      <th>Trips</th>\n",
       "      <td>42</td>\n",
       "      <td>0.700000</td>\n",
       "    </tr>\n",
       "    <tr>\n",
       "      <th>Income</th>\n",
       "      <td>14</td>\n",
       "      <td>0.233333</td>\n",
       "    </tr>\n",
       "    <tr>\n",
       "      <th>I canât use this feature as an employee</th>\n",
       "      <td>11</td>\n",
       "      <td>0.183333</td>\n",
       "    </tr>\n",
       "  </tbody>\n",
       "</table>\n",
       "</div>"
      ],
      "text/plain": [
       "                                           Q.1 As an employee I can use this feature to record: (select all that apply) (N)  \\\n",
       "Expenses                                                                                  51                                  \n",
       "Trips                                                                                     42                                  \n",
       "Income                                                                                    14                                  \n",
       "I canât use this feature as an employee                                                 11                                  \n",
       "\n",
       "                                           Q.1 As an employee I can use this feature to record: (select all that apply) (%)  \n",
       "Expenses                                                                            0.850000                                 \n",
       "Trips                                                                               0.700000                                 \n",
       "Income                                                                              0.233333                                 \n",
       "I canât use this feature as an employee                                           0.183333                                 "
      ]
     },
     "metadata": {},
     "output_type": "display_data"
    },
    {
     "data": {
      "image/png": "[encoded data removed]",
      "text/plain": [
       "<matplotlib.figure.Figure at 0x1169821d0>"
      ]
     },
     "metadata": {},
     "output_type": "display_data"
    }
   ],
   "source": [
    "beta.multiple_answer(small_business_df, ['Q.1 As an employee I can use this feature to record: (select all that apply)'], grapher_horizontal, folder)"
   ]
  },
  {
   "cell_type": "markdown",
   "metadata": {},
   "source": [
    "### SOLE TRADERS: As a sole trader I can use this feature to record: (select all that apply)"
   ]
  },
  {
   "cell_type": "code",
   "execution_count": 47,
   "metadata": {
    "collapsed": false
   },
   "outputs": [
    {
     "name": "stdout",
     "output_type": "stream",
     "text": [
      "SAMPLE SIZE: 53\n",
      "NO. ANSWERS: 128\n"
     ]
    },
    {
     "data": {
      "text/html": [
       "<div>\n",
       "<table border=\"1\" class=\"dataframe\">\n",
       "  <thead>\n",
       "    <tr style=\"text-align: right;\">\n",
       "      <th></th>\n",
       "      <th>Q.2 As a sole trader I can use this feature to record: (select all that apply) (N)</th>\n",
       "      <th>Q.2 As a sole trader I can use this feature to record: (select all that apply) (%)</th>\n",
       "    </tr>\n",
       "  </thead>\n",
       "  <tbody>\n",
       "    <tr>\n",
       "      <th>Expenses</th>\n",
       "      <td>52</td>\n",
       "      <td>0.981132</td>\n",
       "    </tr>\n",
       "    <tr>\n",
       "      <th>Trips</th>\n",
       "      <td>51</td>\n",
       "      <td>0.962264</td>\n",
       "    </tr>\n",
       "    <tr>\n",
       "      <th>Income</th>\n",
       "      <td>25</td>\n",
       "      <td>0.471698</td>\n",
       "    </tr>\n",
       "  </tbody>\n",
       "</table>\n",
       "</div>"
      ],
      "text/plain": [
       "          Q.2 As a sole trader I can use this feature to record: (select all that apply) (N)  \\\n",
       "Expenses                                                 52                                    \n",
       "Trips                                                    51                                    \n",
       "Income                                                   25                                    \n",
       "\n",
       "          Q.2 As a sole trader I can use this feature to record: (select all that apply) (%)  \n",
       "Expenses                                           0.981132                                   \n",
       "Trips                                              0.962264                                   \n",
       "Income                                             0.471698                                   "
      ]
     },
     "metadata": {},
     "output_type": "display_data"
    },
    {
     "data": {
      "image/png": "[encoded data removed]",
      "text/plain": [
       "<matplotlib.figure.Figure at 0x116574e10>"
      ]
     },
     "metadata": {},
     "output_type": "display_data"
    }
   ],
   "source": [
    "beta.multiple_answer(sole_traders_df, ['Q.2 As a sole trader I can use this feature to record: (select all that apply)'], grapher_horizontal, folder)"
   ]
  },
  {
   "cell_type": "markdown",
   "metadata": {},
   "source": [
    "### SMALL BUSINESS: As a sole trader I can use this feature to record: (select all that apply)"
   ]
  },
  {
   "cell_type": "code",
   "execution_count": 48,
   "metadata": {
    "collapsed": false
   },
   "outputs": [
    {
     "name": "stdout",
     "output_type": "stream",
     "text": [
      "SAMPLE SIZE: 60\n",
      "NO. ANSWERS: 140\n"
     ]
    },
    {
     "data": {
      "text/html": [
       "<div>\n",
       "<table border=\"1\" class=\"dataframe\">\n",
       "  <thead>\n",
       "    <tr style=\"text-align: right;\">\n",
       "      <th></th>\n",
       "      <th>Q.2 As a sole trader I can use this feature to record: (select all that apply) (N)</th>\n",
       "      <th>Q.2 As a sole trader I can use this feature to record: (select all that apply) (%)</th>\n",
       "    </tr>\n",
       "  </thead>\n",
       "  <tbody>\n",
       "    <tr>\n",
       "      <th>Expenses</th>\n",
       "      <td>55</td>\n",
       "      <td>0.916667</td>\n",
       "    </tr>\n",
       "    <tr>\n",
       "      <th>Trips</th>\n",
       "      <td>53</td>\n",
       "      <td>0.883333</td>\n",
       "    </tr>\n",
       "    <tr>\n",
       "      <th>Income</th>\n",
       "      <td>25</td>\n",
       "      <td>0.416667</td>\n",
       "    </tr>\n",
       "    <tr>\n",
       "      <th>I canât use this feature as a sole trader</th>\n",
       "      <td>7</td>\n",
       "      <td>0.116667</td>\n",
       "    </tr>\n",
       "  </tbody>\n",
       "</table>\n",
       "</div>"
      ],
      "text/plain": [
       "                                             Q.2 As a sole trader I can use this feature to record: (select all that apply) (N)  \\\n",
       "Expenses                                                                                    55                                    \n",
       "Trips                                                                                       53                                    \n",
       "Income                                                                                      25                                    \n",
       "I canât use this feature as a sole trader                                                  7                                    \n",
       "\n",
       "                                             Q.2 As a sole trader I can use this feature to record: (select all that apply) (%)  \n",
       "Expenses                                                                              0.916667                                   \n",
       "Trips                                                                                 0.883333                                   \n",
       "Income                                                                                0.416667                                   \n",
       "I canât use this feature as a sole trader                                           0.116667                                   "
      ]
     },
     "metadata": {},
     "output_type": "display_data"
    },
    {
     "data": {
      "image/png": "[encoded data removed]",
      "text/plain": [
       "<matplotlib.figure.Figure at 0x1131e97b8>"
      ]
     },
     "metadata": {},
     "output_type": "display_data"
    }
   ],
   "source": [
    "beta.multiple_answer(small_business_df, ['Q.2 As a sole trader I can use this feature to record: (select all that apply)'], grapher_horizontal, folder)"
   ]
  },
  {
   "cell_type": "markdown",
   "metadata": {},
   "source": [
    "###  SOLE TRADERS: Where would you expect to be able to upload your information when \"uploading your records to your tax return\"? (select all that apply)"
   ]
  },
  {
   "cell_type": "code",
   "execution_count": 49,
   "metadata": {
    "collapsed": false
   },
   "outputs": [
    {
     "name": "stdout",
     "output_type": "stream",
     "text": [
      "SAMPLE SIZE: 53\n",
      "NO. ANSWERS: 117\n"
     ]
    },
    {
     "data": {
      "text/html": [
       "<div>\n",
       "<table border=\"1\" class=\"dataframe\">\n",
       "  <thead>\n",
       "    <tr style=\"text-align: right;\">\n",
       "      <th></th>\n",
       "      <th>Q.3 Where would you expect to be able to upload your information when uploading your records to your tax return? (select all that apply) (N)</th>\n",
       "      <th>Q.3 Where would you expect to be able to upload your information when uploading your records to your tax return? (select all that apply) (%)</th>\n",
       "    </tr>\n",
       "  </thead>\n",
       "  <tbody>\n",
       "    <tr>\n",
       "      <th>Into my online tax return (myTax)</th>\n",
       "      <td>39</td>\n",
       "      <td>0.735849</td>\n",
       "    </tr>\n",
       "    <tr>\n",
       "      <th>To my computer as a backup</th>\n",
       "      <td>27</td>\n",
       "      <td>0.509434</td>\n",
       "    </tr>\n",
       "    <tr>\n",
       "      <th>Into a third-party app like Zero/MYOB etc.</th>\n",
       "      <td>25</td>\n",
       "      <td>0.471698</td>\n",
       "    </tr>\n",
       "    <tr>\n",
       "      <th>Into cloud storage</th>\n",
       "      <td>23</td>\n",
       "      <td>0.433962</td>\n",
       "    </tr>\n",
       "    <tr>\n",
       "      <th>Iâm unsure/I don't know</th>\n",
       "      <td>3</td>\n",
       "      <td>0.056604</td>\n",
       "    </tr>\n",
       "  </tbody>\n",
       "</table>\n",
       "</div>"
      ],
      "text/plain": [
       "                                            Q.3 Where would you expect to be able to upload your information when uploading your records to your tax return? (select all that apply) (N)  \\\n",
       "Into my online tax return (myTax)                                                          39                                                                                              \n",
       "To my computer as a backup                                                                 27                                                                                              \n",
       "Into a third-party app like Zero/MYOB etc.                                                 25                                                                                              \n",
       "Into cloud storage                                                                         23                                                                                              \n",
       "Iâm unsure/I don't know                                                                   3                                                                                              \n",
       "\n",
       "                                            Q.3 Where would you expect to be able to upload your information when uploading your records to your tax return? (select all that apply) (%)  \n",
       "Into my online tax return (myTax)                                                    0.735849                                                                                             \n",
       "To my computer as a backup                                                           0.509434                                                                                             \n",
       "Into a third-party app like Zero/MYOB etc.                                           0.471698                                                                                             \n",
       "Into cloud storage                                                                   0.433962                                                                                             \n",
       "Iâm unsure/I don't know                                                            0.056604                                                                                             "
      ]
     },
     "metadata": {},
     "output_type": "display_data"
    },
    {
     "data": {
      "image/png": "[encoded data removed]",
      "text/plain": [
       "<matplotlib.figure.Figure at 0x1131e8be0>"
      ]
     },
     "metadata": {},
     "output_type": "display_data"
    }
   ],
   "source": [
    "q3 = 'Q.3 Where would you expect to be able to upload your information when uploading your records to your tax return? (select all that apply)'\n",
    "beta.multiple_answer(sole_traders_df, [q3], grapher_horizontal, folder)"
   ]
  },
  {
   "cell_type": "markdown",
   "metadata": {},
   "source": [
    "### SMALL BUSINESS: Where would you expect to be able to upload your information when \"uploading your records to your tax return\"? (select all that apply)"
   ]
  },
  {
   "cell_type": "code",
   "execution_count": 50,
   "metadata": {
    "collapsed": false
   },
   "outputs": [
    {
     "name": "stdout",
     "output_type": "stream",
     "text": [
      "SAMPLE SIZE: 60\n",
      "NO. ANSWERS: 125\n"
     ]
    },
    {
     "data": {
      "text/html": [
       "<div>\n",
       "<table border=\"1\" class=\"dataframe\">\n",
       "  <thead>\n",
       "    <tr style=\"text-align: right;\">\n",
       "      <th></th>\n",
       "      <th>Q.3 Where would you expect to be able to upload your information when uploading your records to your tax return? (select all that apply) (N)</th>\n",
       "      <th>Q.3 Where would you expect to be able to upload your information when uploading your records to your tax return? (select all that apply) (%)</th>\n",
       "    </tr>\n",
       "  </thead>\n",
       "  <tbody>\n",
       "    <tr>\n",
       "      <th>Into my online tax return (myTax)</th>\n",
       "      <td>40</td>\n",
       "      <td>0.666667</td>\n",
       "    </tr>\n",
       "    <tr>\n",
       "      <th>Into a third-party app like Zero/MYOB etc.</th>\n",
       "      <td>31</td>\n",
       "      <td>0.516667</td>\n",
       "    </tr>\n",
       "    <tr>\n",
       "      <th>Into cloud storage</th>\n",
       "      <td>26</td>\n",
       "      <td>0.433333</td>\n",
       "    </tr>\n",
       "    <tr>\n",
       "      <th>To my computer as a backup</th>\n",
       "      <td>25</td>\n",
       "      <td>0.416667</td>\n",
       "    </tr>\n",
       "    <tr>\n",
       "      <th>Iâm unsure/I don't know</th>\n",
       "      <td>3</td>\n",
       "      <td>0.050000</td>\n",
       "    </tr>\n",
       "  </tbody>\n",
       "</table>\n",
       "</div>"
      ],
      "text/plain": [
       "                                            Q.3 Where would you expect to be able to upload your information when uploading your records to your tax return? (select all that apply) (N)  \\\n",
       "Into my online tax return (myTax)                                                          40                                                                                              \n",
       "Into a third-party app like Zero/MYOB etc.                                                 31                                                                                              \n",
       "Into cloud storage                                                                         26                                                                                              \n",
       "To my computer as a backup                                                                 25                                                                                              \n",
       "Iâm unsure/I don't know                                                                   3                                                                                              \n",
       "\n",
       "                                            Q.3 Where would you expect to be able to upload your information when uploading your records to your tax return? (select all that apply) (%)  \n",
       "Into my online tax return (myTax)                                                    0.666667                                                                                             \n",
       "Into a third-party app like Zero/MYOB etc.                                           0.516667                                                                                             \n",
       "Into cloud storage                                                                   0.433333                                                                                             \n",
       "To my computer as a backup                                                           0.416667                                                                                             \n",
       "Iâm unsure/I don't know                                                            0.050000                                                                                             "
      ]
     },
     "metadata": {},
     "output_type": "display_data"
    },
    {
     "data": {
      "image/png": "[encoded data removed]",
      "text/plain": [
       "<matplotlib.figure.Figure at 0x1165bb6d8>"
      ]
     },
     "metadata": {},
     "output_type": "display_data"
    }
   ],
   "source": [
    "q3 = 'Q.3 Where would you expect to be able to upload your information when uploading your records to your tax return? (select all that apply)'\n",
    "beta.multiple_answer(small_business_df, [q3], grapher_horizontal, folder)"
   ]
  },
  {
   "cell_type": "markdown",
   "metadata": {},
   "source": [
    "### Task 2 - Personalisation"
   ]
  },
  {
   "cell_type": "code",
   "execution_count": 51,
   "metadata": {
    "collapsed": false
   },
   "outputs": [
    {
     "data": {
      "text/html": [
       "<div>\n",
       "<table border=\"1\" class=\"dataframe\">\n",
       "  <thead>\n",
       "    <tr style=\"text-align: right;\">\n",
       "      <th></th>\n",
       "      <th>Small Business (N)</th>\n",
       "      <th>Small Business (%)</th>\n",
       "      <th>Sole Trader (N)</th>\n",
       "      <th>Sole Trader (%)</th>\n",
       "      <th>Tax Professional (N)</th>\n",
       "      <th>Tax Professional (%)</th>\n",
       "    </tr>\n",
       "    <tr>\n",
       "      <th>Task 2 - Personalisation</th>\n",
       "      <th></th>\n",
       "      <th></th>\n",
       "      <th></th>\n",
       "      <th></th>\n",
       "      <th></th>\n",
       "      <th></th>\n",
       "    </tr>\n",
       "  </thead>\n",
       "  <tbody>\n",
       "    <tr>\n",
       "      <th>fail</th>\n",
       "      <td>31</td>\n",
       "      <td>0.516667</td>\n",
       "      <td>19</td>\n",
       "      <td>0.358491</td>\n",
       "      <td>15</td>\n",
       "      <td>0.454545</td>\n",
       "    </tr>\n",
       "    <tr>\n",
       "      <th>success</th>\n",
       "      <td>29</td>\n",
       "      <td>0.483333</td>\n",
       "      <td>34</td>\n",
       "      <td>0.641509</td>\n",
       "      <td>18</td>\n",
       "      <td>0.545455</td>\n",
       "    </tr>\n",
       "  </tbody>\n",
       "</table>\n",
       "</div>"
      ],
      "text/plain": [
       "                          Small Business (N)  Small Business (%)  \\\n",
       "Task 2 - Personalisation                                           \n",
       "fail                                      31            0.516667   \n",
       "success                                   29            0.483333   \n",
       "\n",
       "                          Sole Trader (N)  Sole Trader (%)  \\\n",
       "Task 2 - Personalisation                                     \n",
       "fail                                   19         0.358491   \n",
       "success                                34         0.641509   \n",
       "\n",
       "                          Tax Professional (N)  Tax Professional (%)  \n",
       "Task 2 - Personalisation                                              \n",
       "fail                                        15              0.454545  \n",
       "success                                     18              0.545455  "
      ]
     },
     "metadata": {},
     "output_type": "display_data"
    },
    {
     "name": "stdout",
     "output_type": "stream",
     "text": [
      "CONFIDENCE INTERVAL:  Small Business 0.122591671771\n",
      "CONFIDENCE INTERVAL:  Sole Trader 0.125376995737\n",
      "CONFIDENCE INTERVAL:  Tax Professional 0.160920752492\n"
     ]
    },
    {
     "data": {
      "image/png": "[encoded data removed]",
      "text/plain": [
       "<matplotlib.figure.Figure at 0x11658dcf8>"
      ]
     },
     "metadata": {},
     "output_type": "display_data"
    }
   ],
   "source": [
    "beta.compare_task_VS_multiple_adjusted_N(clean_df, demo_q, demo_groups, 'Task 2 - Personalisation', folder)      "
   ]
  },
  {
   "cell_type": "markdown",
   "metadata": {},
   "source": [
    "### I am confident I selected the right settings to set up the app."
   ]
  },
  {
   "cell_type": "code",
   "execution_count": 52,
   "metadata": {
    "collapsed": false
   },
   "outputs": [
    {
     "data": {
      "text/html": [
       "<div>\n",
       "<table border=\"1\" class=\"dataframe\">\n",
       "  <thead>\n",
       "    <tr style=\"text-align: right;\">\n",
       "      <th></th>\n",
       "      <th>Small Business (N)</th>\n",
       "      <th>Small Business (%)</th>\n",
       "      <th>Sole Trader (N)</th>\n",
       "      <th>Sole Trader (%)</th>\n",
       "      <th>Tax Professional (N)</th>\n",
       "      <th>Tax Professional (%)</th>\n",
       "    </tr>\n",
       "    <tr>\n",
       "      <th>Q4 I am confident I selected the right settings to set up the app.</th>\n",
       "      <th></th>\n",
       "      <th></th>\n",
       "      <th></th>\n",
       "      <th></th>\n",
       "      <th></th>\n",
       "      <th></th>\n",
       "    </tr>\n",
       "  </thead>\n",
       "  <tbody>\n",
       "    <tr>\n",
       "      <th>Agree</th>\n",
       "      <td>41</td>\n",
       "      <td>0.683333</td>\n",
       "      <td>36</td>\n",
       "      <td>0.679245</td>\n",
       "      <td>27</td>\n",
       "      <td>0.818182</td>\n",
       "    </tr>\n",
       "    <tr>\n",
       "      <th>Neither agree nor disagree</th>\n",
       "      <td>16</td>\n",
       "      <td>0.266667</td>\n",
       "      <td>15</td>\n",
       "      <td>0.283019</td>\n",
       "      <td>5</td>\n",
       "      <td>0.151515</td>\n",
       "    </tr>\n",
       "    <tr>\n",
       "      <th>Disagree</th>\n",
       "      <td>3</td>\n",
       "      <td>0.050000</td>\n",
       "      <td>2</td>\n",
       "      <td>0.037736</td>\n",
       "      <td>1</td>\n",
       "      <td>0.030303</td>\n",
       "    </tr>\n",
       "  </tbody>\n",
       "</table>\n",
       "</div>"
      ],
      "text/plain": [
       "                                                    Small Business (N)  \\\n",
       "Q4 I am confident I selected the right settings...                       \n",
       "Agree                                                               41   \n",
       "Neither agree nor disagree                                          16   \n",
       "Disagree                                                             3   \n",
       "\n",
       "                                                    Small Business (%)  \\\n",
       "Q4 I am confident I selected the right settings...                       \n",
       "Agree                                                         0.683333   \n",
       "Neither agree nor disagree                                    0.266667   \n",
       "Disagree                                                      0.050000   \n",
       "\n",
       "                                                    Sole Trader (N)  \\\n",
       "Q4 I am confident I selected the right settings...                    \n",
       "Agree                                                            36   \n",
       "Neither agree nor disagree                                       15   \n",
       "Disagree                                                          2   \n",
       "\n",
       "                                                    Sole Trader (%)  \\\n",
       "Q4 I am confident I selected the right settings...                    \n",
       "Agree                                                      0.679245   \n",
       "Neither agree nor disagree                                 0.283019   \n",
       "Disagree                                                   0.037736   \n",
       "\n",
       "                                                    Tax Professional (N)  \\\n",
       "Q4 I am confident I selected the right settings...                         \n",
       "Agree                                                                 27   \n",
       "Neither agree nor disagree                                             5   \n",
       "Disagree                                                               1   \n",
       "\n",
       "                                                    Tax Professional (%)  \n",
       "Q4 I am confident I selected the right settings...                        \n",
       "Agree                                                           0.818182  \n",
       "Neither agree nor disagree                                      0.151515  \n",
       "Disagree                                                        0.030303  "
      ]
     },
     "metadata": {},
     "output_type": "display_data"
    }
   ],
   "source": [
    "beta.compare_likert_VS_multiple(clean_df, demo_q, demo_groups, u'Q4 I am confident I selected the right settings to set up the app.', folder)"
   ]
  },
  {
   "cell_type": "markdown",
   "metadata": {},
   "source": [
    "### This feature (myDeductions) can be used by: (select all that apply)"
   ]
  },
  {
   "cell_type": "code",
   "execution_count": 53,
   "metadata": {
    "collapsed": false
   },
   "outputs": [],
   "source": [
    "#'Q.5 This feature (myDeductions) can be used by: (select all that apply)'"
   ]
  },
  {
   "cell_type": "markdown",
   "metadata": {},
   "source": [
    "### All small business owners can use this app to upload their records to their tax return."
   ]
  },
  {
   "cell_type": "code",
   "execution_count": 54,
   "metadata": {
    "collapsed": false
   },
   "outputs": [
    {
     "data": {
      "text/html": [
       "<div>\n",
       "<table border=\"1\" class=\"dataframe\">\n",
       "  <thead>\n",
       "    <tr style=\"text-align: right;\">\n",
       "      <th></th>\n",
       "      <th>Small Business (N)</th>\n",
       "      <th>Small Business (%)</th>\n",
       "      <th>Sole Trader (N)</th>\n",
       "      <th>Sole Trader (%)</th>\n",
       "      <th>Tax Professional (N)</th>\n",
       "      <th>Tax Professional (%)</th>\n",
       "    </tr>\n",
       "    <tr>\n",
       "      <th>Q.6 All small business owners can use this app to upload their records to their tax return.</th>\n",
       "      <th></th>\n",
       "      <th></th>\n",
       "      <th></th>\n",
       "      <th></th>\n",
       "      <th></th>\n",
       "      <th></th>\n",
       "    </tr>\n",
       "  </thead>\n",
       "  <tbody>\n",
       "    <tr>\n",
       "      <th>FALSE</th>\n",
       "      <td>17</td>\n",
       "      <td>0.283333</td>\n",
       "      <td>20</td>\n",
       "      <td>0.377358</td>\n",
       "      <td>14</td>\n",
       "      <td>0.424242</td>\n",
       "    </tr>\n",
       "    <tr>\n",
       "      <th>I'm unsure</th>\n",
       "      <td>8</td>\n",
       "      <td>0.133333</td>\n",
       "      <td>13</td>\n",
       "      <td>0.245283</td>\n",
       "      <td>7</td>\n",
       "      <td>0.212121</td>\n",
       "    </tr>\n",
       "    <tr>\n",
       "      <th>TRUE</th>\n",
       "      <td>35</td>\n",
       "      <td>0.583333</td>\n",
       "      <td>20</td>\n",
       "      <td>0.377358</td>\n",
       "      <td>12</td>\n",
       "      <td>0.363636</td>\n",
       "    </tr>\n",
       "  </tbody>\n",
       "</table>\n",
       "</div>"
      ],
      "text/plain": [
       "                                                    Small Business (N)  \\\n",
       "Q.6 All small business owners can use this app ...                       \n",
       "FALSE                                                               17   \n",
       "I'm unsure                                                           8   \n",
       "TRUE                                                                35   \n",
       "\n",
       "                                                    Small Business (%)  \\\n",
       "Q.6 All small business owners can use this app ...                       \n",
       "FALSE                                                         0.283333   \n",
       "I'm unsure                                                    0.133333   \n",
       "TRUE                                                          0.583333   \n",
       "\n",
       "                                                    Sole Trader (N)  \\\n",
       "Q.6 All small business owners can use this app ...                    \n",
       "FALSE                                                            20   \n",
       "I'm unsure                                                       13   \n",
       "TRUE                                                             20   \n",
       "\n",
       "                                                    Sole Trader (%)  \\\n",
       "Q.6 All small business owners can use this app ...                    \n",
       "FALSE                                                      0.377358   \n",
       "I'm unsure                                                 0.245283   \n",
       "TRUE                                                       0.377358   \n",
       "\n",
       "                                                    Tax Professional (N)  \\\n",
       "Q.6 All small business owners can use this app ...                         \n",
       "FALSE                                                                 14   \n",
       "I'm unsure                                                             7   \n",
       "TRUE                                                                  12   \n",
       "\n",
       "                                                    Tax Professional (%)  \n",
       "Q.6 All small business owners can use this app ...                        \n",
       "FALSE                                                           0.424242  \n",
       "I'm unsure                                                      0.212121  \n",
       "TRUE                                                            0.363636  "
      ]
     },
     "metadata": {},
     "output_type": "display_data"
    },
    {
     "data": {
      "image/png": "[encoded data removed]",
      "text/plain": [
       "<matplotlib.figure.Figure at 0x11347db70>"
      ]
     },
     "metadata": {},
     "output_type": "display_data"
    }
   ],
   "source": [
    "beta.compare_multiple_VS_single(clean_df, demo_q, \n",
    "                        demo_groups, \n",
    "                        'Q.6 All small business owners can use this app to upload their records to their tax return.', \n",
    "                        folder)"
   ]
  },
  {
   "cell_type": "markdown",
   "metadata": {},
   "source": [
    "### Task 3 - Help"
   ]
  },
  {
   "cell_type": "code",
   "execution_count": 55,
   "metadata": {
    "collapsed": false
   },
   "outputs": [
    {
     "data": {
      "text/html": [
       "<div>\n",
       "<table border=\"1\" class=\"dataframe\">\n",
       "  <thead>\n",
       "    <tr style=\"text-align: right;\">\n",
       "      <th></th>\n",
       "      <th>Small Business (N)</th>\n",
       "      <th>Small Business (%)</th>\n",
       "      <th>Sole Trader (N)</th>\n",
       "      <th>Sole Trader (%)</th>\n",
       "      <th>Tax Professional (N)</th>\n",
       "      <th>Tax Professional (%)</th>\n",
       "    </tr>\n",
       "    <tr>\n",
       "      <th>Task 3 - Help</th>\n",
       "      <th></th>\n",
       "      <th></th>\n",
       "      <th></th>\n",
       "      <th></th>\n",
       "      <th></th>\n",
       "      <th></th>\n",
       "    </tr>\n",
       "  </thead>\n",
       "  <tbody>\n",
       "    <tr>\n",
       "      <th>abandon</th>\n",
       "      <td>2</td>\n",
       "      <td>0.033333</td>\n",
       "      <td>2</td>\n",
       "      <td>0.037736</td>\n",
       "      <td>NaN</td>\n",
       "      <td>NaN</td>\n",
       "    </tr>\n",
       "    <tr>\n",
       "      <th>fail</th>\n",
       "      <td>50</td>\n",
       "      <td>0.833333</td>\n",
       "      <td>43</td>\n",
       "      <td>0.811321</td>\n",
       "      <td>27.0</td>\n",
       "      <td>0.818182</td>\n",
       "    </tr>\n",
       "    <tr>\n",
       "      <th>success</th>\n",
       "      <td>8</td>\n",
       "      <td>0.133333</td>\n",
       "      <td>8</td>\n",
       "      <td>0.150943</td>\n",
       "      <td>6.0</td>\n",
       "      <td>0.181818</td>\n",
       "    </tr>\n",
       "  </tbody>\n",
       "</table>\n",
       "</div>"
      ],
      "text/plain": [
       "               Small Business (N)  Small Business (%)  Sole Trader (N)  \\\n",
       "Task 3 - Help                                                            \n",
       "abandon                         2            0.033333                2   \n",
       "fail                           50            0.833333               43   \n",
       "success                         8            0.133333                8   \n",
       "\n",
       "               Sole Trader (%)  Tax Professional (N)  Tax Professional (%)  \n",
       "Task 3 - Help                                                               \n",
       "abandon               0.037736                   NaN                   NaN  \n",
       "fail                  0.811321                  27.0              0.818182  \n",
       "success               0.150943                   6.0              0.181818  "
      ]
     },
     "metadata": {},
     "output_type": "display_data"
    },
    {
     "name": "stdout",
     "output_type": "stream",
     "text": [
      "CONFIDENCE INTERVAL:  Small Business 0.08886732128\n",
      "CONFIDENCE INTERVAL:  Sole Trader 0.0986742179027\n",
      "CONFIDENCE INTERVAL:  Tax Professional 0.132656624848\n"
     ]
    },
    {
     "data": {
      "image/png": "[encoded data removed]",
      "text/plain": [
       "<matplotlib.figure.Figure at 0x1131e9898>"
      ]
     },
     "metadata": {},
     "output_type": "display_data"
    }
   ],
   "source": [
    "beta.compare_task_VS_multiple_adjusted_N(clean_df, demo_q, demo_groups, 'Task 3 - Help', folder)      "
   ]
  },
  {
   "cell_type": "markdown",
   "metadata": {},
   "source": [
    "### It was clear where I had to go to find the information I needed."
   ]
  },
  {
   "cell_type": "code",
   "execution_count": 56,
   "metadata": {
    "collapsed": false
   },
   "outputs": [
    {
     "data": {
      "text/html": [
       "<div>\n",
       "<table border=\"1\" class=\"dataframe\">\n",
       "  <thead>\n",
       "    <tr style=\"text-align: right;\">\n",
       "      <th></th>\n",
       "      <th>Small Business (N)</th>\n",
       "      <th>Small Business (%)</th>\n",
       "      <th>Sole Trader (N)</th>\n",
       "      <th>Sole Trader (%)</th>\n",
       "      <th>Tax Professional (N)</th>\n",
       "      <th>Tax Professional (%)</th>\n",
       "    </tr>\n",
       "    <tr>\n",
       "      <th>Q.8. It was clear where I had to go to find the information I needed.</th>\n",
       "      <th></th>\n",
       "      <th></th>\n",
       "      <th></th>\n",
       "      <th></th>\n",
       "      <th></th>\n",
       "      <th></th>\n",
       "    </tr>\n",
       "  </thead>\n",
       "  <tbody>\n",
       "    <tr>\n",
       "      <th>Agree</th>\n",
       "      <td>25</td>\n",
       "      <td>0.416667</td>\n",
       "      <td>21</td>\n",
       "      <td>0.396226</td>\n",
       "      <td>11</td>\n",
       "      <td>0.333333</td>\n",
       "    </tr>\n",
       "    <tr>\n",
       "      <th>Disagree</th>\n",
       "      <td>24</td>\n",
       "      <td>0.400000</td>\n",
       "      <td>22</td>\n",
       "      <td>0.415094</td>\n",
       "      <td>12</td>\n",
       "      <td>0.363636</td>\n",
       "    </tr>\n",
       "    <tr>\n",
       "      <th>Neither agree nor disagree</th>\n",
       "      <td>11</td>\n",
       "      <td>0.183333</td>\n",
       "      <td>10</td>\n",
       "      <td>0.188679</td>\n",
       "      <td>10</td>\n",
       "      <td>0.303030</td>\n",
       "    </tr>\n",
       "  </tbody>\n",
       "</table>\n",
       "</div>"
      ],
      "text/plain": [
       "                                                    Small Business (N)  \\\n",
       "Q.8. It was clear where I had to go to find the...                       \n",
       "Agree                                                               25   \n",
       "Disagree                                                            24   \n",
       "Neither agree nor disagree                                          11   \n",
       "\n",
       "                                                    Small Business (%)  \\\n",
       "Q.8. It was clear where I had to go to find the...                       \n",
       "Agree                                                         0.416667   \n",
       "Disagree                                                      0.400000   \n",
       "Neither agree nor disagree                                    0.183333   \n",
       "\n",
       "                                                    Sole Trader (N)  \\\n",
       "Q.8. It was clear where I had to go to find the...                    \n",
       "Agree                                                            21   \n",
       "Disagree                                                         22   \n",
       "Neither agree nor disagree                                       10   \n",
       "\n",
       "                                                    Sole Trader (%)  \\\n",
       "Q.8. It was clear where I had to go to find the...                    \n",
       "Agree                                                      0.396226   \n",
       "Disagree                                                   0.415094   \n",
       "Neither agree nor disagree                                 0.188679   \n",
       "\n",
       "                                                    Tax Professional (N)  \\\n",
       "Q.8. It was clear where I had to go to find the...                         \n",
       "Agree                                                                 11   \n",
       "Disagree                                                              12   \n",
       "Neither agree nor disagree                                            10   \n",
       "\n",
       "                                                    Tax Professional (%)  \n",
       "Q.8. It was clear where I had to go to find the...                        \n",
       "Agree                                                           0.333333  \n",
       "Disagree                                                        0.363636  \n",
       "Neither agree nor disagree                                      0.303030  "
      ]
     },
     "metadata": {},
     "output_type": "display_data"
    }
   ],
   "source": [
    "beta.compare_likert_VS_multiple(clean_df, demo_q, demo_groups, 'Q.8. It was clear where I had to go to find the information I needed.', folder)"
   ]
  },
  {
   "cell_type": "markdown",
   "metadata": {},
   "source": [
    "### Task 4 - Settings"
   ]
  },
  {
   "cell_type": "code",
   "execution_count": 57,
   "metadata": {
    "collapsed": false
   },
   "outputs": [
    {
     "data": {
      "text/html": [
       "<div>\n",
       "<table border=\"1\" class=\"dataframe\">\n",
       "  <thead>\n",
       "    <tr style=\"text-align: right;\">\n",
       "      <th></th>\n",
       "      <th>Small Business (N)</th>\n",
       "      <th>Small Business (%)</th>\n",
       "      <th>Sole Trader (N)</th>\n",
       "      <th>Sole Trader (%)</th>\n",
       "      <th>Tax Professional (N)</th>\n",
       "      <th>Tax Professional (%)</th>\n",
       "    </tr>\n",
       "    <tr>\n",
       "      <th>Task 4 - Settings</th>\n",
       "      <th></th>\n",
       "      <th></th>\n",
       "      <th></th>\n",
       "      <th></th>\n",
       "      <th></th>\n",
       "      <th></th>\n",
       "    </tr>\n",
       "  </thead>\n",
       "  <tbody>\n",
       "    <tr>\n",
       "      <th>abandon</th>\n",
       "      <td>2</td>\n",
       "      <td>0.033333</td>\n",
       "      <td>NaN</td>\n",
       "      <td>NaN</td>\n",
       "      <td>NaN</td>\n",
       "      <td>NaN</td>\n",
       "    </tr>\n",
       "    <tr>\n",
       "      <th>fail</th>\n",
       "      <td>17</td>\n",
       "      <td>0.283333</td>\n",
       "      <td>9.0</td>\n",
       "      <td>0.169811</td>\n",
       "      <td>9.0</td>\n",
       "      <td>0.272727</td>\n",
       "    </tr>\n",
       "    <tr>\n",
       "      <th>success</th>\n",
       "      <td>41</td>\n",
       "      <td>0.683333</td>\n",
       "      <td>44.0</td>\n",
       "      <td>0.830189</td>\n",
       "      <td>24.0</td>\n",
       "      <td>0.727273</td>\n",
       "    </tr>\n",
       "  </tbody>\n",
       "</table>\n",
       "</div>"
      ],
      "text/plain": [
       "                   Small Business (N)  Small Business (%)  Sole Trader (N)  \\\n",
       "Task 4 - Settings                                                            \n",
       "abandon                             2            0.033333              NaN   \n",
       "fail                               17            0.283333              9.0   \n",
       "success                            41            0.683333             44.0   \n",
       "\n",
       "                   Sole Trader (%)  Tax Professional (N)  Tax Professional (%)  \n",
       "Task 4 - Settings                                                               \n",
       "abandon                        NaN                   NaN                   NaN  \n",
       "fail                      0.169811                   9.0              0.272727  \n",
       "success                   0.830189                  24.0              0.727273  "
      ]
     },
     "metadata": {},
     "output_type": "display_data"
    },
    {
     "name": "stdout",
     "output_type": "stream",
     "text": [
      "CONFIDENCE INTERVAL:  Small Business 0.115138882062\n",
      "CONFIDENCE INTERVAL:  Sole Trader 0.102419137434\n",
      "CONFIDENCE INTERVAL:  Tax Professional 0.147467400971\n"
     ]
    },
    {
     "data": {
      "image/png": "[encoded data removed]",
      "text/plain": [
       "<matplotlib.figure.Figure at 0x116c3a320>"
      ]
     },
     "metadata": {},
     "output_type": "display_data"
    }
   ],
   "source": [
    "beta.compare_task_VS_multiple_adjusted_N(clean_df, demo_q, demo_groups, 'Task 4 - Settings', folder)      "
   ]
  },
  {
   "cell_type": "markdown",
   "metadata": {},
   "source": [
    "### I found it easy to locate the settings feature."
   ]
  },
  {
   "cell_type": "code",
   "execution_count": 58,
   "metadata": {
    "collapsed": false
   },
   "outputs": [
    {
     "data": {
      "text/html": [
       "<div>\n",
       "<table border=\"1\" class=\"dataframe\">\n",
       "  <thead>\n",
       "    <tr style=\"text-align: right;\">\n",
       "      <th></th>\n",
       "      <th>Small Business (N)</th>\n",
       "      <th>Small Business (%)</th>\n",
       "      <th>Sole Trader (N)</th>\n",
       "      <th>Sole Trader (%)</th>\n",
       "      <th>Tax Professional (N)</th>\n",
       "      <th>Tax Professional (%)</th>\n",
       "    </tr>\n",
       "    <tr>\n",
       "      <th>Q.9. I found it easy to locate the settings feature.</th>\n",
       "      <th></th>\n",
       "      <th></th>\n",
       "      <th></th>\n",
       "      <th></th>\n",
       "      <th></th>\n",
       "      <th></th>\n",
       "    </tr>\n",
       "  </thead>\n",
       "  <tbody>\n",
       "    <tr>\n",
       "      <th>Agree</th>\n",
       "      <td>44</td>\n",
       "      <td>0.733333</td>\n",
       "      <td>40</td>\n",
       "      <td>0.754717</td>\n",
       "      <td>25</td>\n",
       "      <td>0.757576</td>\n",
       "    </tr>\n",
       "    <tr>\n",
       "      <th>Disagree</th>\n",
       "      <td>10</td>\n",
       "      <td>0.166667</td>\n",
       "      <td>4</td>\n",
       "      <td>0.075472</td>\n",
       "      <td>2</td>\n",
       "      <td>0.060606</td>\n",
       "    </tr>\n",
       "    <tr>\n",
       "      <th>Neither agree nor disagree</th>\n",
       "      <td>6</td>\n",
       "      <td>0.100000</td>\n",
       "      <td>9</td>\n",
       "      <td>0.169811</td>\n",
       "      <td>6</td>\n",
       "      <td>0.181818</td>\n",
       "    </tr>\n",
       "  </tbody>\n",
       "</table>\n",
       "</div>"
      ],
      "text/plain": [
       "                                                    Small Business (N)  \\\n",
       "Q.9. I found it easy to locate the settings fea...                       \n",
       "Agree                                                               44   \n",
       "Disagree                                                            10   \n",
       "Neither agree nor disagree                                           6   \n",
       "\n",
       "                                                    Small Business (%)  \\\n",
       "Q.9. I found it easy to locate the settings fea...                       \n",
       "Agree                                                         0.733333   \n",
       "Disagree                                                      0.166667   \n",
       "Neither agree nor disagree                                    0.100000   \n",
       "\n",
       "                                                    Sole Trader (N)  \\\n",
       "Q.9. I found it easy to locate the settings fea...                    \n",
       "Agree                                                            40   \n",
       "Disagree                                                          4   \n",
       "Neither agree nor disagree                                        9   \n",
       "\n",
       "                                                    Sole Trader (%)  \\\n",
       "Q.9. I found it easy to locate the settings fea...                    \n",
       "Agree                                                      0.754717   \n",
       "Disagree                                                   0.075472   \n",
       "Neither agree nor disagree                                 0.169811   \n",
       "\n",
       "                                                    Tax Professional (N)  \\\n",
       "Q.9. I found it easy to locate the settings fea...                         \n",
       "Agree                                                                 25   \n",
       "Disagree                                                               2   \n",
       "Neither agree nor disagree                                             6   \n",
       "\n",
       "                                                    Tax Professional (%)  \n",
       "Q.9. I found it easy to locate the settings fea...                        \n",
       "Agree                                                           0.757576  \n",
       "Disagree                                                        0.060606  \n",
       "Neither agree nor disagree                                      0.181818  "
      ]
     },
     "metadata": {},
     "output_type": "display_data"
    }
   ],
   "source": [
    "beta.compare_likert_VS_multiple(clean_df, demo_q, demo_groups, 'Q.9. I found it easy to locate the settings feature.',folder)"
   ]
  },
  {
   "cell_type": "markdown",
   "metadata": {},
   "source": [
    "### I expected to find the \"Personalisation\" function in the settings."
   ]
  },
  {
   "cell_type": "code",
   "execution_count": 59,
   "metadata": {
    "collapsed": false
   },
   "outputs": [
    {
     "data": {
      "text/html": [
       "<div>\n",
       "<table border=\"1\" class=\"dataframe\">\n",
       "  <thead>\n",
       "    <tr style=\"text-align: right;\">\n",
       "      <th></th>\n",
       "      <th>Small Business (N)</th>\n",
       "      <th>Small Business (%)</th>\n",
       "      <th>Sole Trader (N)</th>\n",
       "      <th>Sole Trader (%)</th>\n",
       "      <th>Tax Professional (N)</th>\n",
       "      <th>Tax Professional (%)</th>\n",
       "    </tr>\n",
       "    <tr>\n",
       "      <th>Q.10 I expected to find the \"Personalisation\" function in the settings.</th>\n",
       "      <th></th>\n",
       "      <th></th>\n",
       "      <th></th>\n",
       "      <th></th>\n",
       "      <th></th>\n",
       "      <th></th>\n",
       "    </tr>\n",
       "  </thead>\n",
       "  <tbody>\n",
       "    <tr>\n",
       "      <th>Agree</th>\n",
       "      <td>48</td>\n",
       "      <td>0.80</td>\n",
       "      <td>44</td>\n",
       "      <td>0.830189</td>\n",
       "      <td>28</td>\n",
       "      <td>0.848485</td>\n",
       "    </tr>\n",
       "    <tr>\n",
       "      <th>Neither agree nor disagree</th>\n",
       "      <td>9</td>\n",
       "      <td>0.15</td>\n",
       "      <td>7</td>\n",
       "      <td>0.132075</td>\n",
       "      <td>4</td>\n",
       "      <td>0.121212</td>\n",
       "    </tr>\n",
       "    <tr>\n",
       "      <th>Disagree</th>\n",
       "      <td>3</td>\n",
       "      <td>0.05</td>\n",
       "      <td>2</td>\n",
       "      <td>0.037736</td>\n",
       "      <td>1</td>\n",
       "      <td>0.030303</td>\n",
       "    </tr>\n",
       "  </tbody>\n",
       "</table>\n",
       "</div>"
      ],
      "text/plain": [
       "                                                    Small Business (N)  \\\n",
       "Q.10 I expected to find the \"Personalisation\" f...                       \n",
       "Agree                                                               48   \n",
       "Neither agree nor disagree                                           9   \n",
       "Disagree                                                             3   \n",
       "\n",
       "                                                    Small Business (%)  \\\n",
       "Q.10 I expected to find the \"Personalisation\" f...                       \n",
       "Agree                                                             0.80   \n",
       "Neither agree nor disagree                                        0.15   \n",
       "Disagree                                                          0.05   \n",
       "\n",
       "                                                    Sole Trader (N)  \\\n",
       "Q.10 I expected to find the \"Personalisation\" f...                    \n",
       "Agree                                                            44   \n",
       "Neither agree nor disagree                                        7   \n",
       "Disagree                                                          2   \n",
       "\n",
       "                                                    Sole Trader (%)  \\\n",
       "Q.10 I expected to find the \"Personalisation\" f...                    \n",
       "Agree                                                      0.830189   \n",
       "Neither agree nor disagree                                 0.132075   \n",
       "Disagree                                                   0.037736   \n",
       "\n",
       "                                                    Tax Professional (N)  \\\n",
       "Q.10 I expected to find the \"Personalisation\" f...                         \n",
       "Agree                                                                 28   \n",
       "Neither agree nor disagree                                             4   \n",
       "Disagree                                                               1   \n",
       "\n",
       "                                                    Tax Professional (%)  \n",
       "Q.10 I expected to find the \"Personalisation\" f...                        \n",
       "Agree                                                           0.848485  \n",
       "Neither agree nor disagree                                      0.121212  \n",
       "Disagree                                                        0.030303  "
      ]
     },
     "metadata": {},
     "output_type": "display_data"
    }
   ],
   "source": [
    "beta.compare_likert_VS_multiple(clean_df, demo_q, demo_groups, 'Q.10 I expected to find the \"Personalisation\" function in the settings.',folder)"
   ]
  },
  {
   "cell_type": "markdown",
   "metadata": {},
   "source": [
    "### I found the language used in the tool easy to understand."
   ]
  },
  {
   "cell_type": "code",
   "execution_count": 60,
   "metadata": {
    "collapsed": false
   },
   "outputs": [
    {
     "data": {
      "text/html": [
       "<div>\n",
       "<table border=\"1\" class=\"dataframe\">\n",
       "  <thead>\n",
       "    <tr style=\"text-align: right;\">\n",
       "      <th></th>\n",
       "      <th>Small Business (N)</th>\n",
       "      <th>Small Business (%)</th>\n",
       "      <th>Sole Trader (N)</th>\n",
       "      <th>Sole Trader (%)</th>\n",
       "      <th>Tax Professional (N)</th>\n",
       "      <th>Tax Professional (%)</th>\n",
       "    </tr>\n",
       "    <tr>\n",
       "      <th>Q.12 I found the language used in the tool easy to understand.</th>\n",
       "      <th></th>\n",
       "      <th></th>\n",
       "      <th></th>\n",
       "      <th></th>\n",
       "      <th></th>\n",
       "      <th></th>\n",
       "    </tr>\n",
       "  </thead>\n",
       "  <tbody>\n",
       "    <tr>\n",
       "      <th>Agree</th>\n",
       "      <td>46</td>\n",
       "      <td>0.766667</td>\n",
       "      <td>37</td>\n",
       "      <td>0.698113</td>\n",
       "      <td>20</td>\n",
       "      <td>0.606061</td>\n",
       "    </tr>\n",
       "    <tr>\n",
       "      <th>Disagree</th>\n",
       "      <td>8</td>\n",
       "      <td>0.133333</td>\n",
       "      <td>2</td>\n",
       "      <td>0.037736</td>\n",
       "      <td>2</td>\n",
       "      <td>0.060606</td>\n",
       "    </tr>\n",
       "    <tr>\n",
       "      <th>Neither agree nor disagree</th>\n",
       "      <td>6</td>\n",
       "      <td>0.100000</td>\n",
       "      <td>14</td>\n",
       "      <td>0.264151</td>\n",
       "      <td>11</td>\n",
       "      <td>0.333333</td>\n",
       "    </tr>\n",
       "  </tbody>\n",
       "</table>\n",
       "</div>"
      ],
      "text/plain": [
       "                                                    Small Business (N)  \\\n",
       "Q.12 I found the language used in the tool easy...                       \n",
       "Agree                                                               46   \n",
       "Disagree                                                             8   \n",
       "Neither agree nor disagree                                           6   \n",
       "\n",
       "                                                    Small Business (%)  \\\n",
       "Q.12 I found the language used in the tool easy...                       \n",
       "Agree                                                         0.766667   \n",
       "Disagree                                                      0.133333   \n",
       "Neither agree nor disagree                                    0.100000   \n",
       "\n",
       "                                                    Sole Trader (N)  \\\n",
       "Q.12 I found the language used in the tool easy...                    \n",
       "Agree                                                            37   \n",
       "Disagree                                                          2   \n",
       "Neither agree nor disagree                                       14   \n",
       "\n",
       "                                                    Sole Trader (%)  \\\n",
       "Q.12 I found the language used in the tool easy...                    \n",
       "Agree                                                      0.698113   \n",
       "Disagree                                                   0.037736   \n",
       "Neither agree nor disagree                                 0.264151   \n",
       "\n",
       "                                                    Tax Professional (N)  \\\n",
       "Q.12 I found the language used in the tool easy...                         \n",
       "Agree                                                                 20   \n",
       "Disagree                                                               2   \n",
       "Neither agree nor disagree                                            11   \n",
       "\n",
       "                                                    Tax Professional (%)  \n",
       "Q.12 I found the language used in the tool easy...                        \n",
       "Agree                                                           0.606061  \n",
       "Disagree                                                        0.060606  \n",
       "Neither agree nor disagree                                      0.333333  "
      ]
     },
     "metadata": {},
     "output_type": "display_data"
    }
   ],
   "source": [
    "beta.compare_likert_VS_multiple(clean_df, demo_q, demo_groups, 'Q.12 I found the language used in the tool easy to understand.',folder)"
   ]
  },
  {
   "cell_type": "markdown",
   "metadata": {},
   "source": [
    "#### I found the language easy... PARTICIPANTS WHO ARE NOT SMALL BUSINESS"
   ]
  },
  {
   "cell_type": "code",
   "execution_count": 61,
   "metadata": {
    "collapsed": false
   },
   "outputs": [
    {
     "name": "stdout",
     "output_type": "stream",
     "text": [
      "SAMPLE SIZE: 87 (Q.12 I found the language used in the tool easy to understand.)\n",
      "TOTAL %: 1.0 (Q.12 I found the language used in the tool easy to understand.)\n"
     ]
    },
    {
     "data": {
      "text/html": [
       "<div>\n",
       "<table border=\"1\" class=\"dataframe\">\n",
       "  <thead>\n",
       "    <tr style=\"text-align: right;\">\n",
       "      <th></th>\n",
       "      <th>Q.12 I found the language used in the tool easy to understand. (N)</th>\n",
       "      <th>Q.12 I found the language used in the tool easy to understand. (%)</th>\n",
       "    </tr>\n",
       "  </thead>\n",
       "  <tbody>\n",
       "    <tr>\n",
       "      <th>Agree</th>\n",
       "      <td>62</td>\n",
       "      <td>0.712644</td>\n",
       "    </tr>\n",
       "    <tr>\n",
       "      <th>Neither agree nor disagree</th>\n",
       "      <td>21</td>\n",
       "      <td>0.241379</td>\n",
       "    </tr>\n",
       "    <tr>\n",
       "      <th>Disagree</th>\n",
       "      <td>4</td>\n",
       "      <td>0.045977</td>\n",
       "    </tr>\n",
       "  </tbody>\n",
       "</table>\n",
       "</div>"
      ],
      "text/plain": [
       "                            Q.12 I found the language used in the tool easy to understand. (N)  \\\n",
       "Agree                                                                      62                    \n",
       "Neither agree nor disagree                                                 21                    \n",
       "Disagree                                                                    4                    \n",
       "\n",
       "                            Q.12 I found the language used in the tool easy to understand. (%)  \n",
       "Agree                                                                0.712644                   \n",
       "Neither agree nor disagree                                           0.241379                   \n",
       "Disagree                                                             0.045977                   "
      ]
     },
     "execution_count": 61,
     "metadata": {},
     "output_type": "execute_result"
    },
    {
     "data": {
      "image/png": "[encoded data removed]",
      "text/plain": [
       "<matplotlib.figure.Figure at 0x1131329e8>"
      ]
     },
     "metadata": {},
     "output_type": "display_data"
    }
   ],
   "source": [
    "# Create DataFrame of all participants who were NOT small business to compare percentages.\n",
    "NOT_small_business_df = clean_df[clean_df[demo_q].str.contains('(?i)Small Business') == False]\n",
    "NOT_small_business_N = len(NOT_small_business_df)\n",
    "\n",
    "beta.likert_results(NOT_small_business_df, ['Q.12 I found the language used in the tool easy to understand.'], grapher_horizontal, folder)"
   ]
  },
  {
   "cell_type": "code",
   "execution_count": null,
   "metadata": {
    "collapsed": true
   },
   "outputs": [],
   "source": []
  },
  {
   "cell_type": "markdown",
   "metadata": {},
   "source": [
    "###  On this screen, what do you understand the term \"Cash flow position\" to mean? (select all that apply)"
   ]
  },
  {
   "cell_type": "code",
   "execution_count": 62,
   "metadata": {
    "collapsed": false
   },
   "outputs": [],
   "source": [
    "#'Q.14 On this screen, what do you understand the term Cash flow position to mean? (select all that apply)'"
   ]
  },
  {
   "cell_type": "markdown",
   "metadata": {},
   "source": [
    "### Please respond to the following statement: As a business I would find the \"Cash flow position\" feature useful."
   ]
  },
  {
   "cell_type": "code",
   "execution_count": 63,
   "metadata": {
    "collapsed": false
   },
   "outputs": [
    {
     "data": {
      "text/html": [
       "<div>\n",
       "<table border=\"1\" class=\"dataframe\">\n",
       "  <thead>\n",
       "    <tr style=\"text-align: right;\">\n",
       "      <th></th>\n",
       "      <th>Small Business (N)</th>\n",
       "      <th>Small Business (%)</th>\n",
       "      <th>Sole Trader (N)</th>\n",
       "      <th>Sole Trader (%)</th>\n",
       "      <th>Tax Professional (N)</th>\n",
       "      <th>Tax Professional (%)</th>\n",
       "    </tr>\n",
       "    <tr>\n",
       "      <th>Q.15 As a business I would find the Cash flow position feature useful.</th>\n",
       "      <th></th>\n",
       "      <th></th>\n",
       "      <th></th>\n",
       "      <th></th>\n",
       "      <th></th>\n",
       "      <th></th>\n",
       "    </tr>\n",
       "  </thead>\n",
       "  <tbody>\n",
       "    <tr>\n",
       "      <th>Agree</th>\n",
       "      <td>30.0</td>\n",
       "      <td>0.500000</td>\n",
       "      <td>28.0</td>\n",
       "      <td>0.528302</td>\n",
       "      <td>14</td>\n",
       "      <td>0.424242</td>\n",
       "    </tr>\n",
       "    <tr>\n",
       "      <th>Disagree</th>\n",
       "      <td>14.0</td>\n",
       "      <td>0.233333</td>\n",
       "      <td>15.0</td>\n",
       "      <td>0.283019</td>\n",
       "      <td>8</td>\n",
       "      <td>0.242424</td>\n",
       "    </tr>\n",
       "    <tr>\n",
       "      <th>I'm not operating a business</th>\n",
       "      <td>NaN</td>\n",
       "      <td>NaN</td>\n",
       "      <td>NaN</td>\n",
       "      <td>NaN</td>\n",
       "      <td>3</td>\n",
       "      <td>0.090909</td>\n",
       "    </tr>\n",
       "    <tr>\n",
       "      <th>Neither agree nor disagree</th>\n",
       "      <td>16.0</td>\n",
       "      <td>0.266667</td>\n",
       "      <td>10.0</td>\n",
       "      <td>0.188679</td>\n",
       "      <td>8</td>\n",
       "      <td>0.242424</td>\n",
       "    </tr>\n",
       "  </tbody>\n",
       "</table>\n",
       "</div>"
      ],
      "text/plain": [
       "                                                    Small Business (N)  \\\n",
       "Q.15 As a business I would find the Cash flow p...                       \n",
       "Agree                                                             30.0   \n",
       "Disagree                                                          14.0   \n",
       "I'm not operating a business                                       NaN   \n",
       "Neither agree nor disagree                                        16.0   \n",
       "\n",
       "                                                    Small Business (%)  \\\n",
       "Q.15 As a business I would find the Cash flow p...                       \n",
       "Agree                                                         0.500000   \n",
       "Disagree                                                      0.233333   \n",
       "I'm not operating a business                                       NaN   \n",
       "Neither agree nor disagree                                    0.266667   \n",
       "\n",
       "                                                    Sole Trader (N)  \\\n",
       "Q.15 As a business I would find the Cash flow p...                    \n",
       "Agree                                                          28.0   \n",
       "Disagree                                                       15.0   \n",
       "I'm not operating a business                                    NaN   \n",
       "Neither agree nor disagree                                     10.0   \n",
       "\n",
       "                                                    Sole Trader (%)  \\\n",
       "Q.15 As a business I would find the Cash flow p...                    \n",
       "Agree                                                      0.528302   \n",
       "Disagree                                                   0.283019   \n",
       "I'm not operating a business                                    NaN   \n",
       "Neither agree nor disagree                                 0.188679   \n",
       "\n",
       "                                                    Tax Professional (N)  \\\n",
       "Q.15 As a business I would find the Cash flow p...                         \n",
       "Agree                                                                 14   \n",
       "Disagree                                                               8   \n",
       "I'm not operating a business                                           3   \n",
       "Neither agree nor disagree                                             8   \n",
       "\n",
       "                                                    Tax Professional (%)  \n",
       "Q.15 As a business I would find the Cash flow p...                        \n",
       "Agree                                                           0.424242  \n",
       "Disagree                                                        0.242424  \n",
       "I'm not operating a business                                    0.090909  \n",
       "Neither agree nor disagree                                      0.242424  "
      ]
     },
     "metadata": {},
     "output_type": "display_data"
    }
   ],
   "source": [
    "beta.compare_likert_VS_multiple(clean_df, demo_q, demo_groups, 'Q.15 As a business I would find the Cash flow position feature useful.',folder)"
   ]
  },
  {
   "cell_type": "markdown",
   "metadata": {
    "collapsed": false
   },
   "source": [
    "### If you are a sole trader, do you use your own name as your business name?"
   ]
  },
  {
   "cell_type": "code",
   "execution_count": 64,
   "metadata": {
    "collapsed": false,
    "scrolled": true
   },
   "outputs": [
    {
     "data": {
      "text/html": [
       "<div>\n",
       "<table border=\"1\" class=\"dataframe\">\n",
       "  <thead>\n",
       "    <tr style=\"text-align: right;\">\n",
       "      <th></th>\n",
       "      <th>Small Business (N)</th>\n",
       "      <th>Small Business (%)</th>\n",
       "      <th>Sole Trader (N)</th>\n",
       "      <th>Sole Trader (%)</th>\n",
       "      <th>Tax Professional (N)</th>\n",
       "      <th>Tax Professional (%)</th>\n",
       "    </tr>\n",
       "    <tr>\n",
       "      <th>Q.16 If you are a sole trader, do you use your own name as your business name?</th>\n",
       "      <th></th>\n",
       "      <th></th>\n",
       "      <th></th>\n",
       "      <th></th>\n",
       "      <th></th>\n",
       "      <th></th>\n",
       "    </tr>\n",
       "  </thead>\n",
       "  <tbody>\n",
       "    <tr>\n",
       "      <th>No</th>\n",
       "      <td>19</td>\n",
       "      <td>0.316667</td>\n",
       "      <td>23</td>\n",
       "      <td>0.433962</td>\n",
       "      <td>10</td>\n",
       "      <td>0.303030</td>\n",
       "    </tr>\n",
       "    <tr>\n",
       "      <th>Not applicable (I'm not a sole trader)</th>\n",
       "      <td>26</td>\n",
       "      <td>0.433333</td>\n",
       "      <td>1</td>\n",
       "      <td>0.018868</td>\n",
       "      <td>12</td>\n",
       "      <td>0.363636</td>\n",
       "    </tr>\n",
       "    <tr>\n",
       "      <th>Yes</th>\n",
       "      <td>15</td>\n",
       "      <td>0.250000</td>\n",
       "      <td>29</td>\n",
       "      <td>0.547170</td>\n",
       "      <td>11</td>\n",
       "      <td>0.333333</td>\n",
       "    </tr>\n",
       "  </tbody>\n",
       "</table>\n",
       "</div>"
      ],
      "text/plain": [
       "                                                    Small Business (N)  \\\n",
       "Q.16 If you are a sole trader, do you use your ...                       \n",
       "No                                                                  19   \n",
       "Not applicable (I'm not a sole trader)                              26   \n",
       "Yes                                                                 15   \n",
       "\n",
       "                                                    Small Business (%)  \\\n",
       "Q.16 If you are a sole trader, do you use your ...                       \n",
       "No                                                            0.316667   \n",
       "Not applicable (I'm not a sole trader)                        0.433333   \n",
       "Yes                                                           0.250000   \n",
       "\n",
       "                                                    Sole Trader (N)  \\\n",
       "Q.16 If you are a sole trader, do you use your ...                    \n",
       "No                                                               23   \n",
       "Not applicable (I'm not a sole trader)                            1   \n",
       "Yes                                                              29   \n",
       "\n",
       "                                                    Sole Trader (%)  \\\n",
       "Q.16 If you are a sole trader, do you use your ...                    \n",
       "No                                                         0.433962   \n",
       "Not applicable (I'm not a sole trader)                     0.018868   \n",
       "Yes                                                        0.547170   \n",
       "\n",
       "                                                    Tax Professional (N)  \\\n",
       "Q.16 If you are a sole trader, do you use your ...                         \n",
       "No                                                                    10   \n",
       "Not applicable (I'm not a sole trader)                                12   \n",
       "Yes                                                                   11   \n",
       "\n",
       "                                                    Tax Professional (%)  \n",
       "Q.16 If you are a sole trader, do you use your ...                        \n",
       "No                                                              0.303030  \n",
       "Not applicable (I'm not a sole trader)                          0.363636  \n",
       "Yes                                                             0.333333  "
      ]
     },
     "metadata": {},
     "output_type": "display_data"
    },
    {
     "data": {
      "image/png": "[encoded data removed]",
      "text/plain": [
       "<matplotlib.figure.Figure at 0x1130fa320>"
      ]
     },
     "metadata": {},
     "output_type": "display_data"
    }
   ],
   "source": [
    "beta.compare_multiple_VS_single(clean_df, demo_q, demo_groups, 'Q.16 If you are a sole trader, do you use your own name as your business name?', folder)"
   ]
  },
  {
   "cell_type": "markdown",
   "metadata": {
    "collapsed": true
   },
   "source": [
    "### Which age group do you belong to?"
   ]
  },
  {
   "cell_type": "code",
   "execution_count": 65,
   "metadata": {
    "collapsed": false
   },
   "outputs": [
    {
     "data": {
      "text/html": [
       "<div>\n",
       "<table border=\"1\" class=\"dataframe\">\n",
       "  <thead>\n",
       "    <tr style=\"text-align: right;\">\n",
       "      <th></th>\n",
       "      <th>Small Business (N)</th>\n",
       "      <th>Small Business (%)</th>\n",
       "      <th>Sole Trader (N)</th>\n",
       "      <th>Sole Trader (%)</th>\n",
       "      <th>Tax Professional (N)</th>\n",
       "      <th>Tax Professional (%)</th>\n",
       "    </tr>\n",
       "    <tr>\n",
       "      <th>Q.20 Which age group do you belong to?</th>\n",
       "      <th></th>\n",
       "      <th></th>\n",
       "      <th></th>\n",
       "      <th></th>\n",
       "      <th></th>\n",
       "      <th></th>\n",
       "    </tr>\n",
       "  </thead>\n",
       "  <tbody>\n",
       "    <tr>\n",
       "      <th>46-65</th>\n",
       "      <td>35</td>\n",
       "      <td>0.603448</td>\n",
       "      <td>29</td>\n",
       "      <td>0.557692</td>\n",
       "      <td>19</td>\n",
       "      <td>0.575758</td>\n",
       "    </tr>\n",
       "    <tr>\n",
       "      <th>26-45</th>\n",
       "      <td>18</td>\n",
       "      <td>0.310345</td>\n",
       "      <td>18</td>\n",
       "      <td>0.346154</td>\n",
       "      <td>10</td>\n",
       "      <td>0.303030</td>\n",
       "    </tr>\n",
       "    <tr>\n",
       "      <th>Older than 65</th>\n",
       "      <td>4</td>\n",
       "      <td>0.068966</td>\n",
       "      <td>3</td>\n",
       "      <td>0.057692</td>\n",
       "      <td>3</td>\n",
       "      <td>0.090909</td>\n",
       "    </tr>\n",
       "    <tr>\n",
       "      <th>18-25</th>\n",
       "      <td>1</td>\n",
       "      <td>0.017241</td>\n",
       "      <td>2</td>\n",
       "      <td>0.038462</td>\n",
       "      <td>1</td>\n",
       "      <td>0.030303</td>\n",
       "    </tr>\n",
       "  </tbody>\n",
       "</table>\n",
       "</div>"
      ],
      "text/plain": [
       "                                        Small Business (N)  \\\n",
       "Q.20 Which age group do you belong to?                       \n",
       "46-65                                                   35   \n",
       "26-45                                                   18   \n",
       "Older than 65                                            4   \n",
       "18-25                                                    1   \n",
       "\n",
       "                                        Small Business (%)  Sole Trader (N)  \\\n",
       "Q.20 Which age group do you belong to?                                        \n",
       "46-65                                             0.603448               29   \n",
       "26-45                                             0.310345               18   \n",
       "Older than 65                                     0.068966                3   \n",
       "18-25                                             0.017241                2   \n",
       "\n",
       "                                        Sole Trader (%)  Tax Professional (N)  \\\n",
       "Q.20 Which age group do you belong to?                                          \n",
       "46-65                                          0.557692                    19   \n",
       "26-45                                          0.346154                    10   \n",
       "Older than 65                                  0.057692                     3   \n",
       "18-25                                          0.038462                     1   \n",
       "\n",
       "                                        Tax Professional (%)  \n",
       "Q.20 Which age group do you belong to?                        \n",
       "46-65                                               0.575758  \n",
       "26-45                                               0.303030  \n",
       "Older than 65                                       0.090909  \n",
       "18-25                                               0.030303  "
      ]
     },
     "metadata": {},
     "output_type": "display_data"
    },
    {
     "data": {
      "image/png": "[encoded data removed]",
      "text/plain": [
       "<matplotlib.figure.Figure at 0x113101be0>"
      ]
     },
     "metadata": {},
     "output_type": "display_data"
    }
   ],
   "source": [
    "beta.compare_multiple_VS_single(clean_df, demo_q, demo_groups, 'Q.20 Which age group do you belong to?', folder)"
   ]
  },
  {
   "cell_type": "code",
   "execution_count": null,
   "metadata": {
    "collapsed": true
   },
   "outputs": [],
   "source": []
  },
  {
   "cell_type": "markdown",
   "metadata": {
    "collapsed": true
   },
   "source": [
    "### Fixing Confidence intervals on  stacked graphs - work in progress"
   ]
  },
  {
   "cell_type": "code",
   "execution_count": 82,
   "metadata": {
    "collapsed": false
   },
   "outputs": [
    {
     "name": "stdout",
     "output_type": "stream",
     "text": [
      "['Tax Professional (%)', 'Sole Trader (%)', 'Small Business (%)']\n"
     ]
    },
    {
     "data": {
      "text/html": [
       "<div>\n",
       "<table border=\"1\" class=\"dataframe\">\n",
       "  <thead>\n",
       "    <tr style=\"text-align: right;\">\n",
       "      <th></th>\n",
       "      <th>Small Business (N)</th>\n",
       "      <th>Small Business (%)</th>\n",
       "      <th>Sole Trader (N)</th>\n",
       "      <th>Sole Trader (%)</th>\n",
       "      <th>Tax Professional (N)</th>\n",
       "      <th>Tax Professional (%)</th>\n",
       "    </tr>\n",
       "    <tr>\n",
       "      <th>Task 1 - Onboarding</th>\n",
       "      <th></th>\n",
       "      <th></th>\n",
       "      <th></th>\n",
       "      <th></th>\n",
       "      <th></th>\n",
       "      <th></th>\n",
       "    </tr>\n",
       "  </thead>\n",
       "  <tbody>\n",
       "    <tr>\n",
       "      <th>success</th>\n",
       "      <td>47</td>\n",
       "      <td>0.783333</td>\n",
       "      <td>48</td>\n",
       "      <td>0.90566</td>\n",
       "      <td>24</td>\n",
       "      <td>0.727273</td>\n",
       "    </tr>\n",
       "    <tr>\n",
       "      <th>fail</th>\n",
       "      <td>13</td>\n",
       "      <td>0.216667</td>\n",
       "      <td>5</td>\n",
       "      <td>0.09434</td>\n",
       "      <td>9</td>\n",
       "      <td>0.272727</td>\n",
       "    </tr>\n",
       "  </tbody>\n",
       "</table>\n",
       "</div>"
      ],
      "text/plain": [
       "                     Small Business (N)  Small Business (%)  Sole Trader (N)  \\\n",
       "Task 1 - Onboarding                                                            \n",
       "success                              47            0.783333               48   \n",
       "fail                                 13            0.216667                5   \n",
       "\n",
       "                     Sole Trader (%)  Tax Professional (N)  \\\n",
       "Task 1 - Onboarding                                          \n",
       "success                      0.90566                    24   \n",
       "fail                         0.09434                     9   \n",
       "\n",
       "                     Tax Professional (%)  \n",
       "Task 1 - Onboarding                        \n",
       "success                          0.727273  \n",
       "fail                             0.272727  "
      ]
     },
     "metadata": {},
     "output_type": "display_data"
    },
    {
     "name": "stdout",
     "output_type": "stream",
     "text": [
      "          0         1         2\n",
      "0  0.108107  0.090962  0.150688\n",
      "1  0.108107  0.090962  0.150688\n",
      "2  0.108107  0.090962  0.150688\n"
     ]
    },
    {
     "data": {
      "image/png": "[encoded data removed]",
      "text/plain": [
       "<matplotlib.figure.Figure at 0x11341b278>"
      ]
     },
     "metadata": {},
     "output_type": "display_data"
    }
   ],
   "source": [
    "def compare_task_VS_multiple_CI(df, group_q, group_names, task, file_location):\n",
    "    \n",
    "    # Create dataframes of required groups and store in a dict. \n",
    "    answer_groups = {}\n",
    "    \n",
    "    for item in group_names:\n",
    "        answer_groups[item] = df[df[group_q].str.contains('(?i)'+item) == True]\n",
    "        answer_groups[item].name = item\n",
    "    \n",
    "    results = {}\n",
    "    \n",
    "    for item in answer_groups:\n",
    "        # Create a list with task value counts.\n",
    "        results[item] = []\n",
    "        results[item].append(pd.DataFrame(answer_groups[item][task].value_counts()))\n",
    "        results[item].append(pd.DataFrame(answer_groups[item][task].value_counts(normalize=True)))\n",
    "\n",
    "        results[item] = pd.concat(results[item], axis=1)\n",
    "        \n",
    "\n",
    "    # convert the flat list into dataframe columns \n",
    "    combined_results = pd.concat(results, axis=1) \n",
    "    \n",
    "    # Get column names and add 'N' or '%'\n",
    "    column_titles = []\n",
    "    for item in combined_results.columns.get_level_values(0):\n",
    "        column_titles.insert(0, item + ' (N)')\n",
    "        column_titles.insert(0, item + ' (%)')\n",
    "    \n",
    "    # remove duplicate column names from the list\n",
    "    column_titles2 = []\n",
    "    for i in column_titles:\n",
    "        if i not in column_titles2:\n",
    "            column_titles2.insert(0, i)\n",
    "    \n",
    "    graph_columns = []\n",
    "    for i in column_titles2:\n",
    "        if \"(N)\" not in i: \n",
    "            graph_columns.insert(0, i)\n",
    "    print(graph_columns)\n",
    "    \n",
    "    # Rename columns in the DataFrame.\n",
    "    combined_results.columns = column_titles2\n",
    "    combined_results.index.name = task\n",
    "\n",
    "      \n",
    "    display(combined_results)\n",
    "        \n",
    "    # CALCULATE CONFIDENCE INTERVALS\n",
    "    def adjust_n(N):\n",
    "        return N+(1.96**2)\n",
    "    # Adjust the proportion of successes, p\n",
    "    def adjust_p(p, N):\n",
    "        return (p+1.92)/(N+3.84)\n",
    "    \n",
    "    # List to store CI in\n",
    "    CIs = [] \n",
    "    for item in group_names:\n",
    "        group_N = len(answer_groups[item])\n",
    "        \n",
    "        Task_p = combined_results[item + ' (N)']['success']\n",
    "\n",
    "        # CI_95 = 1.96 * SQRT((adjusted_p * (1 - adjusted_p))/adjusted_n)\n",
    "        Task_CI = 1.96 * np.sqrt((adjust_p(Task_p, group_N) * (1 - adjust_p(Task_p, group_N)))/adjust_n(group_N))\n",
    "\n",
    "        # Save CI in list.\n",
    "        CIs.append([Task_CI,Task_CI,Task_CI])\n",
    "        \n",
    "        \n",
    "        # Print confidence intervals for reference.\n",
    "        #print('CONFIDENCE INTERVAL: ' ,item , Task_CI)\n",
    "    \n",
    "    \n",
    "    \n",
    "    errors = pd.DataFrame(np.array([[0.10810652411998979, 0.090961846898363299, 0.15068836273523245], \n",
    "                                    [0.10810652411998979, 0.090961846898363299, 0.15068836273523245], \n",
    "                                    [0.10810652411998979, 0.090961846898363299, 0.15068836273523245]]), \n",
    "                                    index=['success', 'fail', 'abandon'], \n",
    "                                    columns=['Small Business','Sole Trader', 'Tax Professional'])\n",
    "    print(errors)\n",
    "    \n",
    "    def grapher_stacked_CI(df, cols, title, location, cis):\n",
    "        plot_df = df[cols]\n",
    "        colours=['#9d9d9c','#074f5f','#42bac7']\n",
    "        ax = plot_df.plot(kind='bar', color=colours, edgecolor = \"none\", rot=0, yerr=cis)\n",
    "        ax.set_xticklabels(list(plot_df[cols].index))\n",
    "        #ax.set_ylim([0,1])\n",
    "        #ax.yaxis.set_major_formatter(FuncFormatter(lambda y, _: '{:.0%}'.format(y)))\n",
    "        ax.set_title(title)\n",
    "        plt.legend(bbox_to_anchor=(1.05, 1), loc=2, borderaxespad=0.)\n",
    "        plt.savefig(location+title+\".svg\")\n",
    "    \n",
    "    grapher_stacked_CI(combined_results, graph_columns, task, file_location, errors)\n",
    "\n",
    "\n",
    "compare_task_VS_multiple_CI(clean_df, demo_q, demo_groups, 'Task 1 - Onboarding', folder)                          "
   ]
  },
  {
   "cell_type": "code",
   "execution_count": null,
   "metadata": {
    "collapsed": true
   },
   "outputs": [],
   "source": []
  },
  {
   "cell_type": "code",
   "execution_count": null,
   "metadata": {
    "collapsed": true
   },
   "outputs": [],
   "source": []
  },
  {
   "cell_type": "code",
   "execution_count": null,
   "metadata": {
    "collapsed": true
   },
   "outputs": [],
   "source": []
  }
 ],
 "metadata": {
  "anaconda-cloud": {},
  "kernelspec": {
   "display_name": "Python [conda root]",
   "language": "python",
   "name": "conda-root-py"
  },
  "language_info": {
   "codemirror_mode": {
    "name": "ipython",
    "version": 3
   },
   "file_extension": ".py",
   "mimetype": "text/x-python",
   "name": "python",
   "nbconvert_exporter": "python",
   "pygments_lexer": "ipython3",
   "version": "3.5.2"
  }
 },
 "nbformat": 4,
 "nbformat_minor": 1
}
