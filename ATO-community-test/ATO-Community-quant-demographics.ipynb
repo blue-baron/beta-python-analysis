{
 "cells": [
  {
   "cell_type": "markdown",
   "metadata": {},
   "source": [
    "# ATO Community Quantitative Analysis - DEMOGRAPHIC BREAKDOWN"
   ]
  },
  {
   "cell_type": "markdown",
   "metadata": {},
   "source": [
    "## Import packages"
   ]
  },
  {
   "cell_type": "code",
   "execution_count": 1,
   "metadata": {
    "collapsed": true
   },
   "outputs": [],
   "source": [
    "import pandas as pd\n",
    "from IPython.display import display, HTML\n",
    "import seaborn as sns\n",
    "\n",
    "import numpy as np\n",
    "import math\n",
    "\n",
    "%matplotlib inline\n",
    "import matplotlib.pyplot as plt\n",
    "from matplotlib.ticker import FuncFormatter"
   ]
  },
  {
   "cell_type": "markdown",
   "metadata": {},
   "source": [
    "## Import Beta Loop11 script "
   ]
  },
  {
   "cell_type": "code",
   "execution_count": 2,
   "metadata": {
    "collapsed": true
   },
   "outputs": [],
   "source": [
    "import loop11_functions as beta"
   ]
  },
  {
   "cell_type": "code",
   "execution_count": 3,
   "metadata": {
    "collapsed": true
   },
   "outputs": [],
   "source": [
    "%run loop11_functions.py"
   ]
  },
  {
   "cell_type": "markdown",
   "metadata": {},
   "source": [
    "## Import data"
   ]
  },
  {
   "cell_type": "code",
   "execution_count": 4,
   "metadata": {
    "collapsed": false
   },
   "outputs": [
    {
     "data": {
      "text/html": [
       "<div>\n",
       "<table border=\"1\" class=\"dataframe\">\n",
       "  <thead>\n",
       "    <tr style=\"text-align: right;\">\n",
       "      <th></th>\n",
       "      <th>Participant No.</th>\n",
       "      <th>CustomID</th>\n",
       "      <th>IP Address</th>\n",
       "      <th>Date Started</th>\n",
       "      <th>Date Completed</th>\n",
       "      <th>User Agent</th>\n",
       "      <th>Total Time Spent</th>\n",
       "      <th>Avg Time Taken</th>\n",
       "      <th>Avg Page Views</th>\n",
       "      <th>Task. How to use this panel - Completion</th>\n",
       "      <th>...</th>\n",
       "      <th>* \"I would consider ATO Community a reliable source of information.\"</th>\n",
       "      <th>* How would you expect to hear about ATO Community?</th>\n",
       "      <th>* How would you expect to hear about ATO Community? - Other, please specify</th>\n",
       "      <th>* \"I would contact the ATO after using ATO Community to make sure the information I found is correct.\"</th>\n",
       "      <th>* What three words describe your experience today with ATO Community?</th>\n",
       "      <th>Do you have any suggestions on how we can improve ATO Community?</th>\n",
       "      <th>* Which of the following best describes your role? (Select all that apply)</th>\n",
       "      <th>* Which of the following best describes your role? - Other, please specify</th>\n",
       "      <th>* Are you an ATO employee?</th>\n",
       "      <th>Which age group do you belong to?</th>\n",
       "    </tr>\n",
       "  </thead>\n",
       "  <tbody>\n",
       "    <tr>\n",
       "      <th>0</th>\n",
       "      <td>Participant 48</td>\n",
       "      <td>NaN</td>\n",
       "      <td>203.173.10.21</td>\n",
       "      <td>05/25/17 11:40</td>\n",
       "      <td>05/25/17 11:44</td>\n",
       "      <td>Mozilla/5.0 (Windows NT 6.3; WOW64; rv:53.0) G...</td>\n",
       "      <td>223</td>\n",
       "      <td>20.5</td>\n",
       "      <td>1.5</td>\n",
       "      <td>success</td>\n",
       "      <td>...</td>\n",
       "      <td>Neither agree no disagree</td>\n",
       "      <td>ATO Social media, Email from ATO, Television, ...</td>\n",
       "      <td>NaN</td>\n",
       "      <td>Strongly agree</td>\n",
       "      <td>informative, precise and clear</td>\n",
       "      <td>NaN</td>\n",
       "      <td>Small business</td>\n",
       "      <td>NaN</td>\n",
       "      <td>No</td>\n",
       "      <td>Older than 65</td>\n",
       "    </tr>\n",
       "    <tr>\n",
       "      <th>1</th>\n",
       "      <td>Participant 51</td>\n",
       "      <td>NaN</td>\n",
       "      <td>120.147.129.202</td>\n",
       "      <td>05/25/17 12:17</td>\n",
       "      <td>05/25/17 12:25</td>\n",
       "      <td>Mozilla/5.0 (iPad; CPU OS 9_3_5 like Mac OS X)...</td>\n",
       "      <td>489</td>\n",
       "      <td>54.5</td>\n",
       "      <td>1.5</td>\n",
       "      <td>success</td>\n",
       "      <td>...</td>\n",
       "      <td>Neither agree no disagree</td>\n",
       "      <td>Email from ATO</td>\n",
       "      <td>NaN</td>\n",
       "      <td>Agree</td>\n",
       "      <td>Not necessarily reliable</td>\n",
       "      <td>NaN</td>\n",
       "      <td>Tax professional</td>\n",
       "      <td>NaN</td>\n",
       "      <td>No</td>\n",
       "      <td>Older than 65</td>\n",
       "    </tr>\n",
       "    <tr>\n",
       "      <th>2</th>\n",
       "      <td>Participant 53</td>\n",
       "      <td>NaN</td>\n",
       "      <td>203.55.28.231</td>\n",
       "      <td>05/25/17 12:23</td>\n",
       "      <td>05/25/17 12:29</td>\n",
       "      <td>Mozilla/5.0 (Windows NT 6.1; WOW64; rv:49.0) G...</td>\n",
       "      <td>351</td>\n",
       "      <td>39.0</td>\n",
       "      <td>1.5</td>\n",
       "      <td>success</td>\n",
       "      <td>...</td>\n",
       "      <td>Agree</td>\n",
       "      <td>ATO Social media, Email from ATO, ATO website</td>\n",
       "      <td>NaN</td>\n",
       "      <td>Agree</td>\n",
       "      <td>nice, good, thanks</td>\n",
       "      <td>Looks nice, I like how its setup right now, ve...</td>\n",
       "      <td>Individual</td>\n",
       "      <td>NaN</td>\n",
       "      <td>No</td>\n",
       "      <td>26-35</td>\n",
       "    </tr>\n",
       "    <tr>\n",
       "      <th>3</th>\n",
       "      <td>Participant 54</td>\n",
       "      <td>NaN</td>\n",
       "      <td>202.20.30.89</td>\n",
       "      <td>05/25/17 12:27</td>\n",
       "      <td>05/25/17 12:31</td>\n",
       "      <td>Mozilla/5.0 (Macintosh; Intel Mac OS X 10_12_3...</td>\n",
       "      <td>254</td>\n",
       "      <td>52.5</td>\n",
       "      <td>2.0</td>\n",
       "      <td>success</td>\n",
       "      <td>...</td>\n",
       "      <td>Neither agree no disagree</td>\n",
       "      <td>ATO website, Small Business Newsroom</td>\n",
       "      <td>NaN</td>\n",
       "      <td>Neither agree nor disagree</td>\n",
       "      <td>Looks good</td>\n",
       "      <td>NaN</td>\n",
       "      <td>Small business</td>\n",
       "      <td>NaN</td>\n",
       "      <td>No</td>\n",
       "      <td>46-65</td>\n",
       "    </tr>\n",
       "    <tr>\n",
       "      <th>4</th>\n",
       "      <td>Participant 55</td>\n",
       "      <td>NaN</td>\n",
       "      <td>150.101.255.43</td>\n",
       "      <td>05/25/17 12:30</td>\n",
       "      <td>05/25/17 12:35</td>\n",
       "      <td>Mozilla/5.0 (Windows NT 6.1; Win64; x64) Apple...</td>\n",
       "      <td>265</td>\n",
       "      <td>54.0</td>\n",
       "      <td>1.5</td>\n",
       "      <td>success</td>\n",
       "      <td>...</td>\n",
       "      <td>Agree</td>\n",
       "      <td>ATO website</td>\n",
       "      <td>NaN</td>\n",
       "      <td>Disagree</td>\n",
       "      <td>Easy to use</td>\n",
       "      <td>NaN</td>\n",
       "      <td>Tax professional</td>\n",
       "      <td>NaN</td>\n",
       "      <td>No</td>\n",
       "      <td>46-65</td>\n",
       "    </tr>\n",
       "  </tbody>\n",
       "</table>\n",
       "<p>5 rows × 32 columns</p>\n",
       "</div>"
      ],
      "text/plain": [
       "  Participant No.  CustomID       IP Address    Date Started  Date Completed  \\\n",
       "0  Participant 48       NaN    203.173.10.21  05/25/17 11:40  05/25/17 11:44   \n",
       "1  Participant 51       NaN  120.147.129.202  05/25/17 12:17  05/25/17 12:25   \n",
       "2  Participant 53       NaN    203.55.28.231  05/25/17 12:23  05/25/17 12:29   \n",
       "3  Participant 54       NaN     202.20.30.89  05/25/17 12:27  05/25/17 12:31   \n",
       "4  Participant 55       NaN   150.101.255.43  05/25/17 12:30  05/25/17 12:35   \n",
       "\n",
       "                                          User Agent  Total Time Spent  \\\n",
       "0  Mozilla/5.0 (Windows NT 6.3; WOW64; rv:53.0) G...               223   \n",
       "1  Mozilla/5.0 (iPad; CPU OS 9_3_5 like Mac OS X)...               489   \n",
       "2  Mozilla/5.0 (Windows NT 6.1; WOW64; rv:49.0) G...               351   \n",
       "3  Mozilla/5.0 (Macintosh; Intel Mac OS X 10_12_3...               254   \n",
       "4  Mozilla/5.0 (Windows NT 6.1; Win64; x64) Apple...               265   \n",
       "\n",
       "   Avg Time Taken  Avg Page Views Task. How to use this panel - Completion  \\\n",
       "0            20.5             1.5                                  success   \n",
       "1            54.5             1.5                                  success   \n",
       "2            39.0             1.5                                  success   \n",
       "3            52.5             2.0                                  success   \n",
       "4            54.0             1.5                                  success   \n",
       "\n",
       "                 ...                 \\\n",
       "0                ...                  \n",
       "1                ...                  \n",
       "2                ...                  \n",
       "3                ...                  \n",
       "4                ...                  \n",
       "\n",
       "   * \"I would consider ATO Community a reliable source of information.\"  \\\n",
       "0                          Neither agree no disagree                      \n",
       "1                          Neither agree no disagree                      \n",
       "2                                              Agree                      \n",
       "3                          Neither agree no disagree                      \n",
       "4                                              Agree                      \n",
       "\n",
       "   * How would you expect to hear about ATO Community?  \\\n",
       "0  ATO Social media, Email from ATO, Television, ...     \n",
       "1                                     Email from ATO     \n",
       "2      ATO Social media, Email from ATO, ATO website     \n",
       "3               ATO website, Small Business Newsroom     \n",
       "4                                        ATO website     \n",
       "\n",
       "  * How would you expect to hear about ATO Community? - Other, please specify  \\\n",
       "0                                                NaN                            \n",
       "1                                                NaN                            \n",
       "2                                                NaN                            \n",
       "3                                                NaN                            \n",
       "4                                                NaN                            \n",
       "\n",
       "   * \"I would contact the ATO after using ATO Community to make sure the information I found is correct.\"  \\\n",
       "0                                     Strongly agree                                                        \n",
       "1                                              Agree                                                        \n",
       "2                                              Agree                                                        \n",
       "3                         Neither agree nor disagree                                                        \n",
       "4                                           Disagree                                                        \n",
       "\n",
       "   * What three words describe your experience today with ATO Community?  \\\n",
       "0                     informative, precise and clear                       \n",
       "1                           Not necessarily reliable                       \n",
       "2                                 nice, good, thanks                       \n",
       "3                                         Looks good                       \n",
       "4                                        Easy to use                       \n",
       "\n",
       "  Do you have any suggestions on how we can improve ATO Community?  \\\n",
       "0                                                NaN                 \n",
       "1                                                NaN                 \n",
       "2  Looks nice, I like how its setup right now, ve...                 \n",
       "3                                                NaN                 \n",
       "4                                                NaN                 \n",
       "\n",
       "  * Which of the following best describes your role? (Select all that apply)  \\\n",
       "0                                     Small business                           \n",
       "1                                   Tax professional                           \n",
       "2                                         Individual                           \n",
       "3                                     Small business                           \n",
       "4                                   Tax professional                           \n",
       "\n",
       "  * Which of the following best describes your role? - Other, please specify  \\\n",
       "0                                                NaN                           \n",
       "1                                                NaN                           \n",
       "2                                                NaN                           \n",
       "3                                                NaN                           \n",
       "4                                                NaN                           \n",
       "\n",
       "  * Are you an ATO employee? Which age group do you belong to?  \n",
       "0                         No                     Older than 65  \n",
       "1                         No                     Older than 65  \n",
       "2                         No                             26-35  \n",
       "3                         No                             46-65  \n",
       "4                         No                             46-65  \n",
       "\n",
       "[5 rows x 32 columns]"
      ]
     },
     "execution_count": 4,
     "metadata": {},
     "output_type": "execute_result"
    }
   ],
   "source": [
    "clean_df = pd.read_csv('ato-community_full_clean.csv')\n",
    "clean_df.head()"
   ]
  },
  {
   "cell_type": "code",
   "execution_count": 5,
   "metadata": {
    "collapsed": false
   },
   "outputs": [
    {
     "data": {
      "text/plain": [
       "196"
      ]
     },
     "execution_count": 5,
     "metadata": {},
     "output_type": "execute_result"
    }
   ],
   "source": [
    "N = len(clean_df)\n",
    "N"
   ]
  },
  {
   "cell_type": "code",
   "execution_count": 6,
   "metadata": {
    "collapsed": true
   },
   "outputs": [],
   "source": [
    "# Delare variable to store folder file location\n",
    "folder = \"Graphs/demographic_graphs/\""
   ]
  },
  {
   "cell_type": "code",
   "execution_count": 7,
   "metadata": {
    "collapsed": false
   },
   "outputs": [
    {
     "data": {
      "text/plain": [
       "['Participant No.',\n",
       " 'CustomID',\n",
       " 'IP Address',\n",
       " 'Date Started',\n",
       " 'Date Completed',\n",
       " 'User Agent',\n",
       " 'Total Time Spent',\n",
       " 'Avg Time Taken',\n",
       " 'Avg Page Views',\n",
       " 'Task. How to use this panel - Completion',\n",
       " 'Task. How to use this panel - Page Views',\n",
       " 'Task. How to use this panel - Time Spent',\n",
       " 'Task 1 - ATO-certified answer - Completion',\n",
       " 'Task 1 - ATO-certified answer - Page Views',\n",
       " 'Task 1 - ATO-certified answer - Time Spent',\n",
       " '* How regularly do you use online forums?',\n",
       " '* How would you know if an answer is the official response?',\n",
       " '* \"I found it easy to find information to complete the task.\"',\n",
       " '* \"I would trust an \\'ATO certified\\' answer.\"',\n",
       " '* \"I would trust an answer from an ATO Community member.\"',\n",
       " '* How likely are you to use ATO Community in the future? (1 = least likely, 10 = most likely)',\n",
       " '* How likely are you to recommend ATO Community to others? (1 = least likely, 10 = most likely)',\n",
       " '* \"I would consider ATO Community a reliable source of information.\"',\n",
       " '* How would you expect to hear about ATO Community?',\n",
       " '* How would you expect to hear about ATO Community? - Other, please specify',\n",
       " '* \"I would contact the ATO after using ATO Community to make sure the information I found is correct.\"',\n",
       " '* What three words describe your experience today with ATO Community?',\n",
       " 'Do you have any suggestions on how we can improve ATO Community?',\n",
       " '* Which of the following best describes your role? (Select all that apply)',\n",
       " '* Which of the following best describes your role? - Other, please specify',\n",
       " '* Are you an ATO employee?',\n",
       " 'Which age group do you belong to?']"
      ]
     },
     "execution_count": 7,
     "metadata": {},
     "output_type": "execute_result"
    }
   ],
   "source": [
    "list(clean_df.columns.values) # For reference later when picking out data in specific column"
   ]
  },
  {
   "cell_type": "markdown",
   "metadata": {},
   "source": [
    "## Define demographic groups"
   ]
  },
  {
   "cell_type": "code",
   "execution_count": 8,
   "metadata": {
    "collapsed": false
   },
   "outputs": [
    {
     "name": "stdout",
     "output_type": "stream",
     "text": [
      "SAMPLE SIZE: 196\n",
      "NO. ANSWERS: 244\n"
     ]
    },
    {
     "data": {
      "text/html": [
       "<div>\n",
       "<table border=\"1\" class=\"dataframe\">\n",
       "  <thead>\n",
       "    <tr style=\"text-align: right;\">\n",
       "      <th></th>\n",
       "      <th>* Which of the following best describes your role? (Select all that apply) (N)</th>\n",
       "      <th>* Which of the following best describes your role? (Select all that apply) (%)</th>\n",
       "    </tr>\n",
       "  </thead>\n",
       "  <tbody>\n",
       "    <tr>\n",
       "      <th>nan-string</th>\n",
       "      <td>16</td>\n",
       "      <td>0.081633</td>\n",
       "    </tr>\n",
       "    <tr>\n",
       "      <th>Tax professional</th>\n",
       "      <td>96</td>\n",
       "      <td>0.489796</td>\n",
       "    </tr>\n",
       "    <tr>\n",
       "      <th>Sole trader/self-employed</th>\n",
       "      <td>25</td>\n",
       "      <td>0.127551</td>\n",
       "    </tr>\n",
       "    <tr>\n",
       "      <th>Small business</th>\n",
       "      <td>36</td>\n",
       "      <td>0.183673</td>\n",
       "    </tr>\n",
       "    <tr>\n",
       "      <th>Not-for-profit</th>\n",
       "      <td>10</td>\n",
       "      <td>0.051020</td>\n",
       "    </tr>\n",
       "    <tr>\n",
       "      <th>Large business</th>\n",
       "      <td>16</td>\n",
       "      <td>0.081633</td>\n",
       "    </tr>\n",
       "    <tr>\n",
       "      <th>Individual</th>\n",
       "      <td>45</td>\n",
       "      <td>0.229592</td>\n",
       "    </tr>\n",
       "  </tbody>\n",
       "</table>\n",
       "</div>"
      ],
      "text/plain": [
       "                           * Which of the following best describes your role? (Select all that apply) (N)  \\\n",
       "nan-string                                                                16                                \n",
       "Tax professional                                                          96                                \n",
       "Sole trader/self-employed                                                 25                                \n",
       "Small business                                                            36                                \n",
       "Not-for-profit                                                            10                                \n",
       "Large business                                                            16                                \n",
       "Individual                                                                45                                \n",
       "\n",
       "                           * Which of the following best describes your role? (Select all that apply) (%)  \n",
       "nan-string                                                          0.081633                               \n",
       "Tax professional                                                    0.489796                               \n",
       "Sole trader/self-employed                                           0.127551                               \n",
       "Small business                                                      0.183673                               \n",
       "Not-for-profit                                                      0.051020                               \n",
       "Large business                                                      0.081633                               \n",
       "Individual                                                          0.229592                               "
      ]
     },
     "metadata": {},
     "output_type": "display_data"
    },
    {
     "data": {
      "image/png": "[encoded data removed]",
      "text/plain": [
       "<matplotlib.figure.Figure at 0x114fecb00>"
      ]
     },
     "metadata": {},
     "output_type": "display_data"
    }
   ],
   "source": [
    "# Display all the groups and decide which ones are a significant size\n",
    "beta.multiple_answer(clean_df, ['* Which of the following best describes your role? (Select all that apply)'], grapher_horizontal, folder)"
   ]
  },
  {
   "cell_type": "markdown",
   "metadata": {},
   "source": [
    "### The tasks and questions will be broken down into Tax Professionals vs everyone else."
   ]
  },
  {
   "cell_type": "code",
   "execution_count": 9,
   "metadata": {
    "collapsed": false
   },
   "outputs": [],
   "source": [
    "demo_groups = ['Tax professional']\n",
    "demo_q = '* Which of the following best describes your role? (Select all that apply)'"
   ]
  },
  {
   "cell_type": "code",
   "execution_count": 10,
   "metadata": {
    "collapsed": false
   },
   "outputs": [
    {
     "name": "stdout",
     "output_type": "stream",
     "text": [
      "Tax professional sample size: 96\n",
      "General sample size: 100\n",
      "TOTAL: 196\n"
     ]
    }
   ],
   "source": [
    "demographic_groups = beta.pull_out_group(clean_df, demo_q, demo_groups)"
   ]
  },
  {
   "cell_type": "code",
   "execution_count": 11,
   "metadata": {
    "collapsed": false,
    "scrolled": true
   },
   "outputs": [
    {
     "name": "stdout",
     "output_type": "stream",
     "text": [
      "Tax professional sample size: 96\n",
      "General sample size: 100\n",
      "TOTAL: 196\n"
     ]
    },
    {
     "data": {
      "text/html": [
       "<div>\n",
       "<table border=\"1\" class=\"dataframe\">\n",
       "  <thead>\n",
       "    <tr style=\"text-align: right;\">\n",
       "      <th></th>\n",
       "      <th>Tax professional* How would you expect to hear about ATO Community? (N)</th>\n",
       "      <th>Tax professional* How would you expect to hear about ATO Community? (%)</th>\n",
       "      <th>General* How would you expect to hear about ATO Community? (N)</th>\n",
       "      <th>General* How would you expect to hear about ATO Community? (%)</th>\n",
       "    </tr>\n",
       "  </thead>\n",
       "  <tbody>\n",
       "    <tr>\n",
       "      <th>ATO Social media</th>\n",
       "      <td>29</td>\n",
       "      <td>13.744076</td>\n",
       "      <td>47</td>\n",
       "      <td>20.346320</td>\n",
       "    </tr>\n",
       "    <tr>\n",
       "      <th>ATO website</th>\n",
       "      <td>55</td>\n",
       "      <td>26.066351</td>\n",
       "      <td>67</td>\n",
       "      <td>29.004329</td>\n",
       "    </tr>\n",
       "    <tr>\n",
       "      <th>Email from ATO</th>\n",
       "      <td>79</td>\n",
       "      <td>37.440758</td>\n",
       "      <td>64</td>\n",
       "      <td>27.705628</td>\n",
       "    </tr>\n",
       "    <tr>\n",
       "      <th>Industry group</th>\n",
       "      <td>19</td>\n",
       "      <td>9.004739</td>\n",
       "      <td>24</td>\n",
       "      <td>10.389610</td>\n",
       "    </tr>\n",
       "    <tr>\n",
       "      <th>Small Business Newsroom</th>\n",
       "      <td>24</td>\n",
       "      <td>11.374408</td>\n",
       "      <td>20</td>\n",
       "      <td>8.658009</td>\n",
       "    </tr>\n",
       "    <tr>\n",
       "      <th>Television</th>\n",
       "      <td>5</td>\n",
       "      <td>2.369668</td>\n",
       "      <td>9</td>\n",
       "      <td>3.896104</td>\n",
       "    </tr>\n",
       "  </tbody>\n",
       "</table>\n",
       "</div>"
      ],
      "text/plain": [
       "                         Tax professional* How would you expect to hear about ATO Community? (N)  \\\n",
       "ATO Social media                                                        29                         \n",
       "ATO website                                                             55                         \n",
       "Email from ATO                                                          79                         \n",
       "Industry group                                                          19                         \n",
       "Small Business Newsroom                                                 24                         \n",
       "Television                                                               5                         \n",
       "\n",
       "                         Tax professional* How would you expect to hear about ATO Community? (%)  \\\n",
       "ATO Social media                                                 13.744076                         \n",
       "ATO website                                                      26.066351                         \n",
       "Email from ATO                                                   37.440758                         \n",
       "Industry group                                                    9.004739                         \n",
       "Small Business Newsroom                                          11.374408                         \n",
       "Television                                                        2.369668                         \n",
       "\n",
       "                         General* How would you expect to hear about ATO Community? (N)  \\\n",
       "ATO Social media                                                        47                \n",
       "ATO website                                                             67                \n",
       "Email from ATO                                                          64                \n",
       "Industry group                                                          24                \n",
       "Small Business Newsroom                                                 20                \n",
       "Television                                                               9                \n",
       "\n",
       "                         General* How would you expect to hear about ATO Community? (%)  \n",
       "ATO Social media                                                 20.346320               \n",
       "ATO website                                                      29.004329               \n",
       "Email from ATO                                                   27.705628               \n",
       "Industry group                                                   10.389610               \n",
       "Small Business Newsroom                                           8.658009               \n",
       "Television                                                        3.896104               "
      ]
     },
     "metadata": {},
     "output_type": "display_data"
    },
    {
     "data": {
      "image/png": "[encoded data removed]",
      "text/plain": [
       "<matplotlib.figure.Figure at 0x104a30320>"
      ]
     },
     "metadata": {},
     "output_type": "display_data"
    }
   ],
   "source": [
    "beta.COMPARE_multiple_answer_TWO_GROUPS(clean_df, demo_q, demo_groups, '* How would you expect to hear about ATO Community?', folder)"
   ]
  },
  {
   "cell_type": "markdown",
   "metadata": {},
   "source": [
    "## Tasks and questions"
   ]
  },
  {
   "cell_type": "markdown",
   "metadata": {},
   "source": [
    "### Task 1 - ATO-certified answer - Completion"
   ]
  },
  {
   "cell_type": "code",
   "execution_count": 12,
   "metadata": {
    "collapsed": false
   },
   "outputs": [
    {
     "name": "stdout",
     "output_type": "stream",
     "text": [
      "Tax professional sample size: 96\n",
      "General sample size: 100\n",
      "TOTAL: 196\n"
     ]
    },
    {
     "data": {
      "text/html": [
       "<div>\n",
       "<table border=\"1\" class=\"dataframe\">\n",
       "  <thead>\n",
       "    <tr style=\"text-align: right;\">\n",
       "      <th></th>\n",
       "      <th>General (N)</th>\n",
       "      <th>General (%)</th>\n",
       "      <th>Tax professional (N)</th>\n",
       "      <th>Tax professional (%)</th>\n",
       "    </tr>\n",
       "    <tr>\n",
       "      <th>Task 1 - ATO-certified answer - Completion</th>\n",
       "      <th></th>\n",
       "      <th></th>\n",
       "      <th></th>\n",
       "      <th></th>\n",
       "    </tr>\n",
       "  </thead>\n",
       "  <tbody>\n",
       "    <tr>\n",
       "      <th>fail</th>\n",
       "      <td>50</td>\n",
       "      <td>0.50</td>\n",
       "      <td>47</td>\n",
       "      <td>0.489583</td>\n",
       "    </tr>\n",
       "    <tr>\n",
       "      <th>success</th>\n",
       "      <td>47</td>\n",
       "      <td>0.47</td>\n",
       "      <td>43</td>\n",
       "      <td>0.447917</td>\n",
       "    </tr>\n",
       "    <tr>\n",
       "      <th>abandon</th>\n",
       "      <td>3</td>\n",
       "      <td>0.03</td>\n",
       "      <td>6</td>\n",
       "      <td>0.062500</td>\n",
       "    </tr>\n",
       "  </tbody>\n",
       "</table>\n",
       "</div>"
      ],
      "text/plain": [
       "                                            General (N)  General (%)  \\\n",
       "Task 1 - ATO-certified answer - Completion                             \n",
       "fail                                                 50         0.50   \n",
       "success                                              47         0.47   \n",
       "abandon                                               3         0.03   \n",
       "\n",
       "                                            Tax professional (N)  \\\n",
       "Task 1 - ATO-certified answer - Completion                         \n",
       "fail                                                          47   \n",
       "success                                                       43   \n",
       "abandon                                                        6   \n",
       "\n",
       "                                            Tax professional (%)  \n",
       "Task 1 - ATO-certified answer - Completion                        \n",
       "fail                                                    0.489583  \n",
       "success                                                 0.447917  \n",
       "abandon                                                 0.062500  "
      ]
     },
     "metadata": {},
     "output_type": "display_data"
    },
    {
     "name": "stdout",
     "output_type": "stream",
     "text": [
      "Confidence intervals: [0.097823440953587387, 0.09947670335809973]\n"
     ]
    },
    {
     "data": {
      "image/png": "[encoded data removed]",
      "text/plain": [
       "<matplotlib.figure.Figure at 0x114f6d208>"
      ]
     },
     "metadata": {},
     "output_type": "display_data"
    }
   ],
   "source": [
    "beta.COMPARE_task_TWO_GROUPS(clean_df, demo_q, demo_groups, 'Task 1 - ATO-certified answer - Completion', folder) "
   ]
  },
  {
   "cell_type": "markdown",
   "metadata": {},
   "source": [
    "### * How regularly do you use online forums?"
   ]
  },
  {
   "cell_type": "code",
   "execution_count": 13,
   "metadata": {
    "collapsed": false
   },
   "outputs": [
    {
     "name": "stdout",
     "output_type": "stream",
     "text": [
      "Tax professional sample size: 96\n",
      "General sample size: 100\n",
      "TOTAL: 196\n"
     ]
    },
    {
     "data": {
      "text/html": [
       "<div>\n",
       "<table border=\"1\" class=\"dataframe\">\n",
       "  <thead>\n",
       "    <tr style=\"text-align: right;\">\n",
       "      <th></th>\n",
       "      <th>General (N)</th>\n",
       "      <th>General (%)</th>\n",
       "      <th>Tax professional (N)</th>\n",
       "      <th>Tax professional (%)</th>\n",
       "    </tr>\n",
       "    <tr>\n",
       "      <th>* How regularly do you use online forums?</th>\n",
       "      <th></th>\n",
       "      <th></th>\n",
       "      <th></th>\n",
       "      <th></th>\n",
       "    </tr>\n",
       "  </thead>\n",
       "  <tbody>\n",
       "    <tr>\n",
       "      <th>Daily</th>\n",
       "      <td>15</td>\n",
       "      <td>15.0</td>\n",
       "      <td>16</td>\n",
       "      <td>16.666667</td>\n",
       "    </tr>\n",
       "    <tr>\n",
       "      <th>Monthly</th>\n",
       "      <td>26</td>\n",
       "      <td>26.0</td>\n",
       "      <td>29</td>\n",
       "      <td>30.208333</td>\n",
       "    </tr>\n",
       "    <tr>\n",
       "      <th>Never</th>\n",
       "      <td>15</td>\n",
       "      <td>15.0</td>\n",
       "      <td>25</td>\n",
       "      <td>26.041667</td>\n",
       "    </tr>\n",
       "    <tr>\n",
       "      <th>Weekly</th>\n",
       "      <td>31</td>\n",
       "      <td>31.0</td>\n",
       "      <td>19</td>\n",
       "      <td>19.791667</td>\n",
       "    </tr>\n",
       "    <tr>\n",
       "      <th>Yearly</th>\n",
       "      <td>13</td>\n",
       "      <td>13.0</td>\n",
       "      <td>7</td>\n",
       "      <td>7.291667</td>\n",
       "    </tr>\n",
       "  </tbody>\n",
       "</table>\n",
       "</div>"
      ],
      "text/plain": [
       "                                           General (N)  General (%)  \\\n",
       "* How regularly do you use online forums?                             \n",
       "Daily                                               15         15.0   \n",
       "Monthly                                             26         26.0   \n",
       "Never                                               15         15.0   \n",
       "Weekly                                              31         31.0   \n",
       "Yearly                                              13         13.0   \n",
       "\n",
       "                                           Tax professional (N)  \\\n",
       "* How regularly do you use online forums?                         \n",
       "Daily                                                        16   \n",
       "Monthly                                                      29   \n",
       "Never                                                        25   \n",
       "Weekly                                                       19   \n",
       "Yearly                                                        7   \n",
       "\n",
       "                                           Tax professional (%)  \n",
       "* How regularly do you use online forums?                        \n",
       "Daily                                                 16.666667  \n",
       "Monthly                                               30.208333  \n",
       "Never                                                 26.041667  \n",
       "Weekly                                                19.791667  \n",
       "Yearly                                                 7.291667  "
      ]
     },
     "metadata": {},
     "output_type": "display_data"
    },
    {
     "data": {
      "image/png": "[encoded data removed]",
      "text/plain": [
       "<matplotlib.figure.Figure at 0x1151f06d8>"
      ]
     },
     "metadata": {},
     "output_type": "display_data"
    }
   ],
   "source": [
    "beta.COMPARE_single_answer_TWO_GROUPS(clean_df, demo_q, demo_groups, '* How regularly do you use online forums?', beta.grapher_stacked_N, folder)"
   ]
  },
  {
   "cell_type": "markdown",
   "metadata": {},
   "source": [
    "### * I found it easy to find information to complete the task."
   ]
  },
  {
   "cell_type": "code",
   "execution_count": 14,
   "metadata": {
    "collapsed": false
   },
   "outputs": [
    {
     "name": "stdout",
     "output_type": "stream",
     "text": [
      "Tax professional sample size: 96\n",
      "General sample size: 100\n",
      "TOTAL: 196\n"
     ]
    },
    {
     "data": {
      "text/html": [
       "<div>\n",
       "<table border=\"1\" class=\"dataframe\">\n",
       "  <thead>\n",
       "    <tr style=\"text-align: right;\">\n",
       "      <th></th>\n",
       "      <th>Tax professional * \"I found it easy to find information to complete the task.\" (N)</th>\n",
       "      <th>Tax professional * \"I found it easy to find information to complete the task.\" (%)</th>\n",
       "      <th>General * \"I found it easy to find information to complete the task.\" (N)</th>\n",
       "      <th>General * \"I found it easy to find information to complete the task.\" (%)</th>\n",
       "    </tr>\n",
       "  </thead>\n",
       "  <tbody>\n",
       "    <tr>\n",
       "      <th>Agree</th>\n",
       "      <td>68</td>\n",
       "      <td>70.833333</td>\n",
       "      <td>73</td>\n",
       "      <td>73.737374</td>\n",
       "    </tr>\n",
       "    <tr>\n",
       "      <th>Neither agree nor disagree</th>\n",
       "      <td>16</td>\n",
       "      <td>16.666667</td>\n",
       "      <td>18</td>\n",
       "      <td>18.181818</td>\n",
       "    </tr>\n",
       "    <tr>\n",
       "      <th>Disagree</th>\n",
       "      <td>12</td>\n",
       "      <td>12.500000</td>\n",
       "      <td>8</td>\n",
       "      <td>8.080808</td>\n",
       "    </tr>\n",
       "  </tbody>\n",
       "</table>\n",
       "</div>"
      ],
      "text/plain": [
       "                            Tax professional * \"I found it easy to find information to complete the task.\" (N)  \\\n",
       "Agree                                                                      68                                    \n",
       "Neither agree nor disagree                                                 16                                    \n",
       "Disagree                                                                   12                                    \n",
       "\n",
       "                            Tax professional * \"I found it easy to find information to complete the task.\" (%)  \\\n",
       "Agree                                                               70.833333                                    \n",
       "Neither agree nor disagree                                          16.666667                                    \n",
       "Disagree                                                            12.500000                                    \n",
       "\n",
       "                            General * \"I found it easy to find information to complete the task.\" (N)  \\\n",
       "Agree                                                                      73                           \n",
       "Neither agree nor disagree                                                 18                           \n",
       "Disagree                                                                    8                           \n",
       "\n",
       "                            General * \"I found it easy to find information to complete the task.\" (%)  \n",
       "Agree                                                               73.737374                          \n",
       "Neither agree nor disagree                                          18.181818                          \n",
       "Disagree                                                             8.080808                          "
      ]
     },
     "metadata": {},
     "output_type": "display_data"
    },
    {
     "data": {
      "image/png": "[encoded data removed]",
      "text/plain": [
       "<matplotlib.figure.Figure at 0x114dea198>"
      ]
     },
     "metadata": {},
     "output_type": "display_data"
    }
   ],
   "source": [
    "beta.COMPARE_likert_TWO_GROUPS(clean_df, demo_q, demo_groups, '* \"I found it easy to find information to complete the task.\"', folder)"
   ]
  },
  {
   "cell_type": "markdown",
   "metadata": {},
   "source": [
    "### * I would trust an 'ATO certified' answer."
   ]
  },
  {
   "cell_type": "code",
   "execution_count": 15,
   "metadata": {
    "collapsed": false
   },
   "outputs": [
    {
     "name": "stdout",
     "output_type": "stream",
     "text": [
      "Tax professional sample size: 96\n",
      "General sample size: 100\n",
      "TOTAL: 196\n"
     ]
    },
    {
     "data": {
      "text/html": [
       "<div>\n",
       "<table border=\"1\" class=\"dataframe\">\n",
       "  <thead>\n",
       "    <tr style=\"text-align: right;\">\n",
       "      <th></th>\n",
       "      <th>Tax professional * \"I would trust an 'ATO certified' answer.\" (N)</th>\n",
       "      <th>Tax professional * \"I would trust an 'ATO certified' answer.\" (%)</th>\n",
       "      <th>General * \"I would trust an 'ATO certified' answer.\" (N)</th>\n",
       "      <th>General * \"I would trust an 'ATO certified' answer.\" (%)</th>\n",
       "    </tr>\n",
       "  </thead>\n",
       "  <tbody>\n",
       "    <tr>\n",
       "      <th>Agree</th>\n",
       "      <td>78</td>\n",
       "      <td>82.105263</td>\n",
       "      <td>88</td>\n",
       "      <td>88.0</td>\n",
       "    </tr>\n",
       "    <tr>\n",
       "      <th>Neither agree nor disagree</th>\n",
       "      <td>10</td>\n",
       "      <td>10.526316</td>\n",
       "      <td>8</td>\n",
       "      <td>8.0</td>\n",
       "    </tr>\n",
       "    <tr>\n",
       "      <th>Disagree</th>\n",
       "      <td>7</td>\n",
       "      <td>7.368421</td>\n",
       "      <td>4</td>\n",
       "      <td>4.0</td>\n",
       "    </tr>\n",
       "  </tbody>\n",
       "</table>\n",
       "</div>"
      ],
      "text/plain": [
       "                            Tax professional * \"I would trust an 'ATO certified' answer.\" (N)  \\\n",
       "Agree                                                                      78                   \n",
       "Neither agree nor disagree                                                 10                   \n",
       "Disagree                                                                    7                   \n",
       "\n",
       "                            Tax professional * \"I would trust an 'ATO certified' answer.\" (%)  \\\n",
       "Agree                                                               82.105263                   \n",
       "Neither agree nor disagree                                          10.526316                   \n",
       "Disagree                                                             7.368421                   \n",
       "\n",
       "                            General * \"I would trust an 'ATO certified' answer.\" (N)  \\\n",
       "Agree                                                                      88          \n",
       "Neither agree nor disagree                                                  8          \n",
       "Disagree                                                                    4          \n",
       "\n",
       "                            General * \"I would trust an 'ATO certified' answer.\" (%)  \n",
       "Agree                                                                    88.0         \n",
       "Neither agree nor disagree                                                8.0         \n",
       "Disagree                                                                  4.0         "
      ]
     },
     "metadata": {},
     "output_type": "display_data"
    },
    {
     "data": {
      "image/png": "[encoded data removed]",
      "text/plain": [
       "<matplotlib.figure.Figure at 0x117e23d68>"
      ]
     },
     "metadata": {},
     "output_type": "display_data"
    }
   ],
   "source": [
    "beta.COMPARE_likert_TWO_GROUPS(clean_df, demo_q, demo_groups, '* \"I would trust an \\'ATO certified\\' answer.\"', folder)"
   ]
  },
  {
   "cell_type": "markdown",
   "metadata": {},
   "source": [
    "### I would trust an answer from an ATO Community member."
   ]
  },
  {
   "cell_type": "code",
   "execution_count": 16,
   "metadata": {
    "collapsed": false
   },
   "outputs": [
    {
     "name": "stdout",
     "output_type": "stream",
     "text": [
      "Tax professional sample size: 96\n",
      "General sample size: 100\n",
      "TOTAL: 196\n"
     ]
    },
    {
     "data": {
      "text/html": [
       "<div>\n",
       "<table border=\"1\" class=\"dataframe\">\n",
       "  <thead>\n",
       "    <tr style=\"text-align: right;\">\n",
       "      <th></th>\n",
       "      <th>Tax professional * \"I would trust an answer from an ATO Community member.\" (N)</th>\n",
       "      <th>Tax professional * \"I would trust an answer from an ATO Community member.\" (%)</th>\n",
       "      <th>General * \"I would trust an answer from an ATO Community member.\" (N)</th>\n",
       "      <th>General * \"I would trust an answer from an ATO Community member.\" (%)</th>\n",
       "    </tr>\n",
       "  </thead>\n",
       "  <tbody>\n",
       "    <tr>\n",
       "      <th>Neither agree nor disagree</th>\n",
       "      <td>56</td>\n",
       "      <td>58.333333</td>\n",
       "      <td>53</td>\n",
       "      <td>53.0</td>\n",
       "    </tr>\n",
       "    <tr>\n",
       "      <th>Disagree</th>\n",
       "      <td>29</td>\n",
       "      <td>30.208333</td>\n",
       "      <td>35</td>\n",
       "      <td>35.0</td>\n",
       "    </tr>\n",
       "    <tr>\n",
       "      <th>Agree</th>\n",
       "      <td>11</td>\n",
       "      <td>11.458333</td>\n",
       "      <td>12</td>\n",
       "      <td>12.0</td>\n",
       "    </tr>\n",
       "  </tbody>\n",
       "</table>\n",
       "</div>"
      ],
      "text/plain": [
       "                            Tax professional * \"I would trust an answer from an ATO Community member.\" (N)  \\\n",
       "Neither agree nor disagree                                                 56                                \n",
       "Disagree                                                                   29                                \n",
       "Agree                                                                      11                                \n",
       "\n",
       "                            Tax professional * \"I would trust an answer from an ATO Community member.\" (%)  \\\n",
       "Neither agree nor disagree                                          58.333333                                \n",
       "Disagree                                                            30.208333                                \n",
       "Agree                                                               11.458333                                \n",
       "\n",
       "                            General * \"I would trust an answer from an ATO Community member.\" (N)  \\\n",
       "Neither agree nor disagree                                                 53                       \n",
       "Disagree                                                                   35                       \n",
       "Agree                                                                      12                       \n",
       "\n",
       "                            General * \"I would trust an answer from an ATO Community member.\" (%)  \n",
       "Neither agree nor disagree                                               53.0                      \n",
       "Disagree                                                                 35.0                      \n",
       "Agree                                                                    12.0                      "
      ]
     },
     "metadata": {},
     "output_type": "display_data"
    },
    {
     "data": {
      "image/png": "[encoded data removed]",
      "text/plain": [
       "<matplotlib.figure.Figure at 0x118111be0>"
      ]
     },
     "metadata": {},
     "output_type": "display_data"
    }
   ],
   "source": [
    "beta.COMPARE_likert_TWO_GROUPS(clean_df, demo_q, demo_groups, '* \"I would trust an answer from an ATO Community member.\"', folder)"
   ]
  },
  {
   "cell_type": "markdown",
   "metadata": {},
   "source": [
    "### How likely are you to use ATO Community in the future? (1 = least likely, 10 = most likely)"
   ]
  },
  {
   "cell_type": "code",
   "execution_count": 17,
   "metadata": {
    "collapsed": false
   },
   "outputs": [
    {
     "name": "stdout",
     "output_type": "stream",
     "text": [
      "Tax professional sample size: 96\n",
      "General sample size: 100\n",
      "TOTAL: 196\n"
     ]
    },
    {
     "data": {
      "text/html": [
       "<div>\n",
       "<table border=\"1\" class=\"dataframe\">\n",
       "  <thead>\n",
       "    <tr style=\"text-align: right;\">\n",
       "      <th></th>\n",
       "      <th>General (N)</th>\n",
       "      <th>General (%)</th>\n",
       "      <th>Tax professional (N)</th>\n",
       "      <th>Tax professional (%)</th>\n",
       "    </tr>\n",
       "    <tr>\n",
       "      <th>* How likely are you to use ATO Community in the future? (1 = least likely, 10 = most likely)</th>\n",
       "      <th></th>\n",
       "      <th></th>\n",
       "      <th></th>\n",
       "      <th></th>\n",
       "    </tr>\n",
       "  </thead>\n",
       "  <tbody>\n",
       "    <tr>\n",
       "      <th>1</th>\n",
       "      <td>2</td>\n",
       "      <td>2.0</td>\n",
       "      <td>4</td>\n",
       "      <td>4.166667</td>\n",
       "    </tr>\n",
       "    <tr>\n",
       "      <th>2</th>\n",
       "      <td>1</td>\n",
       "      <td>1.0</td>\n",
       "      <td>6</td>\n",
       "      <td>6.250000</td>\n",
       "    </tr>\n",
       "    <tr>\n",
       "      <th>3</th>\n",
       "      <td>2</td>\n",
       "      <td>2.0</td>\n",
       "      <td>6</td>\n",
       "      <td>6.250000</td>\n",
       "    </tr>\n",
       "    <tr>\n",
       "      <th>4</th>\n",
       "      <td>2</td>\n",
       "      <td>2.0</td>\n",
       "      <td>1</td>\n",
       "      <td>1.041667</td>\n",
       "    </tr>\n",
       "    <tr>\n",
       "      <th>5</th>\n",
       "      <td>21</td>\n",
       "      <td>21.0</td>\n",
       "      <td>8</td>\n",
       "      <td>8.333333</td>\n",
       "    </tr>\n",
       "    <tr>\n",
       "      <th>6</th>\n",
       "      <td>11</td>\n",
       "      <td>11.0</td>\n",
       "      <td>9</td>\n",
       "      <td>9.375000</td>\n",
       "    </tr>\n",
       "    <tr>\n",
       "      <th>7</th>\n",
       "      <td>14</td>\n",
       "      <td>14.0</td>\n",
       "      <td>19</td>\n",
       "      <td>19.791667</td>\n",
       "    </tr>\n",
       "    <tr>\n",
       "      <th>8</th>\n",
       "      <td>20</td>\n",
       "      <td>20.0</td>\n",
       "      <td>20</td>\n",
       "      <td>20.833333</td>\n",
       "    </tr>\n",
       "    <tr>\n",
       "      <th>9</th>\n",
       "      <td>13</td>\n",
       "      <td>13.0</td>\n",
       "      <td>12</td>\n",
       "      <td>12.500000</td>\n",
       "    </tr>\n",
       "    <tr>\n",
       "      <th>10</th>\n",
       "      <td>14</td>\n",
       "      <td>14.0</td>\n",
       "      <td>11</td>\n",
       "      <td>11.458333</td>\n",
       "    </tr>\n",
       "  </tbody>\n",
       "</table>\n",
       "</div>"
      ],
      "text/plain": [
       "                                                    General (N)  General (%)  \\\n",
       "* How likely are you to use ATO Community in th...                             \n",
       "1                                                             2          2.0   \n",
       "2                                                             1          1.0   \n",
       "3                                                             2          2.0   \n",
       "4                                                             2          2.0   \n",
       "5                                                            21         21.0   \n",
       "6                                                            11         11.0   \n",
       "7                                                            14         14.0   \n",
       "8                                                            20         20.0   \n",
       "9                                                            13         13.0   \n",
       "10                                                           14         14.0   \n",
       "\n",
       "                                                    Tax professional (N)  \\\n",
       "* How likely are you to use ATO Community in th...                         \n",
       "1                                                                      4   \n",
       "2                                                                      6   \n",
       "3                                                                      6   \n",
       "4                                                                      1   \n",
       "5                                                                      8   \n",
       "6                                                                      9   \n",
       "7                                                                     19   \n",
       "8                                                                     20   \n",
       "9                                                                     12   \n",
       "10                                                                    11   \n",
       "\n",
       "                                                    Tax professional (%)  \n",
       "* How likely are you to use ATO Community in th...                        \n",
       "1                                                               4.166667  \n",
       "2                                                               6.250000  \n",
       "3                                                               6.250000  \n",
       "4                                                               1.041667  \n",
       "5                                                               8.333333  \n",
       "6                                                               9.375000  \n",
       "7                                                              19.791667  \n",
       "8                                                              20.833333  \n",
       "9                                                              12.500000  \n",
       "10                                                             11.458333  "
      ]
     },
     "metadata": {},
     "output_type": "display_data"
    },
    {
     "data": {
      "image/png": "[encoded data removed]",
      "text/plain": [
       "<matplotlib.figure.Figure at 0x117fb3cc0>"
      ]
     },
     "metadata": {},
     "output_type": "display_data"
    }
   ],
   "source": [
    "beta.COMPARE_single_answer_TWO_GROUPS(clean_df, demo_q, demo_groups, '* How likely are you to use ATO Community in the future? (1 = least likely, 10 = most likely)', beta.grapher_stacked_N, folder)"
   ]
  },
  {
   "cell_type": "markdown",
   "metadata": {},
   "source": [
    "### How likely are you to recommend ATO Community to others? (1 = least likely, 10 = most likely)"
   ]
  },
  {
   "cell_type": "code",
   "execution_count": 18,
   "metadata": {
    "collapsed": false
   },
   "outputs": [
    {
     "name": "stdout",
     "output_type": "stream",
     "text": [
      "Tax professional sample size: 96\n",
      "General sample size: 100\n",
      "TOTAL: 196\n"
     ]
    },
    {
     "data": {
      "text/html": [
       "<div>\n",
       "<table border=\"1\" class=\"dataframe\">\n",
       "  <thead>\n",
       "    <tr style=\"text-align: right;\">\n",
       "      <th></th>\n",
       "      <th>General (N)</th>\n",
       "      <th>General (%)</th>\n",
       "      <th>Tax professional (N)</th>\n",
       "      <th>Tax professional (%)</th>\n",
       "    </tr>\n",
       "    <tr>\n",
       "      <th>* How likely are you to recommend ATO Community to others? (1 = least likely, 10 = most likely)</th>\n",
       "      <th></th>\n",
       "      <th></th>\n",
       "      <th></th>\n",
       "      <th></th>\n",
       "    </tr>\n",
       "  </thead>\n",
       "  <tbody>\n",
       "    <tr>\n",
       "      <th>1</th>\n",
       "      <td>2</td>\n",
       "      <td>2.0</td>\n",
       "      <td>8</td>\n",
       "      <td>8.333333</td>\n",
       "    </tr>\n",
       "    <tr>\n",
       "      <th>2</th>\n",
       "      <td>3</td>\n",
       "      <td>3.0</td>\n",
       "      <td>4</td>\n",
       "      <td>4.166667</td>\n",
       "    </tr>\n",
       "    <tr>\n",
       "      <th>3</th>\n",
       "      <td>4</td>\n",
       "      <td>4.0</td>\n",
       "      <td>5</td>\n",
       "      <td>5.208333</td>\n",
       "    </tr>\n",
       "    <tr>\n",
       "      <th>4</th>\n",
       "      <td>5</td>\n",
       "      <td>5.0</td>\n",
       "      <td>1</td>\n",
       "      <td>1.041667</td>\n",
       "    </tr>\n",
       "    <tr>\n",
       "      <th>5</th>\n",
       "      <td>20</td>\n",
       "      <td>20.0</td>\n",
       "      <td>9</td>\n",
       "      <td>9.375000</td>\n",
       "    </tr>\n",
       "    <tr>\n",
       "      <th>6</th>\n",
       "      <td>11</td>\n",
       "      <td>11.0</td>\n",
       "      <td>7</td>\n",
       "      <td>7.291667</td>\n",
       "    </tr>\n",
       "    <tr>\n",
       "      <th>7</th>\n",
       "      <td>16</td>\n",
       "      <td>16.0</td>\n",
       "      <td>20</td>\n",
       "      <td>20.833333</td>\n",
       "    </tr>\n",
       "    <tr>\n",
       "      <th>8</th>\n",
       "      <td>18</td>\n",
       "      <td>18.0</td>\n",
       "      <td>19</td>\n",
       "      <td>19.791667</td>\n",
       "    </tr>\n",
       "    <tr>\n",
       "      <th>9</th>\n",
       "      <td>11</td>\n",
       "      <td>11.0</td>\n",
       "      <td>12</td>\n",
       "      <td>12.500000</td>\n",
       "    </tr>\n",
       "    <tr>\n",
       "      <th>10</th>\n",
       "      <td>10</td>\n",
       "      <td>10.0</td>\n",
       "      <td>11</td>\n",
       "      <td>11.458333</td>\n",
       "    </tr>\n",
       "  </tbody>\n",
       "</table>\n",
       "</div>"
      ],
      "text/plain": [
       "                                                    General (N)  General (%)  \\\n",
       "* How likely are you to recommend ATO Community...                             \n",
       "1                                                             2          2.0   \n",
       "2                                                             3          3.0   \n",
       "3                                                             4          4.0   \n",
       "4                                                             5          5.0   \n",
       "5                                                            20         20.0   \n",
       "6                                                            11         11.0   \n",
       "7                                                            16         16.0   \n",
       "8                                                            18         18.0   \n",
       "9                                                            11         11.0   \n",
       "10                                                           10         10.0   \n",
       "\n",
       "                                                    Tax professional (N)  \\\n",
       "* How likely are you to recommend ATO Community...                         \n",
       "1                                                                      8   \n",
       "2                                                                      4   \n",
       "3                                                                      5   \n",
       "4                                                                      1   \n",
       "5                                                                      9   \n",
       "6                                                                      7   \n",
       "7                                                                     20   \n",
       "8                                                                     19   \n",
       "9                                                                     12   \n",
       "10                                                                    11   \n",
       "\n",
       "                                                    Tax professional (%)  \n",
       "* How likely are you to recommend ATO Community...                        \n",
       "1                                                               8.333333  \n",
       "2                                                               4.166667  \n",
       "3                                                               5.208333  \n",
       "4                                                               1.041667  \n",
       "5                                                               9.375000  \n",
       "6                                                               7.291667  \n",
       "7                                                              20.833333  \n",
       "8                                                              19.791667  \n",
       "9                                                              12.500000  \n",
       "10                                                             11.458333  "
      ]
     },
     "metadata": {},
     "output_type": "display_data"
    },
    {
     "data": {
      "image/png": "[encoded data removed]",
      "text/plain": [
       "<matplotlib.figure.Figure at 0x118573588>"
      ]
     },
     "metadata": {},
     "output_type": "display_data"
    }
   ],
   "source": [
    "beta.COMPARE_single_answer_TWO_GROUPS(clean_df, demo_q, demo_groups, '* How likely are you to recommend ATO Community to others? (1 = least likely, 10 = most likely)', beta.grapher_stacked_N, folder)"
   ]
  },
  {
   "cell_type": "markdown",
   "metadata": {},
   "source": [
    "### I would consider ATO Community a reliable source of information."
   ]
  },
  {
   "cell_type": "code",
   "execution_count": 19,
   "metadata": {
    "collapsed": false
   },
   "outputs": [
    {
     "name": "stdout",
     "output_type": "stream",
     "text": [
      "Tax professional sample size: 96\n",
      "General sample size: 100\n",
      "TOTAL: 196\n"
     ]
    },
    {
     "data": {
      "text/html": [
       "<div>\n",
       "<table border=\"1\" class=\"dataframe\">\n",
       "  <thead>\n",
       "    <tr style=\"text-align: right;\">\n",
       "      <th></th>\n",
       "      <th>Tax professional * \"I would consider ATO Community a reliable source of information.\" (N)</th>\n",
       "      <th>Tax professional * \"I would consider ATO Community a reliable source of information.\" (%)</th>\n",
       "      <th>General * \"I would consider ATO Community a reliable source of information.\" (N)</th>\n",
       "      <th>General * \"I would consider ATO Community a reliable source of information.\" (%)</th>\n",
       "    </tr>\n",
       "  </thead>\n",
       "  <tbody>\n",
       "    <tr>\n",
       "      <th>Agree</th>\n",
       "      <td>48</td>\n",
       "      <td>50.0</td>\n",
       "      <td>53</td>\n",
       "      <td>53.0</td>\n",
       "    </tr>\n",
       "    <tr>\n",
       "      <th>Neither agree no disagree</th>\n",
       "      <td>36</td>\n",
       "      <td>37.5</td>\n",
       "      <td>41</td>\n",
       "      <td>41.0</td>\n",
       "    </tr>\n",
       "    <tr>\n",
       "      <th>Disagree</th>\n",
       "      <td>12</td>\n",
       "      <td>12.5</td>\n",
       "      <td>6</td>\n",
       "      <td>6.0</td>\n",
       "    </tr>\n",
       "  </tbody>\n",
       "</table>\n",
       "</div>"
      ],
      "text/plain": [
       "                           Tax professional * \"I would consider ATO Community a reliable source of information.\" (N)  \\\n",
       "Agree                                                                     48                                           \n",
       "Neither agree no disagree                                                 36                                           \n",
       "Disagree                                                                  12                                           \n",
       "\n",
       "                           Tax professional * \"I would consider ATO Community a reliable source of information.\" (%)  \\\n",
       "Agree                                                                   50.0                                           \n",
       "Neither agree no disagree                                               37.5                                           \n",
       "Disagree                                                                12.5                                           \n",
       "\n",
       "                           General * \"I would consider ATO Community a reliable source of information.\" (N)  \\\n",
       "Agree                                                                     53                                  \n",
       "Neither agree no disagree                                                 41                                  \n",
       "Disagree                                                                   6                                  \n",
       "\n",
       "                           General * \"I would consider ATO Community a reliable source of information.\" (%)  \n",
       "Agree                                                                   53.0                                 \n",
       "Neither agree no disagree                                               41.0                                 \n",
       "Disagree                                                                 6.0                                 "
      ]
     },
     "metadata": {},
     "output_type": "display_data"
    },
    {
     "data": {
      "image/png": "[encoded data removed]",
      "text/plain": [
       "<matplotlib.figure.Figure at 0x1182a1780>"
      ]
     },
     "metadata": {},
     "output_type": "display_data"
    }
   ],
   "source": [
    "beta.COMPARE_likert_TWO_GROUPS(clean_df, demo_q, demo_groups, '* \"I would consider ATO Community a reliable source of information.\"', folder)"
   ]
  },
  {
   "cell_type": "markdown",
   "metadata": {},
   "source": [
    "### How would you expect to hear about ATO Community?"
   ]
  },
  {
   "cell_type": "code",
   "execution_count": 20,
   "metadata": {
    "collapsed": false
   },
   "outputs": [
    {
     "name": "stdout",
     "output_type": "stream",
     "text": [
      "Tax professional sample size: 96\n",
      "General sample size: 100\n",
      "TOTAL: 196\n"
     ]
    },
    {
     "data": {
      "text/html": [
       "<div>\n",
       "<table border=\"1\" class=\"dataframe\">\n",
       "  <thead>\n",
       "    <tr style=\"text-align: right;\">\n",
       "      <th></th>\n",
       "      <th>Tax professional* How would you expect to hear about ATO Community? (N)</th>\n",
       "      <th>Tax professional* How would you expect to hear about ATO Community? (%)</th>\n",
       "      <th>General* How would you expect to hear about ATO Community? (N)</th>\n",
       "      <th>General* How would you expect to hear about ATO Community? (%)</th>\n",
       "    </tr>\n",
       "  </thead>\n",
       "  <tbody>\n",
       "    <tr>\n",
       "      <th>ATO Social media</th>\n",
       "      <td>29</td>\n",
       "      <td>13.744076</td>\n",
       "      <td>47</td>\n",
       "      <td>20.346320</td>\n",
       "    </tr>\n",
       "    <tr>\n",
       "      <th>ATO website</th>\n",
       "      <td>55</td>\n",
       "      <td>26.066351</td>\n",
       "      <td>67</td>\n",
       "      <td>29.004329</td>\n",
       "    </tr>\n",
       "    <tr>\n",
       "      <th>Email from ATO</th>\n",
       "      <td>79</td>\n",
       "      <td>37.440758</td>\n",
       "      <td>64</td>\n",
       "      <td>27.705628</td>\n",
       "    </tr>\n",
       "    <tr>\n",
       "      <th>Industry group</th>\n",
       "      <td>19</td>\n",
       "      <td>9.004739</td>\n",
       "      <td>24</td>\n",
       "      <td>10.389610</td>\n",
       "    </tr>\n",
       "    <tr>\n",
       "      <th>Small Business Newsroom</th>\n",
       "      <td>24</td>\n",
       "      <td>11.374408</td>\n",
       "      <td>20</td>\n",
       "      <td>8.658009</td>\n",
       "    </tr>\n",
       "    <tr>\n",
       "      <th>Television</th>\n",
       "      <td>5</td>\n",
       "      <td>2.369668</td>\n",
       "      <td>9</td>\n",
       "      <td>3.896104</td>\n",
       "    </tr>\n",
       "  </tbody>\n",
       "</table>\n",
       "</div>"
      ],
      "text/plain": [
       "                         Tax professional* How would you expect to hear about ATO Community? (N)  \\\n",
       "ATO Social media                                                        29                         \n",
       "ATO website                                                             55                         \n",
       "Email from ATO                                                          79                         \n",
       "Industry group                                                          19                         \n",
       "Small Business Newsroom                                                 24                         \n",
       "Television                                                               5                         \n",
       "\n",
       "                         Tax professional* How would you expect to hear about ATO Community? (%)  \\\n",
       "ATO Social media                                                 13.744076                         \n",
       "ATO website                                                      26.066351                         \n",
       "Email from ATO                                                   37.440758                         \n",
       "Industry group                                                    9.004739                         \n",
       "Small Business Newsroom                                          11.374408                         \n",
       "Television                                                        2.369668                         \n",
       "\n",
       "                         General* How would you expect to hear about ATO Community? (N)  \\\n",
       "ATO Social media                                                        47                \n",
       "ATO website                                                             67                \n",
       "Email from ATO                                                          64                \n",
       "Industry group                                                          24                \n",
       "Small Business Newsroom                                                 20                \n",
       "Television                                                               9                \n",
       "\n",
       "                         General* How would you expect to hear about ATO Community? (%)  \n",
       "ATO Social media                                                 20.346320               \n",
       "ATO website                                                      29.004329               \n",
       "Email from ATO                                                   27.705628               \n",
       "Industry group                                                   10.389610               \n",
       "Small Business Newsroom                                           8.658009               \n",
       "Television                                                        3.896104               "
      ]
     },
     "metadata": {},
     "output_type": "display_data"
    },
    {
     "data": {
      "image/png": "[encoded data removed]",
      "text/plain": [
       "<matplotlib.figure.Figure at 0x114e721d0>"
      ]
     },
     "metadata": {},
     "output_type": "display_data"
    }
   ],
   "source": [
    "beta.COMPARE_multiple_answer_TWO_GROUPS(clean_df, demo_q, demo_groups, '* How would you expect to hear about ATO Community?', folder)"
   ]
  },
  {
   "cell_type": "markdown",
   "metadata": {},
   "source": [
    "### I would contact the ATO after using ATO Community to make sure the information I found is correct."
   ]
  },
  {
   "cell_type": "code",
   "execution_count": 21,
   "metadata": {
    "collapsed": false
   },
   "outputs": [
    {
     "name": "stdout",
     "output_type": "stream",
     "text": [
      "Tax professional sample size: 96\n",
      "General sample size: 100\n",
      "TOTAL: 196\n"
     ]
    },
    {
     "data": {
      "text/html": [
       "<div>\n",
       "<table border=\"1\" class=\"dataframe\">\n",
       "  <thead>\n",
       "    <tr style=\"text-align: right;\">\n",
       "      <th></th>\n",
       "      <th>Tax professional * \"I would contact the ATO after using ATO Community to make sure the information I found is correct.\" (N)</th>\n",
       "      <th>Tax professional * \"I would contact the ATO after using ATO Community to make sure the information I found is correct.\" (%)</th>\n",
       "      <th>General * \"I would contact the ATO after using ATO Community to make sure the information I found is correct.\" (N)</th>\n",
       "      <th>General * \"I would contact the ATO after using ATO Community to make sure the information I found is correct.\" (%)</th>\n",
       "    </tr>\n",
       "  </thead>\n",
       "  <tbody>\n",
       "    <tr>\n",
       "      <th>Agree</th>\n",
       "      <td>36</td>\n",
       "      <td>37.500000</td>\n",
       "      <td>38</td>\n",
       "      <td>38.0</td>\n",
       "    </tr>\n",
       "    <tr>\n",
       "      <th>Disagree</th>\n",
       "      <td>26</td>\n",
       "      <td>27.083333</td>\n",
       "      <td>35</td>\n",
       "      <td>35.0</td>\n",
       "    </tr>\n",
       "    <tr>\n",
       "      <th>Neither agree nor disagree</th>\n",
       "      <td>34</td>\n",
       "      <td>35.416667</td>\n",
       "      <td>27</td>\n",
       "      <td>27.0</td>\n",
       "    </tr>\n",
       "  </tbody>\n",
       "</table>\n",
       "</div>"
      ],
      "text/plain": [
       "                            Tax professional * \"I would contact the ATO after using ATO Community to make sure the information I found is correct.\" (N)  \\\n",
       "Agree                                                                      36                                                                             \n",
       "Disagree                                                                   26                                                                             \n",
       "Neither agree nor disagree                                                 34                                                                             \n",
       "\n",
       "                            Tax professional * \"I would contact the ATO after using ATO Community to make sure the information I found is correct.\" (%)  \\\n",
       "Agree                                                               37.500000                                                                             \n",
       "Disagree                                                            27.083333                                                                             \n",
       "Neither agree nor disagree                                          35.416667                                                                             \n",
       "\n",
       "                            General * \"I would contact the ATO after using ATO Community to make sure the information I found is correct.\" (N)  \\\n",
       "Agree                                                                      38                                                                    \n",
       "Disagree                                                                   35                                                                    \n",
       "Neither agree nor disagree                                                 27                                                                    \n",
       "\n",
       "                            General * \"I would contact the ATO after using ATO Community to make sure the information I found is correct.\" (%)  \n",
       "Agree                                                                    38.0                                                                   \n",
       "Disagree                                                                 35.0                                                                   \n",
       "Neither agree nor disagree                                               27.0                                                                   "
      ]
     },
     "metadata": {},
     "output_type": "display_data"
    },
    {
     "data": {
      "image/png": "[encoded data removed]",
      "text/plain": [
       "<matplotlib.figure.Figure at 0x114f87d30>"
      ]
     },
     "metadata": {},
     "output_type": "display_data"
    }
   ],
   "source": [
    "beta.COMPARE_likert_TWO_GROUPS(clean_df, demo_q, demo_groups, '* \"I would contact the ATO after using ATO Community to make sure the information I found is correct.\"', folder)"
   ]
  },
  {
   "cell_type": "code",
   "execution_count": null,
   "metadata": {
    "collapsed": true
   },
   "outputs": [],
   "source": []
  },
  {
   "cell_type": "code",
   "execution_count": null,
   "metadata": {
    "collapsed": true
   },
   "outputs": [],
   "source": []
  },
  {
   "cell_type": "code",
   "execution_count": null,
   "metadata": {
    "collapsed": true
   },
   "outputs": [],
   "source": []
  },
  {
   "cell_type": "code",
   "execution_count": null,
   "metadata": {
    "collapsed": true
   },
   "outputs": [],
   "source": []
  }
 ],
 "metadata": {
  "anaconda-cloud": {},
  "kernelspec": {
   "display_name": "Python [conda root]",
   "language": "python",
   "name": "conda-root-py"
  },
  "language_info": {
   "codemirror_mode": {
    "name": "ipython",
    "version": 3
   },
   "file_extension": ".py",
   "mimetype": "text/x-python",
   "name": "python",
   "nbconvert_exporter": "python",
   "pygments_lexer": "ipython3",
   "version": "3.5.2"
  }
 },
 "nbformat": 4,
 "nbformat_minor": 1
}
