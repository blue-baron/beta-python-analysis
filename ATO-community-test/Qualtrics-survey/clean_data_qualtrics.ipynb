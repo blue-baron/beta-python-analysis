{
 "cells": [
  {
   "cell_type": "markdown",
   "metadata": {},
   "source": [
    "#### Import packages."
   ]
  },
  {
   "cell_type": "code",
   "execution_count": 22,
   "metadata": {
    "collapsed": true
   },
   "outputs": [],
   "source": [
    "import pandas as pd\n",
    "from IPython.display import display, HTML"
   ]
  },
  {
   "cell_type": "raw",
   "metadata": {},
   "source": []
  },
  {
   "cell_type": "markdown",
   "metadata": {},
   "source": [
    "#### Import raw data csv from Qualtrics."
   ]
  },
  {
   "cell_type": "code",
   "execution_count": 23,
   "metadata": {
    "collapsed": false
   },
   "outputs": [
    {
     "data": {
      "text/html": [
       "<div>\n",
       "<table border=\"1\" class=\"dataframe\">\n",
       "  <thead>\n",
       "    <tr style=\"text-align: right;\">\n",
       "      <th></th>\n",
       "      <th>StartDate</th>\n",
       "      <th>EndDate</th>\n",
       "      <th>Status</th>\n",
       "      <th>IPAddress</th>\n",
       "      <th>Progress</th>\n",
       "      <th>Duration (in seconds)</th>\n",
       "      <th>Finished</th>\n",
       "      <th>RecordedDate</th>\n",
       "      <th>ResponseId</th>\n",
       "      <th>RecipientLastName</th>\n",
       "      <th>RecipientFirstName</th>\n",
       "      <th>RecipientEmail</th>\n",
       "      <th>ExternalReference</th>\n",
       "      <th>LocationLatitude</th>\n",
       "      <th>LocationLongitude</th>\n",
       "      <th>DistributionChannel</th>\n",
       "      <th>Q11_Browser</th>\n",
       "      <th>Q11_Version</th>\n",
       "      <th>Q11_Operating System</th>\n",
       "      <th>Q11_Resolution</th>\n",
       "      <th>Q9</th>\n",
       "      <th>Q1</th>\n",
       "      <th>Q1_5_TEXT</th>\n",
       "      <th>Q2</th>\n",
       "      <th>Q3</th>\n",
       "      <th>Q3_5_TEXT</th>\n",
       "      <th>Q4</th>\n",
       "      <th>Q4_5_TEXT</th>\n",
       "      <th>Q5</th>\n",
       "      <th>Q6</th>\n",
       "      <th>CurrentPageURL</th>\n",
       "      <th>Q3_5_TEXT - Topics</th>\n",
       "    </tr>\n",
       "  </thead>\n",
       "  <tbody>\n",
       "    <tr>\n",
       "      <th>0</th>\n",
       "      <td>Start Date</td>\n",
       "      <td>End Date</td>\n",
       "      <td>Response Type</td>\n",
       "      <td>IP Address</td>\n",
       "      <td>Progress</td>\n",
       "      <td>Duration (in seconds)</td>\n",
       "      <td>Finished</td>\n",
       "      <td>Recorded Date</td>\n",
       "      <td>Response ID</td>\n",
       "      <td>Recipient Last Name</td>\n",
       "      <td>Recipient First Name</td>\n",
       "      <td>Recipient Email</td>\n",
       "      <td>External Data Reference</td>\n",
       "      <td>Location Latitude</td>\n",
       "      <td>Location Longitude</td>\n",
       "      <td>Distribution Channel</td>\n",
       "      <td>Browser Meta Info - Browser</td>\n",
       "      <td>Browser Meta Info - Version</td>\n",
       "      <td>Browser Meta Info - Operating System</td>\n",
       "      <td>Browser Meta Info - Resolution</td>\n",
       "      <td>By agreeing below, I consent to participate in...</td>\n",
       "      <td>*What was the purpose of your visit to the ATO...</td>\n",
       "      <td>*What was the purpose of your visit to the ATO...</td>\n",
       "      <td>*Were you able to find what you were looking for?</td>\n",
       "      <td>*If your visit had not been successful, what w...</td>\n",
       "      <td>*If your visit had not been successful, what w...</td>\n",
       "      <td>*Since you didn't find what you were looking f...</td>\n",
       "      <td>*Since you didn't find what you were looking f...</td>\n",
       "      <td>*How would you rate your overall experience on...</td>\n",
       "      <td>Do you have any other feedback you want to share?</td>\n",
       "      <td>CurrentPageURL</td>\n",
       "      <td>Q3_5_TEXT - Topics</td>\n",
       "    </tr>\n",
       "    <tr>\n",
       "      <th>1</th>\n",
       "      <td>{\"ImportId\":\"startDate\"}</td>\n",
       "      <td>{\"ImportId\":\"endDate\"}</td>\n",
       "      <td>{\"ImportId\":\"status\"}</td>\n",
       "      <td>{\"ImportId\":\"ipAddress\"}</td>\n",
       "      <td>{\"ImportId\":\"progress\"}</td>\n",
       "      <td>{\"ImportId\":\"duration\"}</td>\n",
       "      <td>{\"ImportId\":\"finished\"}</td>\n",
       "      <td>{\"ImportId\":\"recordedDate\"}</td>\n",
       "      <td>{\"ImportId\":\"_recordId\"}</td>\n",
       "      <td>{\"ImportId\":\"recipientLastName\"}</td>\n",
       "      <td>{\"ImportId\":\"recipientFirstName\"}</td>\n",
       "      <td>{\"ImportId\":\"recipientEmail\"}</td>\n",
       "      <td>{\"ImportId\":\"externalDataReference\"}</td>\n",
       "      <td>{\"ImportId\":\"locationLatitude\"}</td>\n",
       "      <td>{\"ImportId\":\"locationLongitude\"}</td>\n",
       "      <td>{\"ImportId\":\"distributionChannel\"}</td>\n",
       "      <td>{\"ImportId\":\"QID11_BROWSER\"}</td>\n",
       "      <td>{\"ImportId\":\"QID11_VERSION\"}</td>\n",
       "      <td>{\"ImportId\":\"QID11_OS\"}</td>\n",
       "      <td>{\"ImportId\":\"QID11_RESOLUTION\"}</td>\n",
       "      <td>{\"ImportId\":\"QID12\"}</td>\n",
       "      <td>{\"ImportId\":\"QID1\"}</td>\n",
       "      <td>{\"ImportId\":\"QID1_5_TEXT\"}</td>\n",
       "      <td>{\"ImportId\":\"QID2\"}</td>\n",
       "      <td>{\"ImportId\":\"QID3\"}</td>\n",
       "      <td>{\"ImportId\":\"QID3_5_TEXT\"}</td>\n",
       "      <td>{\"ImportId\":\"QID4\"}</td>\n",
       "      <td>{\"ImportId\":\"QID4_5_TEXT\"}</td>\n",
       "      <td>{\"ImportId\":\"QID5\"}</td>\n",
       "      <td>{\"ImportId\":\"QID6_TEXT\"}</td>\n",
       "      <td>{\"ImportId\":\"CurrentPageURL\"}</td>\n",
       "      <td>{\"ImportId\":\"QID3_5_TEXT_20a11eb1019d44d5b6cc4...</td>\n",
       "    </tr>\n",
       "    <tr>\n",
       "      <th>2</th>\n",
       "      <td>2017-05-25 11:16:58</td>\n",
       "      <td>2017-05-25 11:19:44</td>\n",
       "      <td>IP Address</td>\n",
       "      <td>1.40.47.9</td>\n",
       "      <td>100</td>\n",
       "      <td>165</td>\n",
       "      <td>True</td>\n",
       "      <td>2017-05-25 11:19:45</td>\n",
       "      <td>R_2OQ4CUecqqZoPwR</td>\n",
       "      <td>NaN</td>\n",
       "      <td>NaN</td>\n",
       "      <td>NaN</td>\n",
       "      <td>NaN</td>\n",
       "      <td>-33.748199462891</td>\n",
       "      <td>150.89270019531</td>\n",
       "      <td>anonymous</td>\n",
       "      <td>Chrome</td>\n",
       "      <td>58.0.3029.110</td>\n",
       "      <td>Macintosh</td>\n",
       "      <td>2560x1440</td>\n",
       "      <td>I agree to participate in this survey and unde...</td>\n",
       "      <td>Other (Please specify)</td>\n",
       "      <td>I was asked to test the site for the ATO Beta ...</td>\n",
       "      <td>Yes</td>\n",
       "      <td>Phoned us for assistance</td>\n",
       "      <td>NaN</td>\n",
       "      <td>NaN</td>\n",
       "      <td>NaN</td>\n",
       "      <td>Satisfied</td>\n",
       "      <td>I notice you use Qualtrics as well as Lithium ...</td>\n",
       "      <td>NaN</td>\n",
       "      <td>NaN</td>\n",
       "    </tr>\n",
       "    <tr>\n",
       "      <th>3</th>\n",
       "      <td>2017-05-18 16:07:37</td>\n",
       "      <td>2017-05-18 16:08:36</td>\n",
       "      <td>IP Address</td>\n",
       "      <td>180.149.192.134</td>\n",
       "      <td>22</td>\n",
       "      <td>58</td>\n",
       "      <td>False</td>\n",
       "      <td>2017-05-25 16:08:40</td>\n",
       "      <td>R_3FKBphhfNLoydpc</td>\n",
       "      <td>NaN</td>\n",
       "      <td>NaN</td>\n",
       "      <td>NaN</td>\n",
       "      <td>NaN</td>\n",
       "      <td>NaN</td>\n",
       "      <td>NaN</td>\n",
       "      <td>anonymous</td>\n",
       "      <td>Firefox</td>\n",
       "      <td>50.0</td>\n",
       "      <td>Windows NT 6.1</td>\n",
       "      <td>1280x1024</td>\n",
       "      <td>NaN</td>\n",
       "      <td>NaN</td>\n",
       "      <td>NaN</td>\n",
       "      <td>NaN</td>\n",
       "      <td>NaN</td>\n",
       "      <td>NaN</td>\n",
       "      <td>NaN</td>\n",
       "      <td>NaN</td>\n",
       "      <td>NaN</td>\n",
       "      <td>NaN</td>\n",
       "      <td>NaN</td>\n",
       "      <td>NaN</td>\n",
       "    </tr>\n",
       "    <tr>\n",
       "      <th>4</th>\n",
       "      <td>2017-05-26 11:31:24</td>\n",
       "      <td>2017-05-26 11:37:39</td>\n",
       "      <td>IP Address</td>\n",
       "      <td>180.149.192.136</td>\n",
       "      <td>100</td>\n",
       "      <td>375</td>\n",
       "      <td>True</td>\n",
       "      <td>2017-05-26 11:37:39</td>\n",
       "      <td>R_cvjbPp2ymeTaJsV</td>\n",
       "      <td>NaN</td>\n",
       "      <td>NaN</td>\n",
       "      <td>NaN</td>\n",
       "      <td>NaN</td>\n",
       "      <td>-33.494003295898</td>\n",
       "      <td>143.21038818359</td>\n",
       "      <td>anonymous</td>\n",
       "      <td>MSIE</td>\n",
       "      <td>11.0</td>\n",
       "      <td>Windows NT 6.1</td>\n",
       "      <td>1280x1024</td>\n",
       "      <td>I agree to participate in this survey and unde...</td>\n",
       "      <td>To find out what ATO Community is</td>\n",
       "      <td>NaN</td>\n",
       "      <td>Yes</td>\n",
       "      <td>Phoned us for assistance</td>\n",
       "      <td>NaN</td>\n",
       "      <td>NaN</td>\n",
       "      <td>NaN</td>\n",
       "      <td>Ok</td>\n",
       "      <td>NaN</td>\n",
       "      <td>NaN</td>\n",
       "      <td>NaN</td>\n",
       "    </tr>\n",
       "  </tbody>\n",
       "</table>\n",
       "</div>"
      ],
      "text/plain": [
       "                  StartDate                 EndDate                 Status                 IPAddress                 Progress    Duration (in seconds)                 Finished                 RecordedDate                ResponseId                 RecipientLastName                 RecipientFirstName                 RecipientEmail                     ExternalReference                 LocationLatitude                 LocationLongitude                 DistributionChannel                   Q11_Browser                   Q11_Version                  Q11_Operating System                   Q11_Resolution                                                 Q9                                                 Q1                                          Q1_5_TEXT                                                 Q2                                                 Q3                                          Q3_5_TEXT                                                 Q4  \\\n",
       "0                Start Date                End Date          Response Type                IP Address                 Progress    Duration (in seconds)                 Finished                Recorded Date               Response ID               Recipient Last Name               Recipient First Name                Recipient Email               External Data Reference                Location Latitude                Location Longitude                Distribution Channel   Browser Meta Info - Browser   Browser Meta Info - Version  Browser Meta Info - Operating System   Browser Meta Info - Resolution  By agreeing below, I consent to participate in...  *What was the purpose of your visit to the ATO...  *What was the purpose of your visit to the ATO...  *Were you able to find what you were looking for?  *If your visit had not been successful, what w...  *If your visit had not been successful, what w...  *Since you didn't find what you were looking f...   \n",
       "1  {\"ImportId\":\"startDate\"}  {\"ImportId\":\"endDate\"}  {\"ImportId\":\"status\"}  {\"ImportId\":\"ipAddress\"}  {\"ImportId\":\"progress\"}  {\"ImportId\":\"duration\"}  {\"ImportId\":\"finished\"}  {\"ImportId\":\"recordedDate\"}  {\"ImportId\":\"_recordId\"}  {\"ImportId\":\"recipientLastName\"}  {\"ImportId\":\"recipientFirstName\"}  {\"ImportId\":\"recipientEmail\"}  {\"ImportId\":\"externalDataReference\"}  {\"ImportId\":\"locationLatitude\"}  {\"ImportId\":\"locationLongitude\"}  {\"ImportId\":\"distributionChannel\"}  {\"ImportId\":\"QID11_BROWSER\"}  {\"ImportId\":\"QID11_VERSION\"}               {\"ImportId\":\"QID11_OS\"}  {\"ImportId\":\"QID11_RESOLUTION\"}                               {\"ImportId\":\"QID12\"}                                {\"ImportId\":\"QID1\"}                         {\"ImportId\":\"QID1_5_TEXT\"}                                {\"ImportId\":\"QID2\"}                                {\"ImportId\":\"QID3\"}                         {\"ImportId\":\"QID3_5_TEXT\"}                                {\"ImportId\":\"QID4\"}   \n",
       "2       2017-05-25 11:16:58     2017-05-25 11:19:44             IP Address                 1.40.47.9                      100                      165                     True          2017-05-25 11:19:45         R_2OQ4CUecqqZoPwR                               NaN                                NaN                            NaN                                   NaN                 -33.748199462891                   150.89270019531                           anonymous                        Chrome                 58.0.3029.110                             Macintosh                        2560x1440  I agree to participate in this survey and unde...                             Other (Please specify)  I was asked to test the site for the ATO Beta ...                                                Yes                           Phoned us for assistance                                                NaN                                                NaN   \n",
       "3       2017-05-18 16:07:37     2017-05-18 16:08:36             IP Address           180.149.192.134                       22                       58                    False          2017-05-25 16:08:40         R_3FKBphhfNLoydpc                               NaN                                NaN                            NaN                                   NaN                              NaN                               NaN                           anonymous                       Firefox                          50.0                        Windows NT 6.1                        1280x1024                                                NaN                                                NaN                                                NaN                                                NaN                                                NaN                                                NaN                                                NaN   \n",
       "4       2017-05-26 11:31:24     2017-05-26 11:37:39             IP Address           180.149.192.136                      100                      375                     True          2017-05-26 11:37:39         R_cvjbPp2ymeTaJsV                               NaN                                NaN                            NaN                                   NaN                 -33.494003295898                   143.21038818359                           anonymous                          MSIE                          11.0                        Windows NT 6.1                        1280x1024  I agree to participate in this survey and unde...                  To find out what ATO Community is                                                NaN                                                Yes                           Phoned us for assistance                                                NaN                                                NaN   \n",
       "\n",
       "                                           Q4_5_TEXT                                                 Q5                                                 Q6                 CurrentPageURL                                 Q3_5_TEXT - Topics  \n",
       "0  *Since you didn't find what you were looking f...  *How would you rate your overall experience on...  Do you have any other feedback you want to share?                 CurrentPageURL                                 Q3_5_TEXT - Topics  \n",
       "1                         {\"ImportId\":\"QID4_5_TEXT\"}                                {\"ImportId\":\"QID5\"}                           {\"ImportId\":\"QID6_TEXT\"}  {\"ImportId\":\"CurrentPageURL\"}  {\"ImportId\":\"QID3_5_TEXT_20a11eb1019d44d5b6cc4...  \n",
       "2                                                NaN                                          Satisfied  I notice you use Qualtrics as well as Lithium ...                            NaN                                                NaN  \n",
       "3                                                NaN                                                NaN                                                NaN                            NaN                                                NaN  \n",
       "4                                                NaN                                                 Ok                                                NaN                            NaN                                                NaN  "
      ]
     },
     "metadata": {},
     "output_type": "display_data"
    }
   ],
   "source": [
    "# Create variable and create DataFrame from the raw data exported from testing tool.\n",
    "# Skip the top 3 lines \n",
    "raw_df = pd.read_csv('ATOCommunity-June 20.csv', encoding = 'latin1')\n",
    "display(raw_df.head())"
   ]
  },
  {
   "cell_type": "code",
   "execution_count": 24,
   "metadata": {
    "collapsed": false
   },
   "outputs": [
    {
     "data": {
      "text/plain": [
       "['StartDate',\n",
       " 'EndDate',\n",
       " 'Status',\n",
       " 'IPAddress',\n",
       " 'Progress',\n",
       " 'Duration (in seconds)',\n",
       " 'Finished',\n",
       " 'RecordedDate',\n",
       " 'ResponseId',\n",
       " 'RecipientLastName',\n",
       " 'RecipientFirstName',\n",
       " 'RecipientEmail',\n",
       " 'ExternalReference',\n",
       " 'LocationLatitude',\n",
       " 'LocationLongitude',\n",
       " 'DistributionChannel',\n",
       " 'Q11_Browser',\n",
       " 'Q11_Version',\n",
       " 'Q11_Operating System',\n",
       " 'Q11_Resolution',\n",
       " 'Q9',\n",
       " 'Q1',\n",
       " 'Q1_5_TEXT',\n",
       " 'Q2',\n",
       " 'Q3',\n",
       " 'Q3_5_TEXT',\n",
       " 'Q4',\n",
       " 'Q4_5_TEXT',\n",
       " 'Q5',\n",
       " 'Q6',\n",
       " 'CurrentPageURL',\n",
       " 'Q3_5_TEXT - Topics']"
      ]
     },
     "execution_count": 24,
     "metadata": {},
     "output_type": "execute_result"
    }
   ],
   "source": [
    "# List the DataFrame Column names.\n",
    "list(raw_df.columns.values)"
   ]
  },
  {
   "cell_type": "markdown",
   "metadata": {},
   "source": [
    "### Rename column names"
   ]
  },
  {
   "cell_type": "code",
   "execution_count": 25,
   "metadata": {
    "collapsed": false
   },
   "outputs": [
    {
     "data": {
      "text/plain": [
       "['StartDate',\n",
       " 'EndDate',\n",
       " 'Status',\n",
       " 'IPAddress',\n",
       " 'Progress',\n",
       " 'Duration (in seconds)',\n",
       " 'Finished',\n",
       " 'RecordedDate',\n",
       " 'ResponseId',\n",
       " 'RecipientLastName',\n",
       " 'RecipientFirstName',\n",
       " 'RecipientEmail',\n",
       " 'ExternalReference',\n",
       " 'LocationLatitude',\n",
       " 'LocationLongitude',\n",
       " 'DistributionChannel',\n",
       " 'Q11_Browser',\n",
       " 'Q11_Version',\n",
       " 'Q11_Operating System',\n",
       " 'Q11_Resolution',\n",
       " 'Q9',\n",
       " 'Q1',\n",
       " 'Q1_5_TEXT',\n",
       " 'Q2',\n",
       " 'Q3',\n",
       " 'Q3_5_TEXT',\n",
       " 'Q4',\n",
       " 'Q4_5_TEXT',\n",
       " 'Q5',\n",
       " 'Q6',\n",
       " 'CurrentPageURL',\n",
       " 'Q3_5_TEXT - Topics']"
      ]
     },
     "execution_count": 25,
     "metadata": {},
     "output_type": "execute_result"
    }
   ],
   "source": [
    "# Check revised column names\n",
    "list(raw_df.columns.values)"
   ]
  },
  {
   "cell_type": "markdown",
   "metadata": {},
   "source": [
    "#### Remove NaN values from open text field columns to avoid type errors."
   ]
  },
  {
   "cell_type": "raw",
   "metadata": {
    "collapsed": false
   },
   "source": [
    "# Variable for storing open text field column names in a LIST.\n",
    "# Note that col names must be unique or errors will occur down the track\n",
    "# Note. QUAL fields are not included here. We don't want nan-strings in the these fields. Very annoying!\n",
    "remove_nan_cols = ['* Which of the following best describes your role? (Select all that apply)']\n",
    "\n",
    "# Define function to remove NaN values from all necessary columns\n",
    "def remove_nan(dataframe, columns):\n",
    "    for item in columns:\n",
    "        dataframe[item] = dataframe[item].fillna('nan-string')\n",
    "        \n",
    "remove_nan(raw_df, [remove_nan_cols])\n",
    "raw_df"
   ]
  },
  {
   "cell_type": "markdown",
   "metadata": {},
   "source": [
    "#### Define function to check for testers identified in the open text questions."
   ]
  },
  {
   "cell_type": "code",
   "execution_count": 26,
   "metadata": {
    "collapsed": false
   },
   "outputs": [
    {
     "data": {
      "text/plain": [
       "['Q1_5_TEXT', 'Q3_5_TEXT', 'Q4_5_TEXT', 'Q6']"
      ]
     },
     "execution_count": 26,
     "metadata": {},
     "output_type": "execute_result"
    }
   ],
   "source": [
    "# Variable for storing open text field column names.\n",
    "# Note that col names must be unique or errors will occur down the track\n",
    "open_text_cols = ['Q1_5_TEXT', 'Q3_5_TEXT', 'Q4_5_TEXT', 'Q6']\n",
    "open_text_cols"
   ]
  },
  {
   "cell_type": "code",
   "execution_count": 27,
   "metadata": {
    "collapsed": false
   },
   "outputs": [],
   "source": [
    "#raw_df.head()"
   ]
  },
  {
   "cell_type": "code",
   "execution_count": 28,
   "metadata": {
    "collapsed": false
   },
   "outputs": [],
   "source": [
    "# Function to check for a partial string in the selected columns.\n",
    "# LDC 18/5/2017: Fixed to include all testers not just those found from the last col of open_text_columns\n",
    "def remove_testers(dataframe, fragment, columns):\n",
    "    for i, col in enumerate(columns):\n",
    "        temp = dataframe[dataframe[col].str.contains('(?i)'+fragment) == True]\n",
    "        if i == 0:\n",
    "            test_df = temp\n",
    "        else:\n",
    "            # Union merge the dataframes\n",
    "            test_df = pd.merge(test_df, temp, how='outer')\n",
    "       \n",
    "    return test_df\n",
    "\n",
    "testers_df = remove_testers(raw_df, 'test', open_text_cols)"
   ]
  },
  {
   "cell_type": "code",
   "execution_count": 29,
   "metadata": {
    "collapsed": false
   },
   "outputs": [
    {
     "data": {
      "text/html": [
       "<div>\n",
       "<table border=\"1\" class=\"dataframe\">\n",
       "  <thead>\n",
       "    <tr style=\"text-align: right;\">\n",
       "      <th></th>\n",
       "      <th>Q1_5_TEXT</th>\n",
       "      <th>Q3_5_TEXT</th>\n",
       "      <th>Q4_5_TEXT</th>\n",
       "      <th>Q6</th>\n",
       "    </tr>\n",
       "  </thead>\n",
       "  <tbody>\n",
       "    <tr>\n",
       "      <th>0</th>\n",
       "      <td>I was asked to test the site for the ATO Beta ...</td>\n",
       "      <td>NaN</td>\n",
       "      <td>NaN</td>\n",
       "      <td>I notice you use Qualtrics as well as Lithium ...</td>\n",
       "    </tr>\n",
       "    <tr>\n",
       "      <th>1</th>\n",
       "      <td>NaN</td>\n",
       "      <td>NaN</td>\n",
       "      <td>NaN</td>\n",
       "      <td>my question was about TFN and when I posted, '...</td>\n",
       "    </tr>\n",
       "  </tbody>\n",
       "</table>\n",
       "</div>"
      ],
      "text/plain": [
       "                                           Q1_5_TEXT Q3_5_TEXT Q4_5_TEXT                                                 Q6\n",
       "0  I was asked to test the site for the ATO Beta ...       NaN       NaN  I notice you use Qualtrics as well as Lithium ...\n",
       "1                                                NaN       NaN       NaN  my question was about TFN and when I posted, '..."
      ]
     },
     "execution_count": 29,
     "metadata": {},
     "output_type": "execute_result"
    }
   ],
   "source": [
    "# Print out the testers to check the comments are genuine tester comments.\n",
    "# Extend width so that to view all columns\n",
    "\n",
    "pd.set_option('display.max_columns', 500)\n",
    "pd.set_option('display.width', 1000)\n",
    "testers_df[open_text_cols]"
   ]
  },
  {
   "cell_type": "code",
   "execution_count": 30,
   "metadata": {
    "collapsed": false
   },
   "outputs": [
    {
     "data": {
      "text/plain": [
       "31"
      ]
     },
     "execution_count": 30,
     "metadata": {},
     "output_type": "execute_result"
    }
   ],
   "source": [
    "len(raw_df)"
   ]
  },
  {
   "cell_type": "code",
   "execution_count": 31,
   "metadata": {
    "collapsed": false
   },
   "outputs": [],
   "source": [
    "#raw_df.head()"
   ]
  },
  {
   "cell_type": "code",
   "execution_count": 32,
   "metadata": {
    "collapsed": true
   },
   "outputs": [],
   "source": [
    "# Export spreadsheet with ATO employees excluded.\n",
    "raw_df.to_csv('ato-community_qualtrics_clean.csv',',',index=False) # export to csv without the indices"
   ]
  },
  {
   "cell_type": "code",
   "execution_count": null,
   "metadata": {
    "collapsed": true
   },
   "outputs": [],
   "source": []
  }
 ],
 "metadata": {
  "anaconda-cloud": {},
  "kernelspec": {
   "display_name": "Python [conda root]",
   "language": "python",
   "name": "conda-root-py"
  },
  "language_info": {
   "codemirror_mode": {
    "name": "ipython",
    "version": 3
   },
   "file_extension": ".py",
   "mimetype": "text/x-python",
   "name": "python",
   "nbconvert_exporter": "python",
   "pygments_lexer": "ipython3",
   "version": "3.5.2"
  }
 },
 "nbformat": 4,
 "nbformat_minor": 1
}
