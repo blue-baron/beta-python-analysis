{
 "cells": [
  {
   "cell_type": "markdown",
   "metadata": {},
   "source": [
    "# ATO Community Quantitative Analysis"
   ]
  },
  {
   "cell_type": "markdown",
   "metadata": {},
   "source": [
    "## Import packages"
   ]
  },
  {
   "cell_type": "code",
   "execution_count": 23,
   "metadata": {
    "collapsed": true
   },
   "outputs": [],
   "source": [
    "import seaborn as sns\n",
    "import pandas as pd\n",
    "from IPython.display import display, HTML\n",
    "\n",
    "import numpy as np\n",
    "import math\n",
    "import matplotlib.pyplot as plt\n",
    "from matplotlib.ticker import FuncFormatter\n",
    "\n",
    "# for plotting purposes\n",
    "%matplotlib inline"
   ]
  },
  {
   "cell_type": "markdown",
   "metadata": {},
   "source": [
    "## Import Beta Loop11 Scripts"
   ]
  },
  {
   "cell_type": "code",
   "execution_count": 24,
   "metadata": {
    "collapsed": true
   },
   "outputs": [],
   "source": [
    "import loop11_functions as beta\n",
    "%run loop11_functions.py"
   ]
  },
  {
   "cell_type": "markdown",
   "metadata": {},
   "source": [
    "## Import data"
   ]
  },
  {
   "cell_type": "code",
   "execution_count": 25,
   "metadata": {
    "collapsed": false
   },
   "outputs": [
    {
     "data": {
      "text/html": [
       "<div>\n",
       "<table border=\"1\" class=\"dataframe\">\n",
       "  <thead>\n",
       "    <tr style=\"text-align: right;\">\n",
       "      <th></th>\n",
       "      <th>Participant No.</th>\n",
       "      <th>CustomID</th>\n",
       "      <th>IP Address</th>\n",
       "      <th>Date Started</th>\n",
       "      <th>Date Completed</th>\n",
       "      <th>User Agent</th>\n",
       "      <th>Total Time Spent</th>\n",
       "      <th>Avg Time Taken</th>\n",
       "      <th>Avg Page Views</th>\n",
       "      <th>Task. How to use this panel - Completion</th>\n",
       "      <th>...</th>\n",
       "      <th>* \"I would consider ATO Community a reliable source of information.\"</th>\n",
       "      <th>* How would you expect to hear about ATO Community?</th>\n",
       "      <th>* How would you expect to hear about ATO Community? - Other, please specify</th>\n",
       "      <th>* \"I would contact the ATO after using ATO Community to make sure the information I found is correct.\"</th>\n",
       "      <th>* What three words describe your experience today with ATO Community?</th>\n",
       "      <th>Do you have any suggestions on how we can improve ATO Community?</th>\n",
       "      <th>* Which of the following best describes your role? (Select all that apply)</th>\n",
       "      <th>* Which of the following best describes your role? - Other, please specify</th>\n",
       "      <th>* Are you an ATO employee?</th>\n",
       "      <th>Which age group do you belong to?</th>\n",
       "    </tr>\n",
       "  </thead>\n",
       "  <tbody>\n",
       "    <tr>\n",
       "      <th>0</th>\n",
       "      <td>Participant 48</td>\n",
       "      <td>NaN</td>\n",
       "      <td>203.173.10.21</td>\n",
       "      <td>05/25/17 11:40</td>\n",
       "      <td>05/25/17 11:44</td>\n",
       "      <td>Mozilla/5.0 (Windows NT 6.3; WOW64; rv:53.0) G...</td>\n",
       "      <td>223</td>\n",
       "      <td>20.5</td>\n",
       "      <td>1.5</td>\n",
       "      <td>success</td>\n",
       "      <td>...</td>\n",
       "      <td>Neither agree no disagree</td>\n",
       "      <td>ATO Social media, Email from ATO, Television, ...</td>\n",
       "      <td>NaN</td>\n",
       "      <td>Strongly agree</td>\n",
       "      <td>informative, precise and clear</td>\n",
       "      <td>NaN</td>\n",
       "      <td>Small business</td>\n",
       "      <td>NaN</td>\n",
       "      <td>No</td>\n",
       "      <td>Older than 65</td>\n",
       "    </tr>\n",
       "    <tr>\n",
       "      <th>1</th>\n",
       "      <td>Participant 51</td>\n",
       "      <td>NaN</td>\n",
       "      <td>120.147.129.202</td>\n",
       "      <td>05/25/17 12:17</td>\n",
       "      <td>05/25/17 12:25</td>\n",
       "      <td>Mozilla/5.0 (iPad; CPU OS 9_3_5 like Mac OS X)...</td>\n",
       "      <td>489</td>\n",
       "      <td>54.5</td>\n",
       "      <td>1.5</td>\n",
       "      <td>success</td>\n",
       "      <td>...</td>\n",
       "      <td>Neither agree no disagree</td>\n",
       "      <td>Email from ATO</td>\n",
       "      <td>NaN</td>\n",
       "      <td>Agree</td>\n",
       "      <td>Not necessarily reliable</td>\n",
       "      <td>NaN</td>\n",
       "      <td>Tax professional</td>\n",
       "      <td>NaN</td>\n",
       "      <td>No</td>\n",
       "      <td>Older than 65</td>\n",
       "    </tr>\n",
       "    <tr>\n",
       "      <th>2</th>\n",
       "      <td>Participant 53</td>\n",
       "      <td>NaN</td>\n",
       "      <td>203.55.28.231</td>\n",
       "      <td>05/25/17 12:23</td>\n",
       "      <td>05/25/17 12:29</td>\n",
       "      <td>Mozilla/5.0 (Windows NT 6.1; WOW64; rv:49.0) G...</td>\n",
       "      <td>351</td>\n",
       "      <td>39.0</td>\n",
       "      <td>1.5</td>\n",
       "      <td>success</td>\n",
       "      <td>...</td>\n",
       "      <td>Agree</td>\n",
       "      <td>ATO Social media, Email from ATO, ATO website</td>\n",
       "      <td>NaN</td>\n",
       "      <td>Agree</td>\n",
       "      <td>nice, good, thanks</td>\n",
       "      <td>Looks nice, I like how its setup right now, ve...</td>\n",
       "      <td>Individual</td>\n",
       "      <td>NaN</td>\n",
       "      <td>No</td>\n",
       "      <td>26-35</td>\n",
       "    </tr>\n",
       "    <tr>\n",
       "      <th>3</th>\n",
       "      <td>Participant 54</td>\n",
       "      <td>NaN</td>\n",
       "      <td>202.20.30.89</td>\n",
       "      <td>05/25/17 12:27</td>\n",
       "      <td>05/25/17 12:31</td>\n",
       "      <td>Mozilla/5.0 (Macintosh; Intel Mac OS X 10_12_3...</td>\n",
       "      <td>254</td>\n",
       "      <td>52.5</td>\n",
       "      <td>2.0</td>\n",
       "      <td>success</td>\n",
       "      <td>...</td>\n",
       "      <td>Neither agree no disagree</td>\n",
       "      <td>ATO website, Small Business Newsroom</td>\n",
       "      <td>NaN</td>\n",
       "      <td>Neither agree nor disagree</td>\n",
       "      <td>Looks good</td>\n",
       "      <td>NaN</td>\n",
       "      <td>Small business</td>\n",
       "      <td>NaN</td>\n",
       "      <td>No</td>\n",
       "      <td>46-65</td>\n",
       "    </tr>\n",
       "    <tr>\n",
       "      <th>4</th>\n",
       "      <td>Participant 55</td>\n",
       "      <td>NaN</td>\n",
       "      <td>150.101.255.43</td>\n",
       "      <td>05/25/17 12:30</td>\n",
       "      <td>05/25/17 12:35</td>\n",
       "      <td>Mozilla/5.0 (Windows NT 6.1; Win64; x64) Apple...</td>\n",
       "      <td>265</td>\n",
       "      <td>54.0</td>\n",
       "      <td>1.5</td>\n",
       "      <td>success</td>\n",
       "      <td>...</td>\n",
       "      <td>Agree</td>\n",
       "      <td>ATO website</td>\n",
       "      <td>NaN</td>\n",
       "      <td>Disagree</td>\n",
       "      <td>Easy to use</td>\n",
       "      <td>NaN</td>\n",
       "      <td>Tax professional</td>\n",
       "      <td>NaN</td>\n",
       "      <td>No</td>\n",
       "      <td>46-65</td>\n",
       "    </tr>\n",
       "  </tbody>\n",
       "</table>\n",
       "<p>5 rows × 32 columns</p>\n",
       "</div>"
      ],
      "text/plain": [
       "  Participant No.  CustomID       IP Address    Date Started  Date Completed  \\\n",
       "0  Participant 48       NaN    203.173.10.21  05/25/17 11:40  05/25/17 11:44   \n",
       "1  Participant 51       NaN  120.147.129.202  05/25/17 12:17  05/25/17 12:25   \n",
       "2  Participant 53       NaN    203.55.28.231  05/25/17 12:23  05/25/17 12:29   \n",
       "3  Participant 54       NaN     202.20.30.89  05/25/17 12:27  05/25/17 12:31   \n",
       "4  Participant 55       NaN   150.101.255.43  05/25/17 12:30  05/25/17 12:35   \n",
       "\n",
       "                                          User Agent  Total Time Spent  \\\n",
       "0  Mozilla/5.0 (Windows NT 6.3; WOW64; rv:53.0) G...               223   \n",
       "1  Mozilla/5.0 (iPad; CPU OS 9_3_5 like Mac OS X)...               489   \n",
       "2  Mozilla/5.0 (Windows NT 6.1; WOW64; rv:49.0) G...               351   \n",
       "3  Mozilla/5.0 (Macintosh; Intel Mac OS X 10_12_3...               254   \n",
       "4  Mozilla/5.0 (Windows NT 6.1; Win64; x64) Apple...               265   \n",
       "\n",
       "   Avg Time Taken  Avg Page Views Task. How to use this panel - Completion  \\\n",
       "0            20.5             1.5                                  success   \n",
       "1            54.5             1.5                                  success   \n",
       "2            39.0             1.5                                  success   \n",
       "3            52.5             2.0                                  success   \n",
       "4            54.0             1.5                                  success   \n",
       "\n",
       "                 ...                 \\\n",
       "0                ...                  \n",
       "1                ...                  \n",
       "2                ...                  \n",
       "3                ...                  \n",
       "4                ...                  \n",
       "\n",
       "   * \"I would consider ATO Community a reliable source of information.\"  \\\n",
       "0                          Neither agree no disagree                      \n",
       "1                          Neither agree no disagree                      \n",
       "2                                              Agree                      \n",
       "3                          Neither agree no disagree                      \n",
       "4                                              Agree                      \n",
       "\n",
       "   * How would you expect to hear about ATO Community?  \\\n",
       "0  ATO Social media, Email from ATO, Television, ...     \n",
       "1                                     Email from ATO     \n",
       "2      ATO Social media, Email from ATO, ATO website     \n",
       "3               ATO website, Small Business Newsroom     \n",
       "4                                        ATO website     \n",
       "\n",
       "  * How would you expect to hear about ATO Community? - Other, please specify  \\\n",
       "0                                                NaN                            \n",
       "1                                                NaN                            \n",
       "2                                                NaN                            \n",
       "3                                                NaN                            \n",
       "4                                                NaN                            \n",
       "\n",
       "   * \"I would contact the ATO after using ATO Community to make sure the information I found is correct.\"  \\\n",
       "0                                     Strongly agree                                                        \n",
       "1                                              Agree                                                        \n",
       "2                                              Agree                                                        \n",
       "3                         Neither agree nor disagree                                                        \n",
       "4                                           Disagree                                                        \n",
       "\n",
       "   * What three words describe your experience today with ATO Community?  \\\n",
       "0                     informative, precise and clear                       \n",
       "1                           Not necessarily reliable                       \n",
       "2                                 nice, good, thanks                       \n",
       "3                                         Looks good                       \n",
       "4                                        Easy to use                       \n",
       "\n",
       "  Do you have any suggestions on how we can improve ATO Community?  \\\n",
       "0                                                NaN                 \n",
       "1                                                NaN                 \n",
       "2  Looks nice, I like how its setup right now, ve...                 \n",
       "3                                                NaN                 \n",
       "4                                                NaN                 \n",
       "\n",
       "  * Which of the following best describes your role? (Select all that apply)  \\\n",
       "0                                     Small business                           \n",
       "1                                   Tax professional                           \n",
       "2                                         Individual                           \n",
       "3                                     Small business                           \n",
       "4                                   Tax professional                           \n",
       "\n",
       "  * Which of the following best describes your role? - Other, please specify  \\\n",
       "0                                                NaN                           \n",
       "1                                                NaN                           \n",
       "2                                                NaN                           \n",
       "3                                                NaN                           \n",
       "4                                                NaN                           \n",
       "\n",
       "  * Are you an ATO employee? Which age group do you belong to?  \n",
       "0                         No                     Older than 65  \n",
       "1                         No                     Older than 65  \n",
       "2                         No                             26-35  \n",
       "3                         No                             46-65  \n",
       "4                         No                             46-65  \n",
       "\n",
       "[5 rows x 32 columns]"
      ]
     },
     "execution_count": 25,
     "metadata": {},
     "output_type": "execute_result"
    }
   ],
   "source": [
    "clean_df = pd.read_csv('ato-community_full_clean.csv')\n",
    "clean_df.head()"
   ]
  },
  {
   "cell_type": "code",
   "execution_count": 26,
   "metadata": {
    "collapsed": false
   },
   "outputs": [
    {
     "data": {
      "text/plain": [
       "196"
      ]
     },
     "execution_count": 26,
     "metadata": {},
     "output_type": "execute_result"
    }
   ],
   "source": [
    "N = len(clean_df)\n",
    "N"
   ]
  },
  {
   "cell_type": "code",
   "execution_count": 27,
   "metadata": {
    "collapsed": true
   },
   "outputs": [],
   "source": [
    "# Delare variable to store folder file location\n",
    "folder = \"Graphs/standard_graphs/\""
   ]
  },
  {
   "cell_type": "code",
   "execution_count": 28,
   "metadata": {
    "collapsed": false
   },
   "outputs": [
    {
     "data": {
      "text/plain": [
       "['Participant No.',\n",
       " 'CustomID',\n",
       " 'IP Address',\n",
       " 'Date Started',\n",
       " 'Date Completed',\n",
       " 'User Agent',\n",
       " 'Total Time Spent',\n",
       " 'Avg Time Taken',\n",
       " 'Avg Page Views',\n",
       " 'Task. How to use this panel - Completion',\n",
       " 'Task. How to use this panel - Page Views',\n",
       " 'Task. How to use this panel - Time Spent',\n",
       " 'Task 1 - ATO-certified answer - Completion',\n",
       " 'Task 1 - ATO-certified answer - Page Views',\n",
       " 'Task 1 - ATO-certified answer - Time Spent',\n",
       " '* How regularly do you use online forums?',\n",
       " '* How would you know if an answer is the official response?',\n",
       " '* \"I found it easy to find information to complete the task.\"',\n",
       " '* \"I would trust an \\'ATO certified\\' answer.\"',\n",
       " '* \"I would trust an answer from an ATO Community member.\"',\n",
       " '* How likely are you to use ATO Community in the future? (1 = least likely, 10 = most likely)',\n",
       " '* How likely are you to recommend ATO Community to others? (1 = least likely, 10 = most likely)',\n",
       " '* \"I would consider ATO Community a reliable source of information.\"',\n",
       " '* How would you expect to hear about ATO Community?',\n",
       " '* How would you expect to hear about ATO Community? - Other, please specify',\n",
       " '* \"I would contact the ATO after using ATO Community to make sure the information I found is correct.\"',\n",
       " '* What three words describe your experience today with ATO Community?',\n",
       " 'Do you have any suggestions on how we can improve ATO Community?',\n",
       " '* Which of the following best describes your role? (Select all that apply)',\n",
       " '* Which of the following best describes your role? - Other, please specify',\n",
       " '* Are you an ATO employee?',\n",
       " 'Which age group do you belong to?']"
      ]
     },
     "execution_count": 28,
     "metadata": {},
     "output_type": "execute_result"
    }
   ],
   "source": [
    "list(clean_df.columns.values) # For reference later when picking out data in specific column"
   ]
  },
  {
   "cell_type": "markdown",
   "metadata": {},
   "source": [
    "## Tasks and questions"
   ]
  },
  {
   "cell_type": "markdown",
   "metadata": {},
   "source": [
    "### Task 1 - Find the ATO certified answer"
   ]
  },
  {
   "cell_type": "code",
   "execution_count": 29,
   "metadata": {
    "collapsed": false
   },
   "outputs": [
    {
     "name": "stdout",
     "output_type": "stream",
     "text": [
      "CONFIDENCE INTERVAL:  Task 1 - ATO-certified answer - Completion 0.0697663739833\n"
     ]
    },
    {
     "data": {
      "text/html": [
       "<div>\n",
       "<table border=\"1\" class=\"dataframe\">\n",
       "  <thead>\n",
       "    <tr style=\"text-align: right;\">\n",
       "      <th></th>\n",
       "      <th>Task 1 - ATO-certified answer - Completion (N)</th>\n",
       "      <th>Task 1 - ATO-certified answer - Completion (%)</th>\n",
       "    </tr>\n",
       "    <tr>\n",
       "      <th>Task Result</th>\n",
       "      <th></th>\n",
       "      <th></th>\n",
       "    </tr>\n",
       "  </thead>\n",
       "  <tbody>\n",
       "    <tr>\n",
       "      <th>success</th>\n",
       "      <td>90</td>\n",
       "      <td>0.459184</td>\n",
       "    </tr>\n",
       "    <tr>\n",
       "      <th>fail</th>\n",
       "      <td>97</td>\n",
       "      <td>0.494898</td>\n",
       "    </tr>\n",
       "    <tr>\n",
       "      <th>abandon</th>\n",
       "      <td>9</td>\n",
       "      <td>0.045918</td>\n",
       "    </tr>\n",
       "  </tbody>\n",
       "</table>\n",
       "</div>"
      ],
      "text/plain": [
       "             Task 1 - ATO-certified answer - Completion (N)  \\\n",
       "Task Result                                                   \n",
       "success                                                  90   \n",
       "fail                                                     97   \n",
       "abandon                                                   9   \n",
       "\n",
       "             Task 1 - ATO-certified answer - Completion (%)  \n",
       "Task Result                                                  \n",
       "success                                            0.459184  \n",
       "fail                                               0.494898  \n",
       "abandon                                            0.045918  "
      ]
     },
     "metadata": {},
     "output_type": "display_data"
    },
    {
     "data": {
      "image/png": "[encoded data removed]",
      "text/plain": [
       "<matplotlib.figure.Figure at 0x114b55ba8>"
      ]
     },
     "metadata": {},
     "output_type": "display_data"
    }
   ],
   "source": [
    "beta.task_completion_rates_N(clean_df, ['Task 1 - ATO-certified answer - Completion'], N, folder)"
   ]
  },
  {
   "cell_type": "markdown",
   "metadata": {},
   "source": [
    "### * How regularly do you use online forums?"
   ]
  },
  {
   "cell_type": "code",
   "execution_count": 30,
   "metadata": {
    "collapsed": false
   },
   "outputs": [
    {
     "name": "stdout",
     "output_type": "stream",
     "text": [
      "SAMPLE SIZE: 196 (* How regularly do you use online forums?)\n",
      "TOTAL %: 1.0 (* How regularly do you use online forums?)\n"
     ]
    },
    {
     "data": {
      "text/html": [
       "<div>\n",
       "<table border=\"1\" class=\"dataframe\">\n",
       "  <thead>\n",
       "    <tr style=\"text-align: right;\">\n",
       "      <th></th>\n",
       "      <th>* How regularly do you use online forums? (N)</th>\n",
       "      <th>* How regularly do you use online forums? (%)</th>\n",
       "    </tr>\n",
       "  </thead>\n",
       "  <tbody>\n",
       "    <tr>\n",
       "      <th>Daily</th>\n",
       "      <td>31</td>\n",
       "      <td>0.158163</td>\n",
       "    </tr>\n",
       "    <tr>\n",
       "      <th>Monthly</th>\n",
       "      <td>55</td>\n",
       "      <td>0.280612</td>\n",
       "    </tr>\n",
       "    <tr>\n",
       "      <th>Never</th>\n",
       "      <td>40</td>\n",
       "      <td>0.204082</td>\n",
       "    </tr>\n",
       "    <tr>\n",
       "      <th>Weekly</th>\n",
       "      <td>50</td>\n",
       "      <td>0.255102</td>\n",
       "    </tr>\n",
       "    <tr>\n",
       "      <th>Yearly</th>\n",
       "      <td>20</td>\n",
       "      <td>0.102041</td>\n",
       "    </tr>\n",
       "  </tbody>\n",
       "</table>\n",
       "</div>"
      ],
      "text/plain": [
       "         * How regularly do you use online forums? (N)  \\\n",
       "Daily                                               31   \n",
       "Monthly                                             55   \n",
       "Never                                               40   \n",
       "Weekly                                              50   \n",
       "Yearly                                              20   \n",
       "\n",
       "         * How regularly do you use online forums? (%)  \n",
       "Daily                                         0.158163  \n",
       "Monthly                                       0.280612  \n",
       "Never                                         0.204082  \n",
       "Weekly                                        0.255102  \n",
       "Yearly                                        0.102041  "
      ]
     },
     "metadata": {},
     "output_type": "display_data"
    },
    {
     "data": {
      "image/png": "[encoded data removed]",
      "text/plain": [
       "<matplotlib.figure.Figure at 0x1172cdc88>"
      ]
     },
     "metadata": {},
     "output_type": "display_data"
    }
   ],
   "source": [
    "q1 = ['* How regularly do you use online forums?']\n",
    "beta.single_answer(clean_df, q1, beta.grapher, folder)"
   ]
  },
  {
   "cell_type": "markdown",
   "metadata": {},
   "source": [
    "### * I found it easy to find information to complete the task."
   ]
  },
  {
   "cell_type": "code",
   "execution_count": 31,
   "metadata": {
    "collapsed": false
   },
   "outputs": [
    {
     "name": "stdout",
     "output_type": "stream",
     "text": [
      "       * \"I found it easy to find information to complete the task.\"\n",
      "count                                         196.000000            \n",
      "mean                                            3.780612            \n",
      "std                                             0.975511            \n",
      "min                                             1.000000            \n",
      "25%                                             3.000000            \n",
      "50%                                             4.000000            \n",
      "75%                                             4.000000            \n",
      "max                                             5.000000            \n",
      "TOTAL %: 1.0 (* \"I found it easy to find information to complete the task.\")\n"
     ]
    },
    {
     "data": {
      "text/html": [
       "<div>\n",
       "<table border=\"1\" class=\"dataframe\">\n",
       "  <thead>\n",
       "    <tr style=\"text-align: right;\">\n",
       "      <th></th>\n",
       "      <th>* \"I found it easy to find information to complete the task.\" (N)</th>\n",
       "      <th>* \"I found it easy to find information to complete the task.\" (%)</th>\n",
       "    </tr>\n",
       "  </thead>\n",
       "  <tbody>\n",
       "    <tr>\n",
       "      <th>Agree</th>\n",
       "      <td>141</td>\n",
       "      <td>0.723077</td>\n",
       "    </tr>\n",
       "    <tr>\n",
       "      <th>Disagree</th>\n",
       "      <td>20</td>\n",
       "      <td>0.102564</td>\n",
       "    </tr>\n",
       "    <tr>\n",
       "      <th>Neither agree nor disagree</th>\n",
       "      <td>34</td>\n",
       "      <td>0.174359</td>\n",
       "    </tr>\n",
       "  </tbody>\n",
       "</table>\n",
       "</div>"
      ],
      "text/plain": [
       "                            * \"I found it easy to find information to complete the task.\" (N)  \\\n",
       "Agree                                                                     141                   \n",
       "Disagree                                                                   20                   \n",
       "Neither agree nor disagree                                                 34                   \n",
       "\n",
       "                            * \"I found it easy to find information to complete the task.\" (%)  \n",
       "Agree                                                                0.723077                  \n",
       "Disagree                                                             0.102564                  \n",
       "Neither agree nor disagree                                           0.174359                  "
      ]
     },
     "execution_count": 31,
     "metadata": {},
     "output_type": "execute_result"
    },
    {
     "data": {
      "image/png": "[encoded data removed]",
      "text/plain": [
       "<matplotlib.figure.Figure at 0x117e72160>"
      ]
     },
     "metadata": {},
     "output_type": "display_data"
    }
   ],
   "source": [
    "q2 = ['* \"I found it easy to find information to complete the task.\"']\n",
    "beta.likert_results(clean_df, q2, beta.grapher, folder)"
   ]
  },
  {
   "cell_type": "code",
   "execution_count": 32,
   "metadata": {
    "collapsed": false
   },
   "outputs": [
    {
     "name": "stdout",
     "output_type": "stream",
     "text": [
      "       * \"I found it easy to find information to complete the task.\"\n",
      "count                                         196.000000            \n",
      "mean                                            3.780612            \n",
      "std                                             0.975511            \n",
      "min                                             1.000000            \n",
      "25%                                             3.000000            \n",
      "50%                                             4.000000            \n",
      "75%                                             4.000000            \n",
      "max                                             5.000000            \n",
      "TOTAL %: 1.0 (* \"I found it easy to find information to complete the task.\")\n"
     ]
    },
    {
     "data": {
      "text/html": [
       "<div>\n",
       "<table border=\"1\" class=\"dataframe\">\n",
       "  <thead>\n",
       "    <tr style=\"text-align: right;\">\n",
       "      <th></th>\n",
       "      <th>* \"I found it easy to find information to complete the task.\" (N)</th>\n",
       "      <th>* \"I found it easy to find information to complete the task.\" (%)</th>\n",
       "    </tr>\n",
       "  </thead>\n",
       "  <tbody>\n",
       "    <tr>\n",
       "      <th>Agree</th>\n",
       "      <td>141</td>\n",
       "      <td>0.723077</td>\n",
       "    </tr>\n",
       "    <tr>\n",
       "      <th>Disagree</th>\n",
       "      <td>20</td>\n",
       "      <td>0.102564</td>\n",
       "    </tr>\n",
       "    <tr>\n",
       "      <th>Neither agree nor disagree</th>\n",
       "      <td>34</td>\n",
       "      <td>0.174359</td>\n",
       "    </tr>\n",
       "  </tbody>\n",
       "</table>\n",
       "</div>"
      ],
      "text/plain": [
       "                            * \"I found it easy to find information to complete the task.\" (N)  \\\n",
       "Agree                                                                     141                   \n",
       "Disagree                                                                   20                   \n",
       "Neither agree nor disagree                                                 34                   \n",
       "\n",
       "                            * \"I found it easy to find information to complete the task.\" (%)  \n",
       "Agree                                                                0.723077                  \n",
       "Disagree                                                             0.102564                  \n",
       "Neither agree nor disagree                                           0.174359                  "
      ]
     },
     "execution_count": 32,
     "metadata": {},
     "output_type": "execute_result"
    },
    {
     "data": {
      "image/png": "[encoded data removed]",
      "text/plain": [
       "<matplotlib.figure.Figure at 0x114bea978>"
      ]
     },
     "metadata": {},
     "output_type": "display_data"
    }
   ],
   "source": [
    "q2 = ['* \"I found it easy to find information to complete the task.\"']\n",
    "beta.likert_results(clean_df, q2, beta.grapher, folder)"
   ]
  },
  {
   "cell_type": "markdown",
   "metadata": {},
   "source": [
    "### * I would trust an 'ATO certified' answer."
   ]
  },
  {
   "cell_type": "code",
   "execution_count": 33,
   "metadata": {
    "collapsed": false
   },
   "outputs": [
    {
     "name": "stdout",
     "output_type": "stream",
     "text": [
      "       * \"I would trust an 'ATO certified' answer.\"\n",
      "count                                    196.000000\n",
      "mean                                       4.056122\n",
      "std                                        0.878176\n",
      "min                                        1.000000\n",
      "25%                                        4.000000\n",
      "50%                                        4.000000\n",
      "75%                                        5.000000\n",
      "max                                        5.000000\n",
      "TOTAL %: 1.0 (* \"I would trust an 'ATO certified' answer.\")\n"
     ]
    },
    {
     "data": {
      "text/html": [
       "<div>\n",
       "<table border=\"1\" class=\"dataframe\">\n",
       "  <thead>\n",
       "    <tr style=\"text-align: right;\">\n",
       "      <th></th>\n",
       "      <th>* \"I would trust an 'ATO certified' answer.\" (N)</th>\n",
       "      <th>* \"I would trust an 'ATO certified' answer.\" (%)</th>\n",
       "    </tr>\n",
       "  </thead>\n",
       "  <tbody>\n",
       "    <tr>\n",
       "      <th>Agree</th>\n",
       "      <td>166</td>\n",
       "      <td>0.851282</td>\n",
       "    </tr>\n",
       "    <tr>\n",
       "      <th>Disagree</th>\n",
       "      <td>11</td>\n",
       "      <td>0.056410</td>\n",
       "    </tr>\n",
       "    <tr>\n",
       "      <th>Neither agree nor disagree</th>\n",
       "      <td>18</td>\n",
       "      <td>0.092308</td>\n",
       "    </tr>\n",
       "  </tbody>\n",
       "</table>\n",
       "</div>"
      ],
      "text/plain": [
       "                            * \"I would trust an 'ATO certified' answer.\" (N)  \\\n",
       "Agree                                                                    166   \n",
       "Disagree                                                                  11   \n",
       "Neither agree nor disagree                                                18   \n",
       "\n",
       "                            * \"I would trust an 'ATO certified' answer.\" (%)  \n",
       "Agree                                                               0.851282  \n",
       "Disagree                                                            0.056410  \n",
       "Neither agree nor disagree                                          0.092308  "
      ]
     },
     "execution_count": 33,
     "metadata": {},
     "output_type": "execute_result"
    },
    {
     "data": {
      "image/png": "[encoded data removed]",
      "text/plain": [
       "<matplotlib.figure.Figure at 0x114e93630>"
      ]
     },
     "metadata": {},
     "output_type": "display_data"
    }
   ],
   "source": [
    "q3 = ['* \"I would trust an \\'ATO certified\\' answer.\"']\n",
    "beta.likert_results(clean_df, q3, beta.grapher, folder)"
   ]
  },
  {
   "cell_type": "markdown",
   "metadata": {},
   "source": [
    "### I would trust an answer from an ATO Community member."
   ]
  },
  {
   "cell_type": "code",
   "execution_count": 34,
   "metadata": {
    "collapsed": false,
    "scrolled": false
   },
   "outputs": [
    {
     "name": "stdout",
     "output_type": "stream",
     "text": [
      "       * \"I would trust an answer from an ATO Community member.\"\n",
      "count                                         196.000000        \n",
      "mean                                            2.719388        \n",
      "std                                             0.783046        \n",
      "min                                             1.000000        \n",
      "25%                                             2.000000        \n",
      "50%                                             3.000000        \n",
      "75%                                             3.000000        \n",
      "max                                             5.000000        \n",
      "TOTAL %: 1.0 (* \"I would trust an answer from an ATO Community member.\")\n"
     ]
    },
    {
     "data": {
      "text/html": [
       "<div>\n",
       "<table border=\"1\" class=\"dataframe\">\n",
       "  <thead>\n",
       "    <tr style=\"text-align: right;\">\n",
       "      <th></th>\n",
       "      <th>* \"I would trust an answer from an ATO Community member.\" (N)</th>\n",
       "      <th>* \"I would trust an answer from an ATO Community member.\" (%)</th>\n",
       "    </tr>\n",
       "  </thead>\n",
       "  <tbody>\n",
       "    <tr>\n",
       "      <th>Agree</th>\n",
       "      <td>23</td>\n",
       "      <td>0.117347</td>\n",
       "    </tr>\n",
       "    <tr>\n",
       "      <th>Disagree</th>\n",
       "      <td>64</td>\n",
       "      <td>0.326531</td>\n",
       "    </tr>\n",
       "    <tr>\n",
       "      <th>Neither agree nor disagree</th>\n",
       "      <td>109</td>\n",
       "      <td>0.556122</td>\n",
       "    </tr>\n",
       "  </tbody>\n",
       "</table>\n",
       "</div>"
      ],
      "text/plain": [
       "                            * \"I would trust an answer from an ATO Community member.\" (N)  \\\n",
       "Agree                                                                      23               \n",
       "Disagree                                                                   64               \n",
       "Neither agree nor disagree                                                109               \n",
       "\n",
       "                            * \"I would trust an answer from an ATO Community member.\" (%)  \n",
       "Agree                                                                0.117347              \n",
       "Disagree                                                             0.326531              \n",
       "Neither agree nor disagree                                           0.556122              "
      ]
     },
     "execution_count": 34,
     "metadata": {},
     "output_type": "execute_result"
    },
    {
     "data": {
      "image/png": "[encoded data removed]",
      "text/plain": [
       "<matplotlib.figure.Figure at 0x114d361d0>"
      ]
     },
     "metadata": {},
     "output_type": "display_data"
    }
   ],
   "source": [
    "q4 = ['* \"I would trust an answer from an ATO Community member.\"']\n",
    "beta.likert_results(clean_df, q4, beta.grapher, folder)"
   ]
  },
  {
   "cell_type": "markdown",
   "metadata": {},
   "source": [
    "### How likely are you to use ATO Community in the future? (1 = least likely, 10 = most likely)"
   ]
  },
  {
   "cell_type": "code",
   "execution_count": 35,
   "metadata": {
    "collapsed": false
   },
   "outputs": [
    {
     "data": {
      "text/plain": [
       "count    196.000000\n",
       "mean       6.872449\n",
       "std        2.313629\n",
       "min        1.000000\n",
       "25%        5.000000\n",
       "50%        7.000000\n",
       "75%        9.000000\n",
       "max       10.000000\n",
       "Name: * How likely are you to use ATO Community in the future? (1 = least likely, 10 = most likely), dtype: float64"
      ]
     },
     "metadata": {},
     "output_type": "display_data"
    },
    {
     "data": {
      "text/html": [
       "<div>\n",
       "<table border=\"1\" class=\"dataframe\">\n",
       "  <thead>\n",
       "    <tr style=\"text-align: right;\">\n",
       "      <th></th>\n",
       "      <th>* How likely are you to use ATO Community in the future? (1 = least likely, 10 = most likely) (N)</th>\n",
       "      <th>* How likely are you to use ATO Community in the future? (1 = least likely, 10 = most likely) (%)</th>\n",
       "    </tr>\n",
       "  </thead>\n",
       "  <tbody>\n",
       "    <tr>\n",
       "      <th>1-3</th>\n",
       "      <td>21</td>\n",
       "      <td>0.107143</td>\n",
       "    </tr>\n",
       "    <tr>\n",
       "      <th>4-6</th>\n",
       "      <td>52</td>\n",
       "      <td>0.265306</td>\n",
       "    </tr>\n",
       "    <tr>\n",
       "      <th>7-10</th>\n",
       "      <td>123</td>\n",
       "      <td>0.627551</td>\n",
       "    </tr>\n",
       "  </tbody>\n",
       "</table>\n",
       "</div>"
      ],
      "text/plain": [
       "      * How likely are you to use ATO Community in the future? (1 = least likely, 10 = most likely) (N)  \\\n",
       "1-3                                                  21                                                   \n",
       "4-6                                                  52                                                   \n",
       "7-10                                                123                                                   \n",
       "\n",
       "      * How likely are you to use ATO Community in the future? (1 = least likely, 10 = most likely) (%)  \n",
       "1-3                                            0.107143                                                  \n",
       "4-6                                            0.265306                                                  \n",
       "7-10                                           0.627551                                                  "
      ]
     },
     "metadata": {},
     "output_type": "display_data"
    },
    {
     "data": {
      "image/png": "[encoded data removed]",
      "text/plain": [
       "<matplotlib.figure.Figure at 0x114d042e8>"
      ]
     },
     "metadata": {},
     "output_type": "display_data"
    }
   ],
   "source": [
    "group_scale = [1,4,7,11]\n",
    "group_labels = ['1-3', '4-6', '7-10']\n",
    "\n",
    "q5 = ['* How likely are you to use ATO Community in the future? (1 = least likely, 10 = most likely)']\n",
    "beta.single_answer_grouped(clean_df, q5, beta.grapher, group_scale, group_labels, folder)"
   ]
  },
  {
   "cell_type": "markdown",
   "metadata": {},
   "source": [
    "### How likely are you to recommend ATO Community to others? (1 = least likely, 10 = most likely)"
   ]
  },
  {
   "cell_type": "code",
   "execution_count": 36,
   "metadata": {
    "collapsed": false
   },
   "outputs": [
    {
     "data": {
      "text/plain": [
       "count    196.000000\n",
       "mean       6.596939\n",
       "std        2.431796\n",
       "min        1.000000\n",
       "25%        5.000000\n",
       "50%        7.000000\n",
       "75%        8.000000\n",
       "max       10.000000\n",
       "Name: * How likely are you to recommend ATO Community to others? (1 = least likely, 10 = most likely), dtype: float64"
      ]
     },
     "metadata": {},
     "output_type": "display_data"
    },
    {
     "data": {
      "text/html": [
       "<div>\n",
       "<table border=\"1\" class=\"dataframe\">\n",
       "  <thead>\n",
       "    <tr style=\"text-align: right;\">\n",
       "      <th></th>\n",
       "      <th>* How likely are you to recommend ATO Community to others? (1 = least likely, 10 = most likely) (N)</th>\n",
       "      <th>* How likely are you to recommend ATO Community to others? (1 = least likely, 10 = most likely) (%)</th>\n",
       "    </tr>\n",
       "  </thead>\n",
       "  <tbody>\n",
       "    <tr>\n",
       "      <th>1-3</th>\n",
       "      <td>26</td>\n",
       "      <td>0.132653</td>\n",
       "    </tr>\n",
       "    <tr>\n",
       "      <th>4-6</th>\n",
       "      <td>53</td>\n",
       "      <td>0.270408</td>\n",
       "    </tr>\n",
       "    <tr>\n",
       "      <th>7-10</th>\n",
       "      <td>117</td>\n",
       "      <td>0.596939</td>\n",
       "    </tr>\n",
       "  </tbody>\n",
       "</table>\n",
       "</div>"
      ],
      "text/plain": [
       "      * How likely are you to recommend ATO Community to others? (1 = least likely, 10 = most likely) (N)  \\\n",
       "1-3                                                  26                                                     \n",
       "4-6                                                  53                                                     \n",
       "7-10                                                117                                                     \n",
       "\n",
       "      * How likely are you to recommend ATO Community to others? (1 = least likely, 10 = most likely) (%)  \n",
       "1-3                                            0.132653                                                    \n",
       "4-6                                            0.270408                                                    \n",
       "7-10                                           0.596939                                                    "
      ]
     },
     "metadata": {},
     "output_type": "display_data"
    },
    {
     "data": {
      "image/png": "[encoded data removed]",
      "text/plain": [
       "<matplotlib.figure.Figure at 0x114b6f048>"
      ]
     },
     "metadata": {},
     "output_type": "display_data"
    }
   ],
   "source": [
    "group_scale = [1,4,7,11]\n",
    "group_labels = ['1-3', '4-6', '7-10']\n",
    "\n",
    "q6 = ['* How likely are you to recommend ATO Community to others? (1 = least likely, 10 = most likely)']\n",
    "beta.single_answer_grouped(clean_df, q6, beta.grapher, group_scale, group_labels, folder)"
   ]
  },
  {
   "cell_type": "markdown",
   "metadata": {},
   "source": [
    "### I would consider ATO Community a reliable source of information."
   ]
  },
  {
   "cell_type": "code",
   "execution_count": 37,
   "metadata": {
    "collapsed": false
   },
   "outputs": [
    {
     "name": "stdout",
     "output_type": "stream",
     "text": [
      "        * \"I would consider ATO Community a reliable source of information.\"\n",
      "count                                                 196                   \n",
      "unique                                                  5                   \n",
      "top                                                     4                   \n",
      "freq                                                   91                   \n",
      "TOTAL %: 1.0 (* \"I would consider ATO Community a reliable source of information.\")\n"
     ]
    },
    {
     "data": {
      "text/html": [
       "<div>\n",
       "<table border=\"1\" class=\"dataframe\">\n",
       "  <thead>\n",
       "    <tr style=\"text-align: right;\">\n",
       "      <th></th>\n",
       "      <th>* \"I would consider ATO Community a reliable source of information.\" (N)</th>\n",
       "      <th>* \"I would consider ATO Community a reliable source of information.\" (%)</th>\n",
       "    </tr>\n",
       "  </thead>\n",
       "  <tbody>\n",
       "    <tr>\n",
       "      <th>Agree</th>\n",
       "      <td>101</td>\n",
       "      <td>0.515306</td>\n",
       "    </tr>\n",
       "    <tr>\n",
       "      <th>Disagree</th>\n",
       "      <td>18</td>\n",
       "      <td>0.091837</td>\n",
       "    </tr>\n",
       "    <tr>\n",
       "      <th>Neither agree no disagree</th>\n",
       "      <td>77</td>\n",
       "      <td>0.392857</td>\n",
       "    </tr>\n",
       "  </tbody>\n",
       "</table>\n",
       "</div>"
      ],
      "text/plain": [
       "                           * \"I would consider ATO Community a reliable source of information.\" (N)  \\\n",
       "Agree                                                                    101                          \n",
       "Disagree                                                                  18                          \n",
       "Neither agree no disagree                                                 77                          \n",
       "\n",
       "                           * \"I would consider ATO Community a reliable source of information.\" (%)  \n",
       "Agree                                                               0.515306                         \n",
       "Disagree                                                            0.091837                         \n",
       "Neither agree no disagree                                           0.392857                         "
      ]
     },
     "execution_count": 37,
     "metadata": {},
     "output_type": "execute_result"
    },
    {
     "data": {
      "image/png": "[encoded data removed]",
      "text/plain": [
       "<matplotlib.figure.Figure at 0x117d000f0>"
      ]
     },
     "metadata": {},
     "output_type": "display_data"
    }
   ],
   "source": [
    "q7 = ['* \"I would consider ATO Community a reliable source of information.\"']\n",
    "beta.likert_results(clean_df, q7, beta.grapher, folder)"
   ]
  },
  {
   "cell_type": "markdown",
   "metadata": {},
   "source": [
    "### How would you expect to hear about ATO Community?"
   ]
  },
  {
   "cell_type": "code",
   "execution_count": 38,
   "metadata": {
    "collapsed": false
   },
   "outputs": [
    {
     "name": "stdout",
     "output_type": "stream",
     "text": [
      "SAMPLE SIZE: 196\n",
      "NO. ANSWERS: 442\n"
     ]
    },
    {
     "data": {
      "text/html": [
       "<div>\n",
       "<table border=\"1\" class=\"dataframe\">\n",
       "  <thead>\n",
       "    <tr style=\"text-align: right;\">\n",
       "      <th></th>\n",
       "      <th>* How would you expect to hear about ATO Community? (N)</th>\n",
       "      <th>* How would you expect to hear about ATO Community? (%)</th>\n",
       "    </tr>\n",
       "  </thead>\n",
       "  <tbody>\n",
       "    <tr>\n",
       "      <th>Television</th>\n",
       "      <td>14</td>\n",
       "      <td>0.071429</td>\n",
       "    </tr>\n",
       "    <tr>\n",
       "      <th>Small Business Newsroom</th>\n",
       "      <td>44</td>\n",
       "      <td>0.224490</td>\n",
       "    </tr>\n",
       "    <tr>\n",
       "      <th>Industry group</th>\n",
       "      <td>43</td>\n",
       "      <td>0.219388</td>\n",
       "    </tr>\n",
       "    <tr>\n",
       "      <th>Email from ATO</th>\n",
       "      <td>143</td>\n",
       "      <td>0.729592</td>\n",
       "    </tr>\n",
       "    <tr>\n",
       "      <th>ATO website</th>\n",
       "      <td>122</td>\n",
       "      <td>0.622449</td>\n",
       "    </tr>\n",
       "    <tr>\n",
       "      <th>ATO Social media</th>\n",
       "      <td>76</td>\n",
       "      <td>0.387755</td>\n",
       "    </tr>\n",
       "  </tbody>\n",
       "</table>\n",
       "</div>"
      ],
      "text/plain": [
       "                         * How would you expect to hear about ATO Community? (N)  \\\n",
       "Television                                                              14         \n",
       "Small Business Newsroom                                                 44         \n",
       "Industry group                                                          43         \n",
       "Email from ATO                                                         143         \n",
       "ATO website                                                            122         \n",
       "ATO Social media                                                        76         \n",
       "\n",
       "                         * How would you expect to hear about ATO Community? (%)  \n",
       "Television                                                        0.071429        \n",
       "Small Business Newsroom                                           0.224490        \n",
       "Industry group                                                    0.219388        \n",
       "Email from ATO                                                    0.729592        \n",
       "ATO website                                                       0.622449        \n",
       "ATO Social media                                                  0.387755        "
      ]
     },
     "metadata": {},
     "output_type": "display_data"
    },
    {
     "data": {
      "image/png": "[encoded data removed]",
      "text/plain": [
       "<matplotlib.figure.Figure at 0x11824e518>"
      ]
     },
     "metadata": {},
     "output_type": "display_data"
    }
   ],
   "source": [
    "q8 = ['* How would you expect to hear about ATO Community?']\n",
    "beta.multiple_answer(clean_df, q8, beta.grapher_horizontal, folder)"
   ]
  },
  {
   "cell_type": "code",
   "execution_count": 39,
   "metadata": {
    "collapsed": false
   },
   "outputs": [
    {
     "name": "stdout",
     "output_type": "stream",
     "text": [
      "NUMBER OF RESPONSES:  10\n"
     ]
    },
    {
     "data": {
      "text/plain": [
       "'all of the above as well as direct mail'"
      ]
     },
     "metadata": {},
     "output_type": "display_data"
    },
    {
     "data": {
      "text/plain": [
       "'Word of mouth, search engine'"
      ]
     },
     "metadata": {},
     "output_type": "display_data"
    },
    {
     "data": {
      "text/plain": [
       "'Taxation is theft'"
      ]
     },
     "metadata": {},
     "output_type": "display_data"
    },
    {
     "data": {
      "text/plain": [
       "'LinkedIn'"
      ]
     },
     "metadata": {},
     "output_type": "display_data"
    },
    {
     "data": {
      "text/plain": [
       "'WOULD RATHER NOT AS IT WILL CREATE MORE \"DR GOOGLES\" ahhhhhhhhhhhhhhhhhhhh'"
      ]
     },
     "metadata": {},
     "output_type": "display_data"
    },
    {
     "data": {
      "text/plain": [
       "'online search'"
      ]
     },
     "metadata": {},
     "output_type": "display_data"
    },
    {
     "data": {
      "text/plain": [
       "'tax'"
      ]
     },
     "metadata": {},
     "output_type": "display_data"
    },
    {
     "data": {
      "text/plain": [
       "'Taxation Agents'"
      ]
     },
     "metadata": {},
     "output_type": "display_data"
    },
    {
     "data": {
      "text/plain": [
       "'Twitter'"
      ]
     },
     "metadata": {},
     "output_type": "display_data"
    },
    {
     "data": {
      "text/plain": [
       "'As this is new to me it, is too early to say, as I do not have much spare time to participate.'"
      ]
     },
     "metadata": {},
     "output_type": "display_data"
    }
   ],
   "source": [
    "beta.other_responses(clean_df, '* How would you expect to hear about ATO Community? - Other, please specify')"
   ]
  },
  {
   "cell_type": "markdown",
   "metadata": {},
   "source": [
    "### I would contact the ATO after using ATO Community to make sure the information I found is correct."
   ]
  },
  {
   "cell_type": "code",
   "execution_count": 40,
   "metadata": {
    "collapsed": false
   },
   "outputs": [
    {
     "name": "stdout",
     "output_type": "stream",
     "text": [
      "       * \"I would contact the ATO after using ATO Community to make sure the information I found is correct.\"\n",
      "count                                         196.000000                                                     \n",
      "mean                                            3.102041                                                     \n",
      "std                                             1.047486                                                     \n",
      "min                                             1.000000                                                     \n",
      "25%                                             2.000000                                                     \n",
      "50%                                             3.000000                                                     \n",
      "75%                                             4.000000                                                     \n",
      "max                                             5.000000                                                     \n",
      "TOTAL %: 1.0 (* \"I would contact the ATO after using ATO Community to make sure the information I found is correct.\")\n"
     ]
    },
    {
     "data": {
      "text/html": [
       "<div>\n",
       "<table border=\"1\" class=\"dataframe\">\n",
       "  <thead>\n",
       "    <tr style=\"text-align: right;\">\n",
       "      <th></th>\n",
       "      <th>* \"I would contact the ATO after using ATO Community to make sure the information I found is correct.\" (N)</th>\n",
       "      <th>* \"I would contact the ATO after using ATO Community to make sure the information I found is correct.\" (%)</th>\n",
       "    </tr>\n",
       "  </thead>\n",
       "  <tbody>\n",
       "    <tr>\n",
       "      <th>Agree</th>\n",
       "      <td>74</td>\n",
       "      <td>0.377551</td>\n",
       "    </tr>\n",
       "    <tr>\n",
       "      <th>Disagree</th>\n",
       "      <td>61</td>\n",
       "      <td>0.311224</td>\n",
       "    </tr>\n",
       "    <tr>\n",
       "      <th>Neither agree nor disagree</th>\n",
       "      <td>61</td>\n",
       "      <td>0.311224</td>\n",
       "    </tr>\n",
       "  </tbody>\n",
       "</table>\n",
       "</div>"
      ],
      "text/plain": [
       "                            * \"I would contact the ATO after using ATO Community to make sure the information I found is correct.\" (N)  \\\n",
       "Agree                                                                      74                                                            \n",
       "Disagree                                                                   61                                                            \n",
       "Neither agree nor disagree                                                 61                                                            \n",
       "\n",
       "                            * \"I would contact the ATO after using ATO Community to make sure the information I found is correct.\" (%)  \n",
       "Agree                                                                0.377551                                                           \n",
       "Disagree                                                             0.311224                                                           \n",
       "Neither agree nor disagree                                           0.311224                                                           "
      ]
     },
     "execution_count": 40,
     "metadata": {},
     "output_type": "execute_result"
    },
    {
     "data": {
      "image/png": "[encoded data removed]",
      "text/plain": [
       "<matplotlib.figure.Figure at 0x114da8080>"
      ]
     },
     "metadata": {},
     "output_type": "display_data"
    }
   ],
   "source": [
    "q9 = ['* \"I would contact the ATO after using ATO Community to make sure the information I found is correct.\"']\n",
    "beta.likert_results(clean_df, q9, grapher, folder)"
   ]
  },
  {
   "cell_type": "markdown",
   "metadata": {},
   "source": [
    "###  Which of the following best describes your role? (Select all that apply)"
   ]
  },
  {
   "cell_type": "code",
   "execution_count": 41,
   "metadata": {
    "collapsed": false
   },
   "outputs": [
    {
     "name": "stdout",
     "output_type": "stream",
     "text": [
      "SAMPLE SIZE: 196\n",
      "NO. ANSWERS: 244\n"
     ]
    },
    {
     "data": {
      "text/html": [
       "<div>\n",
       "<table border=\"1\" class=\"dataframe\">\n",
       "  <thead>\n",
       "    <tr style=\"text-align: right;\">\n",
       "      <th></th>\n",
       "      <th>* Which of the following best describes your role? (Select all that apply) (N)</th>\n",
       "      <th>* Which of the following best describes your role? (Select all that apply) (%)</th>\n",
       "    </tr>\n",
       "  </thead>\n",
       "  <tbody>\n",
       "    <tr>\n",
       "      <th>nan-string</th>\n",
       "      <td>16</td>\n",
       "      <td>0.081633</td>\n",
       "    </tr>\n",
       "    <tr>\n",
       "      <th>Tax professional</th>\n",
       "      <td>96</td>\n",
       "      <td>0.489796</td>\n",
       "    </tr>\n",
       "    <tr>\n",
       "      <th>Sole trader/self-employed</th>\n",
       "      <td>25</td>\n",
       "      <td>0.127551</td>\n",
       "    </tr>\n",
       "    <tr>\n",
       "      <th>Small business</th>\n",
       "      <td>36</td>\n",
       "      <td>0.183673</td>\n",
       "    </tr>\n",
       "    <tr>\n",
       "      <th>Not-for-profit</th>\n",
       "      <td>10</td>\n",
       "      <td>0.051020</td>\n",
       "    </tr>\n",
       "    <tr>\n",
       "      <th>Large business</th>\n",
       "      <td>16</td>\n",
       "      <td>0.081633</td>\n",
       "    </tr>\n",
       "    <tr>\n",
       "      <th>Individual</th>\n",
       "      <td>45</td>\n",
       "      <td>0.229592</td>\n",
       "    </tr>\n",
       "  </tbody>\n",
       "</table>\n",
       "</div>"
      ],
      "text/plain": [
       "                           * Which of the following best describes your role? (Select all that apply) (N)  \\\n",
       "nan-string                                                                16                                \n",
       "Tax professional                                                          96                                \n",
       "Sole trader/self-employed                                                 25                                \n",
       "Small business                                                            36                                \n",
       "Not-for-profit                                                            10                                \n",
       "Large business                                                            16                                \n",
       "Individual                                                                45                                \n",
       "\n",
       "                           * Which of the following best describes your role? (Select all that apply) (%)  \n",
       "nan-string                                                          0.081633                               \n",
       "Tax professional                                                    0.489796                               \n",
       "Sole trader/self-employed                                           0.127551                               \n",
       "Small business                                                      0.183673                               \n",
       "Not-for-profit                                                      0.051020                               \n",
       "Large business                                                      0.081633                               \n",
       "Individual                                                          0.229592                               "
      ]
     },
     "metadata": {},
     "output_type": "display_data"
    },
    {
     "data": {
      "image/png": "[encoded data removed]",
      "text/plain": [
       "<matplotlib.figure.Figure at 0x114dc8160>"
      ]
     },
     "metadata": {},
     "output_type": "display_data"
    }
   ],
   "source": [
    "q10 = ['* Which of the following best describes your role? (Select all that apply)']\n",
    "beta.multiple_answer(clean_df, q10, grapher_horizontal, folder)"
   ]
  },
  {
   "cell_type": "code",
   "execution_count": 42,
   "metadata": {
    "collapsed": false
   },
   "outputs": [
    {
     "name": "stdout",
     "output_type": "stream",
     "text": [
      "NUMBER OF RESPONSES:  19\n"
     ]
    },
    {
     "data": {
      "text/plain": [
       "'Government'"
      ]
     },
     "metadata": {},
     "output_type": "display_data"
    },
    {
     "data": {
      "text/plain": [
       "'Retired'"
      ]
     },
     "metadata": {},
     "output_type": "display_data"
    },
    {
     "data": {
      "text/plain": [
       "'Former ATO officer'"
      ]
     },
     "metadata": {},
     "output_type": "display_data"
    },
    {
     "data": {
      "text/plain": [
       "'lawyer'"
      ]
     },
     "metadata": {},
     "output_type": "display_data"
    },
    {
     "data": {
      "text/plain": [
       "'Taxation is theft'"
      ]
     },
     "metadata": {},
     "output_type": "display_data"
    },
    {
     "data": {
      "text/plain": [
       "'Tax academic'"
      ]
     },
     "metadata": {},
     "output_type": "display_data"
    },
    {
     "data": {
      "text/plain": [
       "'own a small business, work in large business'"
      ]
     },
     "metadata": {},
     "output_type": "display_data"
    },
    {
     "data": {
      "text/plain": [
       "'Compliance team in industry superannuation fund'"
      ]
     },
     "metadata": {},
     "output_type": "display_data"
    },
    {
     "data": {
      "text/plain": [
       "'APS'"
      ]
     },
     "metadata": {},
     "output_type": "display_data"
    },
    {
     "data": {
      "text/plain": [
       "'software dev'"
      ]
     },
     "metadata": {},
     "output_type": "display_data"
    },
    {
     "data": {
      "text/plain": [
       "'BAS accredited bookkeeper'"
      ]
     },
     "metadata": {},
     "output_type": "display_data"
    },
    {
     "data": {
      "text/plain": [
       "'SMSF Trustee'"
      ]
     },
     "metadata": {},
     "output_type": "display_data"
    },
    {
     "data": {
      "text/plain": [
       "'Software developer for Tax solutions'"
      ]
     },
     "metadata": {},
     "output_type": "display_data"
    },
    {
     "data": {
      "text/plain": [
       "'Financial Planner'"
      ]
     },
     "metadata": {},
     "output_type": "display_data"
    },
    {
     "data": {
      "text/plain": [
       "'smsf professional'"
      ]
     },
     "metadata": {},
     "output_type": "display_data"
    },
    {
     "data": {
      "text/plain": [
       "'superfund trustee manager'"
      ]
     },
     "metadata": {},
     "output_type": "display_data"
    },
    {
     "data": {
      "text/plain": [
       "'public service payroll specialist'"
      ]
     },
     "metadata": {},
     "output_type": "display_data"
    },
    {
     "data": {
      "text/plain": [
       "'APRA regulated fund compliance specialist'"
      ]
     },
     "metadata": {},
     "output_type": "display_data"
    },
    {
     "data": {
      "text/plain": [
       "'Super Fund'"
      ]
     },
     "metadata": {},
     "output_type": "display_data"
    }
   ],
   "source": [
    "beta.other_responses(clean_df, '* Which of the following best describes your role? - Other, please specify')"
   ]
  },
  {
   "cell_type": "markdown",
   "metadata": {},
   "source": [
    "### Are you an ATO employee?"
   ]
  },
  {
   "cell_type": "code",
   "execution_count": 43,
   "metadata": {
    "collapsed": false
   },
   "outputs": [
    {
     "name": "stdout",
     "output_type": "stream",
     "text": [
      "SAMPLE SIZE: 196 (* Are you an ATO employee?)\n",
      "TOTAL %: 1.0 (* Are you an ATO employee?)\n"
     ]
    },
    {
     "data": {
      "text/html": [
       "<div>\n",
       "<table border=\"1\" class=\"dataframe\">\n",
       "  <thead>\n",
       "    <tr style=\"text-align: right;\">\n",
       "      <th></th>\n",
       "      <th>* Are you an ATO employee? (N)</th>\n",
       "      <th>* Are you an ATO employee? (%)</th>\n",
       "    </tr>\n",
       "  </thead>\n",
       "  <tbody>\n",
       "    <tr>\n",
       "      <th>No</th>\n",
       "      <td>196</td>\n",
       "      <td>1.0</td>\n",
       "    </tr>\n",
       "  </tbody>\n",
       "</table>\n",
       "</div>"
      ],
      "text/plain": [
       "    * Are you an ATO employee? (N)  * Are you an ATO employee? (%)\n",
       "No                             196                             1.0"
      ]
     },
     "metadata": {},
     "output_type": "display_data"
    },
    {
     "data": {
      "image/png": "[encoded data removed]",
      "text/plain": [
       "<matplotlib.figure.Figure at 0x114e5e780>"
      ]
     },
     "metadata": {},
     "output_type": "display_data"
    }
   ],
   "source": [
    "q11 = ['* Are you an ATO employee?']\n",
    "beta.single_answer(clean_df, q11, beta.grapher, folder)"
   ]
  },
  {
   "cell_type": "markdown",
   "metadata": {},
   "source": [
    "### Which age group do you belong to?"
   ]
  },
  {
   "cell_type": "code",
   "execution_count": 44,
   "metadata": {
    "collapsed": false
   },
   "outputs": [
    {
     "name": "stdout",
     "output_type": "stream",
     "text": [
      "SAMPLE SIZE: 195 (Which age group do you belong to?)\n",
      "TOTAL %: 1.0 (Which age group do you belong to?)\n"
     ]
    },
    {
     "data": {
      "text/html": [
       "<div>\n",
       "<table border=\"1\" class=\"dataframe\">\n",
       "  <thead>\n",
       "    <tr style=\"text-align: right;\">\n",
       "      <th></th>\n",
       "      <th>Which age group do you belong to? (N)</th>\n",
       "      <th>Which age group do you belong to? (%)</th>\n",
       "    </tr>\n",
       "  </thead>\n",
       "  <tbody>\n",
       "    <tr>\n",
       "      <th>18-25</th>\n",
       "      <td>2</td>\n",
       "      <td>0.010256</td>\n",
       "    </tr>\n",
       "    <tr>\n",
       "      <th>26-35</th>\n",
       "      <td>23</td>\n",
       "      <td>0.117949</td>\n",
       "    </tr>\n",
       "    <tr>\n",
       "      <th>36-45</th>\n",
       "      <td>40</td>\n",
       "      <td>0.205128</td>\n",
       "    </tr>\n",
       "    <tr>\n",
       "      <th>46-65</th>\n",
       "      <td>106</td>\n",
       "      <td>0.543590</td>\n",
       "    </tr>\n",
       "    <tr>\n",
       "      <th>Older than 65</th>\n",
       "      <td>24</td>\n",
       "      <td>0.123077</td>\n",
       "    </tr>\n",
       "  </tbody>\n",
       "</table>\n",
       "</div>"
      ],
      "text/plain": [
       "               Which age group do you belong to? (N)  \\\n",
       "18-25                                              2   \n",
       "26-35                                             23   \n",
       "36-45                                             40   \n",
       "46-65                                            106   \n",
       "Older than 65                                     24   \n",
       "\n",
       "               Which age group do you belong to? (%)  \n",
       "18-25                                       0.010256  \n",
       "26-35                                       0.117949  \n",
       "36-45                                       0.205128  \n",
       "46-65                                       0.543590  \n",
       "Older than 65                               0.123077  "
      ]
     },
     "metadata": {},
     "output_type": "display_data"
    },
    {
     "data": {
      "image/png": "[encoded data removed]",
      "text/plain": [
       "<matplotlib.figure.Figure at 0x1180e3978>"
      ]
     },
     "metadata": {},
     "output_type": "display_data"
    }
   ],
   "source": [
    "q12 = ['Which age group do you belong to?']\n",
    "beta.single_answer(clean_df, q12, beta.grapher, folder)"
   ]
  },
  {
   "cell_type": "code",
   "execution_count": null,
   "metadata": {
    "collapsed": true
   },
   "outputs": [],
   "source": []
  },
  {
   "cell_type": "code",
   "execution_count": null,
   "metadata": {
    "collapsed": true
   },
   "outputs": [],
   "source": []
  }
 ],
 "metadata": {
  "anaconda-cloud": {},
  "kernelspec": {
   "display_name": "Python [conda root]",
   "language": "python",
   "name": "conda-root-py"
  },
  "language_info": {
   "codemirror_mode": {
    "name": "ipython",
    "version": 3
   },
   "file_extension": ".py",
   "mimetype": "text/x-python",
   "name": "python",
   "nbconvert_exporter": "python",
   "pygments_lexer": "ipython3",
   "version": "3.5.2"
  }
 },
 "nbformat": 4,
 "nbformat_minor": 1
}
