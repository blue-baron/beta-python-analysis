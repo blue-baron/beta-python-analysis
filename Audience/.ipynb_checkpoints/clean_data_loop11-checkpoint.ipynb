{
 "cells": [
  {
   "cell_type": "markdown",
   "metadata": {},
   "source": [
    "#### Import packages."
   ]
  },
  {
   "cell_type": "code",
   "execution_count": 105,
   "metadata": {
    "collapsed": true
   },
   "outputs": [],
   "source": [
    "import pandas as pd\n",
    "from IPython.display import display, HTML"
   ]
  },
  {
   "cell_type": "markdown",
   "metadata": {},
   "source": [
    "#### Import raw data csv from Loop11."
   ]
  },
  {
   "cell_type": "code",
   "execution_count": 109,
   "metadata": {
    "collapsed": false,
    "scrolled": true
   },
   "outputs": [
    {
     "data": {
      "text/html": [
       "<div>\n",
       "<table border=\"1\" class=\"dataframe\">\n",
       "  <thead>\n",
       "    <tr style=\"text-align: right;\">\n",
       "      <th></th>\n",
       "      <th>UserZoom ID</th>\n",
       "      <th>Status</th>\n",
       "      <th>Start Date</th>\n",
       "      <th>End Date</th>\n",
       "      <th>Have you visited ATO Beta before? (For example, tested a new product, read a blog post, received an email) *</th>\n",
       "      <th>How did you find out about ATO Beta? *</th>\n",
       "      <th>Unnamed: 6</th>\n",
       "      <th>Unnamed: 7</th>\n",
       "      <th>Unnamed: 8</th>\n",
       "      <th>Unnamed: 9</th>\n",
       "      <th>...</th>\n",
       "      <th>Unnamed: 93</th>\n",
       "      <th>Unnamed: 94</th>\n",
       "      <th>Unnamed: 95</th>\n",
       "      <th>Unnamed: 96</th>\n",
       "      <th>Unnamed: 97</th>\n",
       "      <th>How do you usually lodge your tax return? *</th>\n",
       "      <th>Unnamed: 99</th>\n",
       "      <th>Unnamed: 100</th>\n",
       "      <th>Unnamed: 101</th>\n",
       "      <th>Unnamed: 102</th>\n",
       "    </tr>\n",
       "  </thead>\n",
       "  <tbody>\n",
       "    <tr>\n",
       "      <th>0</th>\n",
       "      <td>NaN</td>\n",
       "      <td>Response</td>\n",
       "      <td>NaN</td>\n",
       "      <td>NaN</td>\n",
       "      <td>Response</td>\n",
       "      <td>Colleague or friend</td>\n",
       "      <td>Facebook</td>\n",
       "      <td>Twitter</td>\n",
       "      <td>LinkedIn</td>\n",
       "      <td>ATO newsletter</td>\n",
       "      <td>...</td>\n",
       "      <td>Small business</td>\n",
       "      <td>Large business</td>\n",
       "      <td>Not-for-profit</td>\n",
       "      <td>Other</td>\n",
       "      <td>Other</td>\n",
       "      <td>online via myTax</td>\n",
       "      <td>using a paper form</td>\n",
       "      <td>through a tax agent</td>\n",
       "      <td>I donÕt need to lodge a tax return</td>\n",
       "      <td>prefer not to say</td>\n",
       "    </tr>\n",
       "    <tr>\n",
       "      <th>1</th>\n",
       "      <td>C881S14_111</td>\n",
       "      <td>Complete</td>\n",
       "      <td>2017/07/13 12:07:58</td>\n",
       "      <td>2017/07/13 12:22:56</td>\n",
       "      <td>Yes</td>\n",
       "      <td>Colleague or friend</td>\n",
       "      <td>NaN</td>\n",
       "      <td>NaN</td>\n",
       "      <td>NaN</td>\n",
       "      <td>NaN</td>\n",
       "      <td>...</td>\n",
       "      <td>NaN</td>\n",
       "      <td>NaN</td>\n",
       "      <td>NaN</td>\n",
       "      <td>NaN</td>\n",
       "      <td>NaN</td>\n",
       "      <td>online via myTax</td>\n",
       "      <td>NaN</td>\n",
       "      <td>NaN</td>\n",
       "      <td>NaN</td>\n",
       "      <td>NaN</td>\n",
       "    </tr>\n",
       "    <tr>\n",
       "      <th>2</th>\n",
       "      <td>C881S14_112</td>\n",
       "      <td>Complete</td>\n",
       "      <td>2017/07/13 12:08:00</td>\n",
       "      <td>2017/07/13 12:58:52</td>\n",
       "      <td>Yes</td>\n",
       "      <td>NaN</td>\n",
       "      <td>NaN</td>\n",
       "      <td>NaN</td>\n",
       "      <td>NaN</td>\n",
       "      <td>ATO newsletter</td>\n",
       "      <td>...</td>\n",
       "      <td>NaN</td>\n",
       "      <td>NaN</td>\n",
       "      <td>NaN</td>\n",
       "      <td>NaN</td>\n",
       "      <td>NaN</td>\n",
       "      <td>online via myTax</td>\n",
       "      <td>NaN</td>\n",
       "      <td>NaN</td>\n",
       "      <td>NaN</td>\n",
       "      <td>NaN</td>\n",
       "    </tr>\n",
       "    <tr>\n",
       "      <th>3</th>\n",
       "      <td>C881S14_113</td>\n",
       "      <td>Complete</td>\n",
       "      <td>2017/07/13 12:08:55</td>\n",
       "      <td>2017/07/13 12:13:54</td>\n",
       "      <td>Not sure</td>\n",
       "      <td>NaN</td>\n",
       "      <td>NaN</td>\n",
       "      <td>NaN</td>\n",
       "      <td>NaN</td>\n",
       "      <td>ATO newsletter</td>\n",
       "      <td>...</td>\n",
       "      <td>NaN</td>\n",
       "      <td>NaN</td>\n",
       "      <td>NaN</td>\n",
       "      <td>NaN</td>\n",
       "      <td>NaN</td>\n",
       "      <td>online via myTax</td>\n",
       "      <td>NaN</td>\n",
       "      <td>NaN</td>\n",
       "      <td>NaN</td>\n",
       "      <td>NaN</td>\n",
       "    </tr>\n",
       "    <tr>\n",
       "      <th>4</th>\n",
       "      <td>C881S14_118</td>\n",
       "      <td>Complete</td>\n",
       "      <td>2017/07/13 12:10:24</td>\n",
       "      <td>2017/07/13 13:19:13</td>\n",
       "      <td>Yes</td>\n",
       "      <td>NaN</td>\n",
       "      <td>NaN</td>\n",
       "      <td>NaN</td>\n",
       "      <td>NaN</td>\n",
       "      <td>NaN</td>\n",
       "      <td>...</td>\n",
       "      <td>NaN</td>\n",
       "      <td>NaN</td>\n",
       "      <td>NaN</td>\n",
       "      <td>Other</td>\n",
       "      <td>employee</td>\n",
       "      <td>NaN</td>\n",
       "      <td>NaN</td>\n",
       "      <td>through a tax agent</td>\n",
       "      <td>NaN</td>\n",
       "      <td>NaN</td>\n",
       "    </tr>\n",
       "  </tbody>\n",
       "</table>\n",
       "<p>5 rows × 103 columns</p>\n",
       "</div>"
      ],
      "text/plain": [
       "   UserZoom ID    Status           Start Date             End Date Have you visited ATO Beta before? (For example, tested a new product, read a blog post, received an email) * How did you find out about ATO Beta? * Unnamed: 6 Unnamed: 7 Unnamed: 8      Unnamed: 9        ...             Unnamed: 93     Unnamed: 94     Unnamed: 95 Unnamed: 96 Unnamed: 97 How do you usually lodge your tax return? *         Unnamed: 99         Unnamed: 100                        Unnamed: 101       Unnamed: 102\n",
       "0          NaN  Response                  NaN                  NaN                                           Response                                                                              Colleague or friend   Facebook    Twitter   LinkedIn  ATO newsletter        ...          Small business  Large business  Not-for-profit       Other       Other                            online via myTax  using a paper form  through a tax agent  I donÕt need to lodge a tax return  prefer not to say\n",
       "1  C881S14_111  Complete  2017/07/13 12:07:58  2017/07/13 12:22:56                                                Yes                                                                              Colleague or friend        NaN        NaN        NaN             NaN        ...                     NaN             NaN             NaN         NaN         NaN                            online via myTax                 NaN                  NaN                                 NaN                NaN\n",
       "2  C881S14_112  Complete  2017/07/13 12:08:00  2017/07/13 12:58:52                                                Yes                                                                                              NaN        NaN        NaN        NaN  ATO newsletter        ...                     NaN             NaN             NaN         NaN         NaN                            online via myTax                 NaN                  NaN                                 NaN                NaN\n",
       "3  C881S14_113  Complete  2017/07/13 12:08:55  2017/07/13 12:13:54                                           Not sure                                                                                              NaN        NaN        NaN        NaN  ATO newsletter        ...                     NaN             NaN             NaN         NaN         NaN                            online via myTax                 NaN                  NaN                                 NaN                NaN\n",
       "4  C881S14_118  Complete  2017/07/13 12:10:24  2017/07/13 13:19:13                                                Yes                                                                                              NaN        NaN        NaN        NaN             NaN        ...                     NaN             NaN             NaN       Other    employee                                         NaN                 NaN  through a tax agent                                 NaN                NaN\n",
       "\n",
       "[5 rows x 103 columns]"
      ]
     },
     "metadata": {},
     "output_type": "display_data"
    }
   ],
   "source": [
    "# Create variable and create DataFrame from the raw data exported from testing tool.\n",
    "\n",
    "raw_df = pd.read_csv('C881S14_ATO_Beta_Audience_Survey_Condensed_All.csv', encoding = 'latin1')\n",
    "display(raw_df.head())"
   ]
  },
  {
   "cell_type": "markdown",
   "metadata": {},
   "source": [
    "### Rename the column headings\n"
   ]
  },
  {
   "cell_type": "code",
   "execution_count": 112,
   "metadata": {
    "collapsed": false,
    "scrolled": false
   },
   "outputs": [],
   "source": [
    "# Rename columns that have been named inappropriately\n",
    "\n",
    "raw_df=raw_df.rename(columns = {'How did you find out about ATO Beta? *':'How did you find out about ATO Beta?',\n",
    "                                'Unnamed: 6':'How did you find out about ATO Beta? - 1',\n",
    "                                'Unnamed: 7':'How did you find out about ATO Beta? - 2',\n",
    "                                'Unnamed: 8':'How did you find out about ATO Beta? - 3',\n",
    "                                'Unnamed: 9':'How did you find out about ATO Beta? - 4',\n",
    "                                'Unnamed: 10':'How did you find out about ATO Beta? - 5',\n",
    "                                'Unnamed: 11':'How did you find out about ATO Beta? - 6',\n",
    "                                'Unnamed: 12':'How did you find out about ATO Beta? - 7',\n",
    "                                'What would be the best way to let you know about new ATO Beta tests, blogs and updates? *':'What would be the best way to let you know about new ATO Beta tests, blogs and updates?',\n",
    "                                'Unnamed: 14':'What would be the best way to let you know about new ATO Beta tests, blogs and updates? - 1',\n",
    "                                'Unnamed: 15':'What would be the best way to let you know about new ATO Beta tests, blogs and updates? - 2',\n",
    "                                'Unnamed: 16':'What would be the best way to let you know about new ATO Beta tests, blogs and updates? - 3',\n",
    "                                'Unnamed: 17':'What would be the best way to let you know about new ATO Beta tests, blogs and updates? - 4',\n",
    "                                'Unnamed: 18':'What would be the best way to let you know about new ATO Beta tests, blogs and updates? - 5',\n",
    "                                'Unnamed: 19':'What would be the best way to let you know about new ATO Beta tests, blogs and updates? - 6',\n",
    "                                'Do you follow any ATO social media channels? *':'Do you follow any ATO social media channels?',\n",
    "                                'Unnamed: 21':'Do you follow any ATO social media channels? - 1',\n",
    "                                'Unnamed: 22':'Do you follow any ATO social media channels? - 2',\n",
    "                                'Unnamed: 23':'Do you follow any ATO social media channels? - 1',\n",
    "                                'How often would you like to hear from us?*':'How often would you like to hear from us?',\n",
    "                                'Unnamed: 26':'How often would you like to hear from us?',\n",
    "                                'Why not? *':'If you are subscribed to the Beta mailing list, why not?',\n",
    "                                'Unnamed: 28':'If you are subscribed to the Beta mailing list, why not? - 1',\n",
    "                                'Unnamed: 29':'If you are subscribed to the Beta mailing list, why not? - 2',\n",
    "                                'Unnamed: 30':'If you are subscribed to the Beta mailing list, why not? - 1',\n",
    "                                'Unnamed: 31':'If you are subscribed to the Beta mailing list, why not? - 3',\n",
    "                                'Unnamed: 32':'If you are subscribed to the Beta mailing list, why not? - 4',\n",
    "                                'Unnamed: 33':'If you are subscribed to the Beta mailing list, why not? - 5',\n",
    "                                'Unnamed: 34':'If you are subscribed to the Beta mailing list, why not? - 6',\n",
    "                                'What type of ATO Beta content are you interested in? *':'What type of ATO Beta content are you interested in?',\n",
    "                                'Unnamed: 36':'What type of ATO Beta content are you interested in? - 1',\n",
    "                                'Unnamed: 37':'What type of ATO Beta content are you interested in? - 2',\n",
    "                                'Unnamed: 38':'What type of ATO Beta content are you interested in? - 3',\n",
    "                                'Unnamed: 39':'What type of ATO Beta content are you interested in? - 4',\n",
    "                                'Unnamed: 40':'What type of ATO Beta content are you interested in? - 5',\n",
    "                                'Unnamed: 41':'What type of ATO Beta content are you interested in? - 6',\n",
    "                                'How satisfied are you with the ATO Beta website? *':'How satisfied are you with the ATO Beta website?',\n",
    "                                'Unnamed: 43':'ATO Beta website: Why did you give this rating?',\n",
    "                                'What was your reason for not finishing the ATO Beta test or survey? *':'What was your reason for not finishing the ATO Beta test or survey?',\n",
    "                                'Unnamed: 46':'What was your reason for not finishing the ATO Beta test or survey?',\n",
    "                                'How satisfied are you with our tests of new features, products and services? *':'How satisfied are you with our tests of new features, products and services?',\n",
    "                                'Unnamed: 48':'Features, products and services: Why did you give this rating?',\n",
    "                                'How satisfied are you with ATO Beta emails? *':'How satisfied are you with ATO Beta emails?',\n",
    "                                'Unnamed: 50':'Email rating: Why did you give this rating?',\n",
    "                                'When do you prefer to interact with ATO Beta content (for example, read a blog or test a new feature) ? Please select all that apply. *':'When do you prefer to interact with ATO Beta content?',\n",
    "                                'Unnamed: 52':'When do you prefer to interact with ATO Beta content? - 1',\n",
    "                                'Unnamed: 53':'When do you prefer to interact with ATO Beta content? - 2',\n",
    "                                'Unnamed: 54':'When do you prefer to interact with ATO Beta content? - 3',\n",
    "                                'Unnamed: 55':'When do you prefer to interact with ATO Beta content? - 4',\n",
    "                                'Unnamed: 56':'When do you prefer to interact with ATO Beta content? - 5',\n",
    "                                'Unnamed: 57':'When do you prefer to interact with ATO Beta content? - 6',\n",
    "                                'What time of day do you prefer to interact with ATO Beta? *':'What time of day do you prefer to interact with ATO Beta?',\n",
    "                                'Unnamed: 59':'What time of day do you prefer to interact with ATO Beta? - 1',\n",
    "                                'Unnamed: 60':'What time of day do you prefer to interact with ATO Beta? - 2',\n",
    "                                'Unnamed: 61':'What time of day do you prefer to interact with ATO Beta? - 3',\n",
    "                                'On what devices do you prefer to view ATO Beta content? *':'On what devices do you prefer to view ATO Beta content?',\n",
    "                                'Unnamed: 63':'On what devices do you prefer to view ATO Beta content? - 1',\n",
    "                                'Unnamed: 64':'On what devices do you prefer to view ATO Beta content? - 2',\n",
    "                                'Unnamed: 65':'On what devices do you prefer to view ATO Beta content? - 3',\n",
    "                                'What type of content are you interested in? *':'What type of content are you interested in?',\n",
    "                                'Unnamed: 68':'What type of content are you interested in? - 1',\n",
    "                                'Unnamed: 69':'What type of content are you interested in? - 2',\n",
    "                                'Unnamed: 70':'What type of content are you interested in? - 3',\n",
    "                                'Unnamed: 71':'What type of content are you interested in? - 4',\n",
    "                                'Unnamed: 72':'What type of content are you interested in? - 5',\n",
    "                                'Unnamed: 73':'What type of content are you interested in? - 6',\n",
    "                                'When do you prefer to interact with digital content that is not directly related to your work? (for example, blogs or surveys) *':'When do you prefer to interact with digital content that is not directly related to your work?',\n",
    "                                'Unnamed: 75':'When do you prefer to interact with digital content that is not directly related to your work? - 1',\n",
    "                                'Unnamed: 76':'When do you prefer to interact with digital content that is not directly related to your work? - 2',\n",
    "                                'Unnamed: 77':'When do you prefer to interact with digital content that is not directly related to your work? - 3',\n",
    "                                'Unnamed: 78':'When do you prefer to interact with digital content that is not directly related to your work? - 4',\n",
    "                                'Unnamed: 79':'When do you prefer to interact with digital content that is not directly related to your work? - 5',\n",
    "                                'What time of day do you prefer to interact with digital content that is not directly related to your work? (for example, blogs or surveys)*':'What time of day do you prefer to interact with digital content that is not directly related to your work?',\n",
    "                                'Unnamed: 81':'What time of day do you prefer to interact with digital content that is not directly related to your work? - 1',\n",
    "                                'Unnamed: 82':'What time of day do you prefer to interact with digital content that is not directly related to your work? - 2',\n",
    "                                'What devices do you use to view digital content? *':'What devices do you use to view digital content?',\n",
    "                                'Unnamed: 84':'What devices do you use to view digital content? -1',\n",
    "                                'Unnamed: 85':'What devices do you use to view digital content? - 2',\n",
    "                                'Unnamed: 86':'What devices do you use to view digital content? - 3',\n",
    "                                'Which of the following best describes you? (select all that apply) *':'Which of the following best describes you?',\n",
    "                                'Unnamed: 91':'Which of the following best describes you? - 1',\n",
    "                                'Unnamed: 92':'Which of the following best describes you? - 2',\n",
    "                                'Unnamed: 93':'Which of the following best describes you? - 3',\n",
    "                                'Unnamed: 94':'Which of the following best describes you? - 4',\n",
    "                                'Unnamed: 95':'Which of the following best describes you? - 5',\n",
    "                                'Unnamed: 96':'Which of the following best describes you? - 6',\n",
    "                                'Unnamed: 97':'Which of the following best describes you? - 7',\n",
    "                                'How do you usually lodge your tax return? *':'How do you usually lodge your tax return?',\n",
    "                                'Unnamed: 99':'How do you usually lodge your tax return? - 1',\n",
    "                                'Unnamed: 100':'How do you usually lodge your tax return? - 2',\n",
    "                                'Unnamed: 101':'How do you usually lodge your tax return? - 3',\n",
    "                                'Unnamed: 102':'How do you usually lodge your tax return? - 4'\n",
    "                               })"
   ]
  },
  {
   "cell_type": "code",
   "execution_count": 113,
   "metadata": {
    "collapsed": false
   },
   "outputs": [],
   "source": [
    "# Delete redundant header row\n",
    "raw_df = raw_df.drop(raw_df.index[0])"
   ]
  },
  {
   "cell_type": "code",
   "execution_count": 114,
   "metadata": {
    "collapsed": false,
    "scrolled": true
   },
   "outputs": [
    {
     "data": {
      "text/plain": [
       "['UserZoom ID',\n",
       " 'Status',\n",
       " 'Start Date',\n",
       " 'End Date',\n",
       " 'Have you visited ATO Beta before? (For example, tested a new product, read a blog post, received an email) *',\n",
       " 'How did you find out about ATO Beta?',\n",
       " 'How did you find out about ATO Beta? - 1',\n",
       " 'How did you find out about ATO Beta? - 2',\n",
       " 'How did you find out about ATO Beta? - 3',\n",
       " 'How did you find out about ATO Beta? - 4',\n",
       " 'How did you find out about ATO Beta? - 5',\n",
       " 'How did you find out about ATO Beta? - 6',\n",
       " 'How did you find out about ATO Beta? - 7',\n",
       " 'What would be the best way to let you know about new ATO Beta tests, blogs and updates?',\n",
       " 'What would be the best way to let you know about new ATO Beta tests, blogs and updates? - 1',\n",
       " 'What would be the best way to let you know about new ATO Beta tests, blogs and updates? - 2',\n",
       " 'What would be the best way to let you know about new ATO Beta tests, blogs and updates? - 3',\n",
       " 'What would be the best way to let you know about new ATO Beta tests, blogs and updates? - 4',\n",
       " 'What would be the best way to let you know about new ATO Beta tests, blogs and updates? - 5',\n",
       " 'What would be the best way to let you know about new ATO Beta tests, blogs and updates? - 6',\n",
       " 'Do you follow any ATO social media channels?',\n",
       " 'Do you follow any ATO social media channels? - 1',\n",
       " 'Do you follow any ATO social media channels? - 2',\n",
       " 'Do you follow any ATO social media channels? - 1',\n",
       " 'Are you subscribed to the ATO Beta mailing list? *',\n",
       " 'How often would you like to hear from us?',\n",
       " 'How often would you like to hear from us?',\n",
       " 'If you are subscribed to the Beta mailing list, why not?',\n",
       " 'If you are subscribed to the Beta mailing list, why not? - 1',\n",
       " 'If you are subscribed to the Beta mailing list, why not? - 2',\n",
       " 'If you are subscribed to the Beta mailing list, why not? - 1',\n",
       " 'If you are subscribed to the Beta mailing list, why not? - 3',\n",
       " 'If you are subscribed to the Beta mailing list, why not? - 4',\n",
       " 'If you are subscribed to the Beta mailing list, why not? - 5',\n",
       " 'If you are subscribed to the Beta mailing list, why not? - 6',\n",
       " 'What type of ATO Beta content are you interested in?',\n",
       " 'What type of ATO Beta content are you interested in? - 1',\n",
       " 'What type of ATO Beta content are you interested in? - 2',\n",
       " 'What type of ATO Beta content are you interested in? - 3',\n",
       " 'What type of ATO Beta content are you interested in? - 4',\n",
       " 'What type of ATO Beta content are you interested in? - 5',\n",
       " 'What type of ATO Beta content are you interested in? - 6',\n",
       " 'How satisfied are you with the ATO Beta website?',\n",
       " 'ATO Beta website: Why did you give this rating?',\n",
       " 'Have you ever started but not finished an ATO Beta test or survey? *',\n",
       " 'What was your reason for not finishing the ATO Beta test or survey?',\n",
       " 'What was your reason for not finishing the ATO Beta test or survey?',\n",
       " 'How satisfied are you with our tests of new features, products and services?',\n",
       " 'Features, products and services: Why did you give this rating?',\n",
       " 'How satisfied are you with ATO Beta emails?',\n",
       " 'Email rating: Why did you give this rating?',\n",
       " 'When do you prefer to interact with ATO Beta content?',\n",
       " 'When do you prefer to interact with ATO Beta content? - 1',\n",
       " 'When do you prefer to interact with ATO Beta content? - 2',\n",
       " 'When do you prefer to interact with ATO Beta content? - 3',\n",
       " 'When do you prefer to interact with ATO Beta content? - 4',\n",
       " 'When do you prefer to interact with ATO Beta content? - 5',\n",
       " 'When do you prefer to interact with ATO Beta content? - 6',\n",
       " 'What time of day do you prefer to interact with ATO Beta?',\n",
       " 'What time of day do you prefer to interact with ATO Beta? - 1',\n",
       " 'What time of day do you prefer to interact with ATO Beta? - 2',\n",
       " 'What time of day do you prefer to interact with ATO Beta? - 3',\n",
       " 'On what devices do you prefer to view ATO Beta content?',\n",
       " 'On what devices do you prefer to view ATO Beta content? - 1',\n",
       " 'On what devices do you prefer to view ATO Beta content? - 2',\n",
       " 'On what devices do you prefer to view ATO Beta content? - 3',\n",
       " 'What can ATO Beta do to improve our service?',\n",
       " 'What type of content are you interested in?',\n",
       " 'What type of content are you interested in? - 1',\n",
       " 'What type of content are you interested in? - 2',\n",
       " 'What type of content are you interested in? - 3',\n",
       " 'What type of content are you interested in? - 4',\n",
       " 'What type of content are you interested in? - 5',\n",
       " 'What type of content are you interested in? - 6',\n",
       " 'When do you prefer to interact with digital content that is not directly related to your work?',\n",
       " 'When do you prefer to interact with digital content that is not directly related to your work? - 1',\n",
       " 'When do you prefer to interact with digital content that is not directly related to your work? - 2',\n",
       " 'When do you prefer to interact with digital content that is not directly related to your work? - 3',\n",
       " 'When do you prefer to interact with digital content that is not directly related to your work? - 4',\n",
       " 'When do you prefer to interact with digital content that is not directly related to your work? - 5',\n",
       " 'What time of day do you prefer to interact with digital content that is not directly related to your work?',\n",
       " 'What time of day do you prefer to interact with digital content that is not directly related to your work? - 1',\n",
       " 'What time of day do you prefer to interact with digital content that is not directly related to your work? - 2',\n",
       " 'What devices do you use to view digital content?',\n",
       " 'What devices do you use to view digital content? -1',\n",
       " 'What devices do you use to view digital content? - 2',\n",
       " 'What devices do you use to view digital content? - 3',\n",
       " 'Which age group do you belong to?',\n",
       " 'What is your occupation? *',\n",
       " 'Are you a: *',\n",
       " 'Which of the following best describes you?',\n",
       " 'Which of the following best describes you? - 1',\n",
       " 'Which of the following best describes you? - 2',\n",
       " 'Which of the following best describes you? - 3',\n",
       " 'Which of the following best describes you? - 4',\n",
       " 'Which of the following best describes you? - 5',\n",
       " 'Which of the following best describes you? - 6',\n",
       " 'Which of the following best describes you? - 7',\n",
       " 'How do you usually lodge your tax return?',\n",
       " 'How do you usually lodge your tax return? - 1',\n",
       " 'How do you usually lodge your tax return? - 2',\n",
       " 'How do you usually lodge your tax return? - 3',\n",
       " 'How do you usually lodge your tax return? - 4']"
      ]
     },
     "execution_count": 114,
     "metadata": {},
     "output_type": "execute_result"
    }
   ],
   "source": [
    "# List the DataFrame Column names - for reference.\n",
    "list(raw_df.columns.values)"
   ]
  },
  {
   "cell_type": "code",
   "execution_count": 115,
   "metadata": {
    "collapsed": false
   },
   "outputs": [
    {
     "data": {
      "text/plain": [
       "118"
      ]
     },
     "execution_count": 115,
     "metadata": {},
     "output_type": "execute_result"
    }
   ],
   "source": [
    "# Checking the number of participants in the raw data.\n",
    "len(raw_df)"
   ]
  },
  {
   "cell_type": "markdown",
   "metadata": {},
   "source": [
    "#### Remove NaN values from open text field columns to avoid type errors."
   ]
  },
  {
   "cell_type": "markdown",
   "metadata": {},
   "source": [
    "#### Define function to check for testers identified in the open text questions."
   ]
  },
  {
   "cell_type": "code",
   "execution_count": 117,
   "metadata": {
    "collapsed": false
   },
   "outputs": [
    {
     "data": {
      "text/plain": [
       "['What can ATO Beta do to improve our service?']"
      ]
     },
     "execution_count": 117,
     "metadata": {},
     "output_type": "execute_result"
    }
   ],
   "source": [
    "# Variable for storing open text field column names.\n",
    "# Note that col names must be unique or errors will occur down the track\n",
    "open_text_cols = ['What can ATO Beta do to improve our service?']\n",
    "open_text_cols"
   ]
  },
  {
   "cell_type": "code",
   "execution_count": 126,
   "metadata": {
    "collapsed": false
   },
   "outputs": [],
   "source": [
    "# Function to check for a partial string in the selected columns.\n",
    "# LDC 18/5/2017: Fixed to include all testers not just those found from the last col of open_text_columns\n",
    "def remove_testers(dataframe, fragment, columns):\n",
    "    for i, col in enumerate(columns):\n",
    "        temp = dataframe[dataframe[col].str.contains('(?i)'+fragment) == True]\n",
    "        if i == 0:\n",
    "            test_df = temp\n",
    "        else:\n",
    "            # Union merge the dataframes\n",
    "            test_df = pd.merge(test_df, temp, how='outer')\n",
    "       \n",
    "    return test_df\n",
    "\n",
    "testers_df = remove_testers(raw_df, 'test', open_text_cols)"
   ]
  },
  {
   "cell_type": "code",
   "execution_count": 127,
   "metadata": {
    "collapsed": false
   },
   "outputs": [
    {
     "data": {
      "text/html": [
       "<div>\n",
       "<table border=\"1\" class=\"dataframe\">\n",
       "  <thead>\n",
       "    <tr style=\"text-align: right;\">\n",
       "      <th></th>\n",
       "      <th>UserZoom ID</th>\n",
       "      <th>What can ATO Beta do to improve our service?</th>\n",
       "    </tr>\n",
       "  </thead>\n",
       "  <tbody>\n",
       "    <tr>\n",
       "      <th>2</th>\n",
       "      <td>C881S14_112</td>\n",
       "      <td>More information such as the results of Beta test</td>\n",
       "    </tr>\n",
       "    <tr>\n",
       "      <th>4</th>\n",
       "      <td>C881S14_118</td>\n",
       "      <td>have beta features to test.... good place to s...</td>\n",
       "    </tr>\n",
       "    <tr>\n",
       "      <th>15</th>\n",
       "      <td>C881S14_139</td>\n",
       "      <td>Make the tests easier to complete</td>\n",
       "    </tr>\n",
       "    <tr>\n",
       "      <th>32</th>\n",
       "      <td>C881S14_173</td>\n",
       "      <td>More information on what happened with tests. ...</td>\n",
       "    </tr>\n",
       "    <tr>\n",
       "      <th>55</th>\n",
       "      <td>C881S14_217</td>\n",
       "      <td>More tests and posts about ATO Content</td>\n",
       "    </tr>\n",
       "    <tr>\n",
       "      <th>62</th>\n",
       "      <td>C881S14_231</td>\n",
       "      <td>More testers.</td>\n",
       "    </tr>\n",
       "    <tr>\n",
       "      <th>106</th>\n",
       "      <td>C881S14_303</td>\n",
       "      <td>Information about new products being tested by...</td>\n",
       "    </tr>\n",
       "    <tr>\n",
       "      <th>107</th>\n",
       "      <td>C881S14_305</td>\n",
       "      <td>Like I said earlier, IÕd like to be more invol...</td>\n",
       "    </tr>\n",
       "  </tbody>\n",
       "</table>\n",
       "</div>"
      ],
      "text/plain": [
       "     UserZoom ID       What can ATO Beta do to improve our service?\n",
       "2    C881S14_112  More information such as the results of Beta test\n",
       "4    C881S14_118  have beta features to test.... good place to s...\n",
       "15   C881S14_139                  Make the tests easier to complete\n",
       "32   C881S14_173  More information on what happened with tests. ...\n",
       "55   C881S14_217             More tests and posts about ATO Content\n",
       "62   C881S14_231                                      More testers.\n",
       "106  C881S14_303  Information about new products being tested by...\n",
       "107  C881S14_305  Like I said earlier, IÕd like to be more invol..."
      ]
     },
     "metadata": {},
     "output_type": "display_data"
    }
   ],
   "source": [
    "# Print out the testers to check the comments are genuine tester comments.\n",
    "# Extend width so that to view all columns\n",
    "\n",
    "#pd.set_option('display.max_columns', 500)\n",
    "#pd.set_option('display.width', 1000)\n",
    "pd.set_option('display.expand_frame_repr', False)\n",
    "display(testers_df[['UserZoom ID']+open_text_cols])"
   ]
  },
  {
   "cell_type": "code",
   "execution_count": 128,
   "metadata": {
    "collapsed": false
   },
   "outputs": [
    {
     "data": {
      "text/plain": [
       "\"\\n# Remove participants that have falsely been id'd as testers\\nactual_testers = testers_df.loc[(testers_df['Participant No.'] != 'Participant 3') &\\n                               (testers_df['Participant No.'] != 'Participant 543')]\\n\\n\\n# Remove the actual testers from the raw data set to produce the cleaned set\\n# Remove by XOR deletion aka combine sets and delete overlap\\npd.set_option('display.max_rows', 500)\\n\\ndoubled_up = raw_df.append(actual_testers)\\ntester_free_df = doubled_up.drop_duplicates(subset=None, keep=False, inplace=False)\\nlen(tester_free_df) # sanity check\\n\""
      ]
     },
     "execution_count": 128,
     "metadata": {},
     "output_type": "execute_result"
    }
   ],
   "source": [
    "# NOTE: NO TESTERS ID'd SO NO NEED FOR THIS STEP\n",
    "'''\n",
    "# Remove participants that have falsely been id'd as testers\n",
    "actual_testers = testers_df.loc[(testers_df['Participant No.'] != 'Participant 3') &\n",
    "                               (testers_df['Participant No.'] != 'Participant 543')]\n",
    "\n",
    "\n",
    "# Remove the actual testers from the raw data set to produce the cleaned set\n",
    "# Remove by XOR deletion aka combine sets and delete overlap\n",
    "pd.set_option('display.max_rows', 500)\n",
    "\n",
    "doubled_up = raw_df.append(actual_testers)\n",
    "tester_free_df = doubled_up.drop_duplicates(subset=None, keep=False, inplace=False)\n",
    "len(tester_free_df) # sanity check\n",
    "'''"
   ]
  },
  {
   "cell_type": "markdown",
   "metadata": {
    "collapsed": true
   },
   "source": [
    "#### Looking at Total Time spent for outliers, rather than avg time."
   ]
  },
  {
   "cell_type": "code",
   "execution_count": 129,
   "metadata": {
    "collapsed": false
   },
   "outputs": [],
   "source": [
    "# Convert Start and End times to pandas datetime object.\n",
    "raw_df['Start Timestamp'] = pd.to_datetime(raw_df['Start Date'])\n",
    "raw_df['End Timestamp'] = pd.to_datetime(raw_df['End Date'])\n",
    "\n",
    "raw_df['Total Time'] = raw_df['End Timestamp'] - raw_df['Start Timestamp']"
   ]
  },
  {
   "cell_type": "code",
   "execution_count": 130,
   "metadata": {
    "collapsed": false
   },
   "outputs": [
    {
     "data": {
      "text/plain": [
       "count                       118\n",
       "mean     0 days 00:19:45.457627\n",
       "std      0 days 01:39:44.573292\n",
       "min             0 days 00:01:46\n",
       "25%      0 days 00:02:50.500000\n",
       "50%             0 days 00:04:04\n",
       "75%             0 days 00:05:59\n",
       "max             0 days 17:04:43\n",
       "Name: Total Time, dtype: object"
      ]
     },
     "execution_count": 130,
     "metadata": {},
     "output_type": "execute_result"
    }
   ],
   "source": [
    "# Convert string data to integer.\n",
    "raw_df['Total Time'].describe()"
   ]
  },
  {
   "cell_type": "code",
   "execution_count": 131,
   "metadata": {
    "collapsed": false
   },
   "outputs": [
    {
     "data": {
      "text/html": [
       "<div>\n",
       "<table border=\"1\" class=\"dataframe\">\n",
       "  <thead>\n",
       "    <tr style=\"text-align: right;\">\n",
       "      <th></th>\n",
       "      <th>UserZoom ID</th>\n",
       "      <th>Status</th>\n",
       "      <th>Start Date</th>\n",
       "      <th>End Date</th>\n",
       "      <th>Have you visited ATO Beta before? (For example, tested a new product, read a blog post, received an email) *</th>\n",
       "      <th>How did you find out about ATO Beta?</th>\n",
       "      <th>How did you find out about ATO Beta? - 1</th>\n",
       "      <th>How did you find out about ATO Beta? - 2</th>\n",
       "      <th>How did you find out about ATO Beta? - 3</th>\n",
       "      <th>How did you find out about ATO Beta? - 4</th>\n",
       "      <th>...</th>\n",
       "      <th>Which of the following best describes you? - 6</th>\n",
       "      <th>Which of the following best describes you? - 7</th>\n",
       "      <th>How do you usually lodge your tax return?</th>\n",
       "      <th>How do you usually lodge your tax return? - 1</th>\n",
       "      <th>How do you usually lodge your tax return? - 2</th>\n",
       "      <th>How do you usually lodge your tax return? - 3</th>\n",
       "      <th>How do you usually lodge your tax return? - 4</th>\n",
       "      <th>Start Timestamp</th>\n",
       "      <th>End Timestamp</th>\n",
       "      <th>Total Time</th>\n",
       "    </tr>\n",
       "  </thead>\n",
       "  <tbody>\n",
       "  </tbody>\n",
       "</table>\n",
       "<p>0 rows × 106 columns</p>\n",
       "</div>"
      ],
      "text/plain": [
       "Empty DataFrame\n",
       "Columns: [UserZoom ID, Status, Start Date, End Date, Have you visited ATO Beta before? (For example, tested a new product, read a blog post, received an email) *, How did you find out about ATO Beta?, How did you find out about ATO Beta? - 1, How did you find out about ATO Beta? - 2, How did you find out about ATO Beta? - 3, How did you find out about ATO Beta? - 4, How did you find out about ATO Beta? - 5, How did you find out about ATO Beta? - 6, How did you find out about ATO Beta? - 7, What would be the best way to let you know about new ATO Beta tests, blogs and updates?, What would be the best way to let you know about new ATO Beta tests, blogs and updates? - 1, What would be the best way to let you know about new ATO Beta tests, blogs and updates? - 2, What would be the best way to let you know about new ATO Beta tests, blogs and updates? - 3, What would be the best way to let you know about new ATO Beta tests, blogs and updates? - 4, What would be the best way to let you know about new ATO Beta tests, blogs and updates? - 5, What would be the best way to let you know about new ATO Beta tests, blogs and updates? - 6, Do you follow any ATO social media channels?, Do you follow any ATO social media channels? - 1, Do you follow any ATO social media channels? - 2, Do you follow any ATO social media channels? - 1, Are you subscribed to the ATO Beta mailing list? *, How often would you like to hear from us?, How often would you like to hear from us?, If you are subscribed to the Beta mailing list, why not?, If you are subscribed to the Beta mailing list, why not? - 1, If you are subscribed to the Beta mailing list, why not? - 2, If you are subscribed to the Beta mailing list, why not? - 1, If you are subscribed to the Beta mailing list, why not? - 3, If you are subscribed to the Beta mailing list, why not? - 4, If you are subscribed to the Beta mailing list, why not? - 5, If you are subscribed to the Beta mailing list, why not? - 6, What type of ATO Beta content are you interested in?, What type of ATO Beta content are you interested in? - 1, What type of ATO Beta content are you interested in? - 2, What type of ATO Beta content are you interested in? - 3, What type of ATO Beta content are you interested in? - 4, What type of ATO Beta content are you interested in? - 5, What type of ATO Beta content are you interested in? - 6, How satisfied are you with the ATO Beta website?, ATO Beta website: Why did you give this rating?, Have you ever started but not finished an ATO Beta test or survey? *, What was your reason for not finishing the ATO Beta test or survey?, What was your reason for not finishing the ATO Beta test or survey?, How satisfied are you with our tests of new features, products and services?, Features, products and services: Why did you give this rating?, How satisfied are you with ATO Beta emails?, Email rating: Why did you give this rating?, When do you prefer to interact with ATO Beta content?, When do you prefer to interact with ATO Beta content? - 1, When do you prefer to interact with ATO Beta content? - 2, When do you prefer to interact with ATO Beta content? - 3, When do you prefer to interact with ATO Beta content? - 4, When do you prefer to interact with ATO Beta content? - 5, When do you prefer to interact with ATO Beta content? - 6, What time of day do you prefer to interact with ATO Beta?, What time of day do you prefer to interact with ATO Beta? - 1, What time of day do you prefer to interact with ATO Beta? - 2, What time of day do you prefer to interact with ATO Beta? - 3, On what devices do you prefer to view ATO Beta content?, On what devices do you prefer to view ATO Beta content? - 1, On what devices do you prefer to view ATO Beta content? - 2, On what devices do you prefer to view ATO Beta content? - 3, What can ATO Beta do to improve our service?, What type of content are you interested in?, What type of content are you interested in? - 1, What type of content are you interested in? - 2, What type of content are you interested in? - 3, What type of content are you interested in? - 4, What type of content are you interested in? - 5, What type of content are you interested in? - 6, When do you prefer to interact with digital content that is not directly related to your work?, When do you prefer to interact with digital content that is not directly related to your work? - 1, When do you prefer to interact with digital content that is not directly related to your work? - 2, When do you prefer to interact with digital content that is not directly related to your work? - 3, When do you prefer to interact with digital content that is not directly related to your work? - 4, When do you prefer to interact with digital content that is not directly related to your work? - 5, What time of day do you prefer to interact with digital content that is not directly related to your work?, What time of day do you prefer to interact with digital content that is not directly related to your work? - 1, What time of day do you prefer to interact with digital content that is not directly related to your work? - 2, What devices do you use to view digital content?, What devices do you use to view digital content? -1, What devices do you use to view digital content? - 2, What devices do you use to view digital content? - 3, Which age group do you belong to?, What is your occupation? *, Are you a: *, Which of the following best describes you?, Which of the following best describes you? - 1, Which of the following best describes you? - 2, Which of the following best describes you? - 3, Which of the following best describes you? - 4, Which of the following best describes you? - 5, Which of the following best describes you? - 6, Which of the following best describes you? - 7, How do you usually lodge your tax return?, How do you usually lodge your tax return? - 1, ...]\n",
       "Index: []\n",
       "\n",
       "[0 rows x 106 columns]"
      ]
     },
     "execution_count": 131,
     "metadata": {},
     "output_type": "execute_result"
    }
   ],
   "source": [
    "# Calculate 2 std below the mean\n",
    "times_mean = raw_df['Total Time'].mean()\n",
    "times_std = raw_df['Total Time'].std()\n",
    "    \n",
    "mean_less_2xStd = times_mean - (times_std * 2)\n",
    "\n",
    "raw_df[raw_df['Total Time'] < mean_less_2xStd]"
   ]
  },
  {
   "cell_type": "code",
   "execution_count": 134,
   "metadata": {
    "collapsed": false
   },
   "outputs": [
    {
     "data": {
      "text/html": [
       "<div>\n",
       "<table border=\"1\" class=\"dataframe\">\n",
       "  <thead>\n",
       "    <tr style=\"text-align: right;\">\n",
       "      <th></th>\n",
       "      <th>UserZoom ID</th>\n",
       "      <th>Status</th>\n",
       "      <th>Start Date</th>\n",
       "      <th>End Date</th>\n",
       "      <th>Have you visited ATO Beta before? (For example, tested a new product, read a blog post, received an email) *</th>\n",
       "      <th>How did you find out about ATO Beta?</th>\n",
       "      <th>How did you find out about ATO Beta? - 1</th>\n",
       "      <th>How did you find out about ATO Beta? - 2</th>\n",
       "      <th>How did you find out about ATO Beta? - 3</th>\n",
       "      <th>How did you find out about ATO Beta? - 4</th>\n",
       "      <th>...</th>\n",
       "      <th>Which of the following best describes you? - 6</th>\n",
       "      <th>Which of the following best describes you? - 7</th>\n",
       "      <th>How do you usually lodge your tax return?</th>\n",
       "      <th>How do you usually lodge your tax return? - 1</th>\n",
       "      <th>How do you usually lodge your tax return? - 2</th>\n",
       "      <th>How do you usually lodge your tax return? - 3</th>\n",
       "      <th>How do you usually lodge your tax return? - 4</th>\n",
       "      <th>Start Timestamp</th>\n",
       "      <th>End Timestamp</th>\n",
       "      <th>Total Time</th>\n",
       "    </tr>\n",
       "  </thead>\n",
       "  <tbody>\n",
       "    <tr>\n",
       "      <th>26</th>\n",
       "      <td>C881S14_160</td>\n",
       "      <td>Complete</td>\n",
       "      <td>2017/07/13 13:46:30</td>\n",
       "      <td>2017/07/13 19:37:35</td>\n",
       "      <td>Yes</td>\n",
       "      <td>NaN</td>\n",
       "      <td>NaN</td>\n",
       "      <td>NaN</td>\n",
       "      <td>NaN</td>\n",
       "      <td>ATO newsletter</td>\n",
       "      <td>...</td>\n",
       "      <td>NaN</td>\n",
       "      <td>NaN</td>\n",
       "      <td>NaN</td>\n",
       "      <td>NaN</td>\n",
       "      <td>through a tax agent</td>\n",
       "      <td>NaN</td>\n",
       "      <td>NaN</td>\n",
       "      <td>2017-07-13 13:46:30</td>\n",
       "      <td>2017-07-13 19:37:35</td>\n",
       "      <td>05:51:05</td>\n",
       "    </tr>\n",
       "    <tr>\n",
       "      <th>65</th>\n",
       "      <td>C881S14_237</td>\n",
       "      <td>Complete</td>\n",
       "      <td>2017/07/13 15:49:10</td>\n",
       "      <td>2017/07/14 08:53:53</td>\n",
       "      <td>Yes</td>\n",
       "      <td>Colleague or friend</td>\n",
       "      <td>NaN</td>\n",
       "      <td>NaN</td>\n",
       "      <td>NaN</td>\n",
       "      <td>NaN</td>\n",
       "      <td>...</td>\n",
       "      <td>Other</td>\n",
       "      <td>IÕm an individual. I work for a large business...</td>\n",
       "      <td>NaN</td>\n",
       "      <td>NaN</td>\n",
       "      <td>through a tax agent</td>\n",
       "      <td>NaN</td>\n",
       "      <td>NaN</td>\n",
       "      <td>2017-07-13 15:49:10</td>\n",
       "      <td>2017-07-14 08:53:53</td>\n",
       "      <td>17:04:43</td>\n",
       "    </tr>\n",
       "  </tbody>\n",
       "</table>\n",
       "<p>2 rows × 106 columns</p>\n",
       "</div>"
      ],
      "text/plain": [
       "    UserZoom ID    Status           Start Date             End Date Have you visited ATO Beta before? (For example, tested a new product, read a blog post, received an email) * How did you find out about ATO Beta? How did you find out about ATO Beta? - 1 How did you find out about ATO Beta? - 2 How did you find out about ATO Beta? - 3 How did you find out about ATO Beta? - 4    ...     Which of the following best describes you? - 6     Which of the following best describes you? - 7 How do you usually lodge your tax return? How do you usually lodge your tax return? - 1 How do you usually lodge your tax return? - 2 How do you usually lodge your tax return? - 3 How do you usually lodge your tax return? - 4     Start Timestamp       End Timestamp Total Time\n",
       "26  C881S14_160  Complete  2017/07/13 13:46:30  2017/07/13 19:37:35                                                Yes                                                                                            NaN                                      NaN                                      NaN                                      NaN                           ATO newsletter    ...                                                NaN                                                NaN                                       NaN                                           NaN                           through a tax agent                                           NaN                                           NaN 2017-07-13 13:46:30 2017-07-13 19:37:35   05:51:05\n",
       "65  C881S14_237  Complete  2017/07/13 15:49:10  2017/07/14 08:53:53                                                Yes                                                                            Colleague or friend                                      NaN                                      NaN                                      NaN                                      NaN    ...                                              Other  IÕm an individual. I work for a large business...                                       NaN                                           NaN                           through a tax agent                                           NaN                                           NaN 2017-07-13 15:49:10 2017-07-14 08:53:53   17:04:43\n",
       "\n",
       "[2 rows x 106 columns]"
      ]
     },
     "execution_count": 134,
     "metadata": {},
     "output_type": "execute_result"
    }
   ],
   "source": [
    "# Calculate 2 std above the mean\n",
    "mean_plus_2xStd = times_mean + (times_std * 2)\n",
    "mean_plus_2xStd\n",
    "# how many instances are above 2 std? (sanity check)\n",
    "raw_df[raw_df['Total Time'] > mean_plus_2xStd]"
   ]
  },
  {
   "cell_type": "code",
   "execution_count": 135,
   "metadata": {
    "collapsed": false
   },
   "outputs": [
    {
     "data": {
      "text/html": [
       "<div>\n",
       "<table border=\"1\" class=\"dataframe\">\n",
       "  <thead>\n",
       "    <tr style=\"text-align: right;\">\n",
       "      <th></th>\n",
       "      <th>UserZoom ID</th>\n",
       "      <th>Status</th>\n",
       "      <th>Start Date</th>\n",
       "      <th>End Date</th>\n",
       "      <th>Have you visited ATO Beta before? (For example, tested a new product, read a blog post, received an email) *</th>\n",
       "      <th>How did you find out about ATO Beta?</th>\n",
       "      <th>How did you find out about ATO Beta? - 1</th>\n",
       "      <th>How did you find out about ATO Beta? - 2</th>\n",
       "      <th>How did you find out about ATO Beta? - 3</th>\n",
       "      <th>How did you find out about ATO Beta? - 4</th>\n",
       "      <th>...</th>\n",
       "      <th>Which of the following best describes you? - 6</th>\n",
       "      <th>Which of the following best describes you? - 7</th>\n",
       "      <th>How do you usually lodge your tax return?</th>\n",
       "      <th>How do you usually lodge your tax return? - 1</th>\n",
       "      <th>How do you usually lodge your tax return? - 2</th>\n",
       "      <th>How do you usually lodge your tax return? - 3</th>\n",
       "      <th>How do you usually lodge your tax return? - 4</th>\n",
       "      <th>Start Timestamp</th>\n",
       "      <th>End Timestamp</th>\n",
       "      <th>Total Time</th>\n",
       "    </tr>\n",
       "  </thead>\n",
       "  <tbody>\n",
       "    <tr>\n",
       "      <th>2</th>\n",
       "      <td>C881S14_112</td>\n",
       "      <td>Complete</td>\n",
       "      <td>2017/07/13 12:08:00</td>\n",
       "      <td>2017/07/13 12:58:52</td>\n",
       "      <td>Yes</td>\n",
       "      <td>NaN</td>\n",
       "      <td>NaN</td>\n",
       "      <td>NaN</td>\n",
       "      <td>NaN</td>\n",
       "      <td>ATO newsletter</td>\n",
       "      <td>...</td>\n",
       "      <td>NaN</td>\n",
       "      <td>NaN</td>\n",
       "      <td>online via myTax</td>\n",
       "      <td>NaN</td>\n",
       "      <td>NaN</td>\n",
       "      <td>NaN</td>\n",
       "      <td>NaN</td>\n",
       "      <td>2017-07-13 12:08:00</td>\n",
       "      <td>2017-07-13 12:58:52</td>\n",
       "      <td>00:50:52</td>\n",
       "    </tr>\n",
       "    <tr>\n",
       "      <th>3</th>\n",
       "      <td>C881S14_113</td>\n",
       "      <td>Complete</td>\n",
       "      <td>2017/07/13 12:08:55</td>\n",
       "      <td>2017/07/13 12:13:54</td>\n",
       "      <td>Not sure</td>\n",
       "      <td>NaN</td>\n",
       "      <td>NaN</td>\n",
       "      <td>NaN</td>\n",
       "      <td>NaN</td>\n",
       "      <td>ATO newsletter</td>\n",
       "      <td>...</td>\n",
       "      <td>NaN</td>\n",
       "      <td>NaN</td>\n",
       "      <td>online via myTax</td>\n",
       "      <td>NaN</td>\n",
       "      <td>NaN</td>\n",
       "      <td>NaN</td>\n",
       "      <td>NaN</td>\n",
       "      <td>2017-07-13 12:08:55</td>\n",
       "      <td>2017-07-13 12:13:54</td>\n",
       "      <td>00:04:59</td>\n",
       "    </tr>\n",
       "    <tr>\n",
       "      <th>4</th>\n",
       "      <td>C881S14_118</td>\n",
       "      <td>Complete</td>\n",
       "      <td>2017/07/13 12:10:24</td>\n",
       "      <td>2017/07/13 13:19:13</td>\n",
       "      <td>Yes</td>\n",
       "      <td>NaN</td>\n",
       "      <td>NaN</td>\n",
       "      <td>NaN</td>\n",
       "      <td>NaN</td>\n",
       "      <td>NaN</td>\n",
       "      <td>...</td>\n",
       "      <td>Other</td>\n",
       "      <td>employee</td>\n",
       "      <td>NaN</td>\n",
       "      <td>NaN</td>\n",
       "      <td>through a tax agent</td>\n",
       "      <td>NaN</td>\n",
       "      <td>NaN</td>\n",
       "      <td>2017-07-13 12:10:24</td>\n",
       "      <td>2017-07-13 13:19:13</td>\n",
       "      <td>01:08:49</td>\n",
       "    </tr>\n",
       "    <tr>\n",
       "      <th>5</th>\n",
       "      <td>C881S14_121</td>\n",
       "      <td>Complete</td>\n",
       "      <td>2017/07/13 12:11:09</td>\n",
       "      <td>2017/07/13 12:13:59</td>\n",
       "      <td>Yes</td>\n",
       "      <td>NaN</td>\n",
       "      <td>NaN</td>\n",
       "      <td>NaN</td>\n",
       "      <td>NaN</td>\n",
       "      <td>ATO newsletter</td>\n",
       "      <td>...</td>\n",
       "      <td>NaN</td>\n",
       "      <td>NaN</td>\n",
       "      <td>online via myTax</td>\n",
       "      <td>NaN</td>\n",
       "      <td>NaN</td>\n",
       "      <td>NaN</td>\n",
       "      <td>NaN</td>\n",
       "      <td>2017-07-13 12:11:09</td>\n",
       "      <td>2017-07-13 12:13:59</td>\n",
       "      <td>00:02:50</td>\n",
       "    </tr>\n",
       "    <tr>\n",
       "      <th>6</th>\n",
       "      <td>C881S14_123</td>\n",
       "      <td>Complete</td>\n",
       "      <td>2017/07/13 12:12:26</td>\n",
       "      <td>2017/07/13 12:14:56</td>\n",
       "      <td>Yes</td>\n",
       "      <td>NaN</td>\n",
       "      <td>Facebook</td>\n",
       "      <td>NaN</td>\n",
       "      <td>NaN</td>\n",
       "      <td>ATO newsletter</td>\n",
       "      <td>...</td>\n",
       "      <td>NaN</td>\n",
       "      <td>NaN</td>\n",
       "      <td>NaN</td>\n",
       "      <td>NaN</td>\n",
       "      <td>through a tax agent</td>\n",
       "      <td>NaN</td>\n",
       "      <td>NaN</td>\n",
       "      <td>2017-07-13 12:12:26</td>\n",
       "      <td>2017-07-13 12:14:56</td>\n",
       "      <td>00:02:30</td>\n",
       "    </tr>\n",
       "  </tbody>\n",
       "</table>\n",
       "<p>5 rows × 106 columns</p>\n",
       "</div>"
      ],
      "text/plain": [
       "   UserZoom ID    Status           Start Date             End Date Have you visited ATO Beta before? (For example, tested a new product, read a blog post, received an email) * How did you find out about ATO Beta? How did you find out about ATO Beta? - 1 How did you find out about ATO Beta? - 2 How did you find out about ATO Beta? - 3 How did you find out about ATO Beta? - 4    ...     Which of the following best describes you? - 6 Which of the following best describes you? - 7 How do you usually lodge your tax return? How do you usually lodge your tax return? - 1 How do you usually lodge your tax return? - 2 How do you usually lodge your tax return? - 3 How do you usually lodge your tax return? - 4     Start Timestamp       End Timestamp Total Time\n",
       "2  C881S14_112  Complete  2017/07/13 12:08:00  2017/07/13 12:58:52                                                Yes                                                                                            NaN                                      NaN                                      NaN                                      NaN                           ATO newsletter    ...                                                NaN                                            NaN                          online via myTax                                           NaN                                           NaN                                           NaN                                           NaN 2017-07-13 12:08:00 2017-07-13 12:58:52   00:50:52\n",
       "3  C881S14_113  Complete  2017/07/13 12:08:55  2017/07/13 12:13:54                                           Not sure                                                                                            NaN                                      NaN                                      NaN                                      NaN                           ATO newsletter    ...                                                NaN                                            NaN                          online via myTax                                           NaN                                           NaN                                           NaN                                           NaN 2017-07-13 12:08:55 2017-07-13 12:13:54   00:04:59\n",
       "4  C881S14_118  Complete  2017/07/13 12:10:24  2017/07/13 13:19:13                                                Yes                                                                                            NaN                                      NaN                                      NaN                                      NaN                                      NaN    ...                                              Other                                       employee                                       NaN                                           NaN                           through a tax agent                                           NaN                                           NaN 2017-07-13 12:10:24 2017-07-13 13:19:13   01:08:49\n",
       "5  C881S14_121  Complete  2017/07/13 12:11:09  2017/07/13 12:13:59                                                Yes                                                                                            NaN                                      NaN                                      NaN                                      NaN                           ATO newsletter    ...                                                NaN                                            NaN                          online via myTax                                           NaN                                           NaN                                           NaN                                           NaN 2017-07-13 12:11:09 2017-07-13 12:13:59   00:02:50\n",
       "6  C881S14_123  Complete  2017/07/13 12:12:26  2017/07/13 12:14:56                                                Yes                                                                                            NaN                                 Facebook                                      NaN                                      NaN                           ATO newsletter    ...                                                NaN                                            NaN                                       NaN                                           NaN                           through a tax agent                                           NaN                                           NaN 2017-07-13 12:12:26 2017-07-13 12:14:56   00:02:30\n",
       "\n",
       "[5 rows x 106 columns]"
      ]
     },
     "execution_count": 135,
     "metadata": {},
     "output_type": "execute_result"
    }
   ],
   "source": [
    "# drop values from cleaned data that are 2 std above the mean\n",
    "clean_df = raw_df[raw_df['Total Time'] <= mean_plus_2xStd]\n",
    "clean_df.head()"
   ]
  },
  {
   "cell_type": "code",
   "execution_count": 136,
   "metadata": {
    "collapsed": false
   },
   "outputs": [
    {
     "data": {
      "text/plain": [
       "116"
      ]
     },
     "execution_count": 136,
     "metadata": {},
     "output_type": "execute_result"
    }
   ],
   "source": [
    "len(clean_df)"
   ]
  },
  {
   "cell_type": "markdown",
   "metadata": {},
   "source": [
    "#### Export clean data to csv."
   ]
  },
  {
   "cell_type": "code",
   "execution_count": 137,
   "metadata": {
    "collapsed": false
   },
   "outputs": [],
   "source": [
    "# Export spreadsheet with only full task complete information.\n",
    "clean_df.to_csv('audience_clean.csv',',') # export to csv"
   ]
  },
  {
   "cell_type": "code",
   "execution_count": null,
   "metadata": {
    "collapsed": true
   },
   "outputs": [],
   "source": []
  }
 ],
 "metadata": {
  "anaconda-cloud": {},
  "kernelspec": {
   "display_name": "Python [conda root]",
   "language": "python",
   "name": "conda-root-py"
  },
  "language_info": {
   "codemirror_mode": {
    "name": "ipython",
    "version": 3
   },
   "file_extension": ".py",
   "mimetype": "text/x-python",
   "name": "python",
   "nbconvert_exporter": "python",
   "pygments_lexer": "ipython3",
   "version": "3.5.2"
  }
 },
 "nbformat": 4,
 "nbformat_minor": 1
}
