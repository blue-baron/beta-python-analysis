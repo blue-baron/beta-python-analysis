{
 "cells": [
  {
   "cell_type": "markdown",
   "metadata": {},
   "source": [
    "# Who is our audience survey "
   ]
  },
  {
   "cell_type": "markdown",
   "metadata": {},
   "source": [
    "## Quantitative analysis"
   ]
  },
  {
   "cell_type": "markdown",
   "metadata": {},
   "source": [
    "### Import packages"
   ]
  },
  {
   "cell_type": "code",
   "execution_count": 1,
   "metadata": {
    "collapsed": true
   },
   "outputs": [],
   "source": [
    "import seaborn as sns\n",
    "import pandas as pd\n",
    "from IPython.display import display, HTML\n",
    "\n",
    "import numpy as np\n",
    "import math\n",
    "import matplotlib.pyplot as plt\n",
    "from matplotlib.ticker import FuncFormatter\n",
    "\n",
    "# for plotting purposes\n",
    "%matplotlib inline"
   ]
  },
  {
   "cell_type": "markdown",
   "metadata": {},
   "source": [
    "### Import Beta Loop11 Scripts"
   ]
  },
  {
   "cell_type": "code",
   "execution_count": 2,
   "metadata": {
    "collapsed": true
   },
   "outputs": [],
   "source": [
    "import loop11_functions as beta\n",
    "%run loop11_functions.py"
   ]
  },
  {
   "cell_type": "markdown",
   "metadata": {},
   "source": [
    "### Import data"
   ]
  },
  {
   "cell_type": "code",
   "execution_count": 105,
   "metadata": {
    "collapsed": false
   },
   "outputs": [
    {
     "data": {
      "text/html": [
       "<div>\n",
       "<table border=\"1\" class=\"dataframe\">\n",
       "  <thead>\n",
       "    <tr style=\"text-align: right;\">\n",
       "      <th></th>\n",
       "      <th>Unnamed: 0</th>\n",
       "      <th>UserZoom ID</th>\n",
       "      <th>Status</th>\n",
       "      <th>Start Date</th>\n",
       "      <th>End Date</th>\n",
       "      <th>Have you visited ATO Beta before? (For example, tested a new product, read a blog post, received an email) *</th>\n",
       "      <th>How did you find out about ATO Beta?</th>\n",
       "      <th>How did you find out about ATO Beta? - 1</th>\n",
       "      <th>How did you find out about ATO Beta? - 2</th>\n",
       "      <th>How did you find out about ATO Beta? - 3</th>\n",
       "      <th>...</th>\n",
       "      <th>Which of the following best describes you? - 3</th>\n",
       "      <th>Which of the following best describes you? - 4</th>\n",
       "      <th>Which of the following best describes you? - 5</th>\n",
       "      <th>Which of the following best describes you? - 6</th>\n",
       "      <th>Which of the following best describes you? - 7</th>\n",
       "      <th>How do you usually lodge your tax return?</th>\n",
       "      <th>How do you usually lodge your tax return? - 1</th>\n",
       "      <th>How do you usually lodge your tax return? - 2</th>\n",
       "      <th>How do you usually lodge your tax return? - 3</th>\n",
       "      <th>How do you usually lodge your tax return? - 4</th>\n",
       "    </tr>\n",
       "  </thead>\n",
       "  <tbody>\n",
       "    <tr>\n",
       "      <th>0</th>\n",
       "      <td>3</td>\n",
       "      <td>C881S14_113</td>\n",
       "      <td>Complete</td>\n",
       "      <td>13/07/17 12:08</td>\n",
       "      <td>13/07/17 12:13</td>\n",
       "      <td>Not sure</td>\n",
       "      <td>NaN</td>\n",
       "      <td>NaN</td>\n",
       "      <td>NaN</td>\n",
       "      <td>NaN</td>\n",
       "      <td>...</td>\n",
       "      <td>NaN</td>\n",
       "      <td>NaN</td>\n",
       "      <td>NaN</td>\n",
       "      <td>NaN</td>\n",
       "      <td>NaN</td>\n",
       "      <td>online via myTax</td>\n",
       "      <td>NaN</td>\n",
       "      <td>NaN</td>\n",
       "      <td>NaN</td>\n",
       "      <td>NaN</td>\n",
       "    </tr>\n",
       "    <tr>\n",
       "      <th>1</th>\n",
       "      <td>4</td>\n",
       "      <td>C881S14_118</td>\n",
       "      <td>Complete</td>\n",
       "      <td>13/07/17 12:10</td>\n",
       "      <td>13/07/17 13:19</td>\n",
       "      <td>Yes</td>\n",
       "      <td>NaN</td>\n",
       "      <td>NaN</td>\n",
       "      <td>NaN</td>\n",
       "      <td>NaN</td>\n",
       "      <td>...</td>\n",
       "      <td>NaN</td>\n",
       "      <td>NaN</td>\n",
       "      <td>NaN</td>\n",
       "      <td>Other</td>\n",
       "      <td>employee</td>\n",
       "      <td>NaN</td>\n",
       "      <td>NaN</td>\n",
       "      <td>through a tax agent</td>\n",
       "      <td>NaN</td>\n",
       "      <td>NaN</td>\n",
       "    </tr>\n",
       "    <tr>\n",
       "      <th>2</th>\n",
       "      <td>5</td>\n",
       "      <td>C881S14_121</td>\n",
       "      <td>Complete</td>\n",
       "      <td>13/07/17 12:11</td>\n",
       "      <td>13/07/17 12:13</td>\n",
       "      <td>Yes</td>\n",
       "      <td>NaN</td>\n",
       "      <td>NaN</td>\n",
       "      <td>NaN</td>\n",
       "      <td>NaN</td>\n",
       "      <td>...</td>\n",
       "      <td>NaN</td>\n",
       "      <td>NaN</td>\n",
       "      <td>NaN</td>\n",
       "      <td>NaN</td>\n",
       "      <td>NaN</td>\n",
       "      <td>online via myTax</td>\n",
       "      <td>NaN</td>\n",
       "      <td>NaN</td>\n",
       "      <td>NaN</td>\n",
       "      <td>NaN</td>\n",
       "    </tr>\n",
       "    <tr>\n",
       "      <th>3</th>\n",
       "      <td>6</td>\n",
       "      <td>C881S14_123</td>\n",
       "      <td>Complete</td>\n",
       "      <td>13/07/17 12:12</td>\n",
       "      <td>13/07/17 12:14</td>\n",
       "      <td>Yes</td>\n",
       "      <td>NaN</td>\n",
       "      <td>Facebook</td>\n",
       "      <td>NaN</td>\n",
       "      <td>NaN</td>\n",
       "      <td>...</td>\n",
       "      <td>NaN</td>\n",
       "      <td>NaN</td>\n",
       "      <td>NaN</td>\n",
       "      <td>NaN</td>\n",
       "      <td>NaN</td>\n",
       "      <td>NaN</td>\n",
       "      <td>NaN</td>\n",
       "      <td>through a tax agent</td>\n",
       "      <td>NaN</td>\n",
       "      <td>NaN</td>\n",
       "    </tr>\n",
       "    <tr>\n",
       "      <th>4</th>\n",
       "      <td>7</td>\n",
       "      <td>C881S14_124</td>\n",
       "      <td>Complete</td>\n",
       "      <td>13/07/17 12:13</td>\n",
       "      <td>13/07/17 12:15</td>\n",
       "      <td>No</td>\n",
       "      <td>NaN</td>\n",
       "      <td>NaN</td>\n",
       "      <td>NaN</td>\n",
       "      <td>NaN</td>\n",
       "      <td>...</td>\n",
       "      <td>NaN</td>\n",
       "      <td>NaN</td>\n",
       "      <td>NaN</td>\n",
       "      <td>NaN</td>\n",
       "      <td>NaN</td>\n",
       "      <td>online via myTax</td>\n",
       "      <td>NaN</td>\n",
       "      <td>NaN</td>\n",
       "      <td>NaN</td>\n",
       "      <td>NaN</td>\n",
       "    </tr>\n",
       "  </tbody>\n",
       "</table>\n",
       "<p>5 rows × 104 columns</p>\n",
       "</div>"
      ],
      "text/plain": [
       "   Unnamed: 0  UserZoom ID    Status      Start Date        End Date  \\\n",
       "0           3  C881S14_113  Complete  13/07/17 12:08  13/07/17 12:13   \n",
       "1           4  C881S14_118  Complete  13/07/17 12:10  13/07/17 13:19   \n",
       "2           5  C881S14_121  Complete  13/07/17 12:11  13/07/17 12:13   \n",
       "3           6  C881S14_123  Complete  13/07/17 12:12  13/07/17 12:14   \n",
       "4           7  C881S14_124  Complete  13/07/17 12:13  13/07/17 12:15   \n",
       "\n",
       "  Have you visited ATO Beta before? (For example, tested a new product, read a blog post, received an email) *  \\\n",
       "0                                           Not sure                                                             \n",
       "1                                                Yes                                                             \n",
       "2                                                Yes                                                             \n",
       "3                                                Yes                                                             \n",
       "4                                                 No                                                             \n",
       "\n",
       "  How did you find out about ATO Beta?  \\\n",
       "0                                  NaN   \n",
       "1                                  NaN   \n",
       "2                                  NaN   \n",
       "3                                  NaN   \n",
       "4                                  NaN   \n",
       "\n",
       "  How did you find out about ATO Beta? - 1  \\\n",
       "0                                      NaN   \n",
       "1                                      NaN   \n",
       "2                                      NaN   \n",
       "3                                 Facebook   \n",
       "4                                      NaN   \n",
       "\n",
       "   How did you find out about ATO Beta? - 2  \\\n",
       "0                                       NaN   \n",
       "1                                       NaN   \n",
       "2                                       NaN   \n",
       "3                                       NaN   \n",
       "4                                       NaN   \n",
       "\n",
       "   How did you find out about ATO Beta? - 3  \\\n",
       "0                                       NaN   \n",
       "1                                       NaN   \n",
       "2                                       NaN   \n",
       "3                                       NaN   \n",
       "4                                       NaN   \n",
       "\n",
       "                       ...                        \\\n",
       "0                      ...                         \n",
       "1                      ...                         \n",
       "2                      ...                         \n",
       "3                      ...                         \n",
       "4                      ...                         \n",
       "\n",
       "  Which of the following best describes you? - 3  \\\n",
       "0                                            NaN   \n",
       "1                                            NaN   \n",
       "2                                            NaN   \n",
       "3                                            NaN   \n",
       "4                                            NaN   \n",
       "\n",
       "  Which of the following best describes you? - 4  \\\n",
       "0                                            NaN   \n",
       "1                                            NaN   \n",
       "2                                            NaN   \n",
       "3                                            NaN   \n",
       "4                                            NaN   \n",
       "\n",
       "  Which of the following best describes you? - 5  \\\n",
       "0                                            NaN   \n",
       "1                                            NaN   \n",
       "2                                            NaN   \n",
       "3                                            NaN   \n",
       "4                                            NaN   \n",
       "\n",
       "  Which of the following best describes you? - 6  \\\n",
       "0                                            NaN   \n",
       "1                                          Other   \n",
       "2                                            NaN   \n",
       "3                                            NaN   \n",
       "4                                            NaN   \n",
       "\n",
       "  Which of the following best describes you? - 7  \\\n",
       "0                                            NaN   \n",
       "1                                       employee   \n",
       "2                                            NaN   \n",
       "3                                            NaN   \n",
       "4                                            NaN   \n",
       "\n",
       "  How do you usually lodge your tax return?  \\\n",
       "0                          online via myTax   \n",
       "1                                       NaN   \n",
       "2                          online via myTax   \n",
       "3                                       NaN   \n",
       "4                          online via myTax   \n",
       "\n",
       "  How do you usually lodge your tax return? - 1  \\\n",
       "0                                           NaN   \n",
       "1                                           NaN   \n",
       "2                                           NaN   \n",
       "3                                           NaN   \n",
       "4                                           NaN   \n",
       "\n",
       "  How do you usually lodge your tax return? - 2  \\\n",
       "0                                           NaN   \n",
       "1                           through a tax agent   \n",
       "2                                           NaN   \n",
       "3                           through a tax agent   \n",
       "4                                           NaN   \n",
       "\n",
       "  How do you usually lodge your tax return? - 3  \\\n",
       "0                                           NaN   \n",
       "1                                           NaN   \n",
       "2                                           NaN   \n",
       "3                                           NaN   \n",
       "4                                           NaN   \n",
       "\n",
       "   How do you usually lodge your tax return? - 4  \n",
       "0                                            NaN  \n",
       "1                                            NaN  \n",
       "2                                            NaN  \n",
       "3                                            NaN  \n",
       "4                                            NaN  \n",
       "\n",
       "[5 rows x 104 columns]"
      ]
     },
     "execution_count": 105,
     "metadata": {},
     "output_type": "execute_result"
    }
   ],
   "source": [
    "df = pd.read_csv('audience_updated_columns.csv', encoding='latin-1')\n",
    "df.head()"
   ]
  },
  {
   "cell_type": "code",
   "execution_count": 106,
   "metadata": {
    "collapsed": false
   },
   "outputs": [
    {
     "data": {
      "text/plain": [
       "117"
      ]
     },
     "execution_count": 106,
     "metadata": {},
     "output_type": "execute_result"
    }
   ],
   "source": [
    "N = len(df)\n",
    "N"
   ]
  },
  {
   "cell_type": "code",
   "execution_count": 107,
   "metadata": {
    "collapsed": false
   },
   "outputs": [
    {
     "data": {
      "text/plain": [
       "['Unnamed: 0',\n",
       " 'UserZoom ID',\n",
       " 'Status',\n",
       " 'Start Date',\n",
       " 'End Date',\n",
       " 'Have you visited ATO Beta before? (For example, tested a new product, read a blog post, received an email) *',\n",
       " 'How did you find out about ATO Beta?',\n",
       " 'How did you find out about ATO Beta? - 1',\n",
       " 'How did you find out about ATO Beta? - 2',\n",
       " 'How did you find out about ATO Beta? - 3',\n",
       " 'How did you find out about ATO Beta? - 4',\n",
       " 'How did you find out about ATO Beta? - 5',\n",
       " 'How did you find out about ATO Beta? - 6',\n",
       " 'How did you find out about ATO Beta? - 7',\n",
       " 'What would be the best way to let you know about new ATO Beta tests, blogs and updates?',\n",
       " 'What would be the best way to let you know about new ATO Beta tests, blogs and updates? - 1',\n",
       " 'What would be the best way to let you know about new ATO Beta tests, blogs and updates? - 2',\n",
       " 'What would be the best way to let you know about new ATO Beta tests, blogs and updates? - 3',\n",
       " 'What would be the best way to let you know about new ATO Beta tests, blogs and updates? - 4',\n",
       " 'What would be the best way to let you know about new ATO Beta tests, blogs and updates? - 5',\n",
       " 'What would be the best way to let you know about new ATO Beta tests, blogs and updates? - 6',\n",
       " 'Do you follow any ATO social media channels?',\n",
       " 'Do you follow any ATO social media channels? - 1',\n",
       " 'Do you follow any ATO social media channels? - 2',\n",
       " 'Do you follow any ATO social media channels? - 1.1',\n",
       " 'Are you subscribed to the ATO Beta mailing list? *',\n",
       " 'How often would you like to hear from us?',\n",
       " 'How often would you like to hear from us?.1',\n",
       " 'If you are subscribed to the Beta mailing list, why not?',\n",
       " 'If you are subscribed to the Beta mailing list, why not? - 1',\n",
       " 'If you are subscribed to the Beta mailing list, why not? - 2',\n",
       " 'If you are subscribed to the Beta mailing list, why not? - 1.1',\n",
       " 'If you are subscribed to the Beta mailing list, why not? - 3',\n",
       " 'If you are subscribed to the Beta mailing list, why not? - 4',\n",
       " 'If you are subscribed to the Beta mailing list, why not? - 5',\n",
       " 'If you are subscribed to the Beta mailing list, why not? - 6',\n",
       " 'What type of ATO Beta content are you interested in?',\n",
       " 'What type of ATO Beta content are you interested in? - 1',\n",
       " 'What type of ATO Beta content are you interested in? - 2',\n",
       " 'What type of ATO Beta content are you interested in? - 3',\n",
       " 'What type of ATO Beta content are you interested in? - 4',\n",
       " 'What type of ATO Beta content are you interested in? - 5',\n",
       " 'What type of ATO Beta content are you interested in? - 6',\n",
       " 'How satisfied are you with the ATO Beta website?',\n",
       " 'ATO Beta website: Why did you give this rating?',\n",
       " 'Have you ever started but not finished an ATO Beta test or survey? *',\n",
       " 'What was your reason for not finishing the ATO Beta test or survey?',\n",
       " 'What was your reason for not finishing the ATO Beta test or survey?.1',\n",
       " 'How satisfied are you with our tests of new features, products and services?',\n",
       " 'Features, products and services: Why did you give this rating?',\n",
       " 'How satisfied are you with ATO Beta emails?',\n",
       " 'Email rating: Why did you give this rating?',\n",
       " 'When do you prefer to interact with ATO Beta content (for example, read a blog or test a new feature)?',\n",
       " 'When do you prefer to interact with ATO Beta content? - 1',\n",
       " 'When do you prefer to interact with ATO Beta content? - 2',\n",
       " 'When do you prefer to interact with ATO Beta content? - 3',\n",
       " 'When do you prefer to interact with ATO Beta content? - 4',\n",
       " 'When do you prefer to interact with ATO Beta content? - 5',\n",
       " 'When do you prefer to interact with ATO Beta content? - 6',\n",
       " 'What time of day do you prefer to interact with ATO Beta?',\n",
       " 'What time of day do you prefer to interact with ATO Beta? - 1',\n",
       " 'What time of day do you prefer to interact with ATO Beta? - 2',\n",
       " 'What time of day do you prefer to interact with ATO Beta? - 3',\n",
       " 'On what devices do you prefer to view ATO Beta content?',\n",
       " 'On what devices do you prefer to view ATO Beta content? - 1',\n",
       " 'On what devices do you prefer to view ATO Beta content? - 2',\n",
       " 'On what devices do you prefer to view ATO Beta content? - 3',\n",
       " 'What can ATO Beta do to improve our service?',\n",
       " 'What type of content are you interested in?',\n",
       " 'What type of content are you interested in? - 1',\n",
       " 'What type of content are you interested in? - 2',\n",
       " 'What type of content are you interested in? - 3',\n",
       " 'What type of content are you interested in? - 4',\n",
       " 'What type of content are you interested in? - 5',\n",
       " 'What type of content are you interested in? - 6',\n",
       " 'When do you prefer to interact with digital content that is not directly related to your work?',\n",
       " 'When do you prefer to interact with digital content that is not directly related to your work? - 1',\n",
       " 'When do you prefer to interact with digital content that is not directly related to your work? - 2',\n",
       " 'When do you prefer to interact with digital content that is not directly related to your work? - 3',\n",
       " 'When do you prefer to interact with digital content that is not directly related to your work? - 4Unnamed: 79',\n",
       " 'When do you prefer to interact with digital content that is not directly related to your work? - 5',\n",
       " 'What time of day do you prefer to interact with digital content that is not directly related to your work?',\n",
       " 'What time of day do you prefer to interact with digital content that is not directly related to your work? - 1',\n",
       " 'What time of day do you prefer to interact with digital content that is not directly related to your work? - 2',\n",
       " 'What devices do you use to view digital content?',\n",
       " 'What devices do you use to view digital content? -1',\n",
       " 'What devices do you use to view digital content? - 2',\n",
       " 'What devices do you use to view digital content? - 3',\n",
       " 'Which age group do you belong to?',\n",
       " 'What is your occupation? *',\n",
       " 'Are you a: *',\n",
       " 'Which of the following best describes you?',\n",
       " 'Which of the following best describes you? - 1',\n",
       " 'Which of the following best describes you? - 2',\n",
       " 'Which of the following best describes you? - 3',\n",
       " 'Which of the following best describes you? - 4',\n",
       " 'Which of the following best describes you? - 5',\n",
       " 'Which of the following best describes you? - 6',\n",
       " 'Which of the following best describes you? - 7',\n",
       " 'How do you usually lodge your tax return?',\n",
       " 'How do you usually lodge your tax return? - 1',\n",
       " 'How do you usually lodge your tax return? - 2',\n",
       " 'How do you usually lodge your tax return? - 3',\n",
       " 'How do you usually lodge your tax return? - 4']"
      ]
     },
     "execution_count": 107,
     "metadata": {},
     "output_type": "execute_result"
    }
   ],
   "source": [
    "list(df.columns.values) # For reference later when picking out data in specific column"
   ]
  },
  {
   "cell_type": "markdown",
   "metadata": {},
   "source": [
    "## Play with multiple answer questions"
   ]
  },
  {
   "cell_type": "code",
   "execution_count": 93,
   "metadata": {
    "collapsed": false
   },
   "outputs": [
    {
     "name": "stdout",
     "output_type": "stream",
     "text": [
      "SAMPLE SIZE: 120\n",
      "NO. ANSWERS: 135\n"
     ]
    },
    {
     "data": {
      "text/html": [
       "<div>\n",
       "<table border=\"1\" class=\"dataframe\">\n",
       "  <thead>\n",
       "    <tr style=\"text-align: right;\">\n",
       "      <th></th>\n",
       "      <th>How did you find out about ATO Beta? * (N)</th>\n",
       "      <th>How did you find out about ATO Beta? * (%)</th>\n",
       "    </tr>\n",
       "  </thead>\n",
       "  <tbody>\n",
       "    <tr>\n",
       "      <th>Colleague or friend</th>\n",
       "      <td>28</td>\n",
       "      <td>0.233333</td>\n",
       "    </tr>\n",
       "    <tr>\n",
       "      <th>Facebook</th>\n",
       "      <td>4</td>\n",
       "      <td>0.033333</td>\n",
       "    </tr>\n",
       "    <tr>\n",
       "      <th>Twitter</th>\n",
       "      <td>1</td>\n",
       "      <td>0.008333</td>\n",
       "    </tr>\n",
       "    <tr>\n",
       "      <th>LinkedIn</th>\n",
       "      <td>1</td>\n",
       "      <td>0.008333</td>\n",
       "    </tr>\n",
       "    <tr>\n",
       "      <th>ATO newsletter</th>\n",
       "      <td>65</td>\n",
       "      <td>0.541667</td>\n",
       "    </tr>\n",
       "    <tr>\n",
       "      <th>Presentation</th>\n",
       "      <td>10</td>\n",
       "      <td>0.083333</td>\n",
       "    </tr>\n",
       "    <tr>\n",
       "      <th>Other</th>\n",
       "      <td>26</td>\n",
       "      <td>0.216667</td>\n",
       "    </tr>\n",
       "  </tbody>\n",
       "</table>\n",
       "</div>"
      ],
      "text/plain": [
       "                     How did you find out about ATO Beta? * (N)  \\\n",
       "Colleague or friend                                          28   \n",
       "Facebook                                                      4   \n",
       "Twitter                                                       1   \n",
       "LinkedIn                                                      1   \n",
       "ATO newsletter                                               65   \n",
       "Presentation                                                 10   \n",
       "Other                                                        26   \n",
       "\n",
       "                     How did you find out about ATO Beta? * (%)  \n",
       "Colleague or friend                                    0.233333  \n",
       "Facebook                                               0.033333  \n",
       "Twitter                                                0.008333  \n",
       "LinkedIn                                               0.008333  \n",
       "ATO newsletter                                         0.541667  \n",
       "Presentation                                           0.083333  \n",
       "Other                                                  0.216667  "
      ]
     },
     "metadata": {},
     "output_type": "display_data"
    },
    {
     "data": {
      "image/png": "[encoded data removed]",
      "text/plain": [
       "<matplotlib.figure.Figure at 0x119392c50>"
      ]
     },
     "metadata": {},
     "output_type": "display_data"
    }
   ],
   "source": [
    "q = 'How did you find out about ATO Beta? *'\n",
    "n_options = 7\n",
    "\n",
    "def multiple_answer_userzoom(df, q, n_options, graph_type, file_location):\n",
    "    # Get sample size before the answers are split up.\n",
    "    sample_size = len(df[q])\n",
    "\n",
    "    # get the column index \n",
    "    col_idx = df.columns.get_loc(q)\n",
    "\n",
    "    counts = []\n",
    "    perc = []\n",
    "    for i in range(0, n_options):\n",
    "        c = pd.value_counts(df[[col_idx+i]].values.flatten())\n",
    "        counts.append(c)\n",
    "        perc.append(c/sample_size)\n",
    "\n",
    "    # Concatenate the results list into one DataFrame\n",
    "    c_result = pd.DataFrame(pd.concat(counts))\n",
    "    p_result = pd.DataFrame(pd.concat(perc))\n",
    "    all_results = pd.concat([c_result,p_result], axis=1)\n",
    "    all_results.columns = [q + ' (N)', q + ' (%)']\n",
    "\n",
    "    # print sample size, total number of answers received and graph of the results\n",
    "    print('SAMPLE SIZE: ' + str(sample_size))\n",
    "    total_answers = all_results[q + ' (N)'].sum(axis=0)\n",
    "    print('NO. ANSWERS: ' + str(total_answers))\n",
    "\n",
    "    # Display the results DataFrame\n",
    "    display(all_results)\n",
    "\n",
    "    # Graph the results\n",
    "    title = q.replace('\"', '')\n",
    "    title = title.replace('?', '')\n",
    "    title = (title[:100] + '...') if len(title) > 100 else title\n",
    "    graph_type(all_results, [q + ' (%)'], title, file_location)\n",
    "\n",
    "    \n",
    "    \n",
    "multiple_answer_userzoom(df, q, n_options, beta.grapher_horizontal, '')"
   ]
  },
  {
   "cell_type": "markdown",
   "metadata": {
    "collapsed": true
   },
   "source": [
    "### Display other results (for relevant questions)"
   ]
  },
  {
   "cell_type": "code",
   "execution_count": 58,
   "metadata": {
    "collapsed": false
   },
   "outputs": [
    {
     "name": "stdout",
     "output_type": "stream",
     "text": [
      "     0    1    2    3    4    5    6    7    8    9\n",
      "0  6.0  NaN  NaN  8.0  5.0  NaN  NaN  7.0  0.0  NaN\n",
      "1  NaN  9.0  6.0  NaN  2.0  NaN  1.0  NaN  NaN  2.0\n",
      "2  NaN  2.0  2.0  1.0  2.0  NaN  1.0  NaN  NaN  NaN\n",
      "3  6.0  NaN  6.0  NaN  4.0  4.0  0.0  NaN  NaN  NaN\n",
      "4  NaN  9.0  NaN  9.0  NaN  7.0  1.0  9.0  NaN  NaN\n"
     ]
    }
   ],
   "source": [
    "np.random.seed(2015)\n",
    "data = []\n",
    "for i in range(5):\n",
    "    data.append(dict(zip(np.random.choice(10, replace=False, size=5),\n",
    "                         np.random.randint(10, size=5))))\n",
    "df = pd.DataFrame(data)\n",
    "print(df)"
   ]
  },
  {
   "cell_type": "code",
   "execution_count": 94,
   "metadata": {
    "collapsed": true
   },
   "outputs": [],
   "source": [
    "def other_responses(df, question):\n",
    "    responses = []\n",
    "\n",
    "    responses.append(pd.DataFrame(df[question]))\n",
    "    responses = pd.concat(responses, axis=1)\n",
    "    responses = responses[responses[question].notnull()]\n",
    "\n",
    "    print('NUMBER OF RESPONSES: ' , len(responses))\n",
    "    \n",
    "    for item in responses[question]:\n",
    "        display(item)"
   ]
  },
  {
   "cell_type": "code",
   "execution_count": 95,
   "metadata": {
    "collapsed": false
   },
   "outputs": [
    {
     "name": "stdout",
     "output_type": "stream",
     "text": [
      "NUMBER OF RESPONSES:  26\n"
     ]
    },
    {
     "data": {
      "text/plain": [
       "'Other'"
      ]
     },
     "metadata": {},
     "output_type": "display_data"
    },
    {
     "data": {
      "text/plain": [
       "'ato website'"
      ]
     },
     "metadata": {},
     "output_type": "display_data"
    },
    {
     "data": {
      "text/plain": [
       "'Just surfing the web'"
      ]
     },
     "metadata": {},
     "output_type": "display_data"
    },
    {
     "data": {
      "text/plain": [
       "'an email mentioned it'"
      ]
     },
     "metadata": {},
     "output_type": "display_data"
    },
    {
     "data": {
      "text/plain": [
       "'ATO Open Forum'"
      ]
     },
     "metadata": {},
     "output_type": "display_data"
    },
    {
     "data": {
      "text/plain": [
       "'email from ato'"
      ]
     },
     "metadata": {},
     "output_type": "display_data"
    },
    {
     "data": {
      "text/plain": [
       "'Email from the ATO, I think'"
      ]
     },
     "metadata": {},
     "output_type": "display_data"
    },
    {
     "data": {
      "text/plain": [
       "'myATO'"
      ]
     },
     "metadata": {},
     "output_type": "display_data"
    },
    {
     "data": {
      "text/plain": [
       "'Email from ATO?'"
      ]
     },
     "metadata": {},
     "output_type": "display_data"
    },
    {
     "data": {
      "text/plain": [
       "'do not recall'"
      ]
     },
     "metadata": {},
     "output_type": "display_data"
    },
    {
     "data": {
      "text/plain": [
       "'Internet research'"
      ]
     },
     "metadata": {},
     "output_type": "display_data"
    },
    {
     "data": {
      "text/plain": [
       "'Can not remember.  Quite a while back.'"
      ]
     },
     "metadata": {},
     "output_type": "display_data"
    },
    {
     "data": {
      "text/plain": [
       "'Chartered Accountants ANZ'"
      ]
     },
     "metadata": {},
     "output_type": "display_data"
    },
    {
     "data": {
      "text/plain": [
       "'Twitter'"
      ]
     },
     "metadata": {},
     "output_type": "display_data"
    },
    {
     "data": {
      "text/plain": [
       "'email'"
      ]
     },
     "metadata": {},
     "output_type": "display_data"
    },
    {
     "data": {
      "text/plain": [
       "'ato.gov.au'"
      ]
     },
     "metadata": {},
     "output_type": "display_data"
    },
    {
     "data": {
      "text/plain": [
       "'Found via SharePoint'"
      ]
     },
     "metadata": {},
     "output_type": "display_data"
    },
    {
     "data": {
      "text/plain": [
       "'Email to participate'"
      ]
     },
     "metadata": {},
     "output_type": "display_data"
    },
    {
     "data": {
      "text/plain": [
       "'Change Network'"
      ]
     },
     "metadata": {},
     "output_type": "display_data"
    },
    {
     "data": {
      "text/plain": [
       "'Internal ATO'"
      ]
     },
     "metadata": {},
     "output_type": "display_data"
    },
    {
     "data": {
      "text/plain": [
       "'Originally on the ATO website when i was doing my tax return last year'"
      ]
     },
     "metadata": {},
     "output_type": "display_data"
    },
    {
     "data": {
      "text/plain": [
       "'not sure - maybe twitter'"
      ]
     },
     "metadata": {},
     "output_type": "display_data"
    },
    {
     "data": {
      "text/plain": [
       "'ATO'"
      ]
     },
     "metadata": {},
     "output_type": "display_data"
    },
    {
     "data": {
      "text/plain": [
       "'Cant remember'"
      ]
     },
     "metadata": {},
     "output_type": "display_data"
    },
    {
     "data": {
      "text/plain": [
       "'Worked in the web publishing/web management area.'"
      ]
     },
     "metadata": {},
     "output_type": "display_data"
    },
    {
     "data": {
      "text/plain": [
       "'I work in the ATO'"
      ]
     },
     "metadata": {},
     "output_type": "display_data"
    }
   ],
   "source": [
    "other_responses(df, 'Unnamed: 12')"
   ]
  },
  {
   "cell_type": "markdown",
   "metadata": {},
   "source": [
    "## Single answer questions\n"
   ]
  },
  {
   "cell_type": "code",
   "execution_count": 108,
   "metadata": {
    "collapsed": true
   },
   "outputs": [],
   "source": [
    "q1 = 'Have you visited ATO Beta before? (For example, tested a new product, read a blog post, received an email) *'"
   ]
  },
  {
   "cell_type": "code",
   "execution_count": 111,
   "metadata": {
    "collapsed": false
   },
   "outputs": [
    {
     "name": "stdout",
     "output_type": "stream",
     "text": [
      "SAMPLE SIZE: 117 (Have you visited ATO Beta before? (For example, tested a new product, read a blog post, received an email) *)\n",
      "TOTAL %: 0.9999999999999999 (Have you visited ATO Beta before? (For example, tested a new product, read a blog post, received an email) *)\n"
     ]
    },
    {
     "data": {
      "text/html": [
       "<div>\n",
       "<table border=\"1\" class=\"dataframe\">\n",
       "  <thead>\n",
       "    <tr style=\"text-align: right;\">\n",
       "      <th></th>\n",
       "      <th>Have you visited ATO Beta before? (For example, tested a new product, read a blog post, received an email) * (N)</th>\n",
       "      <th>Have you visited ATO Beta before? (For example, tested a new product, read a blog post, received an email) * (%)</th>\n",
       "    </tr>\n",
       "  </thead>\n",
       "  <tbody>\n",
       "    <tr>\n",
       "      <th>No</th>\n",
       "      <td>8</td>\n",
       "      <td>0.068376</td>\n",
       "    </tr>\n",
       "    <tr>\n",
       "      <th>Not sure</th>\n",
       "      <td>5</td>\n",
       "      <td>0.042735</td>\n",
       "    </tr>\n",
       "    <tr>\n",
       "      <th>Yes</th>\n",
       "      <td>104</td>\n",
       "      <td>0.888889</td>\n",
       "    </tr>\n",
       "  </tbody>\n",
       "</table>\n",
       "</div>"
      ],
      "text/plain": [
       "          Have you visited ATO Beta before? (For example, tested a new product, read a blog post, received an email) * (N)  \\\n",
       "No                                                        8                                                                  \n",
       "Not sure                                                  5                                                                  \n",
       "Yes                                                     104                                                                  \n",
       "\n",
       "          Have you visited ATO Beta before? (For example, tested a new product, read a blog post, received an email) * (%)  \n",
       "No                                                 0.068376                                                                 \n",
       "Not sure                                           0.042735                                                                 \n",
       "Yes                                                0.888889                                                                 "
      ]
     },
     "metadata": {},
     "output_type": "display_data"
    },
    {
     "data": {
      "image/png": "[encoded data removed]",
      "text/plain": [
       "<matplotlib.figure.Figure at 0x1198347b8>"
      ]
     },
     "metadata": {},
     "output_type": "display_data"
    }
   ],
   "source": [
    "\n",
    "\n",
    "def single_answer(df, q, graph_type, file_location):\n",
    "\n",
    "    results = []\n",
    "\n",
    "    results.append(pd.DataFrame(df[q].value_counts(dropna=True)))\n",
    "    results.append(pd.DataFrame(df[q].value_counts(normalize=True, dropna=True)))\n",
    "\n",
    "    # Concatenate the list DataFrames into a single DataFrame\n",
    "    results = pd.concat(results, axis=1)\n",
    "\n",
    "    # Rename columns in the DataFrame.\n",
    "    results.columns = [q + ' (N)', q + ' (%)']\n",
    "\n",
    "\n",
    "    # Print sample size, % total and graph for each question\n",
    "    # Note: % total is for quality control. The total should be 1.0 if question was required.\n",
    "    sample_size = results[q + ' (N)'].sum(axis=0)\n",
    "    print('SAMPLE SIZE: ' + str(sample_size) + ' (' + q + ')')\n",
    "    total_count = results[q + ' (%)'].sum(axis=0)\n",
    "    print('TOTAL %: '  + str(total_count) + ' (' + q + ')')\n",
    "\n",
    "    # Sort dataframe rows\n",
    "    results.sort_index(axis=0, ascending=True, inplace=True)\n",
    "\n",
    "    # Display the results DataFrame\n",
    "    display(results)\n",
    "\n",
    "    # Graph the results\n",
    "    title = q.replace('\"', '')\n",
    "    title = title.replace('?', '')\n",
    "    title = (title[:100] + '...') if len(title) > 100 else title\n",
    "    graph_type(results, [q + ' (%)'], title, file_location)\n",
    "\n",
    "    \n",
    "    \n",
    "single_answer(df, q1, beta.grapher, '')"
   ]
  },
  {
   "cell_type": "markdown",
   "metadata": {},
   "source": [
    "## Likert scale questions"
   ]
  },
  {
   "cell_type": "code",
   "execution_count": 113,
   "metadata": {
    "collapsed": true
   },
   "outputs": [],
   "source": [
    "q2 = 'How satisfied are you with ATO Beta emails?'"
   ]
  },
  {
   "cell_type": "code",
   "execution_count": 124,
   "metadata": {
    "collapsed": false
   },
   "outputs": [
    {
     "data": {
      "text/html": [
       "<div>\n",
       "<table border=\"1\" class=\"dataframe\">\n",
       "  <thead>\n",
       "    <tr style=\"text-align: right;\">\n",
       "      <th></th>\n",
       "      <th>How satisfied are you with ATO Beta emails?</th>\n",
       "    </tr>\n",
       "  </thead>\n",
       "  <tbody>\n",
       "    <tr>\n",
       "      <th>count</th>\n",
       "      <td>117.000000</td>\n",
       "    </tr>\n",
       "    <tr>\n",
       "      <th>mean</th>\n",
       "      <td>3.581197</td>\n",
       "    </tr>\n",
       "    <tr>\n",
       "      <th>std</th>\n",
       "      <td>0.685305</td>\n",
       "    </tr>\n",
       "    <tr>\n",
       "      <th>min</th>\n",
       "      <td>1.000000</td>\n",
       "    </tr>\n",
       "    <tr>\n",
       "      <th>25%</th>\n",
       "      <td>3.000000</td>\n",
       "    </tr>\n",
       "    <tr>\n",
       "      <th>50%</th>\n",
       "      <td>4.000000</td>\n",
       "    </tr>\n",
       "    <tr>\n",
       "      <th>75%</th>\n",
       "      <td>4.000000</td>\n",
       "    </tr>\n",
       "    <tr>\n",
       "      <th>max</th>\n",
       "      <td>5.000000</td>\n",
       "    </tr>\n",
       "  </tbody>\n",
       "</table>\n",
       "</div>"
      ],
      "text/plain": [
       "       How satisfied are you with ATO Beta emails?\n",
       "count                                   117.000000\n",
       "mean                                      3.581197\n",
       "std                                       0.685305\n",
       "min                                       1.000000\n",
       "25%                                       3.000000\n",
       "50%                                       4.000000\n",
       "75%                                       4.000000\n",
       "max                                       5.000000"
      ]
     },
     "metadata": {},
     "output_type": "display_data"
    },
    {
     "name": "stdout",
     "output_type": "stream",
     "text": [
      "TOTAL %: 0.9999999999999999 (How satisfied are you with ATO Beta emails?)\n"
     ]
    },
    {
     "data": {
      "text/html": [
       "<div>\n",
       "<table border=\"1\" class=\"dataframe\">\n",
       "  <thead>\n",
       "    <tr style=\"text-align: right;\">\n",
       "      <th></th>\n",
       "      <th>How satisfied are you with ATO Beta emails? (N)</th>\n",
       "      <th>How satisfied are you with ATO Beta emails? (%)</th>\n",
       "    </tr>\n",
       "  </thead>\n",
       "  <tbody>\n",
       "    <tr>\n",
       "      <th>Neutral</th>\n",
       "      <td>27</td>\n",
       "      <td>0.306818</td>\n",
       "    </tr>\n",
       "    <tr>\n",
       "      <th>Satisfied</th>\n",
       "      <td>60</td>\n",
       "      <td>0.681818</td>\n",
       "    </tr>\n",
       "    <tr>\n",
       "      <th>Unsatisfied</th>\n",
       "      <td>1</td>\n",
       "      <td>0.011364</td>\n",
       "    </tr>\n",
       "  </tbody>\n",
       "</table>\n",
       "</div>"
      ],
      "text/plain": [
       "             How satisfied are you with ATO Beta emails? (N)  \\\n",
       "Neutral                                                   27   \n",
       "Satisfied                                                 60   \n",
       "Unsatisfied                                                1   \n",
       "\n",
       "             How satisfied are you with ATO Beta emails? (%)  \n",
       "Neutral                                             0.306818  \n",
       "Satisfied                                           0.681818  \n",
       "Unsatisfied                                         0.011364  "
      ]
     },
     "metadata": {},
     "output_type": "display_data"
    },
    {
     "data": {
      "image/png": "[encoded data removed]",
      "text/plain": [
       "<matplotlib.figure.Figure at 0x1193c60b8>"
      ]
     },
     "metadata": {},
     "output_type": "display_data"
    }
   ],
   "source": [
    "\n",
    "\n",
    "def likert_results(df, q, graph_type, file_location):\n",
    "\n",
    "    results_compact = []\n",
    "    results_numerical = []\n",
    "\n",
    "    # Convert to numerical data for calculation of mean and std dev.\n",
    "    # 1 = SD, 2 = D, 3 = N A/D, 4 = A, 5 = SA\n",
    "\n",
    "    #first for the Agree/Disagree scale\n",
    "    temp = df[q].replace('Strongly agree', 5, regex=True)\n",
    "    temp = temp.replace('Agree', 4, regex=True)\n",
    "    temp = temp.replace('Neither agree nor disagree', 3, regex=True)\n",
    "    temp = temp.replace('Disagree', 2, regex=True)\n",
    "    temp = temp.replace('Strongly disagree', 1, regex=True)\n",
    "    # next for the satisfaction scale\n",
    "    temp = temp.replace('Very satisfied', 5, regex=True)\n",
    "    temp = temp.replace('Satisfied', 4, regex=True)\n",
    "    temp = temp.replace('Neutral', 3, regex=True)\n",
    "    temp = temp.replace('Unsatisfied', 2, regex=True)\n",
    "    temp = temp.replace('Very unsatisfied', 1, regex=True)\n",
    "    temp = temp.replace('NaN', 3, regex=True)\n",
    "    results_numerical.append(pd.DataFrame(temp))\n",
    "\n",
    "    # Concatenate the list into a DataFrame and use describe() to get the mean and std dev.\n",
    "    results_numerical = pd.concat(results_numerical, axis=1)\n",
    "    display(pd.DataFrame(results_numerical.describe()))\n",
    "\n",
    "    # Compact standard Likert answers to three-point scale.\n",
    "    # Create a list with question value counts (both number counts and as a percentage of the total).\n",
    "    temp = df[q].replace('Strongly agree', 'Agree', regex=True)\n",
    "    temp = temp.replace('Strongly disagree', 'Disagree', regex=True)\n",
    "    temp = temp.replace('Very satisfied', 'Satisfied', regex=True)\n",
    "    temp = temp.replace('Very unsatisfied', 'Unsatisfied', regex=True)\n",
    "    temp = temp.replace('NaN', 3, regex=True)\n",
    "    results_compact.append(pd.DataFrame(temp.value_counts()))\n",
    "    results_compact.append(pd.DataFrame(temp.value_counts(normalize=True)))\n",
    "\n",
    "    # Concatenate the list DataFrames into a single DataFrame\n",
    "    results_compact = pd.concat(results_compact, axis=1)\n",
    "\n",
    "    # Rename columns in the DataFrame.\n",
    "    results_compact.columns = [q + ' (N)', q + ' (%)']\n",
    "\n",
    "    # Sort dataframe rows\n",
    "    results_compact.sort_index(axis=0, ascending=True, inplace=True)\n",
    "\n",
    "    total_count = results_compact[q + ' (%)'].sum(axis=0)\n",
    "    print('TOTAL %: '  + str(total_count) + ' (' + q + ')')\n",
    "\n",
    "    display(results_compact)\n",
    "\n",
    "    title = q.replace('\"', '')\n",
    "    graph_type(results_compact, [q + ' (%)'], title, file_location)\n",
    "\n",
    "    \n",
    "    \n",
    "likert_results(df, q2, beta.grapher, '')"
   ]
  },
  {
   "cell_type": "code",
   "execution_count": null,
   "metadata": {
    "collapsed": true
   },
   "outputs": [],
   "source": []
  }
 ],
 "metadata": {
  "anaconda-cloud": {},
  "kernelspec": {
   "display_name": "Python [conda root]",
   "language": "python",
   "name": "conda-root-py"
  },
  "language_info": {
   "codemirror_mode": {
    "name": "ipython",
    "version": 3
   },
   "file_extension": ".py",
   "mimetype": "text/x-python",
   "name": "python",
   "nbconvert_exporter": "python",
   "pygments_lexer": "ipython3",
   "version": "3.5.2"
  }
 },
 "nbformat": 4,
 "nbformat_minor": 1
}
