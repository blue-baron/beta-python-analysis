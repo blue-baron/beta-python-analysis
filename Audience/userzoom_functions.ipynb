{
 "cells": [
  {
   "cell_type": "markdown",
   "metadata": {},
   "source": [
    "## Import packages"
   ]
  },
  {
   "cell_type": "code",
   "execution_count": 1,
   "metadata": {
    "collapsed": true
   },
   "outputs": [],
   "source": [
    "import pandas as pd\n",
    "from IPython.display import display, HTML\n",
    "\n",
    "import numpy as np\n",
    "import math\n",
    "import matplotlib.pyplot as plt\n",
    "from matplotlib.ticker import FuncFormatter\n",
    "%matplotlib inline"
   ]
  },
  {
   "cell_type": "markdown",
   "metadata": {},
   "source": [
    "## Multiple answer questions"
   ]
  },
  {
   "cell_type": "code",
   "execution_count": 3,
   "metadata": {
    "collapsed": true
   },
   "outputs": [],
   "source": [
    "# Function to generate the results from a multiple answer question\n",
    "# Produces the count (N) for each answer and the percentage (%) from the total sample number\n",
    "# and prints and saves a graph of the data\n",
    "# \n",
    "# Inputs: \n",
    "#   df - (pd.DataFrame) the cleaned dataframe \n",
    "#   q - (str) the question string that is the column name\n",
    "#   n_options - (int) number of options that question has, e.g. how many columsn does the question answers span across\n",
    "#   graph_type - (str) grapher function name\n",
    "#   file_location - (str) the folder location for the grapher function\n",
    "#\n",
    "# Outputs:\n",
    "#   No outputs, all generated results are displayed via print()/display()\n",
    "\n",
    "def multiple_answer_userzoom(df, q, n_options, graph_type, file_location):\n",
    "    # Get sample size before the answers are split up.\n",
    "    sample_size = len(df[q])\n",
    "\n",
    "    # get the column index \n",
    "    col_idx = df.columns.get_loc(q)\n",
    "\n",
    "    counts = []\n",
    "    perc = []\n",
    "    for i in range(0, n_options):\n",
    "        c = pd.value_counts(df[[col_idx+i]].values.flatten())\n",
    "        counts.append(c)\n",
    "        perc.append(c/sample_size)\n",
    "\n",
    "    # Concatenate the results list into one DataFrame\n",
    "    c_result = pd.DataFrame(pd.concat(counts))\n",
    "    p_result = pd.DataFrame(pd.concat(perc))\n",
    "    all_results = pd.concat([c_result,p_result], axis=1)\n",
    "    all_results.columns = [q + ' (N)', q + ' (%)']\n",
    "\n",
    "    # print sample size, total number of answers received and graph of the results\n",
    "    print('SAMPLE SIZE: ' + str(sample_size))\n",
    "    total_answers = all_results[q + ' (N)'].sum(axis=0)\n",
    "    print('NO. ANSWERS: ' + str(total_answers))\n",
    "\n",
    "    # Display the results DataFrame\n",
    "    display(all_results)\n",
    "\n",
    "    # Graph the results\n",
    "    title = q.replace('\"', '')\n",
    "    title = title.replace('?', '')\n",
    "    title = (title[:100] + '...') if len(title) > 100 else title\n",
    "    graph_type(all_results, [q + ' (%)'], title, file_location)"
   ]
  },
  {
   "cell_type": "markdown",
   "metadata": {},
   "source": [
    "##  Display other results (for relevant questions)"
   ]
  },
  {
   "cell_type": "code",
   "execution_count": 4,
   "metadata": {
    "collapsed": true
   },
   "outputs": [],
   "source": [
    "# Simple function for printing the Other responses from a question\n",
    "# Inputs:\n",
    "#   df - (pd.DataFrame) the cleaned dataframe \n",
    "#   question - (str) the column name for the Other data\n",
    "# \n",
    "# Outputs:\n",
    "#   No outputs, all generated results are displayed via print()/display()\n",
    "\n",
    "def other_responses(df, question):\n",
    "    responses = []\n",
    "\n",
    "    responses.append(pd.DataFrame(df[question]))\n",
    "    responses = pd.concat(responses, axis=1)\n",
    "    responses = responses[responses[question].notnull()]\n",
    "\n",
    "    print('NUMBER OF RESPONSES: ' , len(responses))\n",
    "    \n",
    "    for item in responses[question]:\n",
    "        display(item)"
   ]
  },
  {
   "cell_type": "markdown",
   "metadata": {},
   "source": [
    "## Single answer questions"
   ]
  },
  {
   "cell_type": "code",
   "execution_count": 5,
   "metadata": {
    "collapsed": true
   },
   "outputs": [],
   "source": [
    "# Function to generate the results from a single answer question\n",
    "# Produces the count (N) for each answer and the percentage (%) from the total sample number\n",
    "# and prints and saves a graph of the data\n",
    "# \n",
    "# Inputs: \n",
    "#   df - (pd.DataFrame) the cleaned dataframe \n",
    "#   q - (str) the question string that is the column name\n",
    "#   graph_type - (str) grapher function name\n",
    "#   file_location - (str) the folder location for the grapher function\n",
    "#\n",
    "# Outputs:\n",
    "#   No outputs, all generated results are displayed via print()/display()\n",
    "\n",
    "def single_answer(df, q, graph_type, file_location):\n",
    "\n",
    "    results = []\n",
    "\n",
    "    results.append(pd.DataFrame(df[q].value_counts(dropna=True)))\n",
    "    results.append(pd.DataFrame(df[q].value_counts(normalize=True, dropna=True)))\n",
    "\n",
    "    # Concatenate the list DataFrames into a single DataFrame\n",
    "    results = pd.concat(results, axis=1)\n",
    "\n",
    "    # Rename columns in the DataFrame.\n",
    "    results.columns = [q + ' (N)', q + ' (%)']\n",
    "\n",
    "    # Print sample size, % total and graph for each question\n",
    "    # Note: % total is for quality control. The total should be 1.0 if question was required.\n",
    "    sample_size = results[q + ' (N)'].sum(axis=0)\n",
    "    print('SAMPLE SIZE: ' + str(sample_size) + ' (' + q + ')')\n",
    "    total_count = results[q + ' (%)'].sum(axis=0)\n",
    "    print('TOTAL %: '  + str(total_count) + ' (' + q + ')')\n",
    "\n",
    "    # Sort dataframe rows\n",
    "    results.sort_index(axis=0, ascending=True, inplace=True)\n",
    "\n",
    "    # Display the results DataFrame\n",
    "    display(results)\n",
    "\n",
    "    # Graph the results\n",
    "    title = q.replace('\"', '')\n",
    "    title = title.replace('?', '')\n",
    "    title = (title[:100] + '...') if len(title) > 100 else title\n",
    "    graph_type(results, [q + ' (%)'], title, file_location)\n"
   ]
  },
  {
   "cell_type": "markdown",
   "metadata": {},
   "source": [
    "## Likert scale questions"
   ]
  },
  {
   "cell_type": "code",
   "execution_count": null,
   "metadata": {
    "collapsed": true
   },
   "outputs": [],
   "source": [
    "# Function to generate the results from a likert scale question\n",
    "# \n",
    "# ***** Note that the only scales are agree/disagree and satisfied/unsatisfied\n",
    "# If you require another scale, update the function *****\n",
    "# \n",
    "# Produces descriptive statistics, counts and percentages, and graphs\n",
    "# and prints and saves a graph of the data\n",
    "# \n",
    "# Inputs: \n",
    "#   df - (pd.DataFrame) the cleaned dataframe \n",
    "#   q - (str) the question string that is the column name\n",
    "#   graph_type - (str) grapher function name\n",
    "#   file_location - (str) the folder location for the grapher function\n",
    "#\n",
    "# Outputs:\n",
    "#   No outputs, all generated results are displayed via print()/display()\n",
    "\n",
    "def likert_results(df, q, graph_type, file_location):\n",
    "\n",
    "    results_compact = []\n",
    "    results_numerical = []\n",
    "\n",
    "    # Convert to numerical data for calculation of mean and std dev.\n",
    "    # 1 = SD, 2 = D, 3 = N A/D, 4 = A, 5 = SA\n",
    "\n",
    "    #first for the Agree/Disagree scale\n",
    "    temp = df[q].replace('Strongly agree', 5, regex=True)\n",
    "    temp = temp.replace('Agree', 4, regex=True)\n",
    "    temp = temp.replace('Neither agree nor disagree', 3, regex=True)\n",
    "    temp = temp.replace('Disagree', 2, regex=True)\n",
    "    temp = temp.replace('Strongly disagree', 1, regex=True)\n",
    "    # next for the satisfaction scale\n",
    "    temp = temp.replace('Very satisfied', 5, regex=True)\n",
    "    temp = temp.replace('Satisfied', 4, regex=True)\n",
    "    temp = temp.replace('Neutral', 3, regex=True)\n",
    "    temp = temp.replace('Unsatisfied', 2, regex=True)\n",
    "    temp = temp.replace('Very unsatisfied', 1, regex=True)\n",
    "    temp = temp.replace('NaN', 3, regex=True)\n",
    "    results_numerical.append(pd.DataFrame(temp))\n",
    "\n",
    "    # Concatenate the list into a DataFrame and use describe() to get the mean and std dev.\n",
    "    results_numerical = pd.concat(results_numerical, axis=1)\n",
    "    display(pd.DataFrame(results_numerical.describe()))\n",
    "\n",
    "    # Compact standard Likert answers to three-point scale.\n",
    "    # Create a list with question value counts (both number counts and as a percentage of the total).\n",
    "    temp = df[q].replace('Strongly agree', 'Agree', regex=True)\n",
    "    temp = temp.replace('Strongly disagree', 'Disagree', regex=True)\n",
    "    temp = temp.replace('Very satisfied', 'Satisfied', regex=True)\n",
    "    temp = temp.replace('Very unsatisfied', 'Unsatisfied', regex=True)\n",
    "    temp = temp.replace('NaN', 3, regex=True)\n",
    "    results_compact.append(pd.DataFrame(temp.value_counts()))\n",
    "    results_compact.append(pd.DataFrame(temp.value_counts(normalize=True)))\n",
    "\n",
    "    # Concatenate the list DataFrames into a single DataFrame\n",
    "    results_compact = pd.concat(results_compact, axis=1)\n",
    "\n",
    "    # Rename columns in the DataFrame.\n",
    "    results_compact.columns = [q + ' (N)', q + ' (%)']\n",
    "\n",
    "    # Sort dataframe rows\n",
    "    results_compact.sort_index(axis=0, ascending=True, inplace=True)\n",
    "\n",
    "    total_count = results_compact[q + ' (%)'].sum(axis=0)\n",
    "    print('TOTAL %: '  + str(total_count) + ' (' + q + ')')\n",
    "\n",
    "    display(results_compact)\n",
    "\n",
    "    title = q.replace('\"', '')\n",
    "    graph_type(results_compact, [q + ' (%)'], title, file_location)"
   ]
  }
 ],
 "metadata": {
  "anaconda-cloud": {},
  "kernelspec": {
   "display_name": "Python [conda root]",
   "language": "python",
   "name": "conda-root-py"
  },
  "language_info": {
   "codemirror_mode": {
    "name": "ipython",
    "version": 3
   },
   "file_extension": ".py",
   "mimetype": "text/x-python",
   "name": "python",
   "nbconvert_exporter": "python",
   "pygments_lexer": "ipython3",
   "version": "3.5.2"
  }
 },
 "nbformat": 4,
 "nbformat_minor": 1
}
