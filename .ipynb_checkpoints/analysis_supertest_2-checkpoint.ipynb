{
 "cells": [
  {
   "cell_type": "markdown",
   "metadata": {
    "collapsed": true
   },
   "source": [
    "#### Import packages"
   ]
  },
  {
   "cell_type": "code",
   "execution_count": 1,
   "metadata": {
    "collapsed": true
   },
   "outputs": [],
   "source": [
    "import pandas as pd\n",
    "import numpy as np\n",
    "import math\n",
    "import matplotlib.pyplot as plt\n",
    "from matplotlib.ticker import FuncFormatter\n",
    "%matplotlib inline"
   ]
  },
  {
   "cell_type": "markdown",
   "metadata": {},
   "source": [
    "#### Import cleaned data"
   ]
  },
  {
   "cell_type": "code",
   "execution_count": 2,
   "metadata": {
    "collapsed": false
   },
   "outputs": [],
   "source": [
    "# Import data.\n",
    "clean_df = pd.read_csv('supertest_fullcompletes_2.csv', encoding='latin-1')"
   ]
  },
  {
   "cell_type": "code",
   "execution_count": 3,
   "metadata": {
    "collapsed": false
   },
   "outputs": [
    {
     "data": {
      "text/plain": [
       "30"
      ]
     },
     "execution_count": 3,
     "metadata": {},
     "output_type": "execute_result"
    }
   ],
   "source": [
    "# Define sample size for future use in the script as a variable called N\n",
    "N = len(clean_df)\n",
    "N"
   ]
  },
  {
   "cell_type": "code",
   "execution_count": 4,
   "metadata": {
    "collapsed": false,
    "scrolled": true
   },
   "outputs": [
    {
     "data": {
      "text/plain": [
       "['Unnamed: 0',\n",
       " 'Participant No.',\n",
       " 'CustomID',\n",
       " 'IP Address',\n",
       " 'Date Started',\n",
       " 'Date Completed',\n",
       " 'User Agent',\n",
       " 'Total Time Spent',\n",
       " 'Avg Time Taken',\n",
       " 'Avg Page Views',\n",
       " '1. Task. How to use the task panel',\n",
       " 'Page Views',\n",
       " 'Time Spent',\n",
       " '2. Task. Task 1 - Employer details',\n",
       " 'Page Views.1',\n",
       " 'Time Spent.1',\n",
       " '7. Task. Task 2 - Employee details',\n",
       " 'Page Views.2',\n",
       " 'Time Spent.2',\n",
       " '17. Task. Task 3 Understanding of results',\n",
       " 'Page Views.3',\n",
       " 'Time Spent.3',\n",
       " 'This tool calculates your super guarantee charge (SGC) liability as an employer. What did you understand SGC to mean? ',\n",
       " \"After completing the first page of the tool, how do you expect the ATO to use the information you're providing? Please select all that apply:\",\n",
       " 'Other, please specify',\n",
       " 'The difference between \"Full legal name\" and \"Authorised contact name\" was clear.',\n",
       " 'Please tell us about any issues you encountered when completing this task.',\n",
       " 'According to your results, you need to pay the following super amount (to the nearest dollar) for Jane:',\n",
       " \"I'm confident I got the right answer.\",\n",
       " 'I was given enough information about the documentation required to complete this form.',\n",
       " 'I found the language used in the tool easy to understand.',\n",
       " 'Overall I found this tool easy to use.',\n",
       " 'I found it easy to navigate through this form.',\n",
       " 'The buttons on this form behaved the way I expected.',\n",
       " 'What is your preference for entering employee salaries and wages?',\n",
       " 'Other, please specify.1',\n",
       " 'Select any of the help features you used. Please choose all that apply:',\n",
       " 'If you used the help features: I found it easy to locate the help icon at the end of each question.',\n",
       " 'If you used the help features: I found the help content useful.',\n",
       " 'I was aware that there was an additional help button at the top of the page.',\n",
       " 'Please tell us about any issues you encountered when completing this task..1',\n",
       " 'Based on the information provided on screen, what are the next steps you would take? Please select all that apply:',\n",
       " 'Other, please specify.2',\n",
       " 'If you were going to send your report to the ATO, how would you do that?',\n",
       " 'I found the summary easy to understand.',\n",
       " 'I feel confident about the next steps I need to take after using this calculator.',\n",
       " 'Please tell us about any issues you encountered when completing this task..2',\n",
       " 'Which of the following best describes your role? Please select all that apply.',\n",
       " 'Other, please specify.3',\n",
       " 'How many staff members does your business/the business you work at employ?',\n",
       " 'Are you an ATO employee?']"
      ]
     },
     "execution_count": 4,
     "metadata": {},
     "output_type": "execute_result"
    }
   ],
   "source": [
    "list(clean_df.columns.values) # For reference later when picking out data in specific column"
   ]
  },
  {
   "cell_type": "code",
   "execution_count": 5,
   "metadata": {
    "collapsed": false
   },
   "outputs": [
    {
     "data": {
      "text/html": [
       "<div>\n",
       "<table border=\"1\" class=\"dataframe\">\n",
       "  <thead>\n",
       "    <tr style=\"text-align: right;\">\n",
       "      <th></th>\n",
       "      <th>Unnamed: 0</th>\n",
       "      <th>Participant No.</th>\n",
       "      <th>CustomID</th>\n",
       "      <th>IP Address</th>\n",
       "      <th>Date Started</th>\n",
       "      <th>Date Completed</th>\n",
       "      <th>User Agent</th>\n",
       "      <th>Total Time Spent</th>\n",
       "      <th>Avg Time Taken</th>\n",
       "      <th>Avg Page Views</th>\n",
       "      <th>...</th>\n",
       "      <th>Based on the information provided on screen, what are the next steps you would take? Please select all that apply:</th>\n",
       "      <th>Other, please specify.2</th>\n",
       "      <th>If you were going to send your report to the ATO, how would you do that?</th>\n",
       "      <th>I found the summary easy to understand.</th>\n",
       "      <th>I feel confident about the next steps I need to take after using this calculator.</th>\n",
       "      <th>Please tell us about any issues you encountered when completing this task..2</th>\n",
       "      <th>Which of the following best describes your role? Please select all that apply.</th>\n",
       "      <th>Other, please specify.3</th>\n",
       "      <th>How many staff members does your business/the business you work at employ?</th>\n",
       "      <th>Are you an ATO employee?</th>\n",
       "    </tr>\n",
       "  </thead>\n",
       "  <tbody>\n",
       "    <tr>\n",
       "      <th>0</th>\n",
       "      <td>3</td>\n",
       "      <td>Participant 19</td>\n",
       "      <td>NaN</td>\n",
       "      <td>180.149.192.139</td>\n",
       "      <td>09/22/16 14:49</td>\n",
       "      <td>09/22/16 15:13</td>\n",
       "      <td>Mozilla/5.0 (Windows NT 6.1; WOW64; rv:41.0) G...</td>\n",
       "      <td>1422 secs</td>\n",
       "      <td>137.0</td>\n",
       "      <td>2.0</td>\n",
       "      <td>...</td>\n",
       "      <td>Print and sign the generated statement and sen...</td>\n",
       "      <td>NaN</td>\n",
       "      <td>I'm unsure</td>\n",
       "      <td>Disagree</td>\n",
       "      <td>Disagree</td>\n",
       "      <td>the terms you use are not consistent and you t...</td>\n",
       "      <td>Small Business</td>\n",
       "      <td>NaN</td>\n",
       "      <td>1 to 10</td>\n",
       "      <td>No</td>\n",
       "    </tr>\n",
       "    <tr>\n",
       "      <th>1</th>\n",
       "      <td>4</td>\n",
       "      <td>Participant 26</td>\n",
       "      <td>NaN</td>\n",
       "      <td>108.171.134.160</td>\n",
       "      <td>09/23/16 15:18</td>\n",
       "      <td>09/23/16 15:24</td>\n",
       "      <td>Mozilla/5.0 (Windows NT 6.1; WOW64; Trident/7....</td>\n",
       "      <td>378 secs</td>\n",
       "      <td>37.8</td>\n",
       "      <td>1.3</td>\n",
       "      <td>...</td>\n",
       "      <td>Print and sign the generated statement and sen...</td>\n",
       "      <td>NaN</td>\n",
       "      <td>Generate an SGC statement and print the statement</td>\n",
       "      <td>Agree</td>\n",
       "      <td>Agree</td>\n",
       "      <td>NaN</td>\n",
       "      <td>Tax professional (BAS agent, Tax agent, Legal ...</td>\n",
       "      <td>NaN</td>\n",
       "      <td>over 100</td>\n",
       "      <td>No</td>\n",
       "    </tr>\n",
       "    <tr>\n",
       "      <th>2</th>\n",
       "      <td>8</td>\n",
       "      <td>Participant 32</td>\n",
       "      <td>NaN</td>\n",
       "      <td>116.212.243.106</td>\n",
       "      <td>09/23/16 15:23</td>\n",
       "      <td>09/23/16 15:27</td>\n",
       "      <td>Mozilla/5.0 (Windows NT 6.3; WOW64; Trident/7....</td>\n",
       "      <td>273 secs</td>\n",
       "      <td>7.5</td>\n",
       "      <td>1.0</td>\n",
       "      <td>...</td>\n",
       "      <td>Print and sign the generated statement and sen...</td>\n",
       "      <td>NaN</td>\n",
       "      <td>Use the print-friendly button to print the sum...</td>\n",
       "      <td>Agree</td>\n",
       "      <td>Agree</td>\n",
       "      <td>NaN</td>\n",
       "      <td>Small Business</td>\n",
       "      <td>NaN</td>\n",
       "      <td>11 to 50</td>\n",
       "      <td>No</td>\n",
       "    </tr>\n",
       "    <tr>\n",
       "      <th>3</th>\n",
       "      <td>18</td>\n",
       "      <td>Participant 67</td>\n",
       "      <td>NaN</td>\n",
       "      <td>1.124.49.5</td>\n",
       "      <td>09/25/16 12:24</td>\n",
       "      <td>09/25/16 12:47</td>\n",
       "      <td>Mozilla/5.0 (Windows NT 10.0; Win64; x64) Appl...</td>\n",
       "      <td>1396 secs</td>\n",
       "      <td>138.3</td>\n",
       "      <td>2.0</td>\n",
       "      <td>...</td>\n",
       "      <td>Print and sign the generated statement and sen...</td>\n",
       "      <td>NaN</td>\n",
       "      <td>I'm unsure</td>\n",
       "      <td>Neither agree nor disagree</td>\n",
       "      <td>Disagree</td>\n",
       "      <td>No ability to scroll down using the side bar. ...</td>\n",
       "      <td>Tax professional (BAS agent, Tax agent, Legal ...</td>\n",
       "      <td>NaN</td>\n",
       "      <td>1 to 10</td>\n",
       "      <td>No</td>\n",
       "    </tr>\n",
       "    <tr>\n",
       "      <th>4</th>\n",
       "      <td>19</td>\n",
       "      <td>Participant 70</td>\n",
       "      <td>NaN</td>\n",
       "      <td>61.8.13.254</td>\n",
       "      <td>09/26/16 7:36</td>\n",
       "      <td>09/26/16 8:31</td>\n",
       "      <td>Mozilla/5.0 (Windows NT 6.3; WOW64) AppleWebKi...</td>\n",
       "      <td>3254 secs</td>\n",
       "      <td>683.5</td>\n",
       "      <td>2.0</td>\n",
       "      <td>...</td>\n",
       "      <td>Generate a statement and save it, Print and si...</td>\n",
       "      <td>Pay the amount outstanding as per instructions</td>\n",
       "      <td>Generate an SGC statement and print the statement</td>\n",
       "      <td>Agree</td>\n",
       "      <td>Agree</td>\n",
       "      <td>No particular issues.</td>\n",
       "      <td>Tax professional (BAS agent, Tax agent, Legal ...</td>\n",
       "      <td>NaN</td>\n",
       "      <td>11 to 50</td>\n",
       "      <td>No</td>\n",
       "    </tr>\n",
       "    <tr>\n",
       "      <th>5</th>\n",
       "      <td>20</td>\n",
       "      <td>Participant 73</td>\n",
       "      <td>NaN</td>\n",
       "      <td>101.179.179.209</td>\n",
       "      <td>09/26/16 8:04</td>\n",
       "      <td>09/26/16 8:17</td>\n",
       "      <td>Mozilla/5.0 (Windows NT 6.1; WOW64; Trident/7....</td>\n",
       "      <td>758 secs</td>\n",
       "      <td>120.3</td>\n",
       "      <td>1.8</td>\n",
       "      <td>...</td>\n",
       "      <td>Generate a statement and save it, Print and si...</td>\n",
       "      <td>NaN</td>\n",
       "      <td>Generate an SGC statement and print the statement</td>\n",
       "      <td>Agree</td>\n",
       "      <td>Agree</td>\n",
       "      <td>NaN</td>\n",
       "      <td>Tax professional (BAS agent, Tax agent, Legal ...</td>\n",
       "      <td>NaN</td>\n",
       "      <td>1 to 10</td>\n",
       "      <td>No</td>\n",
       "    </tr>\n",
       "    <tr>\n",
       "      <th>6</th>\n",
       "      <td>21</td>\n",
       "      <td>Participant 74</td>\n",
       "      <td>NaN</td>\n",
       "      <td>203.214.1.201</td>\n",
       "      <td>09/26/16 9:03</td>\n",
       "      <td>09/26/16 9:13</td>\n",
       "      <td>Mozilla/5.0 (Windows NT 10.0; Win64; x64) Appl...</td>\n",
       "      <td>568 secs</td>\n",
       "      <td>75.3</td>\n",
       "      <td>1.5</td>\n",
       "      <td>...</td>\n",
       "      <td>Print and sign the generated statement and sen...</td>\n",
       "      <td>NaN</td>\n",
       "      <td>Use the print-friendly button to print the sum...</td>\n",
       "      <td>Agree</td>\n",
       "      <td>Agree</td>\n",
       "      <td>NaN</td>\n",
       "      <td>Tax professional (BAS agent, Tax agent, Legal ...</td>\n",
       "      <td>NaN</td>\n",
       "      <td>11 to 50</td>\n",
       "      <td>No</td>\n",
       "    </tr>\n",
       "    <tr>\n",
       "      <th>7</th>\n",
       "      <td>22</td>\n",
       "      <td>Participant 77</td>\n",
       "      <td>NaN</td>\n",
       "      <td>60.241.104.209</td>\n",
       "      <td>09/26/16 9:56</td>\n",
       "      <td>09/26/16 10:49</td>\n",
       "      <td>Mozilla/5.0 (Windows NT 6.1; Trident/7.0; MATP...</td>\n",
       "      <td>3181 secs</td>\n",
       "      <td>406.0</td>\n",
       "      <td>1.5</td>\n",
       "      <td>...</td>\n",
       "      <td>Generate a statement and save it, Print and si...</td>\n",
       "      <td>NaN</td>\n",
       "      <td>Generate an SGC statement and print the statement</td>\n",
       "      <td>Agree</td>\n",
       "      <td>Agree</td>\n",
       "      <td>NaN</td>\n",
       "      <td>Tax professional (BAS agent, Tax agent, Legal ...</td>\n",
       "      <td>NaN</td>\n",
       "      <td>1 to 10</td>\n",
       "      <td>No</td>\n",
       "    </tr>\n",
       "    <tr>\n",
       "      <th>8</th>\n",
       "      <td>23</td>\n",
       "      <td>Participant 79</td>\n",
       "      <td>NaN</td>\n",
       "      <td>115.70.216.32</td>\n",
       "      <td>09/26/16 10:05</td>\n",
       "      <td>09/26/16 10:17</td>\n",
       "      <td>Mozilla/5.0 (Windows NT 6.1) AppleWebKit/537.3...</td>\n",
       "      <td>713 secs</td>\n",
       "      <td>73.0</td>\n",
       "      <td>2.0</td>\n",
       "      <td>...</td>\n",
       "      <td>Generate a statement and save it, Print and si...</td>\n",
       "      <td>Pay the super guarantee charge amount</td>\n",
       "      <td>Generate an SGC statement and print the statement</td>\n",
       "      <td>Agree</td>\n",
       "      <td>Agree</td>\n",
       "      <td>NaN</td>\n",
       "      <td>Not for Profit</td>\n",
       "      <td>NaN</td>\n",
       "      <td>1 to 10</td>\n",
       "      <td>No</td>\n",
       "    </tr>\n",
       "    <tr>\n",
       "      <th>9</th>\n",
       "      <td>24</td>\n",
       "      <td>Participant 89</td>\n",
       "      <td>NaN</td>\n",
       "      <td>203.45.5.159</td>\n",
       "      <td>09/26/16 14:31</td>\n",
       "      <td>09/26/16 14:41</td>\n",
       "      <td>Mozilla/5.0 (Windows NT 5.1; rv:48.0) Gecko/20...</td>\n",
       "      <td>618 secs</td>\n",
       "      <td>67.0</td>\n",
       "      <td>1.0</td>\n",
       "      <td>...</td>\n",
       "      <td>Contact the ATO or tax agent</td>\n",
       "      <td>NaN</td>\n",
       "      <td>Generate an SGC statement and print the statement</td>\n",
       "      <td>Disagree</td>\n",
       "      <td>Neither agree nor disagree</td>\n",
       "      <td>Results based on incorrect information. There ...</td>\n",
       "      <td>Small Business</td>\n",
       "      <td>NaN</td>\n",
       "      <td>1 to 10</td>\n",
       "      <td>No</td>\n",
       "    </tr>\n",
       "    <tr>\n",
       "      <th>10</th>\n",
       "      <td>25</td>\n",
       "      <td>Participant 91</td>\n",
       "      <td>NaN</td>\n",
       "      <td>180.149.192.139</td>\n",
       "      <td>09/26/16 15:34</td>\n",
       "      <td>09/26/16 15:42</td>\n",
       "      <td>Mozilla/5.0 (Windows NT 6.1; WOW64; rv:41.0) G...</td>\n",
       "      <td>494 secs</td>\n",
       "      <td>68.8</td>\n",
       "      <td>1.3</td>\n",
       "      <td>...</td>\n",
       "      <td>Print and sign the generated statement and sen...</td>\n",
       "      <td>NaN</td>\n",
       "      <td>Generate an SGC statement and print the statement</td>\n",
       "      <td>Agree</td>\n",
       "      <td>Agree</td>\n",
       "      <td>no issues</td>\n",
       "      <td>NaN</td>\n",
       "      <td>ATO internal staff</td>\n",
       "      <td>NaN</td>\n",
       "      <td>Yes</td>\n",
       "    </tr>\n",
       "    <tr>\n",
       "      <th>11</th>\n",
       "      <td>26</td>\n",
       "      <td>Participant 95</td>\n",
       "      <td>NaN</td>\n",
       "      <td>115.166.60.199</td>\n",
       "      <td>09/27/16 0:08</td>\n",
       "      <td>09/27/16 0:27</td>\n",
       "      <td>Mozilla/5.0 (Windows NT 10.0; Win64; x64) Appl...</td>\n",
       "      <td>1128 secs</td>\n",
       "      <td>164.0</td>\n",
       "      <td>2.0</td>\n",
       "      <td>...</td>\n",
       "      <td>Print and sign the generated statement and sen...</td>\n",
       "      <td>NaN</td>\n",
       "      <td>Generate an SGC statement and print the statement</td>\n",
       "      <td>Strongly agree</td>\n",
       "      <td>Strongly agree</td>\n",
       "      <td>Nil</td>\n",
       "      <td>Tax professional (BAS agent, Tax agent, Legal ...</td>\n",
       "      <td>NaN</td>\n",
       "      <td>11 to 50</td>\n",
       "      <td>No</td>\n",
       "    </tr>\n",
       "    <tr>\n",
       "      <th>12</th>\n",
       "      <td>27</td>\n",
       "      <td>Participant 97</td>\n",
       "      <td>NaN</td>\n",
       "      <td>110.175.92.146</td>\n",
       "      <td>09/27/16 9:34</td>\n",
       "      <td>09/27/16 9:42</td>\n",
       "      <td>Mozilla/5.0 (Windows NT 6.1; WOW64) AppleWebKi...</td>\n",
       "      <td>468 secs</td>\n",
       "      <td>64.5</td>\n",
       "      <td>1.3</td>\n",
       "      <td>...</td>\n",
       "      <td>Contact the ATO or tax agent</td>\n",
       "      <td>NaN</td>\n",
       "      <td>None of the above</td>\n",
       "      <td>Disagree</td>\n",
       "      <td>Neither agree nor disagree</td>\n",
       "      <td>NaN</td>\n",
       "      <td>Not for Profit</td>\n",
       "      <td>NaN</td>\n",
       "      <td>1 to 10</td>\n",
       "      <td>No</td>\n",
       "    </tr>\n",
       "    <tr>\n",
       "      <th>13</th>\n",
       "      <td>28</td>\n",
       "      <td>Participant 98</td>\n",
       "      <td>NaN</td>\n",
       "      <td>175.33.127.135</td>\n",
       "      <td>09/27/16 10:23</td>\n",
       "      <td>09/27/16 10:56</td>\n",
       "      <td>Mozilla/5.0 (Windows NT 10.0; Win64; x64) Appl...</td>\n",
       "      <td>1960 secs</td>\n",
       "      <td>332.8</td>\n",
       "      <td>4.0</td>\n",
       "      <td>...</td>\n",
       "      <td>Generate a statement and save it, Give this in...</td>\n",
       "      <td>NaN</td>\n",
       "      <td>Generate an SGC statement and print the statement</td>\n",
       "      <td>Agree</td>\n",
       "      <td>Agree</td>\n",
       "      <td>NaN</td>\n",
       "      <td>Small Business</td>\n",
       "      <td>NaN</td>\n",
       "      <td>1 to 10</td>\n",
       "      <td>No</td>\n",
       "    </tr>\n",
       "    <tr>\n",
       "      <th>14</th>\n",
       "      <td>29</td>\n",
       "      <td>Participant 106</td>\n",
       "      <td>NaN</td>\n",
       "      <td>203.59.135.37</td>\n",
       "      <td>09/27/16 16:15</td>\n",
       "      <td>09/27/16 16:28</td>\n",
       "      <td>Mozilla/5.0 (Windows NT 6.1; Win64; x64) Apple...</td>\n",
       "      <td>769 secs</td>\n",
       "      <td>108.3</td>\n",
       "      <td>2.3</td>\n",
       "      <td>...</td>\n",
       "      <td>Generate a statement and save it, Print and si...</td>\n",
       "      <td>I use the Super Clearing house for employee su...</td>\n",
       "      <td>Use the print-friendly button to print the sum...</td>\n",
       "      <td>Agree</td>\n",
       "      <td>Agree</td>\n",
       "      <td>NaN</td>\n",
       "      <td>Not for Profit</td>\n",
       "      <td>NaN</td>\n",
       "      <td>1 to 10</td>\n",
       "      <td>No</td>\n",
       "    </tr>\n",
       "    <tr>\n",
       "      <th>15</th>\n",
       "      <td>30</td>\n",
       "      <td>Participant 117</td>\n",
       "      <td>NaN</td>\n",
       "      <td>150.101.115.206</td>\n",
       "      <td>09/30/16 9:01</td>\n",
       "      <td>09/30/16 9:17</td>\n",
       "      <td>Mozilla/5.0 (Macintosh; Intel Mac OS X 10_12) ...</td>\n",
       "      <td>974 secs</td>\n",
       "      <td>123.0</td>\n",
       "      <td>1.5</td>\n",
       "      <td>...</td>\n",
       "      <td>Generate a statement and save it</td>\n",
       "      <td>NaN</td>\n",
       "      <td>Use the print-friendly button to print the sum...</td>\n",
       "      <td>Agree</td>\n",
       "      <td>Neither agree nor disagree</td>\n",
       "      <td>NaN</td>\n",
       "      <td>Individual</td>\n",
       "      <td>NaN</td>\n",
       "      <td>NaN</td>\n",
       "      <td>Yes</td>\n",
       "    </tr>\n",
       "    <tr>\n",
       "      <th>16</th>\n",
       "      <td>31</td>\n",
       "      <td>Participant 120</td>\n",
       "      <td>NaN</td>\n",
       "      <td>120.151.198.75</td>\n",
       "      <td>10/02/2016 15:57</td>\n",
       "      <td>10/02/2016 16:13</td>\n",
       "      <td>Mozilla/5.0 (Windows NT 10.0; WOW64) AppleWebK...</td>\n",
       "      <td>941 secs</td>\n",
       "      <td>120.8</td>\n",
       "      <td>2.8</td>\n",
       "      <td>...</td>\n",
       "      <td>Generate a statement and save it, Print and si...</td>\n",
       "      <td>Pay the outstanding guaranteed charge</td>\n",
       "      <td>Generate an SGC statement and print the statement</td>\n",
       "      <td>Strongly agree</td>\n",
       "      <td>Strongly agree</td>\n",
       "      <td>NaN</td>\n",
       "      <td>Tax professional (BAS agent, Tax agent, Legal ...</td>\n",
       "      <td>NaN</td>\n",
       "      <td>1 to 10</td>\n",
       "      <td>No</td>\n",
       "    </tr>\n",
       "    <tr>\n",
       "      <th>17</th>\n",
       "      <td>32</td>\n",
       "      <td>Participant 122</td>\n",
       "      <td>NaN</td>\n",
       "      <td>180.149.192.135</td>\n",
       "      <td>10/03/2016 15:53</td>\n",
       "      <td>10/03/2016 16:01</td>\n",
       "      <td>Mozilla/5.0 (Windows NT 6.1; WOW64; rv:41.0) G...</td>\n",
       "      <td>475 secs</td>\n",
       "      <td>56.0</td>\n",
       "      <td>2.0</td>\n",
       "      <td>...</td>\n",
       "      <td>Generate a statement and save it, Give this in...</td>\n",
       "      <td>NaN</td>\n",
       "      <td>Use the print-friendly button to print the sum...</td>\n",
       "      <td>Neither agree nor disagree</td>\n",
       "      <td>Disagree</td>\n",
       "      <td>NaN</td>\n",
       "      <td>Individual</td>\n",
       "      <td>NaN</td>\n",
       "      <td>NaN</td>\n",
       "      <td>Yes</td>\n",
       "    </tr>\n",
       "    <tr>\n",
       "      <th>18</th>\n",
       "      <td>33</td>\n",
       "      <td>Participant 124</td>\n",
       "      <td>NaN</td>\n",
       "      <td>101.183.198.92</td>\n",
       "      <td>10/04/2016 11:43</td>\n",
       "      <td>10/04/2016 12:01</td>\n",
       "      <td>Mozilla/5.0 (Windows NT 6.3; WOW64; Trident/7....</td>\n",
       "      <td>1037 secs</td>\n",
       "      <td>67.8</td>\n",
       "      <td>1.8</td>\n",
       "      <td>...</td>\n",
       "      <td>Generate a statement and save it, Print and si...</td>\n",
       "      <td>NaN</td>\n",
       "      <td>Generate an SGC statement and print the statement</td>\n",
       "      <td>Agree</td>\n",
       "      <td>Agree</td>\n",
       "      <td>NaN</td>\n",
       "      <td>Small Business</td>\n",
       "      <td>NaN</td>\n",
       "      <td>1 to 10</td>\n",
       "      <td>No</td>\n",
       "    </tr>\n",
       "    <tr>\n",
       "      <th>19</th>\n",
       "      <td>34</td>\n",
       "      <td>Participant 125</td>\n",
       "      <td>NaN</td>\n",
       "      <td>101.187.205.156</td>\n",
       "      <td>10/04/2016 12:09</td>\n",
       "      <td>10/04/2016 12:34</td>\n",
       "      <td>Mozilla/5.0 (Windows NT 6.1; WOW64) AppleWebKi...</td>\n",
       "      <td>1465 secs</td>\n",
       "      <td>219.5</td>\n",
       "      <td>2.8</td>\n",
       "      <td>...</td>\n",
       "      <td>Print and sign the generated statement and sen...</td>\n",
       "      <td>NaN</td>\n",
       "      <td>Generate an SGC statement and print the statement</td>\n",
       "      <td>Agree</td>\n",
       "      <td>Disagree</td>\n",
       "      <td>Who do i pay, the ATO or super fund or both. S...</td>\n",
       "      <td>Tax professional (BAS agent, Tax agent, Legal ...</td>\n",
       "      <td>NaN</td>\n",
       "      <td>1 to 10</td>\n",
       "      <td>No</td>\n",
       "    </tr>\n",
       "    <tr>\n",
       "      <th>20</th>\n",
       "      <td>35</td>\n",
       "      <td>Participant 131</td>\n",
       "      <td>NaN</td>\n",
       "      <td>180.149.192.135</td>\n",
       "      <td>10/04/2016 19:42</td>\n",
       "      <td>10/04/2016 19:47</td>\n",
       "      <td>Mozilla/5.0 (Windows NT 6.1; WOW64; rv:41.0) G...</td>\n",
       "      <td>280 secs</td>\n",
       "      <td>24.0</td>\n",
       "      <td>1.3</td>\n",
       "      <td>...</td>\n",
       "      <td>Print and sign the generated statement and sen...</td>\n",
       "      <td>NaN</td>\n",
       "      <td>None of the above</td>\n",
       "      <td>Neither agree nor disagree</td>\n",
       "      <td>Neither agree nor disagree</td>\n",
       "      <td>why cant i do online</td>\n",
       "      <td>Small Business</td>\n",
       "      <td>NaN</td>\n",
       "      <td>11 to 50</td>\n",
       "      <td>No</td>\n",
       "    </tr>\n",
       "    <tr>\n",
       "      <th>21</th>\n",
       "      <td>36</td>\n",
       "      <td>Participant 137</td>\n",
       "      <td>NaN</td>\n",
       "      <td>58.108.173.56</td>\n",
       "      <td>10/06/2016 14:50</td>\n",
       "      <td>10/06/2016 15:01</td>\n",
       "      <td>Mozilla/5.0 (Windows NT 6.1; Win64; x64) Apple...</td>\n",
       "      <td>630 secs</td>\n",
       "      <td>76.3</td>\n",
       "      <td>2.3</td>\n",
       "      <td>...</td>\n",
       "      <td>Print and sign the generated statement and sen...</td>\n",
       "      <td>NaN</td>\n",
       "      <td>Generate an SGC statement and print the statement</td>\n",
       "      <td>Strongly agree</td>\n",
       "      <td>Strongly agree</td>\n",
       "      <td>I wasn't able to complete the tasks.</td>\n",
       "      <td>Small Business</td>\n",
       "      <td>NaN</td>\n",
       "      <td>1 to 10</td>\n",
       "      <td>No</td>\n",
       "    </tr>\n",
       "    <tr>\n",
       "      <th>22</th>\n",
       "      <td>37</td>\n",
       "      <td>Participant 139</td>\n",
       "      <td>NaN</td>\n",
       "      <td>198.103.184.76</td>\n",
       "      <td>10/06/2016 23:45</td>\n",
       "      <td>10/07/2016 0:31</td>\n",
       "      <td>Mozilla/5.0 (Windows NT 6.1; WOW64; Trident/7....</td>\n",
       "      <td>2730 secs</td>\n",
       "      <td>228.8</td>\n",
       "      <td>1.0</td>\n",
       "      <td>...</td>\n",
       "      <td>Generate a statement and save it, Print and si...</td>\n",
       "      <td>NaN</td>\n",
       "      <td>Use the print-friendly button to print the sum...</td>\n",
       "      <td>Disagree</td>\n",
       "      <td>Disagree</td>\n",
       "      <td>I made lot of comments that were erased when I...</td>\n",
       "      <td>Tax professional (BAS agent, Tax agent, Legal ...</td>\n",
       "      <td>NaN</td>\n",
       "      <td>1 to 10</td>\n",
       "      <td>No</td>\n",
       "    </tr>\n",
       "    <tr>\n",
       "      <th>23</th>\n",
       "      <td>38</td>\n",
       "      <td>Participant 142</td>\n",
       "      <td>NaN</td>\n",
       "      <td>180.149.192.136</td>\n",
       "      <td>10/07/2016 11:14</td>\n",
       "      <td>10/07/2016 11:20</td>\n",
       "      <td>Mozilla/5.0 (Windows NT 6.1; WOW64; Trident/7....</td>\n",
       "      <td>307 secs</td>\n",
       "      <td>23.5</td>\n",
       "      <td>1.0</td>\n",
       "      <td>...</td>\n",
       "      <td>Print and sign the generated statement and sen...</td>\n",
       "      <td>NaN</td>\n",
       "      <td>Generate an SGC statement and print the statement</td>\n",
       "      <td>Disagree</td>\n",
       "      <td>Disagree</td>\n",
       "      <td>NaN</td>\n",
       "      <td>Small Business</td>\n",
       "      <td>NaN</td>\n",
       "      <td>1 to 10</td>\n",
       "      <td>Yes</td>\n",
       "    </tr>\n",
       "    <tr>\n",
       "      <th>24</th>\n",
       "      <td>39</td>\n",
       "      <td>Participant 154</td>\n",
       "      <td>NaN</td>\n",
       "      <td>180.149.192.134</td>\n",
       "      <td>10/12/2016 14:06</td>\n",
       "      <td>10/12/2016 14:17</td>\n",
       "      <td>Mozilla/5.0 (Windows NT 6.1; WOW64; rv:41.0) G...</td>\n",
       "      <td>669 secs</td>\n",
       "      <td>85.0</td>\n",
       "      <td>1.5</td>\n",
       "      <td>...</td>\n",
       "      <td>Print and sign the generated statement and sen...</td>\n",
       "      <td>NaN</td>\n",
       "      <td>Generate an SGC statement and print the statement</td>\n",
       "      <td>Agree</td>\n",
       "      <td>Agree</td>\n",
       "      <td>NaN</td>\n",
       "      <td>NaN</td>\n",
       "      <td>ATO staff</td>\n",
       "      <td>over 100</td>\n",
       "      <td>Yes</td>\n",
       "    </tr>\n",
       "    <tr>\n",
       "      <th>25</th>\n",
       "      <td>40</td>\n",
       "      <td>Participant 161</td>\n",
       "      <td>NaN</td>\n",
       "      <td>205.156.88.233</td>\n",
       "      <td>10/14/16 12:25</td>\n",
       "      <td>10/14/16 12:40</td>\n",
       "      <td>Mozilla/5.0 (Windows NT 6.1; WOW64; rv:45.0) G...</td>\n",
       "      <td>918 secs</td>\n",
       "      <td>87.8</td>\n",
       "      <td>1.3</td>\n",
       "      <td>...</td>\n",
       "      <td>Print and sign the generated statement and sen...</td>\n",
       "      <td>NaN</td>\n",
       "      <td>Generate an SGC statement and print the statement</td>\n",
       "      <td>Neither agree nor disagree</td>\n",
       "      <td>Agree</td>\n",
       "      <td>NaN</td>\n",
       "      <td>Small Business</td>\n",
       "      <td>NaN</td>\n",
       "      <td>11 to 50</td>\n",
       "      <td>No</td>\n",
       "    </tr>\n",
       "    <tr>\n",
       "      <th>26</th>\n",
       "      <td>41</td>\n",
       "      <td>Participant 165</td>\n",
       "      <td>NaN</td>\n",
       "      <td>49.195.82.86</td>\n",
       "      <td>10/16/16 21:00</td>\n",
       "      <td>10/16/16 21:08</td>\n",
       "      <td>Mozilla/5.0 (iPhone; CPU iPhone OS 10_0_2 like...</td>\n",
       "      <td>489 secs</td>\n",
       "      <td>43.8</td>\n",
       "      <td>1.0</td>\n",
       "      <td>...</td>\n",
       "      <td>NaN</td>\n",
       "      <td>NaN</td>\n",
       "      <td>NaN</td>\n",
       "      <td>NaN</td>\n",
       "      <td>NaN</td>\n",
       "      <td>NaN</td>\n",
       "      <td>NaN</td>\n",
       "      <td>NaN</td>\n",
       "      <td>NaN</td>\n",
       "      <td>NaN</td>\n",
       "    </tr>\n",
       "    <tr>\n",
       "      <th>27</th>\n",
       "      <td>42</td>\n",
       "      <td>Participant 176</td>\n",
       "      <td>NaN</td>\n",
       "      <td>119.225.114.60</td>\n",
       "      <td>10/18/16 14:40</td>\n",
       "      <td>10/18/16 14:48</td>\n",
       "      <td>Mozilla/5.0 (Macintosh; Intel Mac OS X 10.11; ...</td>\n",
       "      <td>514 secs</td>\n",
       "      <td>41.3</td>\n",
       "      <td>1.0</td>\n",
       "      <td>...</td>\n",
       "      <td>Print and sign the generated statement and sen...</td>\n",
       "      <td>NaN</td>\n",
       "      <td>I'm unsure</td>\n",
       "      <td>Neither agree nor disagree</td>\n",
       "      <td>Neither agree nor disagree</td>\n",
       "      <td>NaN</td>\n",
       "      <td>Individual</td>\n",
       "      <td>NaN</td>\n",
       "      <td>NaN</td>\n",
       "      <td>Yes</td>\n",
       "    </tr>\n",
       "    <tr>\n",
       "      <th>28</th>\n",
       "      <td>43</td>\n",
       "      <td>Participant 191</td>\n",
       "      <td>NaN</td>\n",
       "      <td>180.149.192.133</td>\n",
       "      <td>10/26/16 19:01</td>\n",
       "      <td>10/26/16 19:17</td>\n",
       "      <td>Mozilla/5.0 (Windows NT 6.1; WOW64; Trident/7....</td>\n",
       "      <td>987 secs</td>\n",
       "      <td>131.5</td>\n",
       "      <td>2.3</td>\n",
       "      <td>...</td>\n",
       "      <td>Print and sign the generated statement and sen...</td>\n",
       "      <td>NaN</td>\n",
       "      <td>Use the print-friendly button to print the sum...</td>\n",
       "      <td>Disagree</td>\n",
       "      <td>Disagree</td>\n",
       "      <td>NaN</td>\n",
       "      <td>Small Business</td>\n",
       "      <td>NaN</td>\n",
       "      <td>1 to 10</td>\n",
       "      <td>No</td>\n",
       "    </tr>\n",
       "    <tr>\n",
       "      <th>29</th>\n",
       "      <td>44</td>\n",
       "      <td>Participant 193</td>\n",
       "      <td>NaN</td>\n",
       "      <td>101.179.231.162</td>\n",
       "      <td>10/27/16 7:15</td>\n",
       "      <td>10/27/16 7:31</td>\n",
       "      <td>Mozilla/5.0 (iPad; CPU OS 10_0_2 like Mac OS X...</td>\n",
       "      <td>996 secs</td>\n",
       "      <td>119.0</td>\n",
       "      <td>4.3</td>\n",
       "      <td>...</td>\n",
       "      <td>Generate a statement and save it, Print and si...</td>\n",
       "      <td>NaN</td>\n",
       "      <td>Generate an SGC statement and print the statement</td>\n",
       "      <td>Disagree</td>\n",
       "      <td>Agree</td>\n",
       "      <td>The help buttons didn't ore next to the summar...</td>\n",
       "      <td>Small Business</td>\n",
       "      <td>NaN</td>\n",
       "      <td>1 to 10</td>\n",
       "      <td>Yes</td>\n",
       "    </tr>\n",
       "  </tbody>\n",
       "</table>\n",
       "<p>30 rows × 51 columns</p>\n",
       "</div>"
      ],
      "text/plain": [
       "    Unnamed: 0  Participant No.  CustomID       IP Address      Date Started  \\\n",
       "0            3   Participant 19       NaN  180.149.192.139    09/22/16 14:49   \n",
       "1            4   Participant 26       NaN  108.171.134.160    09/23/16 15:18   \n",
       "2            8   Participant 32       NaN  116.212.243.106    09/23/16 15:23   \n",
       "3           18   Participant 67       NaN       1.124.49.5    09/25/16 12:24   \n",
       "4           19   Participant 70       NaN      61.8.13.254     09/26/16 7:36   \n",
       "5           20   Participant 73       NaN  101.179.179.209     09/26/16 8:04   \n",
       "6           21   Participant 74       NaN    203.214.1.201     09/26/16 9:03   \n",
       "7           22   Participant 77       NaN   60.241.104.209     09/26/16 9:56   \n",
       "8           23   Participant 79       NaN    115.70.216.32    09/26/16 10:05   \n",
       "9           24   Participant 89       NaN     203.45.5.159    09/26/16 14:31   \n",
       "10          25   Participant 91       NaN  180.149.192.139    09/26/16 15:34   \n",
       "11          26   Participant 95       NaN   115.166.60.199     09/27/16 0:08   \n",
       "12          27   Participant 97       NaN   110.175.92.146     09/27/16 9:34   \n",
       "13          28   Participant 98       NaN   175.33.127.135    09/27/16 10:23   \n",
       "14          29  Participant 106       NaN    203.59.135.37    09/27/16 16:15   \n",
       "15          30  Participant 117       NaN  150.101.115.206     09/30/16 9:01   \n",
       "16          31  Participant 120       NaN   120.151.198.75  10/02/2016 15:57   \n",
       "17          32  Participant 122       NaN  180.149.192.135  10/03/2016 15:53   \n",
       "18          33  Participant 124       NaN   101.183.198.92  10/04/2016 11:43   \n",
       "19          34  Participant 125       NaN  101.187.205.156  10/04/2016 12:09   \n",
       "20          35  Participant 131       NaN  180.149.192.135  10/04/2016 19:42   \n",
       "21          36  Participant 137       NaN    58.108.173.56  10/06/2016 14:50   \n",
       "22          37  Participant 139       NaN   198.103.184.76  10/06/2016 23:45   \n",
       "23          38  Participant 142       NaN  180.149.192.136  10/07/2016 11:14   \n",
       "24          39  Participant 154       NaN  180.149.192.134  10/12/2016 14:06   \n",
       "25          40  Participant 161       NaN   205.156.88.233    10/14/16 12:25   \n",
       "26          41  Participant 165       NaN     49.195.82.86    10/16/16 21:00   \n",
       "27          42  Participant 176       NaN   119.225.114.60    10/18/16 14:40   \n",
       "28          43  Participant 191       NaN  180.149.192.133    10/26/16 19:01   \n",
       "29          44  Participant 193       NaN  101.179.231.162     10/27/16 7:15   \n",
       "\n",
       "      Date Completed                                         User Agent  \\\n",
       "0     09/22/16 15:13  Mozilla/5.0 (Windows NT 6.1; WOW64; rv:41.0) G...   \n",
       "1     09/23/16 15:24  Mozilla/5.0 (Windows NT 6.1; WOW64; Trident/7....   \n",
       "2     09/23/16 15:27  Mozilla/5.0 (Windows NT 6.3; WOW64; Trident/7....   \n",
       "3     09/25/16 12:47  Mozilla/5.0 (Windows NT 10.0; Win64; x64) Appl...   \n",
       "4      09/26/16 8:31  Mozilla/5.0 (Windows NT 6.3; WOW64) AppleWebKi...   \n",
       "5      09/26/16 8:17  Mozilla/5.0 (Windows NT 6.1; WOW64; Trident/7....   \n",
       "6      09/26/16 9:13  Mozilla/5.0 (Windows NT 10.0; Win64; x64) Appl...   \n",
       "7     09/26/16 10:49  Mozilla/5.0 (Windows NT 6.1; Trident/7.0; MATP...   \n",
       "8     09/26/16 10:17  Mozilla/5.0 (Windows NT 6.1) AppleWebKit/537.3...   \n",
       "9     09/26/16 14:41  Mozilla/5.0 (Windows NT 5.1; rv:48.0) Gecko/20...   \n",
       "10    09/26/16 15:42  Mozilla/5.0 (Windows NT 6.1; WOW64; rv:41.0) G...   \n",
       "11     09/27/16 0:27  Mozilla/5.0 (Windows NT 10.0; Win64; x64) Appl...   \n",
       "12     09/27/16 9:42  Mozilla/5.0 (Windows NT 6.1; WOW64) AppleWebKi...   \n",
       "13    09/27/16 10:56  Mozilla/5.0 (Windows NT 10.0; Win64; x64) Appl...   \n",
       "14    09/27/16 16:28  Mozilla/5.0 (Windows NT 6.1; Win64; x64) Apple...   \n",
       "15     09/30/16 9:17  Mozilla/5.0 (Macintosh; Intel Mac OS X 10_12) ...   \n",
       "16  10/02/2016 16:13  Mozilla/5.0 (Windows NT 10.0; WOW64) AppleWebK...   \n",
       "17  10/03/2016 16:01  Mozilla/5.0 (Windows NT 6.1; WOW64; rv:41.0) G...   \n",
       "18  10/04/2016 12:01  Mozilla/5.0 (Windows NT 6.3; WOW64; Trident/7....   \n",
       "19  10/04/2016 12:34  Mozilla/5.0 (Windows NT 6.1; WOW64) AppleWebKi...   \n",
       "20  10/04/2016 19:47  Mozilla/5.0 (Windows NT 6.1; WOW64; rv:41.0) G...   \n",
       "21  10/06/2016 15:01  Mozilla/5.0 (Windows NT 6.1; Win64; x64) Apple...   \n",
       "22   10/07/2016 0:31  Mozilla/5.0 (Windows NT 6.1; WOW64; Trident/7....   \n",
       "23  10/07/2016 11:20  Mozilla/5.0 (Windows NT 6.1; WOW64; Trident/7....   \n",
       "24  10/12/2016 14:17  Mozilla/5.0 (Windows NT 6.1; WOW64; rv:41.0) G...   \n",
       "25    10/14/16 12:40  Mozilla/5.0 (Windows NT 6.1; WOW64; rv:45.0) G...   \n",
       "26    10/16/16 21:08  Mozilla/5.0 (iPhone; CPU iPhone OS 10_0_2 like...   \n",
       "27    10/18/16 14:48  Mozilla/5.0 (Macintosh; Intel Mac OS X 10.11; ...   \n",
       "28    10/26/16 19:17  Mozilla/5.0 (Windows NT 6.1; WOW64; Trident/7....   \n",
       "29     10/27/16 7:31  Mozilla/5.0 (iPad; CPU OS 10_0_2 like Mac OS X...   \n",
       "\n",
       "   Total Time Spent  Avg Time Taken  Avg Page Views           ...             \\\n",
       "0         1422 secs           137.0             2.0           ...              \n",
       "1          378 secs            37.8             1.3           ...              \n",
       "2          273 secs             7.5             1.0           ...              \n",
       "3         1396 secs           138.3             2.0           ...              \n",
       "4         3254 secs           683.5             2.0           ...              \n",
       "5          758 secs           120.3             1.8           ...              \n",
       "6          568 secs            75.3             1.5           ...              \n",
       "7         3181 secs           406.0             1.5           ...              \n",
       "8          713 secs            73.0             2.0           ...              \n",
       "9          618 secs            67.0             1.0           ...              \n",
       "10         494 secs            68.8             1.3           ...              \n",
       "11        1128 secs           164.0             2.0           ...              \n",
       "12         468 secs            64.5             1.3           ...              \n",
       "13        1960 secs           332.8             4.0           ...              \n",
       "14         769 secs           108.3             2.3           ...              \n",
       "15         974 secs           123.0             1.5           ...              \n",
       "16         941 secs           120.8             2.8           ...              \n",
       "17         475 secs            56.0             2.0           ...              \n",
       "18        1037 secs            67.8             1.8           ...              \n",
       "19        1465 secs           219.5             2.8           ...              \n",
       "20         280 secs            24.0             1.3           ...              \n",
       "21         630 secs            76.3             2.3           ...              \n",
       "22        2730 secs           228.8             1.0           ...              \n",
       "23         307 secs            23.5             1.0           ...              \n",
       "24         669 secs            85.0             1.5           ...              \n",
       "25         918 secs            87.8             1.3           ...              \n",
       "26         489 secs            43.8             1.0           ...              \n",
       "27         514 secs            41.3             1.0           ...              \n",
       "28         987 secs           131.5             2.3           ...              \n",
       "29         996 secs           119.0             4.3           ...              \n",
       "\n",
       "   Based on the information provided on screen, what are the next steps you would take? Please select all that apply:  \\\n",
       "0   Print and sign the generated statement and sen...                                                                   \n",
       "1   Print and sign the generated statement and sen...                                                                   \n",
       "2   Print and sign the generated statement and sen...                                                                   \n",
       "3   Print and sign the generated statement and sen...                                                                   \n",
       "4   Generate a statement and save it, Print and si...                                                                   \n",
       "5   Generate a statement and save it, Print and si...                                                                   \n",
       "6   Print and sign the generated statement and sen...                                                                   \n",
       "7   Generate a statement and save it, Print and si...                                                                   \n",
       "8   Generate a statement and save it, Print and si...                                                                   \n",
       "9                        Contact the ATO or tax agent                                                                   \n",
       "10  Print and sign the generated statement and sen...                                                                   \n",
       "11  Print and sign the generated statement and sen...                                                                   \n",
       "12                       Contact the ATO or tax agent                                                                   \n",
       "13  Generate a statement and save it, Give this in...                                                                   \n",
       "14  Generate a statement and save it, Print and si...                                                                   \n",
       "15                   Generate a statement and save it                                                                   \n",
       "16  Generate a statement and save it, Print and si...                                                                   \n",
       "17  Generate a statement and save it, Give this in...                                                                   \n",
       "18  Generate a statement and save it, Print and si...                                                                   \n",
       "19  Print and sign the generated statement and sen...                                                                   \n",
       "20  Print and sign the generated statement and sen...                                                                   \n",
       "21  Print and sign the generated statement and sen...                                                                   \n",
       "22  Generate a statement and save it, Print and si...                                                                   \n",
       "23  Print and sign the generated statement and sen...                                                                   \n",
       "24  Print and sign the generated statement and sen...                                                                   \n",
       "25  Print and sign the generated statement and sen...                                                                   \n",
       "26                                                NaN                                                                   \n",
       "27  Print and sign the generated statement and sen...                                                                   \n",
       "28  Print and sign the generated statement and sen...                                                                   \n",
       "29  Generate a statement and save it, Print and si...                                                                   \n",
       "\n",
       "                              Other, please specify.2  \\\n",
       "0                                                 NaN   \n",
       "1                                                 NaN   \n",
       "2                                                 NaN   \n",
       "3                                                 NaN   \n",
       "4      Pay the amount outstanding as per instructions   \n",
       "5                                                 NaN   \n",
       "6                                                 NaN   \n",
       "7                                                 NaN   \n",
       "8               Pay the super guarantee charge amount   \n",
       "9                                                 NaN   \n",
       "10                                                NaN   \n",
       "11                                                NaN   \n",
       "12                                                NaN   \n",
       "13                                                NaN   \n",
       "14  I use the Super Clearing house for employee su...   \n",
       "15                                                NaN   \n",
       "16              Pay the outstanding guaranteed charge   \n",
       "17                                                NaN   \n",
       "18                                                NaN   \n",
       "19                                                NaN   \n",
       "20                                                NaN   \n",
       "21                                                NaN   \n",
       "22                                                NaN   \n",
       "23                                                NaN   \n",
       "24                                                NaN   \n",
       "25                                                NaN   \n",
       "26                                                NaN   \n",
       "27                                                NaN   \n",
       "28                                                NaN   \n",
       "29                                                NaN   \n",
       "\n",
       "    If you were going to send your report to the ATO, how would you do that?  \\\n",
       "0                                          I'm unsure                          \n",
       "1   Generate an SGC statement and print the statement                          \n",
       "2   Use the print-friendly button to print the sum...                          \n",
       "3                                          I'm unsure                          \n",
       "4   Generate an SGC statement and print the statement                          \n",
       "5   Generate an SGC statement and print the statement                          \n",
       "6   Use the print-friendly button to print the sum...                          \n",
       "7   Generate an SGC statement and print the statement                          \n",
       "8   Generate an SGC statement and print the statement                          \n",
       "9   Generate an SGC statement and print the statement                          \n",
       "10  Generate an SGC statement and print the statement                          \n",
       "11  Generate an SGC statement and print the statement                          \n",
       "12                                  None of the above                          \n",
       "13  Generate an SGC statement and print the statement                          \n",
       "14  Use the print-friendly button to print the sum...                          \n",
       "15  Use the print-friendly button to print the sum...                          \n",
       "16  Generate an SGC statement and print the statement                          \n",
       "17  Use the print-friendly button to print the sum...                          \n",
       "18  Generate an SGC statement and print the statement                          \n",
       "19  Generate an SGC statement and print the statement                          \n",
       "20                                  None of the above                          \n",
       "21  Generate an SGC statement and print the statement                          \n",
       "22  Use the print-friendly button to print the sum...                          \n",
       "23  Generate an SGC statement and print the statement                          \n",
       "24  Generate an SGC statement and print the statement                          \n",
       "25  Generate an SGC statement and print the statement                          \n",
       "26                                                NaN                          \n",
       "27                                         I'm unsure                          \n",
       "28  Use the print-friendly button to print the sum...                          \n",
       "29  Generate an SGC statement and print the statement                          \n",
       "\n",
       "   I found the summary easy to understand.  \\\n",
       "0                                 Disagree   \n",
       "1                                    Agree   \n",
       "2                                    Agree   \n",
       "3               Neither agree nor disagree   \n",
       "4                                    Agree   \n",
       "5                                    Agree   \n",
       "6                                    Agree   \n",
       "7                                    Agree   \n",
       "8                                    Agree   \n",
       "9                                 Disagree   \n",
       "10                                   Agree   \n",
       "11                          Strongly agree   \n",
       "12                                Disagree   \n",
       "13                                   Agree   \n",
       "14                                   Agree   \n",
       "15                                   Agree   \n",
       "16                          Strongly agree   \n",
       "17              Neither agree nor disagree   \n",
       "18                                   Agree   \n",
       "19                                   Agree   \n",
       "20              Neither agree nor disagree   \n",
       "21                          Strongly agree   \n",
       "22                                Disagree   \n",
       "23                                Disagree   \n",
       "24                                   Agree   \n",
       "25              Neither agree nor disagree   \n",
       "26                                     NaN   \n",
       "27              Neither agree nor disagree   \n",
       "28                                Disagree   \n",
       "29                                Disagree   \n",
       "\n",
       "    I feel confident about the next steps I need to take after using this calculator.  \\\n",
       "0                                            Disagree                                   \n",
       "1                                               Agree                                   \n",
       "2                                               Agree                                   \n",
       "3                                            Disagree                                   \n",
       "4                                               Agree                                   \n",
       "5                                               Agree                                   \n",
       "6                                               Agree                                   \n",
       "7                                               Agree                                   \n",
       "8                                               Agree                                   \n",
       "9                          Neither agree nor disagree                                   \n",
       "10                                              Agree                                   \n",
       "11                                     Strongly agree                                   \n",
       "12                         Neither agree nor disagree                                   \n",
       "13                                              Agree                                   \n",
       "14                                              Agree                                   \n",
       "15                         Neither agree nor disagree                                   \n",
       "16                                     Strongly agree                                   \n",
       "17                                           Disagree                                   \n",
       "18                                              Agree                                   \n",
       "19                                           Disagree                                   \n",
       "20                         Neither agree nor disagree                                   \n",
       "21                                     Strongly agree                                   \n",
       "22                                           Disagree                                   \n",
       "23                                           Disagree                                   \n",
       "24                                              Agree                                   \n",
       "25                                              Agree                                   \n",
       "26                                                NaN                                   \n",
       "27                         Neither agree nor disagree                                   \n",
       "28                                           Disagree                                   \n",
       "29                                              Agree                                   \n",
       "\n",
       "    Please tell us about any issues you encountered when completing this task..2  \\\n",
       "0   the terms you use are not consistent and you t...                              \n",
       "1                                                 NaN                              \n",
       "2                                                 NaN                              \n",
       "3   No ability to scroll down using the side bar. ...                              \n",
       "4                               No particular issues.                              \n",
       "5                                                 NaN                              \n",
       "6                                                 NaN                              \n",
       "7                                                 NaN                              \n",
       "8                                                 NaN                              \n",
       "9   Results based on incorrect information. There ...                              \n",
       "10                                          no issues                              \n",
       "11                                                Nil                              \n",
       "12                                                NaN                              \n",
       "13                                                NaN                              \n",
       "14                                                NaN                              \n",
       "15                                                NaN                              \n",
       "16                                                NaN                              \n",
       "17                                                NaN                              \n",
       "18                                                NaN                              \n",
       "19  Who do i pay, the ATO or super fund or both. S...                              \n",
       "20                               why cant i do online                              \n",
       "21               I wasn't able to complete the tasks.                              \n",
       "22  I made lot of comments that were erased when I...                              \n",
       "23                                                NaN                              \n",
       "24                                                NaN                              \n",
       "25                                                NaN                              \n",
       "26                                                NaN                              \n",
       "27                                                NaN                              \n",
       "28                                                NaN                              \n",
       "29  The help buttons didn't ore next to the summar...                              \n",
       "\n",
       "   Which of the following best describes your role? Please select all that apply.  \\\n",
       "0                                      Small Business                               \n",
       "1   Tax professional (BAS agent, Tax agent, Legal ...                               \n",
       "2                                      Small Business                               \n",
       "3   Tax professional (BAS agent, Tax agent, Legal ...                               \n",
       "4   Tax professional (BAS agent, Tax agent, Legal ...                               \n",
       "5   Tax professional (BAS agent, Tax agent, Legal ...                               \n",
       "6   Tax professional (BAS agent, Tax agent, Legal ...                               \n",
       "7   Tax professional (BAS agent, Tax agent, Legal ...                               \n",
       "8                                      Not for Profit                               \n",
       "9                                      Small Business                               \n",
       "10                                                NaN                               \n",
       "11  Tax professional (BAS agent, Tax agent, Legal ...                               \n",
       "12                                     Not for Profit                               \n",
       "13                                     Small Business                               \n",
       "14                                     Not for Profit                               \n",
       "15                                         Individual                               \n",
       "16  Tax professional (BAS agent, Tax agent, Legal ...                               \n",
       "17                                         Individual                               \n",
       "18                                     Small Business                               \n",
       "19  Tax professional (BAS agent, Tax agent, Legal ...                               \n",
       "20                                     Small Business                               \n",
       "21                                     Small Business                               \n",
       "22  Tax professional (BAS agent, Tax agent, Legal ...                               \n",
       "23                                     Small Business                               \n",
       "24                                                NaN                               \n",
       "25                                     Small Business                               \n",
       "26                                                NaN                               \n",
       "27                                         Individual                               \n",
       "28                                     Small Business                               \n",
       "29                                     Small Business                               \n",
       "\n",
       "    Other, please specify.3  \\\n",
       "0                       NaN   \n",
       "1                       NaN   \n",
       "2                       NaN   \n",
       "3                       NaN   \n",
       "4                       NaN   \n",
       "5                       NaN   \n",
       "6                       NaN   \n",
       "7                       NaN   \n",
       "8                       NaN   \n",
       "9                       NaN   \n",
       "10       ATO internal staff   \n",
       "11                      NaN   \n",
       "12                      NaN   \n",
       "13                      NaN   \n",
       "14                      NaN   \n",
       "15                      NaN   \n",
       "16                      NaN   \n",
       "17                      NaN   \n",
       "18                      NaN   \n",
       "19                      NaN   \n",
       "20                      NaN   \n",
       "21                      NaN   \n",
       "22                      NaN   \n",
       "23                      NaN   \n",
       "24                ATO staff   \n",
       "25                      NaN   \n",
       "26                      NaN   \n",
       "27                      NaN   \n",
       "28                      NaN   \n",
       "29                      NaN   \n",
       "\n",
       "    How many staff members does your business/the business you work at employ?  \\\n",
       "0                                             1 to 10                            \n",
       "1                                            over 100                            \n",
       "2                                            11 to 50                            \n",
       "3                                             1 to 10                            \n",
       "4                                            11 to 50                            \n",
       "5                                             1 to 10                            \n",
       "6                                            11 to 50                            \n",
       "7                                             1 to 10                            \n",
       "8                                             1 to 10                            \n",
       "9                                             1 to 10                            \n",
       "10                                                NaN                            \n",
       "11                                           11 to 50                            \n",
       "12                                            1 to 10                            \n",
       "13                                            1 to 10                            \n",
       "14                                            1 to 10                            \n",
       "15                                                NaN                            \n",
       "16                                            1 to 10                            \n",
       "17                                                NaN                            \n",
       "18                                            1 to 10                            \n",
       "19                                            1 to 10                            \n",
       "20                                           11 to 50                            \n",
       "21                                            1 to 10                            \n",
       "22                                            1 to 10                            \n",
       "23                                            1 to 10                            \n",
       "24                                           over 100                            \n",
       "25                                           11 to 50                            \n",
       "26                                                NaN                            \n",
       "27                                                NaN                            \n",
       "28                                            1 to 10                            \n",
       "29                                            1 to 10                            \n",
       "\n",
       "   Are you an ATO employee?  \n",
       "0                        No  \n",
       "1                        No  \n",
       "2                        No  \n",
       "3                        No  \n",
       "4                        No  \n",
       "5                        No  \n",
       "6                        No  \n",
       "7                        No  \n",
       "8                        No  \n",
       "9                        No  \n",
       "10                      Yes  \n",
       "11                       No  \n",
       "12                       No  \n",
       "13                       No  \n",
       "14                       No  \n",
       "15                      Yes  \n",
       "16                       No  \n",
       "17                      Yes  \n",
       "18                       No  \n",
       "19                       No  \n",
       "20                       No  \n",
       "21                       No  \n",
       "22                       No  \n",
       "23                      Yes  \n",
       "24                      Yes  \n",
       "25                       No  \n",
       "26                      NaN  \n",
       "27                      Yes  \n",
       "28                       No  \n",
       "29                      Yes  \n",
       "\n",
       "[30 rows x 51 columns]"
      ]
     },
     "execution_count": 5,
     "metadata": {},
     "output_type": "execute_result"
    }
   ],
   "source": [
    "clean_df"
   ]
  },
  {
   "cell_type": "markdown",
   "metadata": {},
   "source": [
    "#### Define functions for plotting the graphs"
   ]
  },
  {
   "cell_type": "code",
   "execution_count": 6,
   "metadata": {
    "collapsed": true
   },
   "outputs": [],
   "source": [
    "# Function for basic bar graph\n",
    "def grapher(df, cols, title, location):\n",
    "    plot_df = df[cols]\n",
    "    colours=['#42bac7','#074f5f','#9d9d9c']\n",
    "    ax = plot_df.plot(kind='bar', legend=False, color=colours, edgecolor = \"none\", rot = 0)\n",
    "    ax.set_xticklabels(list(plot_df[cols].index))\n",
    "    ax.set_ylim([0,1])\n",
    "    ax.yaxis.set_major_formatter(FuncFormatter(lambda y, _: '{:.0%}'.format(y)))\n",
    "    ax.set_title(title)\n",
    "    plt.savefig(location+title+\".svg\")"
   ]
  },
  {
   "cell_type": "code",
   "execution_count": 7,
   "metadata": {
    "collapsed": true
   },
   "outputs": [],
   "source": [
    "# Function for bar graph with error bars\n",
    "def grapher_errorbar(df, cols, title, cis, labels, location):\n",
    "    plot_df = df[cols]\n",
    "    colours=['#9d9d9c','#074f5f','#42bac7']\n",
    "    ax = plot_df.plot(kind='bar', legend=False, color=colours, edgecolor = \"none\", rot = 0, yerr=cis)\n",
    "    ax.set_xticklabels(list(plot_df[cols].index))\n",
    "    ax.set_ylim([0,1])\n",
    "    ax.yaxis.set_major_formatter(FuncFormatter(lambda y, _: '{:.0%}'.format(y)))\n",
    "    ax.set_title(title)\n",
    "    if not(not labels):\n",
    "        ax.legend(labels,loc='best')\n",
    "    plt.savefig(location+title+\".svg\")"
   ]
  },
  {
   "cell_type": "code",
   "execution_count": 8,
   "metadata": {
    "collapsed": true
   },
   "outputs": [],
   "source": [
    "# Function for horizontal graph\n",
    "def grapher_horizontal(df, cols, title, location):\n",
    "    plot_df = df[cols]\n",
    "    colours=['#9d9d9c','#074f5f','#42bac7']\n",
    "    ax = plot_df.plot(kind='barh', legend=False, color=colours, edgecolor = \"none\", rot = 0)\n",
    "    ax.set_yticklabels(list(plot_df[cols].index))\n",
    "    ax.set_xlim([0,1])\n",
    "    ax.xaxis.set_major_formatter(FuncFormatter(lambda y, _: '{:.0%}'.format(y)))\n",
    "    ax.set_title(title)\n",
    "    plt.savefig(location+title+\".svg\")"
   ]
  },
  {
   "cell_type": "code",
   "execution_count": 9,
   "metadata": {
    "collapsed": true
   },
   "outputs": [],
   "source": [
    "# Function for bar graph with stacked data sets\n",
    "def grapher_stacked(df, cols, title, labels, cis, location):\n",
    "    plot_df = df[cols].unstack(level=0).sort_index(ascending=False)\n",
    "    colours=['#42bac7','#074f5f','#9d9d9c']\n",
    "    ax = plot_df.plot(kind='bar', legend=True, color=colours, edgecolor = \"none\", rot = 0, yerr=cis)\n",
    "    ax.set_xticklabels(list(plot_df.index))\n",
    "    ax.set_ylim([0,1])\n",
    "    ax.yaxis.set_major_formatter(FuncFormatter(lambda y, _: '{:.0%}'.format(y)))\n",
    "    ax.set_title(title)\n",
    "    ax.legend(labels,loc='best')\n",
    "    plt.savefig(location+title+\".svg\")"
   ]
  },
  {
   "cell_type": "code",
   "execution_count": 10,
   "metadata": {
    "collapsed": true
   },
   "outputs": [],
   "source": [
    "# Function for graphs with stacked data sets\n",
    "def grapher_stacked_N(df, cols, title, location):\n",
    "    plot_df = df[cols].unstack(level=1)\n",
    "    #plot_df = task2_results[['Task 2 (%)']]\n",
    "    colours=['#42bac7','#074f5f','#9d9d9c']\n",
    "    ax = plot_df.plot(kind='bar', legend=True, color=colours, edgecolor = \"none\", rot = 0)\n",
    "    ax.set_xticklabels(list(plot_df[cols].index))\n",
    "    ax.set_title(title)\n",
    "    plt.savefig(location+title+\".svg\")\n"
   ]
  },
  {
   "cell_type": "markdown",
   "metadata": {},
   "source": [
    "## Compute Task Results"
   ]
  },
  {
   "cell_type": "code",
   "execution_count": 11,
   "metadata": {
    "collapsed": false
   },
   "outputs": [
    {
     "data": {
      "text/html": [
       "<div>\n",
       "<table border=\"1\" class=\"dataframe\">\n",
       "  <thead>\n",
       "    <tr style=\"text-align: right;\">\n",
       "      <th></th>\n",
       "      <th>Task 1 (N)</th>\n",
       "      <th>Task 1 (%)</th>\n",
       "      <th>Task 2 (N)</th>\n",
       "      <th>Task 2 (%)</th>\n",
       "      <th>Task 3 (N)</th>\n",
       "      <th>Task 3 (%)</th>\n",
       "    </tr>\n",
       "    <tr>\n",
       "      <th>Result</th>\n",
       "      <th></th>\n",
       "      <th></th>\n",
       "      <th></th>\n",
       "      <th></th>\n",
       "      <th></th>\n",
       "      <th></th>\n",
       "    </tr>\n",
       "  </thead>\n",
       "  <tbody>\n",
       "    <tr>\n",
       "      <th>success</th>\n",
       "      <td>20</td>\n",
       "      <td>0.666667</td>\n",
       "      <td>2</td>\n",
       "      <td>0.066667</td>\n",
       "      <td>27</td>\n",
       "      <td>0.900000</td>\n",
       "    </tr>\n",
       "    <tr>\n",
       "      <th>fail</th>\n",
       "      <td>9</td>\n",
       "      <td>0.300000</td>\n",
       "      <td>25</td>\n",
       "      <td>0.833333</td>\n",
       "      <td>2</td>\n",
       "      <td>0.066667</td>\n",
       "    </tr>\n",
       "    <tr>\n",
       "      <th>abandon</th>\n",
       "      <td>1</td>\n",
       "      <td>0.033333</td>\n",
       "      <td>3</td>\n",
       "      <td>0.100000</td>\n",
       "      <td>1</td>\n",
       "      <td>0.033333</td>\n",
       "    </tr>\n",
       "  </tbody>\n",
       "</table>\n",
       "</div>"
      ],
      "text/plain": [
       "         Task 1 (N)  Task 1 (%)  Task 2 (N)  Task 2 (%)  Task 3 (N)  \\\n",
       "Result                                                                \n",
       "success          20    0.666667           2    0.066667          27   \n",
       "fail              9    0.300000          25    0.833333           2   \n",
       "abandon           1    0.033333           3    0.100000           1   \n",
       "\n",
       "         Task 3 (%)  \n",
       "Result               \n",
       "success    0.900000  \n",
       "fail       0.066667  \n",
       "abandon    0.033333  "
      ]
     },
     "execution_count": 11,
     "metadata": {},
     "output_type": "execute_result"
    }
   ],
   "source": [
    "# Create results DataFrame for all tasks.\n",
    "\n",
    "results = []\n",
    "\n",
    "tasks = ['2. Task. Task 1 - Employer details', '7. Task. Task 2 - Employee details', '17. Task. Task 3 Understanding of results']\n",
    "for t in tasks:\n",
    "    results.append(pd.DataFrame(clean_df[t].value_counts()))\n",
    "    results.append(pd.DataFrame(clean_df[t].value_counts(normalize=True)))\n",
    "\n",
    "results = pd.concat(results, axis=1)\n",
    "results.index.names = ['Result']\n",
    "results.columns = ['Task 1 (N)', 'Task 1 (%)','Task 2 (N)', 'Task 2 (%)', 'Task 3 (N)', 'Task 3 (%)' ]\n",
    "\n",
    "results = results.reindex(['success', 'fail', 'abandon'])\n",
    "results"
   ]
  },
  {
   "cell_type": "markdown",
   "metadata": {},
   "source": [
    "#### Calculate confidence intervals"
   ]
  },
  {
   "cell_type": "code",
   "execution_count": 12,
   "metadata": {
    "collapsed": false
   },
   "outputs": [
    {
     "name": "stdout",
     "output_type": "stream",
     "text": [
      "Task 1 Confidence Interval:  0.160938028039\n",
      "Task 2 Confidence Interval:  0.160938028039\n",
      "Task 3 Confidence Interval:  0.118763221292\n"
     ]
    }
   ],
   "source": [
    "# For small sample size adjustment\n",
    "# Adjust the sample size, N\n",
    "def adjust_n(N):\n",
    "    return N+(1.96**2)\n",
    "\n",
    "# Adjust the proportion of successes, p\n",
    "def adjust_p(p, N):\n",
    "    return (p+1.92)/(N+3.84)\n",
    "\n",
    "Task1_p = results['Task 1 (N)']['success']\n",
    "Task2_p = results['Task 2 (N)']['success']\n",
    "Task3_p = results['Task 3 (N)']['success']\n",
    "\n",
    "# CONFIDENCE INTERVAL FORMULA:\n",
    "# CI_95 = 1.96 * SQRT((adjusted_p * (1 - adjusted_p))/adjusted_n)\n",
    "Task1_CI = 1.96 * np.sqrt((adjust_p(Task1_p,N) * (1 - adjust_p(Task1_p,N)))/adjust_n(N))\n",
    "Task2_CI = 1.96 * np.sqrt((adjust_p(Task2_p,N) * (1 - adjust_p(Task2_p,N)))/adjust_n(N))\n",
    "Task3_CI = 1.96 * np.sqrt((adjust_p(Task3_p,N) * (1 - adjust_p(Task3_p,N)))/adjust_n(N))\n",
    "\n",
    "\n",
    "# Print confidence intervals for reference.\n",
    "print('Task 1 Confidence Interval: ',Task1_CI)\n",
    "print('Task 2 Confidence Interval: ',Task1_CI)\n",
    "print('Task 3 Confidence Interval: ',Task3_CI)"
   ]
  },
  {
   "cell_type": "markdown",
   "metadata": {},
   "source": [
    "#### Plot task completion rates with confidence intervals."
   ]
  },
  {
   "cell_type": "code",
   "execution_count": 13,
   "metadata": {
    "collapsed": false
   },
   "outputs": [
    {
     "data": {
      "image/png": "[encoded data removed]",
      "text/plain": [
       "<matplotlib.figure.Figure at 0x11466f940>"
      ]
     },
     "metadata": {},
     "output_type": "display_data"
    }
   ],
   "source": [
    "grapher_errorbar(results, ['Task 1 (%)'], 'Task 1 completion rates (%)', [Task1_CI, Task1_CI, Task1_CI],[], 'super_test2_graphs/')"
   ]
  },
  {
   "cell_type": "code",
   "execution_count": 14,
   "metadata": {
    "collapsed": false
   },
   "outputs": [
    {
     "data": {
      "image/png": "[encoded data removed]",
      "text/plain": [
       "<matplotlib.figure.Figure at 0x11466f780>"
      ]
     },
     "metadata": {},
     "output_type": "display_data"
    }
   ],
   "source": [
    "grapher_errorbar(results, ['Task 2 (%)'], 'Task 2 completion rates (%)', [Task2_CI, Task2_CI, Task2_CI],[], 'super_test2_graphs/')"
   ]
  },
  {
   "cell_type": "code",
   "execution_count": 15,
   "metadata": {
    "collapsed": false
   },
   "outputs": [
    {
     "data": {
      "image/png": "[encoded data removed]",
      "text/plain": [
       "<matplotlib.figure.Figure at 0x11478e208>"
      ]
     },
     "metadata": {},
     "output_type": "display_data"
    }
   ],
   "source": [
    "grapher_errorbar(results, ['Task 3 (%)'], 'Task 3 completion rates (%)', [Task3_CI, Task3_CI, Task3_CI],[], 'super_test2_graphs/')"
   ]
  },
  {
   "cell_type": "code",
   "execution_count": 16,
   "metadata": {
    "collapsed": false,
    "scrolled": false
   },
   "outputs": [
    {
     "data": {
      "image/png": "[encoded data removed]",
      "text/plain": [
       "<matplotlib.figure.Figure at 0x11792da20>"
      ]
     },
     "metadata": {},
     "output_type": "display_data"
    }
   ],
   "source": [
    "errors = pd.DataFrame(np.array([[Task1_CI,Task2_CI,Task3_CI],[Task1_CI,Task2_CI,Task3_CI],[Task1_CI,Task2_CI,Task3_CI]]), index=['success', 'fail', 'abandon'], columns=['Task 1 (%)','Task 2 (%)','Task 3 (%)'])\n",
    "grapher_errorbar(results, ['Task 1 (%)','Task 2 (%)','Task 3 (%)'], 'Task completion rates (%)',errors,['Task 1','Task 2','Task 3'], 'super_test2_graphs/')"
   ]
  },
  {
   "cell_type": "code",
   "execution_count": null,
   "metadata": {
    "collapsed": true
   },
   "outputs": [],
   "source": []
  },
  {
   "cell_type": "markdown",
   "metadata": {},
   "source": [
    "## Demographic Breakdowns"
   ]
  },
  {
   "cell_type": "markdown",
   "metadata": {},
   "source": [
    "### Breakdown task results into ATO Employees vs NON ATO Employees"
   ]
  },
  {
   "cell_type": "code",
   "execution_count": 17,
   "metadata": {
    "collapsed": false,
    "scrolled": true
   },
   "outputs": [
    {
     "data": {
      "text/html": [
       "<div>\n",
       "<table border=\"1\" class=\"dataframe\">\n",
       "  <thead>\n",
       "    <tr style=\"text-align: right;\">\n",
       "      <th></th>\n",
       "      <th>Are you an ATO employee? (N)</th>\n",
       "      <th>Are you an ATO employee? (%)</th>\n",
       "    </tr>\n",
       "  </thead>\n",
       "  <tbody>\n",
       "    <tr>\n",
       "      <th>No</th>\n",
       "      <td>22</td>\n",
       "      <td>0.758621</td>\n",
       "    </tr>\n",
       "    <tr>\n",
       "      <th>Yes</th>\n",
       "      <td>7</td>\n",
       "      <td>0.241379</td>\n",
       "    </tr>\n",
       "  </tbody>\n",
       "</table>\n",
       "</div>"
      ],
      "text/plain": [
       "     Are you an ATO employee? (N)  Are you an ATO employee? (%)\n",
       "No                             22                      0.758621\n",
       "Yes                             7                      0.241379"
      ]
     },
     "execution_count": 17,
     "metadata": {},
     "output_type": "execute_result"
    }
   ],
   "source": [
    "employee_breakdown = []\n",
    "\n",
    "employee_breakdown.append(pd.DataFrame(clean_df['Are you an ATO employee?'].value_counts()))\n",
    "employee_breakdown.append(pd.DataFrame(clean_df['Are you an ATO employee?'].value_counts(normalize=True)))\n",
    "\n",
    "employee_breakdown = pd.concat(employee_breakdown, axis=1)\n",
    "employee_breakdown.columns = ['Are you an ATO employee? (N)','Are you an ATO employee? (%)']\n",
    "\n",
    "employee_breakdown"
   ]
  },
  {
   "cell_type": "markdown",
   "metadata": {},
   "source": [
    "**NOTE: THE MAJORITY OF PARTICPANTS WERE NOT ATO EMPLOYEES. THE ATO EMPLOYEE GROUP IS TOO SMALL TO BE STATISTICALLY SIGNIFICANT. NOT CALCULATING RESULTS FOR THE TWO DIFFERENT GROUPS**\n",
    "\n",
    "_Also note that data is missing for 2 participants. Damn you Loop11_"
   ]
  },
  {
   "cell_type": "markdown",
   "metadata": {},
   "source": [
    "### Breakdown task results for different demographics"
   ]
  },
  {
   "cell_type": "code",
   "execution_count": 18,
   "metadata": {
    "collapsed": false
   },
   "outputs": [
    {
     "data": {
      "text/html": [
       "<div>\n",
       "<table border=\"1\" class=\"dataframe\">\n",
       "  <thead>\n",
       "    <tr style=\"text-align: right;\">\n",
       "      <th></th>\n",
       "      <th>Number</th>\n",
       "      <th>Fraction (from Sample size)</th>\n",
       "    </tr>\n",
       "  </thead>\n",
       "  <tbody>\n",
       "    <tr>\n",
       "      <th>Small Business</th>\n",
       "      <td>11</td>\n",
       "      <td>0.366667</td>\n",
       "    </tr>\n",
       "    <tr>\n",
       "      <th>Legal or Insolvency practitioner)</th>\n",
       "      <td>10</td>\n",
       "      <td>0.333333</td>\n",
       "    </tr>\n",
       "    <tr>\n",
       "      <th>Tax agent</th>\n",
       "      <td>10</td>\n",
       "      <td>0.333333</td>\n",
       "    </tr>\n",
       "    <tr>\n",
       "      <th>Tax professional (BAS agent</th>\n",
       "      <td>10</td>\n",
       "      <td>0.333333</td>\n",
       "    </tr>\n",
       "    <tr>\n",
       "      <th>Other</th>\n",
       "      <td>3</td>\n",
       "      <td>0.100000</td>\n",
       "    </tr>\n",
       "    <tr>\n",
       "      <th>Not for Profit</th>\n",
       "      <td>3</td>\n",
       "      <td>0.100000</td>\n",
       "    </tr>\n",
       "    <tr>\n",
       "      <th>Individual</th>\n",
       "      <td>3</td>\n",
       "      <td>0.100000</td>\n",
       "    </tr>\n",
       "  </tbody>\n",
       "</table>\n",
       "</div>"
      ],
      "text/plain": [
       "                                   Number  Fraction (from Sample size)\n",
       "Small Business                         11                     0.366667\n",
       "Legal or Insolvency practitioner)      10                     0.333333\n",
       "Tax agent                              10                     0.333333\n",
       "Tax professional (BAS agent            10                     0.333333\n",
       "Other                                   3                     0.100000\n",
       "Not for Profit                          3                     0.100000\n",
       "Individual                              3                     0.100000"
      ]
     },
     "execution_count": 18,
     "metadata": {},
     "output_type": "execute_result"
    }
   ],
   "source": [
    "# First replace NaN with Other (will need analysis of Other field)\n",
    "temp = clean_df['Which of the following best describes your role? Please select all that apply.'].fillna('Other')\n",
    "\n",
    "broken_down = [sub.split(\",\") for sub in temp]\n",
    "reshaped_list = [item.lstrip() for sublist in broken_down  for item in sublist]\n",
    "test_df = pd.DataFrame(reshaped_list)\n",
    "demo_ms_results = []\n",
    "demo_ms_results.append(pd.DataFrame(test_df[0].value_counts()))\n",
    "demo_ms_results.append(pd.DataFrame(test_df[0].value_counts()/len(clean_df)))\n",
    "demo_ms_results = pd.concat(demo_ms_results, axis=1)\n",
    "demo_ms_results.columns = ['Number','Fraction (from Sample size)']\n",
    "demo_ms_results\n"
   ]
  },
  {
   "cell_type": "code",
   "execution_count": 19,
   "metadata": {
    "collapsed": false
   },
   "outputs": [
    {
     "data": {
      "image/png": "[encoded data removed]",
      "text/plain": [
       "<matplotlib.figure.Figure at 0x117af51d0>"
      ]
     },
     "metadata": {},
     "output_type": "display_data"
    }
   ],
   "source": [
    "grapher_horizontal(demo_ms_results, ['Fraction (from Sample size)'], 'Demographic breakdown', 'super_test2_graphs/')"
   ]
  },
  {
   "cell_type": "markdown",
   "metadata": {},
   "source": [
    "**AGAIN THE SAMPLE SIZES ARE TOO SMALL TO BE SIGNIFICANT. NOT BREAKING DOWN TASK SUCCESS RATES FOR THE DIFFERENT GROUPS**"
   ]
  },
  {
   "cell_type": "markdown",
   "metadata": {},
   "source": [
    "### Number of employees in the participants business (or business they work for)"
   ]
  },
  {
   "cell_type": "code",
   "execution_count": 204,
   "metadata": {
    "collapsed": false
   },
   "outputs": [
    {
     "data": {
      "text/html": [
       "<div>\n",
       "<table border=\"1\" class=\"dataframe\">\n",
       "  <thead>\n",
       "    <tr style=\"text-align: right;\">\n",
       "      <th></th>\n",
       "      <th>Business size (N)</th>\n",
       "      <th>Business size (%)</th>\n",
       "    </tr>\n",
       "  </thead>\n",
       "  <tbody>\n",
       "    <tr>\n",
       "      <th>1 to 10</th>\n",
       "      <td>17</td>\n",
       "      <td>0.566667</td>\n",
       "    </tr>\n",
       "    <tr>\n",
       "      <th>11 to 50</th>\n",
       "      <td>6</td>\n",
       "      <td>0.200000</td>\n",
       "    </tr>\n",
       "    <tr>\n",
       "      <th>N/A</th>\n",
       "      <td>5</td>\n",
       "      <td>0.166667</td>\n",
       "    </tr>\n",
       "    <tr>\n",
       "      <th>over 100</th>\n",
       "      <td>2</td>\n",
       "      <td>0.066667</td>\n",
       "    </tr>\n",
       "  </tbody>\n",
       "</table>\n",
       "</div>"
      ],
      "text/plain": [
       "          Business size (N)  Business size (%)\n",
       "1 to 10                  17           0.566667\n",
       "11 to 50                  6           0.200000\n",
       "N/A                       5           0.166667\n",
       "over 100                  2           0.066667"
      ]
     },
     "execution_count": 204,
     "metadata": {},
     "output_type": "execute_result"
    }
   ],
   "source": [
    "business_size_breakdown = []\n",
    "\n",
    "temp = pd.DataFrame(clean_df['How many staff members does your business/the business you work at employ?'].fillna('N/A'))\n",
    "\n",
    "business_size_breakdown.append(pd.DataFrame(temp['How many staff members does your business/the business you work at employ?'].value_counts()))\n",
    "business_size_breakdown.append(pd.DataFrame(temp['How many staff members does your business/the business you work at employ?'].value_counts(normalize=True)))\n",
    "\n",
    "business_size_breakdown = pd.concat(business_size_breakdown, axis=1)\n",
    "business_size_breakdown.columns = ['Business size (N)','Business size (%)']\n",
    "\n",
    "business_size_breakdown['Business size (%)'].fillna('N/A')\n",
    "\n",
    "business_size_breakdown"
   ]
  },
  {
   "cell_type": "code",
   "execution_count": 205,
   "metadata": {
    "collapsed": false
   },
   "outputs": [
    {
     "data": {
      "image/png": "[encoded data removed]",
      "text/plain": [
       "<matplotlib.figure.Figure at 0x118458f98>"
      ]
     },
     "metadata": {},
     "output_type": "display_data"
    }
   ],
   "source": [
    "grapher(business_size_breakdown, ['Business size (%)'], 'Number of employees in your business or the business you work for', 'super_test2_graphs/')"
   ]
  },
  {
   "cell_type": "code",
   "execution_count": null,
   "metadata": {
    "collapsed": true
   },
   "outputs": [],
   "source": []
  },
  {
   "cell_type": "markdown",
   "metadata": {},
   "source": [
    "## Task 1 Questions"
   ]
  },
  {
   "cell_type": "markdown",
   "metadata": {},
   "source": [
    "### This tool calculates your super guarantee charge... What did you understand SGC to mean? "
   ]
  },
  {
   "cell_type": "code",
   "execution_count": 37,
   "metadata": {
    "collapsed": false,
    "scrolled": true
   },
   "outputs": [
    {
     "data": {
      "text/html": [
       "<div>\n",
       "<table border=\"1\" class=\"dataframe\">\n",
       "  <thead>\n",
       "    <tr style=\"text-align: right;\">\n",
       "      <th></th>\n",
       "      <th>Number</th>\n",
       "      <th>Fraction (from Sample size)</th>\n",
       "    </tr>\n",
       "    <tr>\n",
       "      <th>WHAT DID YOU UNDERSTAND SGC TO MEAN?</th>\n",
       "      <th></th>\n",
       "      <th></th>\n",
       "    </tr>\n",
       "  </thead>\n",
       "  <tbody>\n",
       "    <tr>\n",
       "      <th>The amount of super I am required to pay for my employee/s</th>\n",
       "      <td>19</td>\n",
       "      <td>0.633333</td>\n",
       "    </tr>\n",
       "    <tr>\n",
       "      <th>The penalty amount I am obliged to pay the ATO if I miss super payments for my employee/s</th>\n",
       "      <td>9</td>\n",
       "      <td>0.300000</td>\n",
       "    </tr>\n",
       "    <tr>\n",
       "      <th>I'm unsure</th>\n",
       "      <td>6</td>\n",
       "      <td>0.200000</td>\n",
       "    </tr>\n",
       "    <tr>\n",
       "      <th>An administrative fee I am obliged to pay the ATO to process late super payments for my employee/s</th>\n",
       "      <td>5</td>\n",
       "      <td>0.166667</td>\n",
       "    </tr>\n",
       "    <tr>\n",
       "      <th>Interest on any outstanding super I have not paid for my employee/s</th>\n",
       "      <td>5</td>\n",
       "      <td>0.166667</td>\n",
       "    </tr>\n",
       "    <tr>\n",
       "      <th>Other</th>\n",
       "      <td>1</td>\n",
       "      <td>0.033333</td>\n",
       "    </tr>\n",
       "  </tbody>\n",
       "</table>\n",
       "</div>"
      ],
      "text/plain": [
       "                                                    Number  \\\n",
       "WHAT DID YOU UNDERSTAND SGC TO MEAN?                         \n",
       "The amount of super I am required to pay for my...      19   \n",
       "The penalty amount I am obliged to pay the ATO ...       9   \n",
       "I'm unsure                                               6   \n",
       "An administrative fee I am obliged to pay the A...       5   \n",
       "Interest on any outstanding super I have not pa...       5   \n",
       "Other                                                    1   \n",
       "\n",
       "                                                    Fraction (from Sample size)  \n",
       "WHAT DID YOU UNDERSTAND SGC TO MEAN?                                             \n",
       "The amount of super I am required to pay for my...                     0.633333  \n",
       "The penalty amount I am obliged to pay the ATO ...                     0.300000  \n",
       "I'm unsure                                                             0.200000  \n",
       "An administrative fee I am obliged to pay the A...                     0.166667  \n",
       "Interest on any outstanding super I have not pa...                     0.166667  \n",
       "Other                                                                  0.033333  "
      ]
     },
     "execution_count": 37,
     "metadata": {},
     "output_type": "execute_result"
    }
   ],
   "source": [
    "# First break the strings up with , as the delimiter, and then tally the results as usual.\n",
    "# Also replace NaN's with Other and remove null values\n",
    "\n",
    "temp = clean_df['This tool calculates your super guarantee charge (SGC) liability as an employer. What did you understand SGC to mean? '].fillna('Other')\n",
    "broken_down = [sub.split(\",\") for sub in temp]\n",
    "reshaped_list = [item.lstrip() for sublist in broken_down  for item in sublist]\n",
    "set(reshaped_list)\n",
    "test_df= pd.DataFrame(reshaped_list)\n",
    "\n",
    "sgc_results = []\n",
    "sgc_results.append(pd.DataFrame(test_df[0].value_counts()))\n",
    "sgc_results.append(pd.DataFrame(test_df[0].value_counts()/len(clean_df)))\n",
    "\n",
    "sgc_results = pd.concat(sgc_results, axis=1)\n",
    "sgc_results.columns = ['Number','Fraction (from Sample size)']\n",
    "sgc_results.index.name = 'WHAT DID YOU UNDERSTAND SGC TO MEAN?'\n",
    "\n",
    "sgc_results"
   ]
  },
  {
   "cell_type": "code",
   "execution_count": 38,
   "metadata": {
    "collapsed": false,
    "scrolled": true
   },
   "outputs": [
    {
     "data": {
      "image/png": "[encoded data removed]",
      "text/plain": [
       "<matplotlib.figure.Figure at 0x1187c64e0>"
      ]
     },
     "metadata": {},
     "output_type": "display_data"
    }
   ],
   "source": [
    "grapher_horizontal(sgc_results, ['Fraction (from Sample size)'], 'What did you understand SGC to mean', 'super_test2_graphs/')"
   ]
  },
  {
   "cell_type": "markdown",
   "metadata": {
    "collapsed": true
   },
   "source": [
    "### After completing the first page of the tool, how do you expect the ATO to use the information you're providing?"
   ]
  },
  {
   "cell_type": "code",
   "execution_count": 39,
   "metadata": {
    "collapsed": false,
    "scrolled": false
   },
   "outputs": [
    {
     "data": {
      "text/html": [
       "<div>\n",
       "<table border=\"1\" class=\"dataframe\">\n",
       "  <thead>\n",
       "    <tr style=\"text-align: right;\">\n",
       "      <th></th>\n",
       "      <th>Number</th>\n",
       "      <th>Fraction (from Sample size)</th>\n",
       "    </tr>\n",
       "    <tr>\n",
       "      <th>AFTER COMPLETING THE FIRST PAGE - INFORMATION USE EXPECTATIONS</th>\n",
       "      <th></th>\n",
       "      <th></th>\n",
       "    </tr>\n",
       "  </thead>\n",
       "  <tbody>\n",
       "    <tr>\n",
       "      <th>The ATO will keep a record of the information I provide</th>\n",
       "      <td>14</td>\n",
       "      <td>0.466667</td>\n",
       "    </tr>\n",
       "    <tr>\n",
       "      <th>The ATO will contact me if I owe super</th>\n",
       "      <td>12</td>\n",
       "      <td>0.400000</td>\n",
       "    </tr>\n",
       "    <tr>\n",
       "      <th>The information will be sent to the super fund/s in question</th>\n",
       "      <td>8</td>\n",
       "      <td>0.266667</td>\n",
       "    </tr>\n",
       "    <tr>\n",
       "      <th>Other</th>\n",
       "      <td>5</td>\n",
       "      <td>0.166667</td>\n",
       "    </tr>\n",
       "    <tr>\n",
       "      <th>The information will be sent to the employee/s in question</th>\n",
       "      <td>3</td>\n",
       "      <td>0.100000</td>\n",
       "    </tr>\n",
       "  </tbody>\n",
       "</table>\n",
       "</div>"
      ],
      "text/plain": [
       "                                                    Number  \\\n",
       "AFTER COMPLETING THE FIRST PAGE - INFORMATION U...           \n",
       "The ATO will keep a record of the information I...      14   \n",
       "The ATO will contact me if I owe super                  12   \n",
       "The information will be sent to the super fund/...       8   \n",
       "Other                                                    5   \n",
       "The information will be sent to the employee/s ...       3   \n",
       "\n",
       "                                                    Fraction (from Sample size)  \n",
       "AFTER COMPLETING THE FIRST PAGE - INFORMATION U...                               \n",
       "The ATO will keep a record of the information I...                     0.466667  \n",
       "The ATO will contact me if I owe super                                 0.400000  \n",
       "The information will be sent to the super fund/...                     0.266667  \n",
       "Other                                                                  0.166667  \n",
       "The information will be sent to the employee/s ...                     0.100000  "
      ]
     },
     "execution_count": 39,
     "metadata": {},
     "output_type": "execute_result"
    }
   ],
   "source": [
    "# First break the strings up with , as the delimiter, and then tally the results as usual.\n",
    "# Also replace NaN's with Other and remove null values\n",
    "\n",
    "temp = clean_df['After completing the first page of the tool, how do you expect the ATO to use the information you\\'re providing? Please select all that apply:'].fillna('Other')\n",
    "broken_down = [sub.split(\",\") for sub in temp]\n",
    "reshaped_list = [item.lstrip() for sublist in broken_down  for item in sublist]\n",
    "set(reshaped_list)\n",
    "test_df= pd.DataFrame(reshaped_list)\n",
    "\n",
    "info_results = []\n",
    "info_results.append(pd.DataFrame(test_df[0].value_counts()))\n",
    "info_results.append(pd.DataFrame(test_df[0].value_counts()/len(clean_df)))\n",
    "\n",
    "info_results = pd.concat(info_results, axis=1)\n",
    "info_results.columns = ['Number','Fraction (from Sample size)']\n",
    "info_results.index.name = 'AFTER COMPLETING THE FIRST PAGE - INFORMATION USE EXPECTATIONS'\n",
    "\n",
    "info_results"
   ]
  },
  {
   "cell_type": "code",
   "execution_count": 40,
   "metadata": {
    "collapsed": false,
    "scrolled": false
   },
   "outputs": [
    {
     "data": {
      "image/png": "[encoded data removed]",
      "text/plain": [
       "<matplotlib.figure.Figure at 0x1184baa20>"
      ]
     },
     "metadata": {},
     "output_type": "display_data"
    }
   ],
   "source": [
    "grapher_horizontal(info_results, ['Fraction (from Sample size)'], 'After completing the first page of the tool - information use expectations', 'super_test2_graphs/')"
   ]
  },
  {
   "cell_type": "code",
   "execution_count": 41,
   "metadata": {
    "collapsed": false
   },
   "outputs": [
    {
     "data": {
      "text/html": [
       "<div>\n",
       "<table border=\"1\" class=\"dataframe\">\n",
       "  <thead>\n",
       "    <tr style=\"text-align: right;\">\n",
       "      <th></th>\n",
       "      <th>Other, please specify</th>\n",
       "    </tr>\n",
       "  </thead>\n",
       "  <tbody>\n",
       "    <tr>\n",
       "      <th>3</th>\n",
       "      <td>Whether I owe super or not will be available a...</td>\n",
       "    </tr>\n",
       "    <tr>\n",
       "      <th>13</th>\n",
       "      <td>unsure</td>\n",
       "    </tr>\n",
       "    <tr>\n",
       "      <th>15</th>\n",
       "      <td>unsure</td>\n",
       "    </tr>\n",
       "    <tr>\n",
       "      <th>21</th>\n",
       "      <td>The only thing I filled in was the fake busine...</td>\n",
       "    </tr>\n",
       "    <tr>\n",
       "      <th>25</th>\n",
       "      <td>its jsut a calacultor for me to use to determi...</td>\n",
       "    </tr>\n",
       "  </tbody>\n",
       "</table>\n",
       "</div>"
      ],
      "text/plain": [
       "                                Other, please specify\n",
       "3   Whether I owe super or not will be available a...\n",
       "13                                             unsure\n",
       "15                                             unsure\n",
       "21  The only thing I filled in was the fake busine...\n",
       "25  its jsut a calacultor for me to use to determi..."
      ]
     },
     "execution_count": 41,
     "metadata": {},
     "output_type": "execute_result"
    }
   ],
   "source": [
    "# Other specified expectations for Information Use\n",
    "info_expect = []\n",
    "\n",
    "info_expect.append(pd.DataFrame(clean_df['Other, please specify']))\n",
    "info_expect = pd.concat(info_expect, axis=1)\n",
    "info_expect = info_expect[info_expect['Other, please specify'].notnull()]\n",
    "\n",
    "info_expect"
   ]
  },
  {
   "cell_type": "code",
   "execution_count": 42,
   "metadata": {
    "collapsed": false
   },
   "outputs": [
    {
     "data": {
      "text/plain": [
       "'Whether I owe super or not will be available as a document to save or print as soon as the I have finished entering the informaiton.'"
      ]
     },
     "execution_count": 42,
     "metadata": {},
     "output_type": "execute_result"
    }
   ],
   "source": [
    "info_expect['Other, please specify'][3]"
   ]
  },
  {
   "cell_type": "code",
   "execution_count": 43,
   "metadata": {
    "collapsed": false
   },
   "outputs": [
    {
     "data": {
      "text/plain": [
       "'The only thing I filled in was the fake business info - there was no tool?'"
      ]
     },
     "execution_count": 43,
     "metadata": {},
     "output_type": "execute_result"
    }
   ],
   "source": [
    "info_expect['Other, please specify'][21]"
   ]
  },
  {
   "cell_type": "code",
   "execution_count": 44,
   "metadata": {
    "collapsed": false,
    "scrolled": true
   },
   "outputs": [
    {
     "data": {
      "text/plain": [
       "'its jsut a calacultor for me to use to determine if paid correctly'"
      ]
     },
     "execution_count": 44,
     "metadata": {},
     "output_type": "execute_result"
    }
   ],
   "source": [
    "info_expect['Other, please specify'][25]"
   ]
  },
  {
   "cell_type": "markdown",
   "metadata": {},
   "source": [
    "### Task1 Likert Questions"
   ]
  },
  {
   "cell_type": "code",
   "execution_count": 119,
   "metadata": {
    "collapsed": false
   },
   "outputs": [
    {
     "data": {
      "text/html": [
       "<div>\n",
       "<table border=\"1\" class=\"dataframe\">\n",
       "  <thead>\n",
       "    <tr style=\"text-align: right;\">\n",
       "      <th></th>\n",
       "      <th>The difference between \"Full legal name\" and \"Authorised contact name\" was clear. (N)</th>\n",
       "      <th>The difference between \"Full legal name\" and \"Authorised contact name\" was clear. (%)</th>\n",
       "    </tr>\n",
       "  </thead>\n",
       "  <tbody>\n",
       "    <tr>\n",
       "      <th>Agree</th>\n",
       "      <td>9</td>\n",
       "      <td>0.333333</td>\n",
       "    </tr>\n",
       "    <tr>\n",
       "      <th>Neither agree nor disagree</th>\n",
       "      <td>6</td>\n",
       "      <td>0.222222</td>\n",
       "    </tr>\n",
       "    <tr>\n",
       "      <th>Disagree</th>\n",
       "      <td>12</td>\n",
       "      <td>0.444444</td>\n",
       "    </tr>\n",
       "  </tbody>\n",
       "</table>\n",
       "</div>"
      ],
      "text/plain": [
       "                            The difference between \"Full legal name\" and \"Authorised contact name\" was clear. (N)  \\\n",
       "Agree                                                                       9                                       \n",
       "Neither agree nor disagree                                                  6                                       \n",
       "Disagree                                                                   12                                       \n",
       "\n",
       "                            The difference between \"Full legal name\" and \"Authorised contact name\" was clear. (%)  \n",
       "Agree                                                                0.333333                                      \n",
       "Neither agree nor disagree                                           0.222222                                      \n",
       "Disagree                                                             0.444444                                      "
      ]
     },
     "execution_count": 119,
     "metadata": {},
     "output_type": "execute_result"
    }
   ],
   "source": [
    "# List of the standard likert scale question (e.g. agree, disagree...)\n",
    "task1_agree_scale= ['The difference between \"Full legal name\" and \"Authorised contact name\" was clear.']\n",
    "\n",
    "# Produce statistics for standard likert scale questions (with all scales)\n",
    "task1_likert_results = []\n",
    "\n",
    "for q in agree_scale:\n",
    "    task1_likert_results.append(pd.DataFrame(clean_completes_df[q].value_counts()))\n",
    "    task1_likert_results.append(pd.DataFrame(clean_completes_df[q].value_counts(normalize=True)))\n",
    "\n",
    "# Produce statistics for standard likert scale questions (with compacted scales)\n",
    "task1_help_agree_likert_results = []\n",
    "\n",
    "for q in agree_scale:\n",
    "    temp = clean_completes_df[q].replace('Strongly agree', 'Agree', regex=True)\n",
    "    temp = temp.replace('Strongly disagree', 'Disagree', regex=True)\n",
    "    task1_help_agree_likert_results.append(pd.DataFrame(temp.value_counts()))\n",
    "    task1_help_agree_likert_results.append(pd.DataFrame(temp.value_counts(normalize=True)))\n",
    "\n",
    "task1_help_agree_likert_results = pd.concat(task1_help_agree_likert_results , axis=1) # convert the flat list dataframe to columns \n",
    "task1_help_agree_likert_results = task1_help_agree_likert_results.reindex(['Agree', 'Neither agree nor disagree', 'Disagree'])\n",
    "\n",
    "# Rename column titles\n",
    "task1_help_agree_likert_results.columns = ['The difference between \"Full legal name\" and \"Authorised contact name\" was clear. (N)',\n",
    "              'The difference between \"Full legal name\" and \"Authorised contact name\" was clear. (%)']\n",
    "task1_help_agree_likert_results"
   ]
  },
  {
   "cell_type": "code",
   "execution_count": 120,
   "metadata": {
    "collapsed": false,
    "scrolled": true
   },
   "outputs": [
    {
     "name": "stdout",
     "output_type": "stream",
     "text": [
      "Mean:  0.3333333333333333\n",
      "Standard Deviation:  0.1111111111111111\n"
     ]
    },
    {
     "data": {
      "image/png": "[encoded data removed]",
      "text/plain": [
       "<matplotlib.figure.Figure at 0x119195a90>"
      ]
     },
     "metadata": {},
     "output_type": "display_data"
    }
   ],
   "source": [
    "print('Mean: ', task1_help_agree_likert_results['The difference between \"Full legal name\" and \"Authorised contact name\" was clear. (%)'].mean())\n",
    "print('Standard Deviation: ', task1_help_agree_likert_results['The difference between \"Full legal name\" and \"Authorised contact name\" was clear. (%)'].std())\n",
    "\n",
    "grapher(task1_help_agree_likert_results, ['The difference between \"Full legal name\" and \"Authorised contact name\" was clear. (%)'], 'The difference between Full legal name and Authorised contact name was clear.', 'super_test2_graphs/')"
   ]
  },
  {
   "cell_type": "code",
   "execution_count": null,
   "metadata": {
    "collapsed": true
   },
   "outputs": [],
   "source": []
  },
  {
   "cell_type": "markdown",
   "metadata": {},
   "source": [
    "## Task 2 Questions"
   ]
  },
  {
   "cell_type": "markdown",
   "metadata": {},
   "source": [
    "### According to your results, you need to pay the following super amount for Jane"
   ]
  },
  {
   "cell_type": "code",
   "execution_count": 122,
   "metadata": {
    "collapsed": false,
    "scrolled": true
   },
   "outputs": [
    {
     "data": {
      "text/plain": [
       "30"
      ]
     },
     "execution_count": 122,
     "metadata": {},
     "output_type": "execute_result"
    }
   ],
   "source": [
    "# Check there is no missing data in the column.\n",
    "len(clean_df['According to your results, you need to pay the following super amount (to the nearest dollar) for Jane:'].notnull())"
   ]
  },
  {
   "cell_type": "code",
   "execution_count": 123,
   "metadata": {
    "collapsed": false,
    "scrolled": true
   },
   "outputs": [
    {
     "data": {
      "text/html": [
       "<div>\n",
       "<table border=\"1\" class=\"dataframe\">\n",
       "  <thead>\n",
       "    <tr style=\"text-align: right;\">\n",
       "      <th></th>\n",
       "      <th>N</th>\n",
       "      <th>%</th>\n",
       "    </tr>\n",
       "  </thead>\n",
       "  <tbody>\n",
       "    <tr>\n",
       "      <th>I donât know / I couldnât work it out</th>\n",
       "      <td>11</td>\n",
       "      <td>0.366667</td>\n",
       "    </tr>\n",
       "    <tr>\n",
       "      <th>No super owed</th>\n",
       "      <td>6</td>\n",
       "      <td>0.200000</td>\n",
       "    </tr>\n",
       "    <tr>\n",
       "      <th>$640</th>\n",
       "      <td>5</td>\n",
       "      <td>0.166667</td>\n",
       "    </tr>\n",
       "    <tr>\n",
       "      <th>$791</th>\n",
       "      <td>5</td>\n",
       "      <td>0.166667</td>\n",
       "    </tr>\n",
       "    <tr>\n",
       "      <th>$1,140</th>\n",
       "      <td>2</td>\n",
       "      <td>0.066667</td>\n",
       "    </tr>\n",
       "  </tbody>\n",
       "</table>\n",
       "</div>"
      ],
      "text/plain": [
       "                                            N         %\n",
       "I donât know / I couldnât work it out  11  0.366667\n",
       "No super owed                               6  0.200000\n",
       "$640                                        5  0.166667\n",
       "$791                                        5  0.166667\n",
       "$1,140                                      2  0.066667"
      ]
     },
     "execution_count": 123,
     "metadata": {},
     "output_type": "execute_result"
    }
   ],
   "source": [
    "# How much SGC does Jane owe?\n",
    "superamt_results = []\n",
    "superamt_results.append(pd.DataFrame(clean_df['According to your results, you need to pay the following super amount (to the nearest dollar) for Jane:'].value_counts()))\n",
    "superamt_results.append(pd.DataFrame(clean_df['According to your results, you need to pay the following super amount (to the nearest dollar) for Jane:'].value_counts()/len(clean_df)))\n",
    "\n",
    "superamt_results = pd.concat(superamt_results, axis=1)\n",
    "\n",
    "superamt_results.columns = ['N','%']\n",
    "superamt_results"
   ]
  },
  {
   "cell_type": "code",
   "execution_count": 124,
   "metadata": {
    "collapsed": false
   },
   "outputs": [
    {
     "name": "stdout",
     "output_type": "stream",
     "text": [
      "Mean:  0.1933333333333333\n",
      "Standard Deviation:  0.10903618155864082\n"
     ]
    },
    {
     "data": {
      "image/png": "[encoded data removed]",
      "text/plain": [
       "<matplotlib.figure.Figure at 0x10b0fe828>"
      ]
     },
     "metadata": {},
     "output_type": "display_data"
    }
   ],
   "source": [
    "print('Mean: ', superamt_results['%'].mean())\n",
    "print('Standard Deviation: ', superamt_results['%'].std())\n",
    "\n",
    "grapher_horizontal(superamt_results, ['%'], 'Amount of Super owed.', 'super_test2_graphs/')"
   ]
  },
  {
   "cell_type": "markdown",
   "metadata": {},
   "source": [
    "### Task 2 Likert questions"
   ]
  },
  {
   "cell_type": "code",
   "execution_count": 125,
   "metadata": {
    "collapsed": false
   },
   "outputs": [
    {
     "data": {
      "text/plain": [
       "27"
      ]
     },
     "execution_count": 125,
     "metadata": {},
     "output_type": "execute_result"
    }
   ],
   "source": [
    "# Remove incomplete data rows (missing data from Loop11 raw export)\n",
    "clean_completes_df = clean_df[clean_df[\"I'm confident I got the right answer.\"].notnull()]\n",
    "len(clean_completes_df)"
   ]
  },
  {
   "cell_type": "code",
   "execution_count": 161,
   "metadata": {
    "collapsed": false,
    "scrolled": true
   },
   "outputs": [
    {
     "data": {
      "text/html": [
       "<div>\n",
       "<table border=\"1\" class=\"dataframe\">\n",
       "  <thead>\n",
       "    <tr style=\"text-align: right;\">\n",
       "      <th></th>\n",
       "      <th>I'm confident I got the right answer. (N)</th>\n",
       "      <th>I'm confident I got the right answer. (%)</th>\n",
       "      <th>I was given enough information about the documentation required to complete this form. (N)</th>\n",
       "      <th>I was given enough information about the documentation required to complete this form. (%)</th>\n",
       "      <th>I found the language used in the tool easy to understand. (N)</th>\n",
       "      <th>I found the language used in the tool easy to understand. (%)</th>\n",
       "      <th>Overall I found this tool easy to use. (N)</th>\n",
       "      <th>Overall I found this tool easy to use. (%)</th>\n",
       "      <th>I found it easy to navigate through this form. (N)</th>\n",
       "      <th>I found it easy to navigate through this form. (%)</th>\n",
       "      <th>The buttons on this form behaved the way I expected. (N)</th>\n",
       "      <th>The buttons on this form behaved the way I expected. (%)</th>\n",
       "    </tr>\n",
       "  </thead>\n",
       "  <tbody>\n",
       "    <tr>\n",
       "      <th>Agree</th>\n",
       "      <td>9</td>\n",
       "      <td>0.333333</td>\n",
       "      <td>9</td>\n",
       "      <td>0.333333</td>\n",
       "      <td>11</td>\n",
       "      <td>0.407407</td>\n",
       "      <td>10</td>\n",
       "      <td>0.370370</td>\n",
       "      <td>15</td>\n",
       "      <td>0.555556</td>\n",
       "      <td>14</td>\n",
       "      <td>0.518519</td>\n",
       "    </tr>\n",
       "    <tr>\n",
       "      <th>Neither agree nor disagree</th>\n",
       "      <td>4</td>\n",
       "      <td>0.148148</td>\n",
       "      <td>7</td>\n",
       "      <td>0.259259</td>\n",
       "      <td>9</td>\n",
       "      <td>0.333333</td>\n",
       "      <td>5</td>\n",
       "      <td>0.185185</td>\n",
       "      <td>5</td>\n",
       "      <td>0.185185</td>\n",
       "      <td>3</td>\n",
       "      <td>0.111111</td>\n",
       "    </tr>\n",
       "    <tr>\n",
       "      <th>Disagree</th>\n",
       "      <td>14</td>\n",
       "      <td>0.518519</td>\n",
       "      <td>11</td>\n",
       "      <td>0.407407</td>\n",
       "      <td>7</td>\n",
       "      <td>0.259259</td>\n",
       "      <td>12</td>\n",
       "      <td>0.444444</td>\n",
       "      <td>7</td>\n",
       "      <td>0.259259</td>\n",
       "      <td>10</td>\n",
       "      <td>0.370370</td>\n",
       "    </tr>\n",
       "  </tbody>\n",
       "</table>\n",
       "</div>"
      ],
      "text/plain": [
       "                            I'm confident I got the right answer. (N)  \\\n",
       "Agree                                                               9   \n",
       "Neither agree nor disagree                                          4   \n",
       "Disagree                                                           14   \n",
       "\n",
       "                            I'm confident I got the right answer. (%)  \\\n",
       "Agree                                                        0.333333   \n",
       "Neither agree nor disagree                                   0.148148   \n",
       "Disagree                                                     0.518519   \n",
       "\n",
       "                            I was given enough information about the documentation required to complete this form. (N)  \\\n",
       "Agree                                                                       9                                            \n",
       "Neither agree nor disagree                                                  7                                            \n",
       "Disagree                                                                   11                                            \n",
       "\n",
       "                            I was given enough information about the documentation required to complete this form. (%)  \\\n",
       "Agree                                                                0.333333                                            \n",
       "Neither agree nor disagree                                           0.259259                                            \n",
       "Disagree                                                             0.407407                                            \n",
       "\n",
       "                            I found the language used in the tool easy to understand. (N)  \\\n",
       "Agree                                                                      11               \n",
       "Neither agree nor disagree                                                  9               \n",
       "Disagree                                                                    7               \n",
       "\n",
       "                            I found the language used in the tool easy to understand. (%)  \\\n",
       "Agree                                                                0.407407               \n",
       "Neither agree nor disagree                                           0.333333               \n",
       "Disagree                                                             0.259259               \n",
       "\n",
       "                            Overall I found this tool easy to use. (N)  \\\n",
       "Agree                                                               10   \n",
       "Neither agree nor disagree                                           5   \n",
       "Disagree                                                            12   \n",
       "\n",
       "                            Overall I found this tool easy to use. (%)  \\\n",
       "Agree                                                         0.370370   \n",
       "Neither agree nor disagree                                    0.185185   \n",
       "Disagree                                                      0.444444   \n",
       "\n",
       "                            I found it easy to navigate through this form. (N)  \\\n",
       "Agree                                                                      15    \n",
       "Neither agree nor disagree                                                  5    \n",
       "Disagree                                                                    7    \n",
       "\n",
       "                            I found it easy to navigate through this form. (%)  \\\n",
       "Agree                                                                0.555556    \n",
       "Neither agree nor disagree                                           0.185185    \n",
       "Disagree                                                             0.259259    \n",
       "\n",
       "                            The buttons on this form behaved the way I expected. (N)  \\\n",
       "Agree                                                                      14          \n",
       "Neither agree nor disagree                                                  3          \n",
       "Disagree                                                                   10          \n",
       "\n",
       "                            The buttons on this form behaved the way I expected. (%)  \n",
       "Agree                                                                0.518519         \n",
       "Neither agree nor disagree                                           0.111111         \n",
       "Disagree                                                             0.370370         "
      ]
     },
     "execution_count": 161,
     "metadata": {},
     "output_type": "execute_result"
    }
   ],
   "source": [
    "# List of the standard likert scale question (e.g. agree, disagree...)\n",
    "task2_agree_scale= [\"I'm confident I got the right answer.\",\n",
    "              'I was given enough information about the documentation required to complete this form.',\n",
    "              'I found the language used in the tool easy to understand.',\n",
    "              'Overall I found this tool easy to use.',\n",
    "              'I found it easy to navigate through this form.',\n",
    "              'The buttons on this form behaved the way I expected.' ]\n",
    "\n",
    "# Produce statistics for standard likert scale questions (with all scales)\n",
    "task2_help_agree_likert_results = []\n",
    "\n",
    "for q in agree_scale:\n",
    "    task2_help_agree_likert_results.append(pd.DataFrame(clean_completes_df[q].value_counts()))\n",
    "    task2_help_agree_likert_results.append(pd.DataFrame(clean_completes_df[q].value_counts(normalize=True)))\n",
    "\n",
    "# convert the flat list dataframe to columns \n",
    "task2_help_agree_likert_results = pd.concat(task2_help_agree_likert_results , axis=1) \n",
    "\n",
    "# Produce statistics for standard likert scale questions (with compacted scales)\n",
    "compact_task2_help_agree_likert_results = []\n",
    "\n",
    "for q in task2_agree_scale:\n",
    "    temp = clean_completes_df[q].replace('Strongly agree', 'Agree', regex=True)\n",
    "    temp = temp.replace('Strongly disagree', 'Disagree', regex=True)\n",
    "    compact_task2_help_agree_likert_results.append(pd.DataFrame(temp.value_counts()))\n",
    "    compact_task2_help_agree_likert_results.append(pd.DataFrame(temp.value_counts(normalize=True)))\n",
    "\n",
    "compact_task2_help_agree_likert_results = pd.concat(compact_task2_help_agree_likert_results , axis=1) # convert the flat list dataframe to columns \n",
    "compact_task2_help_agree_likert_results = compact_task2_help_agree_likert_results.reindex(['Agree', 'Neither agree nor disagree', 'Disagree'])\n",
    "\n",
    "# Rename column titles\n",
    "compact_task2_help_agree_likert_results.columns = [\"I'm confident I got the right answer. (N)\",\n",
    "              \"I'm confident I got the right answer. (%)\",\n",
    "              'I was given enough information about the documentation required to complete this form. (N)',\n",
    "              'I was given enough information about the documentation required to complete this form. (%)',\n",
    "              'I found the language used in the tool easy to understand. (N)',\n",
    "              'I found the language used in the tool easy to understand. (%)',\n",
    "              'Overall I found this tool easy to use. (N)',\n",
    "              'Overall I found this tool easy to use. (%)',\n",
    "              'I found it easy to navigate through this form. (N)',\n",
    "              'I found it easy to navigate through this form. (%)',\n",
    "              'The buttons on this form behaved the way I expected. (N)',\n",
    "              'The buttons on this form behaved the way I expected. (%)']\n",
    "compact_task2_help_agree_likert_results"
   ]
  },
  {
   "cell_type": "code",
   "execution_count": 162,
   "metadata": {
    "collapsed": false
   },
   "outputs": [
    {
     "name": "stdout",
     "output_type": "stream",
     "text": [
      "Mean:  0.3333333333333333\n",
      "Standard Deviation:  0.07407407407407407\n"
     ]
    },
    {
     "data": {
      "image/png": "[encoded data removed]",
      "text/plain": [
       "<matplotlib.figure.Figure at 0x10b0f9048>"
      ]
     },
     "metadata": {},
     "output_type": "display_data"
    }
   ],
   "source": [
    "print('Mean: ', compact_task2_help_agree_likert_results['I was given enough information about the documentation required to complete this form. (%)'].mean())\n",
    "print ('Standard Deviation: ', compact_task2_help_agree_likert_results['I was given enough information about the documentation required to complete this form. (%)'].std())\n",
    "\n",
    "grapher(compact_task2_help_agree_likert_results, ['I was given enough information about the documentation required to complete this form. (%)'], 'I was given enough information about the documentation required to complete this form. (%)', 'super_test2_graphs/')"
   ]
  },
  {
   "cell_type": "code",
   "execution_count": 163,
   "metadata": {
    "collapsed": false
   },
   "outputs": [
    {
     "name": "stdout",
     "output_type": "stream",
     "text": [
      "Mean:  0.3333333333333333\n",
      "Standard Deviation:  0.07407407407407407\n"
     ]
    },
    {
     "data": {
      "image/png": "[encoded data removed]",
      "text/plain": [
       "<matplotlib.figure.Figure at 0x118fb1518>"
      ]
     },
     "metadata": {},
     "output_type": "display_data"
    }
   ],
   "source": [
    "print('Mean: ', compact_task2_help_agree_likert_results['I found the language used in the tool easy to understand. (%)'].mean())\n",
    "print('Standard Deviation: ', compact_task2_help_agree_likert_results['I found the language used in the tool easy to understand. (%)'].std())\n",
    "\n",
    "grapher(compact_task2_help_agree_likert_results, ['I found the language used in the tool easy to understand. (%)'], 'I found the language used in the tool easy to understand. (%)', 'super_test2_graphs/')"
   ]
  },
  {
   "cell_type": "code",
   "execution_count": 164,
   "metadata": {
    "collapsed": false
   },
   "outputs": [
    {
     "name": "stdout",
     "output_type": "stream",
     "text": [
      "Mean:  0.3333333333333333\n",
      "Standard Deviation:  0.1335389361282959\n"
     ]
    },
    {
     "data": {
      "image/png": "[encoded data removed]",
      "text/plain": [
       "<matplotlib.figure.Figure at 0x118f10048>"
      ]
     },
     "metadata": {},
     "output_type": "display_data"
    }
   ],
   "source": [
    "print('Mean: ', compact_task2_help_agree_likert_results['Overall I found this tool easy to use. (%)'].mean())\n",
    "print('Standard Deviation: ', compact_task2_help_agree_likert_results['Overall I found this tool easy to use. (%)'].std())\n",
    "\n",
    "grapher(compact_task2_help_agree_likert_results, ['Overall I found this tool easy to use. (%)'], 'Overall I found this tool easy to use. (%)', 'super_test2_graphs/')"
   ]
  },
  {
   "cell_type": "code",
   "execution_count": 165,
   "metadata": {
    "collapsed": false
   },
   "outputs": [
    {
     "name": "stdout",
     "output_type": "stream",
     "text": [
      "Mean:  0.3333333333333333\n",
      "Standard Deviation:  0.19598157859737708\n"
     ]
    },
    {
     "data": {
      "image/png": "[encoded data removed]",
      "text/plain": [
       "<matplotlib.figure.Figure at 0x1182a31d0>"
      ]
     },
     "metadata": {},
     "output_type": "display_data"
    }
   ],
   "source": [
    "print('Mean: ', compact_task2_help_agree_likert_results['I found it easy to navigate through this form. (%)'].mean())\n",
    "print('Standard Deviation: ', compact_task2_help_agree_likert_results['I found it easy to navigate through this form. (%)'].std())\n",
    "\n",
    "grapher(compact_task2_help_agree_likert_results, ['I found it easy to navigate through this form. (%)'], 'I found it easy to navigate through this form. (%)', 'super_test2_graphs/')"
   ]
  },
  {
   "cell_type": "code",
   "execution_count": 166,
   "metadata": {
    "collapsed": false
   },
   "outputs": [
    {
     "name": "stdout",
     "output_type": "stream",
     "text": [
      "Mean:  0.3333333333333333\n",
      "Standard Deviation:  0.20621349491963042\n"
     ]
    },
    {
     "data": {
      "image/png": "[encoded data removed]",
      "text/plain": [
       "<matplotlib.figure.Figure at 0x11477a3c8>"
      ]
     },
     "metadata": {},
     "output_type": "display_data"
    }
   ],
   "source": [
    "print('Mean: ', compact_task2_help_agree_likert_results['The buttons on this form behaved the way I expected. (%)'].mean())\n",
    "print('Standard Deviation: ', compact_task2_help_agree_likert_results['The buttons on this form behaved the way I expected. (%)'].std())\n",
    "\n",
    "grapher(compact_task2_help_agree_likert_results, ['The buttons on this form behaved the way I expected. (%)'], 'The buttons on this form behaved the way I expected. (%)', 'super_test2_graphs/')"
   ]
  },
  {
   "cell_type": "markdown",
   "metadata": {},
   "source": [
    "### What is your preference for entering employee salaries and wages?"
   ]
  },
  {
   "cell_type": "code",
   "execution_count": 167,
   "metadata": {
    "collapsed": false
   },
   "outputs": [
    {
     "data": {
      "text/html": [
       "<div>\n",
       "<table border=\"1\" class=\"dataframe\">\n",
       "  <thead>\n",
       "    <tr style=\"text-align: right;\">\n",
       "      <th></th>\n",
       "      <th>N</th>\n",
       "      <th>%</th>\n",
       "    </tr>\n",
       "  </thead>\n",
       "  <tbody>\n",
       "    <tr>\n",
       "      <th>Fortnightly</th>\n",
       "      <td>11</td>\n",
       "      <td>0.366667</td>\n",
       "    </tr>\n",
       "    <tr>\n",
       "      <th>Weekly</th>\n",
       "      <td>8</td>\n",
       "      <td>0.266667</td>\n",
       "    </tr>\n",
       "    <tr>\n",
       "      <th>Quarterly</th>\n",
       "      <td>4</td>\n",
       "      <td>0.133333</td>\n",
       "    </tr>\n",
       "    <tr>\n",
       "      <th>Monthly</th>\n",
       "      <td>3</td>\n",
       "      <td>0.100000</td>\n",
       "    </tr>\n",
       "    <tr>\n",
       "      <th>Annually</th>\n",
       "      <td>1</td>\n",
       "      <td>0.033333</td>\n",
       "    </tr>\n",
       "  </tbody>\n",
       "</table>\n",
       "</div>"
      ],
      "text/plain": [
       "              N         %\n",
       "Fortnightly  11  0.366667\n",
       "Weekly        8  0.266667\n",
       "Quarterly     4  0.133333\n",
       "Monthly       3  0.100000\n",
       "Annually      1  0.033333"
      ]
     },
     "execution_count": 167,
     "metadata": {},
     "output_type": "execute_result"
    }
   ],
   "source": [
    "# What is your preference for entering employee salaries and wages?\n",
    "timeperiod_results = []\n",
    "timeperiod_results.append(pd.DataFrame(clean_df['What is your preference for entering employee salaries and wages?'].value_counts()))\n",
    "timeperiod_results.append(pd.DataFrame(clean_df['What is your preference for entering employee salaries and wages?'].value_counts()/len(clean_df)))\n",
    "\n",
    "timeperiod_results = pd.concat(timeperiod_results, axis=1)\n",
    "\n",
    "timeperiod_results.columns = ['N','%']\n",
    "timeperiod_results"
   ]
  },
  {
   "cell_type": "code",
   "execution_count": 203,
   "metadata": {
    "collapsed": false
   },
   "outputs": [
    {
     "data": {
      "text/html": [
       "<div>\n",
       "<table border=\"1\" class=\"dataframe\">\n",
       "  <thead>\n",
       "    <tr style=\"text-align: right;\">\n",
       "      <th></th>\n",
       "      <th>Other, please specify.1</th>\n",
       "    </tr>\n",
       "  </thead>\n",
       "  <tbody>\n",
       "    <tr>\n",
       "      <th>22</th>\n",
       "      <td>ad hoc, I don't want to be limited by the system</td>\n",
       "    </tr>\n",
       "    <tr>\n",
       "      <th>25</th>\n",
       "      <td>will depend on period trying to calculate</td>\n",
       "    </tr>\n",
       "    <tr>\n",
       "      <th>29</th>\n",
       "      <td>None</td>\n",
       "    </tr>\n",
       "  </tbody>\n",
       "</table>\n",
       "</div>"
      ],
      "text/plain": [
       "                             Other, please specify.1\n",
       "22  ad hoc, I don't want to be limited by the system\n",
       "25         will depend on period trying to calculate\n",
       "29                                              None"
      ]
     },
     "execution_count": 203,
     "metadata": {},
     "output_type": "execute_result"
    }
   ],
   "source": [
    "# Other specified expectations for Information Use\n",
    "timeperiod_other = []\n",
    "\n",
    "timeperiod_other.append(pd.DataFrame(clean_df['Other, please specify.1']))\n",
    "timeperiod_other = pd.concat(timeperiod_other, axis=1)\n",
    "timeperiod_other = timeperiod_other[timeperiod_other['Other, please specify.1'].notnull()]\n",
    "\n",
    "timeperiod_other"
   ]
  },
  {
   "cell_type": "code",
   "execution_count": 168,
   "metadata": {
    "collapsed": false
   },
   "outputs": [
    {
     "name": "stdout",
     "output_type": "stream",
     "text": [
      "Mean:  0.18\n",
      "Standard Deviation:  0.13457752825457567\n"
     ]
    },
    {
     "data": {
      "image/png": "[encoded data removed]",
      "text/plain": [
       "<matplotlib.figure.Figure at 0x118f8b4e0>"
      ]
     },
     "metadata": {},
     "output_type": "display_data"
    }
   ],
   "source": [
    "print('Mean: ', timeperiod_results['%'].mean())\n",
    "print('Standard Deviation: ', timeperiod_results['%'].std())\n",
    "\n",
    "grapher_horizontal(timeperiod_results, ['%'], 'Participant preferences for entering employee salaries and wages', 'super_test2_graphs/')"
   ]
  },
  {
   "cell_type": "markdown",
   "metadata": {},
   "source": [
    "### Select any of the help features you used."
   ]
  },
  {
   "cell_type": "code",
   "execution_count": 169,
   "metadata": {
    "collapsed": false
   },
   "outputs": [
    {
     "data": {
      "text/plain": [
       "(30, 30)"
      ]
     },
     "execution_count": 169,
     "metadata": {},
     "output_type": "execute_result"
    }
   ],
   "source": [
    "# Check there is no missing data in the column\n",
    "len(clean_df['Select any of the help features you used. Please choose all that apply:']), N"
   ]
  },
  {
   "cell_type": "code",
   "execution_count": 170,
   "metadata": {
    "collapsed": false,
    "scrolled": false
   },
   "outputs": [
    {
     "data": {
      "text/html": [
       "<div>\n",
       "<table border=\"1\" class=\"dataframe\">\n",
       "  <thead>\n",
       "    <tr style=\"text-align: right;\">\n",
       "      <th></th>\n",
       "      <th>Number</th>\n",
       "      <th>Fraction (from Sample size)</th>\n",
       "    </tr>\n",
       "    <tr>\n",
       "      <th>SELECT ANY OF THE HELP FEATURES YOU USED</th>\n",
       "      <th></th>\n",
       "      <th></th>\n",
       "    </tr>\n",
       "  </thead>\n",
       "  <tbody>\n",
       "    <tr>\n",
       "      <th>None</th>\n",
       "      <td>13</td>\n",
       "      <td>0.433333</td>\n",
       "    </tr>\n",
       "    <tr>\n",
       "      <th>Help icon at the end of each question</th>\n",
       "      <td>10</td>\n",
       "      <td>0.333333</td>\n",
       "    </tr>\n",
       "    <tr>\n",
       "      <th>Help button at the top of the page</th>\n",
       "      <td>7</td>\n",
       "      <td>0.233333</td>\n",
       "    </tr>\n",
       "    <tr>\n",
       "      <th>Other</th>\n",
       "      <td>1</td>\n",
       "      <td>0.033333</td>\n",
       "    </tr>\n",
       "    <tr>\n",
       "      <th>Neither agree nor disagree</th>\n",
       "      <td>1</td>\n",
       "      <td>0.033333</td>\n",
       "    </tr>\n",
       "  </tbody>\n",
       "</table>\n",
       "</div>"
      ],
      "text/plain": [
       "                                          Number  Fraction (from Sample size)\n",
       "SELECT ANY OF THE HELP FEATURES YOU USED                                     \n",
       "None                                          13                     0.433333\n",
       "Help icon at the end of each question         10                     0.333333\n",
       "Help button at the top of the page             7                     0.233333\n",
       "Other                                          1                     0.033333\n",
       "Neither agree nor disagree                     1                     0.033333"
      ]
     },
     "execution_count": 170,
     "metadata": {},
     "output_type": "execute_result"
    }
   ],
   "source": [
    "# First break the strings up with , as the delimiter, and then tally the results as usual.\n",
    "# Also replace NaN's with Other and remove null values\n",
    "\n",
    "temp = clean_df['Select any of the help features you used. Please choose all that apply:'].fillna('Other')\n",
    "broken_down = [sub.split(\",\") for sub in temp]\n",
    "reshaped_list = [item.lstrip() for sublist in broken_down  for item in sublist]\n",
    "set(reshaped_list)\n",
    "test_df= pd.DataFrame(reshaped_list)\n",
    "\n",
    "help_results = []\n",
    "help_results.append(pd.DataFrame(test_df[0].value_counts()))\n",
    "help_results.append(pd.DataFrame(test_df[0].value_counts()/len(clean_df)))\n",
    "\n",
    "help_results = pd.concat(help_results, axis=1)\n",
    "help_results.columns = ['Number','Fraction (from Sample size)']\n",
    "help_results.index.name = 'SELECT ANY OF THE HELP FEATURES YOU USED'\n",
    "\n",
    "help_results"
   ]
  },
  {
   "cell_type": "code",
   "execution_count": 171,
   "metadata": {
    "collapsed": false,
    "scrolled": true
   },
   "outputs": [
    {
     "data": {
      "image/png": "[encoded data removed]",
      "text/plain": [
       "<matplotlib.figure.Figure at 0x1186930b8>"
      ]
     },
     "metadata": {},
     "output_type": "display_data"
    }
   ],
   "source": [
    "grapher_horizontal(help_results, ['Fraction (from Sample size)'], 'Select any of the help features you used. Please choose all that apply:', 'super_test2_graphs/')"
   ]
  },
  {
   "cell_type": "code",
   "execution_count": 172,
   "metadata": {
    "collapsed": false,
    "scrolled": true
   },
   "outputs": [
    {
     "data": {
      "text/html": [
       "<div>\n",
       "<table border=\"1\" class=\"dataframe\">\n",
       "  <thead>\n",
       "    <tr style=\"text-align: right;\">\n",
       "      <th></th>\n",
       "      <th>Other, please specify.2</th>\n",
       "    </tr>\n",
       "  </thead>\n",
       "  <tbody>\n",
       "    <tr>\n",
       "      <th>4</th>\n",
       "      <td>Pay the amount outstanding as per instructions</td>\n",
       "    </tr>\n",
       "    <tr>\n",
       "      <th>8</th>\n",
       "      <td>Pay the super guarantee charge amount</td>\n",
       "    </tr>\n",
       "    <tr>\n",
       "      <th>14</th>\n",
       "      <td>I use the Super Clearing house for employee su...</td>\n",
       "    </tr>\n",
       "    <tr>\n",
       "      <th>16</th>\n",
       "      <td>Pay the outstanding guaranteed charge</td>\n",
       "    </tr>\n",
       "  </tbody>\n",
       "</table>\n",
       "</div>"
      ],
      "text/plain": [
       "                              Other, please specify.2\n",
       "4      Pay the amount outstanding as per instructions\n",
       "8               Pay the super guarantee charge amount\n",
       "14  I use the Super Clearing house for employee su...\n",
       "16              Pay the outstanding guaranteed charge"
      ]
     },
     "execution_count": 172,
     "metadata": {},
     "output_type": "execute_result"
    }
   ],
   "source": [
    "# Other specified Help use\n",
    "help_other = []\n",
    "\n",
    "help_other.append(pd.DataFrame(clean_df['Other, please specify.2']))\n",
    "help_other = pd.concat(help_other, axis=1)\n",
    "help_other = help_other[help_other['Other, please specify.2'].notnull()]\n",
    "\n",
    "help_other"
   ]
  },
  {
   "cell_type": "code",
   "execution_count": 173,
   "metadata": {
    "collapsed": false,
    "scrolled": true
   },
   "outputs": [
    {
     "data": {
      "text/plain": [
       "'I use the Super Clearing house for employee super obligations'"
      ]
     },
     "execution_count": 173,
     "metadata": {},
     "output_type": "execute_result"
    }
   ],
   "source": [
    "help_other['Other, please specify.2'][14]"
   ]
  },
  {
   "cell_type": "markdown",
   "metadata": {},
   "source": [
    "### Task 2 Likert Questions (Help questions)"
   ]
  },
  {
   "cell_type": "code",
   "execution_count": 174,
   "metadata": {
    "collapsed": false,
    "scrolled": true
   },
   "outputs": [],
   "source": [
    "# List of the standard likert scale question (e.g. agree, disagree...)\n",
    "help_agree_scale= ['If you used the help features: I found it easy to locate the help icon at the end of each question.',\n",
    "              'If you used the help features: I found the help content useful.']\n",
    "\n",
    "# Produce statistics for standard likert scale questions (with all scales)\n",
    "help_agree_likert_results = []\n",
    "\n",
    "for q in agree_scale:\n",
    "    help_agree_likert_results.append(pd.DataFrame(clean_completes_df[q].value_counts()))\n",
    "    help_agree_likert_results.append(pd.DataFrame(clean_completes_df[q].value_counts(normalize=True)))\n",
    "\n",
    "# convert the flat list dataframe to columns \n",
    "help_agree_likert_results = pd.concat(help_agree_likert_results , axis=1) "
   ]
  },
  {
   "cell_type": "code",
   "execution_count": 160,
   "metadata": {
    "collapsed": false,
    "scrolled": true
   },
   "outputs": [
    {
     "data": {
      "text/html": [
       "<div>\n",
       "<table border=\"1\" class=\"dataframe\">\n",
       "  <thead>\n",
       "    <tr style=\"text-align: right;\">\n",
       "      <th></th>\n",
       "      <th>If you used the help features: I found it easy to locate the help icon at the end of each question. (N)</th>\n",
       "      <th>If you used the help features: I found it easy to locate the help icon at the end of each question. (%)</th>\n",
       "      <th>If you used the help features: I found the help content useful. (N)</th>\n",
       "      <th>If you used the help features: I found the help content useful. (%)</th>\n",
       "    </tr>\n",
       "  </thead>\n",
       "  <tbody>\n",
       "    <tr>\n",
       "      <th>Agree</th>\n",
       "      <td>9</td>\n",
       "      <td>0.6</td>\n",
       "      <td>6</td>\n",
       "      <td>0.461538</td>\n",
       "    </tr>\n",
       "    <tr>\n",
       "      <th>Neither agree nor disagree</th>\n",
       "      <td>3</td>\n",
       "      <td>0.2</td>\n",
       "      <td>6</td>\n",
       "      <td>0.461538</td>\n",
       "    </tr>\n",
       "    <tr>\n",
       "      <th>Disagree</th>\n",
       "      <td>3</td>\n",
       "      <td>0.2</td>\n",
       "      <td>1</td>\n",
       "      <td>0.076923</td>\n",
       "    </tr>\n",
       "  </tbody>\n",
       "</table>\n",
       "</div>"
      ],
      "text/plain": [
       "                            If you used the help features: I found it easy to locate the help icon at the end of each question. (N)  \\\n",
       "Agree                                                                       9                                                         \n",
       "Neither agree nor disagree                                                  3                                                         \n",
       "Disagree                                                                    3                                                         \n",
       "\n",
       "                            If you used the help features: I found it easy to locate the help icon at the end of each question. (%)  \\\n",
       "Agree                                                                     0.6                                                         \n",
       "Neither agree nor disagree                                                0.2                                                         \n",
       "Disagree                                                                  0.2                                                         \n",
       "\n",
       "                            If you used the help features: I found the help content useful. (N)  \\\n",
       "Agree                                                                       6                     \n",
       "Neither agree nor disagree                                                  6                     \n",
       "Disagree                                                                    1                     \n",
       "\n",
       "                            If you used the help features: I found the help content useful. (%)  \n",
       "Agree                                                                0.461538                    \n",
       "Neither agree nor disagree                                           0.461538                    \n",
       "Disagree                                                             0.076923                    "
      ]
     },
     "execution_count": 160,
     "metadata": {},
     "output_type": "execute_result"
    }
   ],
   "source": [
    "# Produce statistics for standard likert scale questions (with compacted scales)\n",
    "compact_help_agree_likert_results = []\n",
    "\n",
    "for q in help_agree_scale:\n",
    "    temp = clean_completes_df[q].replace('Strongly agree', 'Agree', regex=True)\n",
    "    temp = temp.replace('Strongly disagree', 'Disagree', regex=True)\n",
    "    compact_help_agree_likert_results.append(pd.DataFrame(temp.value_counts()))\n",
    "    compact_help_agree_likert_results.append(pd.DataFrame(temp.value_counts(normalize=True)))\n",
    "\n",
    "compact_help_agree_likert_results = pd.concat(compact_help_agree_likert_results , axis=1) # convert the flat list dataframe to columns \n",
    "compact_help_agree_likert_results = compact_help_agree_likert_results.reindex(['Agree', 'Neither agree nor disagree', 'Disagree'])\n",
    "\n",
    "# Rename column titles\n",
    "compact_help_agree_likert_results.columns = ['If you used the help features: I found it easy to locate the help icon at the end of each question. (N)',\n",
    "              'If you used the help features: I found it easy to locate the help icon at the end of each question. (%)',\n",
    "              'If you used the help features: I found the help content useful. (N)',\n",
    "              'If you used the help features: I found the help content useful. (%)',\n",
    "]\n",
    "compact_help_agree_likert_results"
   ]
  },
  {
   "cell_type": "code",
   "execution_count": 176,
   "metadata": {
    "collapsed": false
   },
   "outputs": [
    {
     "name": "stdout",
     "output_type": "stream",
     "text": [
      "Mean:  0.3333333333333333\n",
      "Standard Deviation:  0.23094010767585027\n"
     ]
    },
    {
     "data": {
      "image/png": "[encoded data removed]",
      "text/plain": [
       "<matplotlib.figure.Figure at 0x119549550>"
      ]
     },
     "metadata": {},
     "output_type": "display_data"
    }
   ],
   "source": [
    "print('Mean: ', compact_help_agree_likert_results['If you used the help features: I found it easy to locate the help icon at the end of each question. (%)'].mean())\n",
    "print('Standard Deviation: ', compact_help_agree_likert_results['If you used the help features: I found it easy to locate the help icon at the end of each question. (%)'].std())\n",
    "\n",
    "grapher(compact_help_agree_likert_results, ['If you used the help features: I found it easy to locate the help icon at the end of each question. (%)'], 'If you used the help features: I found it easy to locate the help icon at the end of each question. (%)', 'super_test2_graphs/')"
   ]
  },
  {
   "cell_type": "code",
   "execution_count": 177,
   "metadata": {
    "collapsed": false
   },
   "outputs": [
    {
     "name": "stdout",
     "output_type": "stream",
     "text": [
      "Mean:  0.3333333333333333\n",
      "Standard Deviation:  0.22205779584216376\n"
     ]
    },
    {
     "data": {
      "image/png": "[encoded data removed]",
      "text/plain": [
       "<matplotlib.figure.Figure at 0x119572320>"
      ]
     },
     "metadata": {},
     "output_type": "display_data"
    }
   ],
   "source": [
    "print('Mean: ', compact_help_agree_likert_results['If you used the help features: I found the help content useful. (%)'].mean())\n",
    "print('Standard Deviation: ', compact_help_agree_likert_results['If you used the help features: I found the help content useful. (%)'].std())\n",
    "\n",
    "grapher(compact_help_agree_likert_results, ['If you used the help features: I found the help content useful. (%)'], 'If you used the help features: I found the help content useful. (%)', 'super_test2_graphs/')"
   ]
  },
  {
   "cell_type": "markdown",
   "metadata": {},
   "source": [
    "### I was aware that there was an additional help button at the top of the page."
   ]
  },
  {
   "cell_type": "code",
   "execution_count": 178,
   "metadata": {
    "collapsed": false
   },
   "outputs": [
    {
     "data": {
      "text/plain": [
       "30"
      ]
     },
     "execution_count": 178,
     "metadata": {},
     "output_type": "execute_result"
    }
   ],
   "source": [
    "# Check there is no missing data in the column.\n",
    "len(clean_df['I was aware that there was an additional help button at the top of the page.'].notnull())"
   ]
  },
  {
   "cell_type": "code",
   "execution_count": 179,
   "metadata": {
    "collapsed": false
   },
   "outputs": [
    {
     "data": {
      "text/html": [
       "<div>\n",
       "<table border=\"1\" class=\"dataframe\">\n",
       "  <thead>\n",
       "    <tr style=\"text-align: right;\">\n",
       "      <th></th>\n",
       "      <th>N</th>\n",
       "      <th>%</th>\n",
       "    </tr>\n",
       "  </thead>\n",
       "  <tbody>\n",
       "    <tr>\n",
       "      <th>No</th>\n",
       "      <td>21</td>\n",
       "      <td>0.700000</td>\n",
       "    </tr>\n",
       "    <tr>\n",
       "      <th>Yes</th>\n",
       "      <td>5</td>\n",
       "      <td>0.166667</td>\n",
       "    </tr>\n",
       "    <tr>\n",
       "      <th>I'm unsure</th>\n",
       "      <td>3</td>\n",
       "      <td>0.100000</td>\n",
       "    </tr>\n",
       "  </tbody>\n",
       "</table>\n",
       "</div>"
      ],
      "text/plain": [
       "             N         %\n",
       "No          21  0.700000\n",
       "Yes          5  0.166667\n",
       "I'm unsure   3  0.100000"
      ]
     },
     "execution_count": 179,
     "metadata": {},
     "output_type": "execute_result"
    }
   ],
   "source": [
    "# Help icon awareness\n",
    "help_icon_results = []\n",
    "help_icon_results.append(pd.DataFrame(clean_df['I was aware that there was an additional help button at the top of the page.'].value_counts()))\n",
    "help_icon_results.append(pd.DataFrame(clean_df['I was aware that there was an additional help button at the top of the page.'].value_counts()/len(clean_df)))\n",
    "\n",
    "help_icon_results = pd.concat(help_icon_results, axis=1)\n",
    "\n",
    "help_icon_results.columns = ['N','%']\n",
    "help_icon_results"
   ]
  },
  {
   "cell_type": "code",
   "execution_count": 182,
   "metadata": {
    "collapsed": false
   },
   "outputs": [
    {
     "name": "stdout",
     "output_type": "stream",
     "text": [
      "Mean:  0.3222222222222222\n",
      "Standard Deviation:  0.3288588574877498\n"
     ]
    },
    {
     "data": {
      "image/png": "[encoded data removed]",
      "text/plain": [
       "<matplotlib.figure.Figure at 0x10b0ef4a8>"
      ]
     },
     "metadata": {},
     "output_type": "display_data"
    }
   ],
   "source": [
    "print('Mean: ', help_icon_results['%'].mean())\n",
    "print('Standard Deviation: ', help_icon_results['%'].std())\n",
    "\n",
    "grapher_horizontal(help_icon_results, ['%'], 'I was aware that there was an additional help button at the top of the page.', 'super_test2_graphs/')"
   ]
  },
  {
   "cell_type": "code",
   "execution_count": null,
   "metadata": {
    "collapsed": true
   },
   "outputs": [],
   "source": []
  },
  {
   "cell_type": "markdown",
   "metadata": {},
   "source": [
    "## Task 3 Questions"
   ]
  },
  {
   "cell_type": "markdown",
   "metadata": {},
   "source": [
    "### Based on the information provided on the screen, what are the next steps you would take?"
   ]
  },
  {
   "cell_type": "code",
   "execution_count": 190,
   "metadata": {
    "collapsed": false,
    "scrolled": true
   },
   "outputs": [
    {
     "data": {
      "text/html": [
       "<div>\n",
       "<table border=\"1\" class=\"dataframe\">\n",
       "  <thead>\n",
       "    <tr style=\"text-align: right;\">\n",
       "      <th></th>\n",
       "      <th>Number</th>\n",
       "      <th>Fraction (from Sample size)</th>\n",
       "    </tr>\n",
       "    <tr>\n",
       "      <th>NEXT STEPS TO TAKE - EXPECTATIONS</th>\n",
       "      <th></th>\n",
       "      <th></th>\n",
       "    </tr>\n",
       "  </thead>\n",
       "  <tbody>\n",
       "    <tr>\n",
       "      <th>Print and sign the generated statement and send it to the ATO</th>\n",
       "      <td>24</td>\n",
       "      <td>0.800000</td>\n",
       "    </tr>\n",
       "    <tr>\n",
       "      <th>Generate a statement and save it</th>\n",
       "      <td>12</td>\n",
       "      <td>0.400000</td>\n",
       "    </tr>\n",
       "    <tr>\n",
       "      <th>Give this information to my employee/s</th>\n",
       "      <td>2</td>\n",
       "      <td>0.066667</td>\n",
       "    </tr>\n",
       "    <tr>\n",
       "      <th>Print and sign the generated statement and send it to the super fund</th>\n",
       "      <td>2</td>\n",
       "      <td>0.066667</td>\n",
       "    </tr>\n",
       "    <tr>\n",
       "      <th>Contact the ATO or tax agent</th>\n",
       "      <td>2</td>\n",
       "      <td>0.066667</td>\n",
       "    </tr>\n",
       "    <tr>\n",
       "      <th>Contact the super fund</th>\n",
       "      <td>1</td>\n",
       "      <td>0.033333</td>\n",
       "    </tr>\n",
       "    <tr>\n",
       "      <th>Other</th>\n",
       "      <td>1</td>\n",
       "      <td>0.033333</td>\n",
       "    </tr>\n",
       "  </tbody>\n",
       "</table>\n",
       "</div>"
      ],
      "text/plain": [
       "                                                    Number  \\\n",
       "NEXT STEPS TO TAKE - EXPECTATIONS                            \n",
       "Print and sign the generated statement and send...      24   \n",
       "Generate a statement and save it                        12   \n",
       "Give this information to my employee/s                   2   \n",
       "Print and sign the generated statement and send...       2   \n",
       "Contact the ATO or tax agent                             2   \n",
       "Contact the super fund                                   1   \n",
       "Other                                                    1   \n",
       "\n",
       "                                                    Fraction (from Sample size)  \n",
       "NEXT STEPS TO TAKE - EXPECTATIONS                                                \n",
       "Print and sign the generated statement and send...                     0.800000  \n",
       "Generate a statement and save it                                       0.400000  \n",
       "Give this information to my employee/s                                 0.066667  \n",
       "Print and sign the generated statement and send...                     0.066667  \n",
       "Contact the ATO or tax agent                                           0.066667  \n",
       "Contact the super fund                                                 0.033333  \n",
       "Other                                                                  0.033333  "
      ]
     },
     "execution_count": 190,
     "metadata": {},
     "output_type": "execute_result"
    }
   ],
   "source": [
    "# First break the strings up with , as the delimiter, and then tally the results as usual.\n",
    "# Also replace NaN's with Other and remove null values\n",
    "\n",
    "temp = clean_df['Based on the information provided on screen, what are the next steps you would take? Please select all that apply:'].fillna('Other')\n",
    "broken_down = [sub.split(\",\") for sub in temp]\n",
    "reshaped_list = [item.lstrip() for sublist in broken_down  for item in sublist]\n",
    "set(reshaped_list)\n",
    "test_df= pd.DataFrame(reshaped_list)\n",
    "\n",
    "next_steps = []\n",
    "next_steps.append(pd.DataFrame(test_df[0].value_counts()))\n",
    "next_steps.append(pd.DataFrame(test_df[0].value_counts()/len(clean_df)))\n",
    "\n",
    "next_steps = pd.concat(next_steps, axis=1)\n",
    "next_steps.columns = ['Number','Fraction (from Sample size)']\n",
    "next_steps.index.name = 'NEXT STEPS TO TAKE - EXPECTATIONS'\n",
    "\n",
    "next_steps"
   ]
  },
  {
   "cell_type": "code",
   "execution_count": 191,
   "metadata": {
    "collapsed": false,
    "scrolled": true
   },
   "outputs": [
    {
     "data": {
      "image/png": "[encoded data removed]",
      "text/plain": [
       "<matplotlib.figure.Figure at 0x118ef5470>"
      ]
     },
     "metadata": {},
     "output_type": "display_data"
    }
   ],
   "source": [
    "grapher_horizontal(next_steps, ['Fraction (from Sample size)'], 'Based on the information provided on screen, what are the next steps you would take?', 'super_test2_graphs/')"
   ]
  },
  {
   "cell_type": "code",
   "execution_count": 192,
   "metadata": {
    "collapsed": false,
    "scrolled": true
   },
   "outputs": [
    {
     "data": {
      "text/html": [
       "<div>\n",
       "<table border=\"1\" class=\"dataframe\">\n",
       "  <thead>\n",
       "    <tr style=\"text-align: right;\">\n",
       "      <th></th>\n",
       "      <th>Other, please specify.2</th>\n",
       "    </tr>\n",
       "  </thead>\n",
       "  <tbody>\n",
       "    <tr>\n",
       "      <th>4</th>\n",
       "      <td>Pay the amount outstanding as per instructions</td>\n",
       "    </tr>\n",
       "    <tr>\n",
       "      <th>8</th>\n",
       "      <td>Pay the super guarantee charge amount</td>\n",
       "    </tr>\n",
       "    <tr>\n",
       "      <th>14</th>\n",
       "      <td>I use the Super Clearing house for employee su...</td>\n",
       "    </tr>\n",
       "    <tr>\n",
       "      <th>16</th>\n",
       "      <td>Pay the outstanding guaranteed charge</td>\n",
       "    </tr>\n",
       "  </tbody>\n",
       "</table>\n",
       "</div>"
      ],
      "text/plain": [
       "                              Other, please specify.2\n",
       "4      Pay the amount outstanding as per instructions\n",
       "8               Pay the super guarantee charge amount\n",
       "14  I use the Super Clearing house for employee su...\n",
       "16              Pay the outstanding guaranteed charge"
      ]
     },
     "execution_count": 192,
     "metadata": {},
     "output_type": "execute_result"
    }
   ],
   "source": [
    "# Other specified expectations for Information Use\n",
    "next_steps_other = []\n",
    "\n",
    "next_steps_other.append(pd.DataFrame(clean_df['Other, please specify.2']))\n",
    "next_steps_other = pd.concat(next_steps_other, axis=1)\n",
    "next_steps_other = next_steps_other[next_steps_other['Other, please specify.2'].notnull()]\n",
    "\n",
    "next_steps_other"
   ]
  },
  {
   "cell_type": "code",
   "execution_count": 193,
   "metadata": {
    "collapsed": false,
    "scrolled": true
   },
   "outputs": [
    {
     "data": {
      "text/plain": [
       "'I use the Super Clearing house for employee super obligations'"
      ]
     },
     "execution_count": 193,
     "metadata": {},
     "output_type": "execute_result"
    }
   ],
   "source": [
    "next_steps_other['Other, please specify.2'][14]"
   ]
  },
  {
   "cell_type": "markdown",
   "metadata": {},
   "source": [
    "### If you were going to send your report to the ATO, how would you do that?"
   ]
  },
  {
   "cell_type": "code",
   "execution_count": 194,
   "metadata": {
    "collapsed": false
   },
   "outputs": [
    {
     "data": {
      "text/plain": [
       "30"
      ]
     },
     "execution_count": 194,
     "metadata": {},
     "output_type": "execute_result"
    }
   ],
   "source": [
    "# Check there is no missing data in the column\n",
    "len(clean_df['If you were going to send your report to the ATO, how would you do that?'])"
   ]
  },
  {
   "cell_type": "code",
   "execution_count": 184,
   "metadata": {
    "collapsed": false
   },
   "outputs": [
    {
     "data": {
      "text/html": [
       "<div>\n",
       "<table border=\"1\" class=\"dataframe\">\n",
       "  <thead>\n",
       "    <tr style=\"text-align: right;\">\n",
       "      <th></th>\n",
       "      <th>N</th>\n",
       "      <th>%</th>\n",
       "    </tr>\n",
       "  </thead>\n",
       "  <tbody>\n",
       "    <tr>\n",
       "      <th>Generate an SGC statement and print the statement</th>\n",
       "      <td>17</td>\n",
       "      <td>0.566667</td>\n",
       "    </tr>\n",
       "    <tr>\n",
       "      <th>Use the print-friendly button to print the summary page</th>\n",
       "      <td>7</td>\n",
       "      <td>0.233333</td>\n",
       "    </tr>\n",
       "    <tr>\n",
       "      <th>I'm unsure</th>\n",
       "      <td>3</td>\n",
       "      <td>0.100000</td>\n",
       "    </tr>\n",
       "    <tr>\n",
       "      <th>None of the above</th>\n",
       "      <td>2</td>\n",
       "      <td>0.066667</td>\n",
       "    </tr>\n",
       "  </tbody>\n",
       "</table>\n",
       "</div>"
      ],
      "text/plain": [
       "                                                     N         %\n",
       "Generate an SGC statement and print the statement   17  0.566667\n",
       "Use the print-friendly button to print the summ...   7  0.233333\n",
       "I'm unsure                                           3  0.100000\n",
       "None of the above                                    2  0.066667"
      ]
     },
     "execution_count": 184,
     "metadata": {},
     "output_type": "execute_result"
    }
   ],
   "source": [
    "# How would you send your report to the ATO?\n",
    "report_results = []\n",
    "report_results.append(pd.DataFrame(clean_df['If you were going to send your report to the ATO, how would you do that?'].value_counts()))\n",
    "report_results.append(pd.DataFrame(clean_df['If you were going to send your report to the ATO, how would you do that?'].value_counts()/len(clean_df)))\n",
    "\n",
    "report_results = pd.concat(report_results, axis=1)\n",
    "\n",
    "report_results.columns = ['N','%']\n",
    "report_results"
   ]
  },
  {
   "cell_type": "code",
   "execution_count": 195,
   "metadata": {
    "collapsed": false
   },
   "outputs": [
    {
     "name": "stdout",
     "output_type": "stream",
     "text": [
      "Mean:  0.24166666666666667\n",
      "Standard Deviation:  0.22831913986705016\n"
     ]
    },
    {
     "data": {
      "image/png": "[encoded data removed]",
      "text/plain": [
       "<matplotlib.figure.Figure at 0x117b0a828>"
      ]
     },
     "metadata": {},
     "output_type": "display_data"
    }
   ],
   "source": [
    "print('Mean: ', report_results['%'].mean())\n",
    "print('Standard Deviation: ', report_results['%'].std())\n",
    "\n",
    "grapher_horizontal(report_results, ['%'], 'If you were going to send your report to the ATO, how would you do that?', 'super_test2_graphs/')"
   ]
  },
  {
   "cell_type": "markdown",
   "metadata": {},
   "source": [
    "### Task 3 Likert Questions"
   ]
  },
  {
   "cell_type": "code",
   "execution_count": 196,
   "metadata": {
    "collapsed": false
   },
   "outputs": [
    {
     "data": {
      "text/plain": [
       "29"
      ]
     },
     "execution_count": 196,
     "metadata": {},
     "output_type": "execute_result"
    }
   ],
   "source": [
    "# Remove incomplete data rows (missing data from Loop11 raw export)\n",
    "clean_completes_df = clean_df[clean_df['I found the summary easy to understand.'].notnull()]\n",
    "len(clean_completes_df)"
   ]
  },
  {
   "cell_type": "code",
   "execution_count": 198,
   "metadata": {
    "collapsed": false,
    "scrolled": true
   },
   "outputs": [],
   "source": [
    "# List of the standard likert scale question (e.g. agree, disagree...)\n",
    "task3_agree_scale= ['I found the summary easy to understand.',\n",
    "              'I feel confident about the next steps I need to take after using this calculator.']\n",
    "\n",
    "# Produce statistics for standard likert scale questions (with all scales)\n",
    "task3_agree_likert_results = []\n",
    "\n",
    "for q in task3_agree_scale:\n",
    "    task3_agree_likert_results.append(pd.DataFrame(clean_completes_df[q].value_counts()))\n",
    "    task3_agree_likert_results.append(pd.DataFrame(clean_completes_df[q].value_counts(normalize=True)))\n",
    "\n",
    "# convert the flat list dataframe to columns \n",
    "task3_agree_likert_results = pd.concat(task3_agree_likert_results , axis=1) "
   ]
  },
  {
   "cell_type": "code",
   "execution_count": 200,
   "metadata": {
    "collapsed": false,
    "scrolled": true
   },
   "outputs": [
    {
     "data": {
      "text/html": [
       "<div>\n",
       "<table border=\"1\" class=\"dataframe\">\n",
       "  <thead>\n",
       "    <tr style=\"text-align: right;\">\n",
       "      <th></th>\n",
       "      <th>I found the summary easy to understand. (N)</th>\n",
       "      <th>I found the summary easy to understand. (%)</th>\n",
       "      <th>I feel confident about the next steps I need to take after using this calculator. (N)</th>\n",
       "      <th>I feel confident about the next steps I need to take after using this calculator. (%)</th>\n",
       "    </tr>\n",
       "  </thead>\n",
       "  <tbody>\n",
       "    <tr>\n",
       "      <th>Agree</th>\n",
       "      <td>17</td>\n",
       "      <td>0.586207</td>\n",
       "      <td>17</td>\n",
       "      <td>0.586207</td>\n",
       "    </tr>\n",
       "    <tr>\n",
       "      <th>Neither agree nor disagree</th>\n",
       "      <td>5</td>\n",
       "      <td>0.172414</td>\n",
       "      <td>5</td>\n",
       "      <td>0.172414</td>\n",
       "    </tr>\n",
       "    <tr>\n",
       "      <th>Disagree</th>\n",
       "      <td>7</td>\n",
       "      <td>0.241379</td>\n",
       "      <td>7</td>\n",
       "      <td>0.241379</td>\n",
       "    </tr>\n",
       "  </tbody>\n",
       "</table>\n",
       "</div>"
      ],
      "text/plain": [
       "                            I found the summary easy to understand. (N)  \\\n",
       "Agree                                                                17   \n",
       "Neither agree nor disagree                                            5   \n",
       "Disagree                                                              7   \n",
       "\n",
       "                            I found the summary easy to understand. (%)  \\\n",
       "Agree                                                          0.586207   \n",
       "Neither agree nor disagree                                     0.172414   \n",
       "Disagree                                                       0.241379   \n",
       "\n",
       "                            I feel confident about the next steps I need to take after using this calculator. (N)  \\\n",
       "Agree                                                                      17                                       \n",
       "Neither agree nor disagree                                                  5                                       \n",
       "Disagree                                                                    7                                       \n",
       "\n",
       "                            I feel confident about the next steps I need to take after using this calculator. (%)  \n",
       "Agree                                                                0.586207                                      \n",
       "Neither agree nor disagree                                           0.172414                                      \n",
       "Disagree                                                             0.241379                                      "
      ]
     },
     "execution_count": 200,
     "metadata": {},
     "output_type": "execute_result"
    }
   ],
   "source": [
    "# Produce statistics for standard likert scale questions (with compacted scales)\n",
    "compact_task3_agree_likert_results = []\n",
    "\n",
    "for q in task3_agree_scale:\n",
    "    temp = clean_completes_df[q].replace('Strongly agree', 'Agree', regex=True)\n",
    "    temp = temp.replace('Strongly disagree', 'Disagree', regex=True)\n",
    "    compact_task3_agree_likert_results.append(pd.DataFrame(temp.value_counts()))\n",
    "    compact_task3_agree_likert_results.append(pd.DataFrame(temp.value_counts(normalize=True)))\n",
    "\n",
    "compact_task3_agree_likert_results = pd.concat(compact_task3_agree_likert_results , axis=1) # convert the flat list dataframe to columns \n",
    "compact_task3_agree_likert_results = compact_task3_agree_likert_results.reindex(['Agree', 'Neither agree nor disagree', 'Disagree'])\n",
    "\n",
    "# Rename column titles\n",
    "compact_task3_agree_likert_results.columns = ['I found the summary easy to understand. (N)',\n",
    "              'I found the summary easy to understand. (%)',\n",
    "              'I feel confident about the next steps I need to take after using this calculator. (N)',\n",
    "              'I feel confident about the next steps I need to take after using this calculator. (%)']\n",
    "compact_task3_agree_likert_results"
   ]
  },
  {
   "cell_type": "code",
   "execution_count": 201,
   "metadata": {
    "collapsed": false
   },
   "outputs": [
    {
     "name": "stdout",
     "output_type": "stream",
     "text": [
      "Mean:  0.3333333333333333\n",
      "Standard Deviation:  0.22169312094236673\n"
     ]
    },
    {
     "data": {
      "image/png": "[encoded data removed]",
      "text/plain": [
       "<matplotlib.figure.Figure at 0x1184ad710>"
      ]
     },
     "metadata": {},
     "output_type": "display_data"
    }
   ],
   "source": [
    "print('Mean: ', compact_task3_agree_likert_results['I found the summary easy to understand. (%)'].mean())\n",
    "print('Standard Deviation: ', compact_task3_agree_likert_results['I found the summary easy to understand. (%)'].std())\n",
    "\n",
    "grapher(compact_task3_agree_likert_results, ['I found the summary easy to understand. (%)'], 'I found the summary easy to understand. (%)', 'super_test2_graphs/')"
   ]
  },
  {
   "cell_type": "code",
   "execution_count": 202,
   "metadata": {
    "collapsed": false
   },
   "outputs": [
    {
     "name": "stdout",
     "output_type": "stream",
     "text": [
      "Mean:  0.3333333333333333\n",
      "Standard Deviation:  0.22169312094236673\n"
     ]
    },
    {
     "data": {
      "image/png": "[encoded data removed]",
      "text/plain": [
       "<matplotlib.figure.Figure at 0x114699588>"
      ]
     },
     "metadata": {},
     "output_type": "display_data"
    }
   ],
   "source": [
    "print('Mean: ', compact_task3_agree_likert_results['I feel confident about the next steps I need to take after using this calculator. (%)'].mean())\n",
    "print('Standard Deviation: ', compact_task3_agree_likert_results['I feel confident about the next steps I need to take after using this calculator. (%)'].std())\n",
    "\n",
    "grapher(compact_task3_agree_likert_results, ['I feel confident about the next steps I need to take after using this calculator. (%)'], 'I feel confident about the next steps I need to take after using this calculator. (%)', 'super_test2_graphs/')"
   ]
  },
  {
   "cell_type": "code",
   "execution_count": null,
   "metadata": {
    "collapsed": true
   },
   "outputs": [],
   "source": [
    "\n"
   ]
  }
 ],
 "metadata": {
  "anaconda-cloud": {},
  "kernelspec": {
   "display_name": "Python [conda root]",
   "language": "python",
   "name": "conda-root-py"
  },
  "language_info": {
   "codemirror_mode": {
    "name": "ipython",
    "version": 3
   },
   "file_extension": ".py",
   "mimetype": "text/x-python",
   "name": "python",
   "nbconvert_exporter": "python",
   "pygments_lexer": "ipython3",
   "version": "3.5.2"
  }
 },
 "nbformat": 4,
 "nbformat_minor": 1
}
